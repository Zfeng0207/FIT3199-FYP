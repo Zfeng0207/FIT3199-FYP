{
  "cells": [
    {
      "cell_type": "markdown",
      "metadata": {
        "id": "view-in-github",
        "colab_type": "text"
      },
      "source": [
        "<a href=\"https://colab.research.google.com/github/Zfeng0207/FIT3199-FYP/blob/dev%2Fzfeng/00_data_labeling_and_sampling.ipynb\" target=\"_parent\"><img src=\"https://colab.research.google.com/assets/colab-badge.svg\" alt=\"Open In Colab\"/></a>"
      ]
    },
    {
      "cell_type": "markdown",
      "metadata": {
        "id": "wvg_HQ6MOhyt"
      },
      "source": [
        "# Data Labeling and Sampling"
      ]
    },
    {
      "cell_type": "markdown",
      "metadata": {
        "id": "7ppy743yOhyv"
      },
      "source": [
        "## Data Ingestion"
      ]
    },
    {
      "cell_type": "code",
      "source": [
        "from google.colab import drive\n",
        "drive.mount('/content/drive')"
      ],
      "metadata": {
        "id": "S2WJefuiPNaF",
        "outputId": "b27f455e-6da1-454e-c306-45f78908d2e2",
        "colab": {
          "base_uri": "https://localhost:8080/"
        }
      },
      "execution_count": 16,
      "outputs": [
        {
          "output_type": "stream",
          "name": "stdout",
          "text": [
            "Drive already mounted at /content/drive; to attempt to forcibly remount, call drive.mount(\"/content/drive\", force_remount=True).\n"
          ]
        }
      ]
    },
    {
      "cell_type": "code",
      "execution_count": 17,
      "metadata": {
        "id": "29j8iXnQOhyw"
      },
      "outputs": [],
      "source": [
        "from scipy import stats\n",
        "import numpy as np\n",
        "from sklearn.preprocessing import LabelEncoder\n",
        "import pandas as pd\n",
        "import matplotlib.pyplot as plt\n",
        "import seaborn as sns"
      ]
    },
    {
      "cell_type": "code",
      "execution_count": 18,
      "metadata": {
        "id": "FgR7KDeiOhyw"
      },
      "outputs": [],
      "source": [
        "datetimeevents = pd.read_csv('/content/drive/MyDrive/Colab Notebooks/FIT3199-FYP/input/datetimeevents.csv')\n",
        "diagnosis = pd.read_csv('/content/drive/MyDrive/Colab Notebooks/FIT3199-FYP/input/diagnosis.csv')\n",
        "vitalsign = pd.read_csv('/content/drive/MyDrive/Colab Notebooks/FIT3199-FYP/input/vitalsign.csv')\n",
        "patient_info = pd.read_csv('/content/drive/MyDrive/Colab Notebooks/FIT3199-FYP/input/patients.csv')"
      ]
    },
    {
      "cell_type": "markdown",
      "source": [
        "### Dataset Shapes"
      ],
      "metadata": {
        "id": "6LTOs6Y5WtAz"
      }
    },
    {
      "cell_type": "code",
      "source": [
        "print(f'datetimeevents shape: {datetimeevents.shape}')\n",
        "print(f'diagnosis shape: {diagnosis.shape}')\n",
        "print(f'vitalsign shape: {vitalsign.shape}')\n",
        "print(f'patient_info shape: {patient_info.shape}')"
      ],
      "metadata": {
        "id": "8obx4p_IT6hT",
        "outputId": "dba53011-24e1-42c0-f193-b6032bb51d71",
        "colab": {
          "base_uri": "https://localhost:8080/"
        }
      },
      "execution_count": 19,
      "outputs": [
        {
          "output_type": "stream",
          "name": "stdout",
          "text": [
            "datetimeevents shape: (7112999, 10)\n",
            "diagnosis shape: (899050, 6)\n",
            "vitalsign shape: (1564610, 11)\n",
            "patient_info shape: (299712, 6)\n"
          ]
        }
      ]
    },
    {
      "cell_type": "markdown",
      "source": [
        "### Data Overview"
      ],
      "metadata": {
        "id": "P0gsTceITskk"
      }
    },
    {
      "cell_type": "markdown",
      "source": [
        "#### vitalsign"
      ],
      "metadata": {
        "id": "dWwpDDzoTw4D"
      }
    },
    {
      "cell_type": "code",
      "execution_count": 20,
      "metadata": {
        "id": "42MMX2DbOhyx",
        "outputId": "ea5ca45f-4529-4d80-a470-2246ac75a288",
        "colab": {
          "base_uri": "https://localhost:8080/",
          "height": 399
        }
      },
      "outputs": [
        {
          "output_type": "execute_result",
          "data": {
            "text/plain": [
              "   subject_id   stay_id            charttime  temperature  heartrate  \\\n",
              "0    10000032  32952584  2180-07-22 16:36:00          NaN       83.0   \n",
              "1    10000032  32952584  2180-07-22 16:43:00          NaN       85.0   \n",
              "2    10000032  32952584  2180-07-22 16:45:00          NaN       84.0   \n",
              "3    10000032  32952584  2180-07-22 17:56:00          NaN       84.0   \n",
              "4    10000032  32952584  2180-07-22 18:37:00         98.4       86.0   \n",
              "\n",
              "   resprate  o2sat   sbp   dbp rhythm pain  \n",
              "0      24.0   97.0  90.0  51.0    NaN    0  \n",
              "1      22.0   98.0  76.0  39.0    NaN    0  \n",
              "2      22.0   97.0  75.0  39.0    NaN    0  \n",
              "3      20.0   99.0  86.0  51.0    NaN  NaN  \n",
              "4      20.0   98.0  65.0  37.0    NaN  NaN  "
            ],
            "text/html": [
              "\n",
              "  <div id=\"df-2ef60a40-7a7e-4234-87d3-f6a3a1aed219\" class=\"colab-df-container\">\n",
              "    <div>\n",
              "<style scoped>\n",
              "    .dataframe tbody tr th:only-of-type {\n",
              "        vertical-align: middle;\n",
              "    }\n",
              "\n",
              "    .dataframe tbody tr th {\n",
              "        vertical-align: top;\n",
              "    }\n",
              "\n",
              "    .dataframe thead th {\n",
              "        text-align: right;\n",
              "    }\n",
              "</style>\n",
              "<table border=\"1\" class=\"dataframe\">\n",
              "  <thead>\n",
              "    <tr style=\"text-align: right;\">\n",
              "      <th></th>\n",
              "      <th>subject_id</th>\n",
              "      <th>stay_id</th>\n",
              "      <th>charttime</th>\n",
              "      <th>temperature</th>\n",
              "      <th>heartrate</th>\n",
              "      <th>resprate</th>\n",
              "      <th>o2sat</th>\n",
              "      <th>sbp</th>\n",
              "      <th>dbp</th>\n",
              "      <th>rhythm</th>\n",
              "      <th>pain</th>\n",
              "    </tr>\n",
              "  </thead>\n",
              "  <tbody>\n",
              "    <tr>\n",
              "      <th>0</th>\n",
              "      <td>10000032</td>\n",
              "      <td>32952584</td>\n",
              "      <td>2180-07-22 16:36:00</td>\n",
              "      <td>NaN</td>\n",
              "      <td>83.0</td>\n",
              "      <td>24.0</td>\n",
              "      <td>97.0</td>\n",
              "      <td>90.0</td>\n",
              "      <td>51.0</td>\n",
              "      <td>NaN</td>\n",
              "      <td>0</td>\n",
              "    </tr>\n",
              "    <tr>\n",
              "      <th>1</th>\n",
              "      <td>10000032</td>\n",
              "      <td>32952584</td>\n",
              "      <td>2180-07-22 16:43:00</td>\n",
              "      <td>NaN</td>\n",
              "      <td>85.0</td>\n",
              "      <td>22.0</td>\n",
              "      <td>98.0</td>\n",
              "      <td>76.0</td>\n",
              "      <td>39.0</td>\n",
              "      <td>NaN</td>\n",
              "      <td>0</td>\n",
              "    </tr>\n",
              "    <tr>\n",
              "      <th>2</th>\n",
              "      <td>10000032</td>\n",
              "      <td>32952584</td>\n",
              "      <td>2180-07-22 16:45:00</td>\n",
              "      <td>NaN</td>\n",
              "      <td>84.0</td>\n",
              "      <td>22.0</td>\n",
              "      <td>97.0</td>\n",
              "      <td>75.0</td>\n",
              "      <td>39.0</td>\n",
              "      <td>NaN</td>\n",
              "      <td>0</td>\n",
              "    </tr>\n",
              "    <tr>\n",
              "      <th>3</th>\n",
              "      <td>10000032</td>\n",
              "      <td>32952584</td>\n",
              "      <td>2180-07-22 17:56:00</td>\n",
              "      <td>NaN</td>\n",
              "      <td>84.0</td>\n",
              "      <td>20.0</td>\n",
              "      <td>99.0</td>\n",
              "      <td>86.0</td>\n",
              "      <td>51.0</td>\n",
              "      <td>NaN</td>\n",
              "      <td>NaN</td>\n",
              "    </tr>\n",
              "    <tr>\n",
              "      <th>4</th>\n",
              "      <td>10000032</td>\n",
              "      <td>32952584</td>\n",
              "      <td>2180-07-22 18:37:00</td>\n",
              "      <td>98.4</td>\n",
              "      <td>86.0</td>\n",
              "      <td>20.0</td>\n",
              "      <td>98.0</td>\n",
              "      <td>65.0</td>\n",
              "      <td>37.0</td>\n",
              "      <td>NaN</td>\n",
              "      <td>NaN</td>\n",
              "    </tr>\n",
              "  </tbody>\n",
              "</table>\n",
              "</div>\n",
              "    <div class=\"colab-df-buttons\">\n",
              "\n",
              "  <div class=\"colab-df-container\">\n",
              "    <button class=\"colab-df-convert\" onclick=\"convertToInteractive('df-2ef60a40-7a7e-4234-87d3-f6a3a1aed219')\"\n",
              "            title=\"Convert this dataframe to an interactive table.\"\n",
              "            style=\"display:none;\">\n",
              "\n",
              "  <svg xmlns=\"http://www.w3.org/2000/svg\" height=\"24px\" viewBox=\"0 -960 960 960\">\n",
              "    <path d=\"M120-120v-720h720v720H120Zm60-500h600v-160H180v160Zm220 220h160v-160H400v160Zm0 220h160v-160H400v160ZM180-400h160v-160H180v160Zm440 0h160v-160H620v160ZM180-180h160v-160H180v160Zm440 0h160v-160H620v160Z\"/>\n",
              "  </svg>\n",
              "    </button>\n",
              "\n",
              "  <style>\n",
              "    .colab-df-container {\n",
              "      display:flex;\n",
              "      gap: 12px;\n",
              "    }\n",
              "\n",
              "    .colab-df-convert {\n",
              "      background-color: #E8F0FE;\n",
              "      border: none;\n",
              "      border-radius: 50%;\n",
              "      cursor: pointer;\n",
              "      display: none;\n",
              "      fill: #1967D2;\n",
              "      height: 32px;\n",
              "      padding: 0 0 0 0;\n",
              "      width: 32px;\n",
              "    }\n",
              "\n",
              "    .colab-df-convert:hover {\n",
              "      background-color: #E2EBFA;\n",
              "      box-shadow: 0px 1px 2px rgba(60, 64, 67, 0.3), 0px 1px 3px 1px rgba(60, 64, 67, 0.15);\n",
              "      fill: #174EA6;\n",
              "    }\n",
              "\n",
              "    .colab-df-buttons div {\n",
              "      margin-bottom: 4px;\n",
              "    }\n",
              "\n",
              "    [theme=dark] .colab-df-convert {\n",
              "      background-color: #3B4455;\n",
              "      fill: #D2E3FC;\n",
              "    }\n",
              "\n",
              "    [theme=dark] .colab-df-convert:hover {\n",
              "      background-color: #434B5C;\n",
              "      box-shadow: 0px 1px 3px 1px rgba(0, 0, 0, 0.15);\n",
              "      filter: drop-shadow(0px 1px 2px rgba(0, 0, 0, 0.3));\n",
              "      fill: #FFFFFF;\n",
              "    }\n",
              "  </style>\n",
              "\n",
              "    <script>\n",
              "      const buttonEl =\n",
              "        document.querySelector('#df-2ef60a40-7a7e-4234-87d3-f6a3a1aed219 button.colab-df-convert');\n",
              "      buttonEl.style.display =\n",
              "        google.colab.kernel.accessAllowed ? 'block' : 'none';\n",
              "\n",
              "      async function convertToInteractive(key) {\n",
              "        const element = document.querySelector('#df-2ef60a40-7a7e-4234-87d3-f6a3a1aed219');\n",
              "        const dataTable =\n",
              "          await google.colab.kernel.invokeFunction('convertToInteractive',\n",
              "                                                    [key], {});\n",
              "        if (!dataTable) return;\n",
              "\n",
              "        const docLinkHtml = 'Like what you see? Visit the ' +\n",
              "          '<a target=\"_blank\" href=https://colab.research.google.com/notebooks/data_table.ipynb>data table notebook</a>'\n",
              "          + ' to learn more about interactive tables.';\n",
              "        element.innerHTML = '';\n",
              "        dataTable['output_type'] = 'display_data';\n",
              "        await google.colab.output.renderOutput(dataTable, element);\n",
              "        const docLink = document.createElement('div');\n",
              "        docLink.innerHTML = docLinkHtml;\n",
              "        element.appendChild(docLink);\n",
              "      }\n",
              "    </script>\n",
              "  </div>\n",
              "\n",
              "\n",
              "<div id=\"df-f6ef0bf9-2cb4-4ee8-a63d-114babedf20d\">\n",
              "  <button class=\"colab-df-quickchart\" onclick=\"quickchart('df-f6ef0bf9-2cb4-4ee8-a63d-114babedf20d')\"\n",
              "            title=\"Suggest charts\"\n",
              "            style=\"display:none;\">\n",
              "\n",
              "<svg xmlns=\"http://www.w3.org/2000/svg\" height=\"24px\"viewBox=\"0 0 24 24\"\n",
              "     width=\"24px\">\n",
              "    <g>\n",
              "        <path d=\"M19 3H5c-1.1 0-2 .9-2 2v14c0 1.1.9 2 2 2h14c1.1 0 2-.9 2-2V5c0-1.1-.9-2-2-2zM9 17H7v-7h2v7zm4 0h-2V7h2v10zm4 0h-2v-4h2v4z\"/>\n",
              "    </g>\n",
              "</svg>\n",
              "  </button>\n",
              "\n",
              "<style>\n",
              "  .colab-df-quickchart {\n",
              "      --bg-color: #E8F0FE;\n",
              "      --fill-color: #1967D2;\n",
              "      --hover-bg-color: #E2EBFA;\n",
              "      --hover-fill-color: #174EA6;\n",
              "      --disabled-fill-color: #AAA;\n",
              "      --disabled-bg-color: #DDD;\n",
              "  }\n",
              "\n",
              "  [theme=dark] .colab-df-quickchart {\n",
              "      --bg-color: #3B4455;\n",
              "      --fill-color: #D2E3FC;\n",
              "      --hover-bg-color: #434B5C;\n",
              "      --hover-fill-color: #FFFFFF;\n",
              "      --disabled-bg-color: #3B4455;\n",
              "      --disabled-fill-color: #666;\n",
              "  }\n",
              "\n",
              "  .colab-df-quickchart {\n",
              "    background-color: var(--bg-color);\n",
              "    border: none;\n",
              "    border-radius: 50%;\n",
              "    cursor: pointer;\n",
              "    display: none;\n",
              "    fill: var(--fill-color);\n",
              "    height: 32px;\n",
              "    padding: 0;\n",
              "    width: 32px;\n",
              "  }\n",
              "\n",
              "  .colab-df-quickchart:hover {\n",
              "    background-color: var(--hover-bg-color);\n",
              "    box-shadow: 0 1px 2px rgba(60, 64, 67, 0.3), 0 1px 3px 1px rgba(60, 64, 67, 0.15);\n",
              "    fill: var(--button-hover-fill-color);\n",
              "  }\n",
              "\n",
              "  .colab-df-quickchart-complete:disabled,\n",
              "  .colab-df-quickchart-complete:disabled:hover {\n",
              "    background-color: var(--disabled-bg-color);\n",
              "    fill: var(--disabled-fill-color);\n",
              "    box-shadow: none;\n",
              "  }\n",
              "\n",
              "  .colab-df-spinner {\n",
              "    border: 2px solid var(--fill-color);\n",
              "    border-color: transparent;\n",
              "    border-bottom-color: var(--fill-color);\n",
              "    animation:\n",
              "      spin 1s steps(1) infinite;\n",
              "  }\n",
              "\n",
              "  @keyframes spin {\n",
              "    0% {\n",
              "      border-color: transparent;\n",
              "      border-bottom-color: var(--fill-color);\n",
              "      border-left-color: var(--fill-color);\n",
              "    }\n",
              "    20% {\n",
              "      border-color: transparent;\n",
              "      border-left-color: var(--fill-color);\n",
              "      border-top-color: var(--fill-color);\n",
              "    }\n",
              "    30% {\n",
              "      border-color: transparent;\n",
              "      border-left-color: var(--fill-color);\n",
              "      border-top-color: var(--fill-color);\n",
              "      border-right-color: var(--fill-color);\n",
              "    }\n",
              "    40% {\n",
              "      border-color: transparent;\n",
              "      border-right-color: var(--fill-color);\n",
              "      border-top-color: var(--fill-color);\n",
              "    }\n",
              "    60% {\n",
              "      border-color: transparent;\n",
              "      border-right-color: var(--fill-color);\n",
              "    }\n",
              "    80% {\n",
              "      border-color: transparent;\n",
              "      border-right-color: var(--fill-color);\n",
              "      border-bottom-color: var(--fill-color);\n",
              "    }\n",
              "    90% {\n",
              "      border-color: transparent;\n",
              "      border-bottom-color: var(--fill-color);\n",
              "    }\n",
              "  }\n",
              "</style>\n",
              "\n",
              "  <script>\n",
              "    async function quickchart(key) {\n",
              "      const quickchartButtonEl =\n",
              "        document.querySelector('#' + key + ' button');\n",
              "      quickchartButtonEl.disabled = true;  // To prevent multiple clicks.\n",
              "      quickchartButtonEl.classList.add('colab-df-spinner');\n",
              "      try {\n",
              "        const charts = await google.colab.kernel.invokeFunction(\n",
              "            'suggestCharts', [key], {});\n",
              "      } catch (error) {\n",
              "        console.error('Error during call to suggestCharts:', error);\n",
              "      }\n",
              "      quickchartButtonEl.classList.remove('colab-df-spinner');\n",
              "      quickchartButtonEl.classList.add('colab-df-quickchart-complete');\n",
              "    }\n",
              "    (() => {\n",
              "      let quickchartButtonEl =\n",
              "        document.querySelector('#df-f6ef0bf9-2cb4-4ee8-a63d-114babedf20d button');\n",
              "      quickchartButtonEl.style.display =\n",
              "        google.colab.kernel.accessAllowed ? 'block' : 'none';\n",
              "    })();\n",
              "  </script>\n",
              "</div>\n",
              "\n",
              "    </div>\n",
              "  </div>\n"
            ],
            "application/vnd.google.colaboratory.intrinsic+json": {
              "type": "dataframe",
              "variable_name": "vitalsign"
            }
          },
          "metadata": {},
          "execution_count": 20
        }
      ],
      "source": [
        "vitalsign.head(5)"
      ]
    },
    {
      "cell_type": "code",
      "source": [
        "print(vitalsign.dtypes)"
      ],
      "metadata": {
        "id": "JvXdLBOjUKZ7",
        "outputId": "2c36bb07-5a43-415b-888b-82e6f5901a0a",
        "colab": {
          "base_uri": "https://localhost:8080/"
        }
      },
      "execution_count": 21,
      "outputs": [
        {
          "output_type": "stream",
          "name": "stdout",
          "text": [
            "subject_id       int64\n",
            "stay_id          int64\n",
            "charttime       object\n",
            "temperature    float64\n",
            "heartrate      float64\n",
            "resprate       float64\n",
            "o2sat          float64\n",
            "sbp            float64\n",
            "dbp            float64\n",
            "rhythm          object\n",
            "pain            object\n",
            "dtype: object\n"
          ]
        }
      ]
    },
    {
      "cell_type": "markdown",
      "source": [
        "#### diagnosis"
      ],
      "metadata": {
        "id": "DMYBQwxcUBEy"
      }
    },
    {
      "cell_type": "code",
      "execution_count": 22,
      "metadata": {
        "id": "7lRi7DslOhyy",
        "outputId": "1af8e923-eb01-4d3d-b345-80d295f10551",
        "colab": {
          "base_uri": "https://localhost:8080/",
          "height": 223
        }
      },
      "outputs": [
        {
          "output_type": "execute_result",
          "data": {
            "text/plain": [
              "   subject_id   stay_id  seq_num icd_code  icd_version  \\\n",
              "0    10000032  32952584        1     4589            9   \n",
              "1    10000032  32952584        2    07070            9   \n",
              "2    10000032  32952584        3      V08            9   \n",
              "3    10000032  33258284        1     5728            9   \n",
              "4    10000032  33258284        2    78959            9   \n",
              "\n",
              "                                           icd_title  \n",
              "0                                    HYPOTENSION NOS  \n",
              "1  UNSPECIFIED VIRAL HEPATITIS C WITHOUT HEPATIC ...  \n",
              "2                         ASYMPTOMATIC HIV INFECTION  \n",
              "3                           OTH SEQUELA, CHR LIV DIS  \n",
              "4                                      OTHER ASCITES  "
            ],
            "text/html": [
              "\n",
              "  <div id=\"df-8686dfda-0779-4cf0-b784-f54c365b503e\" class=\"colab-df-container\">\n",
              "    <div>\n",
              "<style scoped>\n",
              "    .dataframe tbody tr th:only-of-type {\n",
              "        vertical-align: middle;\n",
              "    }\n",
              "\n",
              "    .dataframe tbody tr th {\n",
              "        vertical-align: top;\n",
              "    }\n",
              "\n",
              "    .dataframe thead th {\n",
              "        text-align: right;\n",
              "    }\n",
              "</style>\n",
              "<table border=\"1\" class=\"dataframe\">\n",
              "  <thead>\n",
              "    <tr style=\"text-align: right;\">\n",
              "      <th></th>\n",
              "      <th>subject_id</th>\n",
              "      <th>stay_id</th>\n",
              "      <th>seq_num</th>\n",
              "      <th>icd_code</th>\n",
              "      <th>icd_version</th>\n",
              "      <th>icd_title</th>\n",
              "    </tr>\n",
              "  </thead>\n",
              "  <tbody>\n",
              "    <tr>\n",
              "      <th>0</th>\n",
              "      <td>10000032</td>\n",
              "      <td>32952584</td>\n",
              "      <td>1</td>\n",
              "      <td>4589</td>\n",
              "      <td>9</td>\n",
              "      <td>HYPOTENSION NOS</td>\n",
              "    </tr>\n",
              "    <tr>\n",
              "      <th>1</th>\n",
              "      <td>10000032</td>\n",
              "      <td>32952584</td>\n",
              "      <td>2</td>\n",
              "      <td>07070</td>\n",
              "      <td>9</td>\n",
              "      <td>UNSPECIFIED VIRAL HEPATITIS C WITHOUT HEPATIC ...</td>\n",
              "    </tr>\n",
              "    <tr>\n",
              "      <th>2</th>\n",
              "      <td>10000032</td>\n",
              "      <td>32952584</td>\n",
              "      <td>3</td>\n",
              "      <td>V08</td>\n",
              "      <td>9</td>\n",
              "      <td>ASYMPTOMATIC HIV INFECTION</td>\n",
              "    </tr>\n",
              "    <tr>\n",
              "      <th>3</th>\n",
              "      <td>10000032</td>\n",
              "      <td>33258284</td>\n",
              "      <td>1</td>\n",
              "      <td>5728</td>\n",
              "      <td>9</td>\n",
              "      <td>OTH SEQUELA, CHR LIV DIS</td>\n",
              "    </tr>\n",
              "    <tr>\n",
              "      <th>4</th>\n",
              "      <td>10000032</td>\n",
              "      <td>33258284</td>\n",
              "      <td>2</td>\n",
              "      <td>78959</td>\n",
              "      <td>9</td>\n",
              "      <td>OTHER ASCITES</td>\n",
              "    </tr>\n",
              "  </tbody>\n",
              "</table>\n",
              "</div>\n",
              "    <div class=\"colab-df-buttons\">\n",
              "\n",
              "  <div class=\"colab-df-container\">\n",
              "    <button class=\"colab-df-convert\" onclick=\"convertToInteractive('df-8686dfda-0779-4cf0-b784-f54c365b503e')\"\n",
              "            title=\"Convert this dataframe to an interactive table.\"\n",
              "            style=\"display:none;\">\n",
              "\n",
              "  <svg xmlns=\"http://www.w3.org/2000/svg\" height=\"24px\" viewBox=\"0 -960 960 960\">\n",
              "    <path d=\"M120-120v-720h720v720H120Zm60-500h600v-160H180v160Zm220 220h160v-160H400v160Zm0 220h160v-160H400v160ZM180-400h160v-160H180v160Zm440 0h160v-160H620v160ZM180-180h160v-160H180v160Zm440 0h160v-160H620v160Z\"/>\n",
              "  </svg>\n",
              "    </button>\n",
              "\n",
              "  <style>\n",
              "    .colab-df-container {\n",
              "      display:flex;\n",
              "      gap: 12px;\n",
              "    }\n",
              "\n",
              "    .colab-df-convert {\n",
              "      background-color: #E8F0FE;\n",
              "      border: none;\n",
              "      border-radius: 50%;\n",
              "      cursor: pointer;\n",
              "      display: none;\n",
              "      fill: #1967D2;\n",
              "      height: 32px;\n",
              "      padding: 0 0 0 0;\n",
              "      width: 32px;\n",
              "    }\n",
              "\n",
              "    .colab-df-convert:hover {\n",
              "      background-color: #E2EBFA;\n",
              "      box-shadow: 0px 1px 2px rgba(60, 64, 67, 0.3), 0px 1px 3px 1px rgba(60, 64, 67, 0.15);\n",
              "      fill: #174EA6;\n",
              "    }\n",
              "\n",
              "    .colab-df-buttons div {\n",
              "      margin-bottom: 4px;\n",
              "    }\n",
              "\n",
              "    [theme=dark] .colab-df-convert {\n",
              "      background-color: #3B4455;\n",
              "      fill: #D2E3FC;\n",
              "    }\n",
              "\n",
              "    [theme=dark] .colab-df-convert:hover {\n",
              "      background-color: #434B5C;\n",
              "      box-shadow: 0px 1px 3px 1px rgba(0, 0, 0, 0.15);\n",
              "      filter: drop-shadow(0px 1px 2px rgba(0, 0, 0, 0.3));\n",
              "      fill: #FFFFFF;\n",
              "    }\n",
              "  </style>\n",
              "\n",
              "    <script>\n",
              "      const buttonEl =\n",
              "        document.querySelector('#df-8686dfda-0779-4cf0-b784-f54c365b503e button.colab-df-convert');\n",
              "      buttonEl.style.display =\n",
              "        google.colab.kernel.accessAllowed ? 'block' : 'none';\n",
              "\n",
              "      async function convertToInteractive(key) {\n",
              "        const element = document.querySelector('#df-8686dfda-0779-4cf0-b784-f54c365b503e');\n",
              "        const dataTable =\n",
              "          await google.colab.kernel.invokeFunction('convertToInteractive',\n",
              "                                                    [key], {});\n",
              "        if (!dataTable) return;\n",
              "\n",
              "        const docLinkHtml = 'Like what you see? Visit the ' +\n",
              "          '<a target=\"_blank\" href=https://colab.research.google.com/notebooks/data_table.ipynb>data table notebook</a>'\n",
              "          + ' to learn more about interactive tables.';\n",
              "        element.innerHTML = '';\n",
              "        dataTable['output_type'] = 'display_data';\n",
              "        await google.colab.output.renderOutput(dataTable, element);\n",
              "        const docLink = document.createElement('div');\n",
              "        docLink.innerHTML = docLinkHtml;\n",
              "        element.appendChild(docLink);\n",
              "      }\n",
              "    </script>\n",
              "  </div>\n",
              "\n",
              "\n",
              "<div id=\"df-9720999d-76b9-4219-8b61-706021620352\">\n",
              "  <button class=\"colab-df-quickchart\" onclick=\"quickchart('df-9720999d-76b9-4219-8b61-706021620352')\"\n",
              "            title=\"Suggest charts\"\n",
              "            style=\"display:none;\">\n",
              "\n",
              "<svg xmlns=\"http://www.w3.org/2000/svg\" height=\"24px\"viewBox=\"0 0 24 24\"\n",
              "     width=\"24px\">\n",
              "    <g>\n",
              "        <path d=\"M19 3H5c-1.1 0-2 .9-2 2v14c0 1.1.9 2 2 2h14c1.1 0 2-.9 2-2V5c0-1.1-.9-2-2-2zM9 17H7v-7h2v7zm4 0h-2V7h2v10zm4 0h-2v-4h2v4z\"/>\n",
              "    </g>\n",
              "</svg>\n",
              "  </button>\n",
              "\n",
              "<style>\n",
              "  .colab-df-quickchart {\n",
              "      --bg-color: #E8F0FE;\n",
              "      --fill-color: #1967D2;\n",
              "      --hover-bg-color: #E2EBFA;\n",
              "      --hover-fill-color: #174EA6;\n",
              "      --disabled-fill-color: #AAA;\n",
              "      --disabled-bg-color: #DDD;\n",
              "  }\n",
              "\n",
              "  [theme=dark] .colab-df-quickchart {\n",
              "      --bg-color: #3B4455;\n",
              "      --fill-color: #D2E3FC;\n",
              "      --hover-bg-color: #434B5C;\n",
              "      --hover-fill-color: #FFFFFF;\n",
              "      --disabled-bg-color: #3B4455;\n",
              "      --disabled-fill-color: #666;\n",
              "  }\n",
              "\n",
              "  .colab-df-quickchart {\n",
              "    background-color: var(--bg-color);\n",
              "    border: none;\n",
              "    border-radius: 50%;\n",
              "    cursor: pointer;\n",
              "    display: none;\n",
              "    fill: var(--fill-color);\n",
              "    height: 32px;\n",
              "    padding: 0;\n",
              "    width: 32px;\n",
              "  }\n",
              "\n",
              "  .colab-df-quickchart:hover {\n",
              "    background-color: var(--hover-bg-color);\n",
              "    box-shadow: 0 1px 2px rgba(60, 64, 67, 0.3), 0 1px 3px 1px rgba(60, 64, 67, 0.15);\n",
              "    fill: var(--button-hover-fill-color);\n",
              "  }\n",
              "\n",
              "  .colab-df-quickchart-complete:disabled,\n",
              "  .colab-df-quickchart-complete:disabled:hover {\n",
              "    background-color: var(--disabled-bg-color);\n",
              "    fill: var(--disabled-fill-color);\n",
              "    box-shadow: none;\n",
              "  }\n",
              "\n",
              "  .colab-df-spinner {\n",
              "    border: 2px solid var(--fill-color);\n",
              "    border-color: transparent;\n",
              "    border-bottom-color: var(--fill-color);\n",
              "    animation:\n",
              "      spin 1s steps(1) infinite;\n",
              "  }\n",
              "\n",
              "  @keyframes spin {\n",
              "    0% {\n",
              "      border-color: transparent;\n",
              "      border-bottom-color: var(--fill-color);\n",
              "      border-left-color: var(--fill-color);\n",
              "    }\n",
              "    20% {\n",
              "      border-color: transparent;\n",
              "      border-left-color: var(--fill-color);\n",
              "      border-top-color: var(--fill-color);\n",
              "    }\n",
              "    30% {\n",
              "      border-color: transparent;\n",
              "      border-left-color: var(--fill-color);\n",
              "      border-top-color: var(--fill-color);\n",
              "      border-right-color: var(--fill-color);\n",
              "    }\n",
              "    40% {\n",
              "      border-color: transparent;\n",
              "      border-right-color: var(--fill-color);\n",
              "      border-top-color: var(--fill-color);\n",
              "    }\n",
              "    60% {\n",
              "      border-color: transparent;\n",
              "      border-right-color: var(--fill-color);\n",
              "    }\n",
              "    80% {\n",
              "      border-color: transparent;\n",
              "      border-right-color: var(--fill-color);\n",
              "      border-bottom-color: var(--fill-color);\n",
              "    }\n",
              "    90% {\n",
              "      border-color: transparent;\n",
              "      border-bottom-color: var(--fill-color);\n",
              "    }\n",
              "  }\n",
              "</style>\n",
              "\n",
              "  <script>\n",
              "    async function quickchart(key) {\n",
              "      const quickchartButtonEl =\n",
              "        document.querySelector('#' + key + ' button');\n",
              "      quickchartButtonEl.disabled = true;  // To prevent multiple clicks.\n",
              "      quickchartButtonEl.classList.add('colab-df-spinner');\n",
              "      try {\n",
              "        const charts = await google.colab.kernel.invokeFunction(\n",
              "            'suggestCharts', [key], {});\n",
              "      } catch (error) {\n",
              "        console.error('Error during call to suggestCharts:', error);\n",
              "      }\n",
              "      quickchartButtonEl.classList.remove('colab-df-spinner');\n",
              "      quickchartButtonEl.classList.add('colab-df-quickchart-complete');\n",
              "    }\n",
              "    (() => {\n",
              "      let quickchartButtonEl =\n",
              "        document.querySelector('#df-9720999d-76b9-4219-8b61-706021620352 button');\n",
              "      quickchartButtonEl.style.display =\n",
              "        google.colab.kernel.accessAllowed ? 'block' : 'none';\n",
              "    })();\n",
              "  </script>\n",
              "</div>\n",
              "\n",
              "    </div>\n",
              "  </div>\n"
            ],
            "application/vnd.google.colaboratory.intrinsic+json": {
              "type": "dataframe",
              "variable_name": "diagnosis"
            }
          },
          "metadata": {},
          "execution_count": 22
        }
      ],
      "source": [
        "diagnosis.head(5)"
      ]
    },
    {
      "cell_type": "code",
      "execution_count": 23,
      "metadata": {
        "id": "wZrGYL0ZOhyz",
        "outputId": "e91671b5-e014-4589-a274-3dbcb8868132",
        "colab": {
          "base_uri": "https://localhost:8080/"
        }
      },
      "outputs": [
        {
          "output_type": "stream",
          "name": "stdout",
          "text": [
            "subject_id      int64\n",
            "stay_id         int64\n",
            "seq_num         int64\n",
            "icd_code       object\n",
            "icd_version     int64\n",
            "icd_title      object\n",
            "dtype: object\n"
          ]
        }
      ],
      "source": [
        "print(diagnosis.dtypes)"
      ]
    },
    {
      "cell_type": "markdown",
      "source": [
        "There are a total of 13199 unique icd codes"
      ],
      "metadata": {
        "id": "vHX4XsShRZHy"
      }
    },
    {
      "cell_type": "code",
      "execution_count": 24,
      "metadata": {
        "id": "vWu9j6NWOhyz",
        "outputId": "52c8fdba-a0c7-405b-8b82-1fd3ac4797dc",
        "colab": {
          "base_uri": "https://localhost:8080/"
        }
      },
      "outputs": [
        {
          "output_type": "execute_result",
          "data": {
            "text/plain": [
              "13199"
            ]
          },
          "metadata": {},
          "execution_count": 24
        }
      ],
      "source": [
        "diagnosis['icd_code'].nunique()"
      ]
    },
    {
      "cell_type": "markdown",
      "source": [],
      "metadata": {
        "id": "IMt1I0kFUg3O"
      }
    },
    {
      "cell_type": "code",
      "execution_count": 25,
      "metadata": {
        "id": "w4P1imWnOhyz"
      },
      "outputs": [],
      "source": [
        "# unique_diagnosis.to_csv('unique_diagnosis.csv', index = False)"
      ]
    },
    {
      "cell_type": "markdown",
      "source": [
        "#### datetimeevents"
      ],
      "metadata": {
        "id": "1x81Ifv5U5A9"
      }
    },
    {
      "cell_type": "code",
      "source": [
        "datetimeevents.head(5)"
      ],
      "metadata": {
        "id": "ZcpBS584VB6z",
        "outputId": "2cc28782-ace7-4821-a0d0-caa9c3653b0b",
        "colab": {
          "base_uri": "https://localhost:8080/",
          "height": 399
        }
      },
      "execution_count": 26,
      "outputs": [
        {
          "output_type": "execute_result",
          "data": {
            "text/plain": [
              "   subject_id   hadm_id   stay_id  caregiver_id            charttime  \\\n",
              "0    10000032  29079034  39553978         66056  2180-07-23 21:02:00   \n",
              "1    10000032  29079034  39553978         66056  2180-07-23 21:02:00   \n",
              "2    10000032  29079034  39553978         88981  2180-07-23 14:24:00   \n",
              "3    10000032  29079034  39553978         88981  2180-07-23 14:24:00   \n",
              "4    10000980  26913865  39765666         36518  2189-06-27 09:13:00   \n",
              "\n",
              "             storetime  itemid                value valueuom  warning  \n",
              "0  2180-07-23 21:02:00  225754  2180-07-23 00:00:00     Date        0  \n",
              "1  2180-07-23 21:02:00  225755  2180-07-23 00:00:00     Date        0  \n",
              "2  2180-07-23 14:24:00  225754  2180-07-23 14:24:00     Date        0  \n",
              "3  2180-07-23 14:24:00  225755  2180-07-23 14:24:00     Date        0  \n",
              "4  2189-06-27 09:13:00  225755  2189-06-27 09:13:00     Date        0  "
            ],
            "text/html": [
              "\n",
              "  <div id=\"df-1ad9a5de-5e58-4708-a5af-d846d8d683e2\" class=\"colab-df-container\">\n",
              "    <div>\n",
              "<style scoped>\n",
              "    .dataframe tbody tr th:only-of-type {\n",
              "        vertical-align: middle;\n",
              "    }\n",
              "\n",
              "    .dataframe tbody tr th {\n",
              "        vertical-align: top;\n",
              "    }\n",
              "\n",
              "    .dataframe thead th {\n",
              "        text-align: right;\n",
              "    }\n",
              "</style>\n",
              "<table border=\"1\" class=\"dataframe\">\n",
              "  <thead>\n",
              "    <tr style=\"text-align: right;\">\n",
              "      <th></th>\n",
              "      <th>subject_id</th>\n",
              "      <th>hadm_id</th>\n",
              "      <th>stay_id</th>\n",
              "      <th>caregiver_id</th>\n",
              "      <th>charttime</th>\n",
              "      <th>storetime</th>\n",
              "      <th>itemid</th>\n",
              "      <th>value</th>\n",
              "      <th>valueuom</th>\n",
              "      <th>warning</th>\n",
              "    </tr>\n",
              "  </thead>\n",
              "  <tbody>\n",
              "    <tr>\n",
              "      <th>0</th>\n",
              "      <td>10000032</td>\n",
              "      <td>29079034</td>\n",
              "      <td>39553978</td>\n",
              "      <td>66056</td>\n",
              "      <td>2180-07-23 21:02:00</td>\n",
              "      <td>2180-07-23 21:02:00</td>\n",
              "      <td>225754</td>\n",
              "      <td>2180-07-23 00:00:00</td>\n",
              "      <td>Date</td>\n",
              "      <td>0</td>\n",
              "    </tr>\n",
              "    <tr>\n",
              "      <th>1</th>\n",
              "      <td>10000032</td>\n",
              "      <td>29079034</td>\n",
              "      <td>39553978</td>\n",
              "      <td>66056</td>\n",
              "      <td>2180-07-23 21:02:00</td>\n",
              "      <td>2180-07-23 21:02:00</td>\n",
              "      <td>225755</td>\n",
              "      <td>2180-07-23 00:00:00</td>\n",
              "      <td>Date</td>\n",
              "      <td>0</td>\n",
              "    </tr>\n",
              "    <tr>\n",
              "      <th>2</th>\n",
              "      <td>10000032</td>\n",
              "      <td>29079034</td>\n",
              "      <td>39553978</td>\n",
              "      <td>88981</td>\n",
              "      <td>2180-07-23 14:24:00</td>\n",
              "      <td>2180-07-23 14:24:00</td>\n",
              "      <td>225754</td>\n",
              "      <td>2180-07-23 14:24:00</td>\n",
              "      <td>Date</td>\n",
              "      <td>0</td>\n",
              "    </tr>\n",
              "    <tr>\n",
              "      <th>3</th>\n",
              "      <td>10000032</td>\n",
              "      <td>29079034</td>\n",
              "      <td>39553978</td>\n",
              "      <td>88981</td>\n",
              "      <td>2180-07-23 14:24:00</td>\n",
              "      <td>2180-07-23 14:24:00</td>\n",
              "      <td>225755</td>\n",
              "      <td>2180-07-23 14:24:00</td>\n",
              "      <td>Date</td>\n",
              "      <td>0</td>\n",
              "    </tr>\n",
              "    <tr>\n",
              "      <th>4</th>\n",
              "      <td>10000980</td>\n",
              "      <td>26913865</td>\n",
              "      <td>39765666</td>\n",
              "      <td>36518</td>\n",
              "      <td>2189-06-27 09:13:00</td>\n",
              "      <td>2189-06-27 09:13:00</td>\n",
              "      <td>225755</td>\n",
              "      <td>2189-06-27 09:13:00</td>\n",
              "      <td>Date</td>\n",
              "      <td>0</td>\n",
              "    </tr>\n",
              "  </tbody>\n",
              "</table>\n",
              "</div>\n",
              "    <div class=\"colab-df-buttons\">\n",
              "\n",
              "  <div class=\"colab-df-container\">\n",
              "    <button class=\"colab-df-convert\" onclick=\"convertToInteractive('df-1ad9a5de-5e58-4708-a5af-d846d8d683e2')\"\n",
              "            title=\"Convert this dataframe to an interactive table.\"\n",
              "            style=\"display:none;\">\n",
              "\n",
              "  <svg xmlns=\"http://www.w3.org/2000/svg\" height=\"24px\" viewBox=\"0 -960 960 960\">\n",
              "    <path d=\"M120-120v-720h720v720H120Zm60-500h600v-160H180v160Zm220 220h160v-160H400v160Zm0 220h160v-160H400v160ZM180-400h160v-160H180v160Zm440 0h160v-160H620v160ZM180-180h160v-160H180v160Zm440 0h160v-160H620v160Z\"/>\n",
              "  </svg>\n",
              "    </button>\n",
              "\n",
              "  <style>\n",
              "    .colab-df-container {\n",
              "      display:flex;\n",
              "      gap: 12px;\n",
              "    }\n",
              "\n",
              "    .colab-df-convert {\n",
              "      background-color: #E8F0FE;\n",
              "      border: none;\n",
              "      border-radius: 50%;\n",
              "      cursor: pointer;\n",
              "      display: none;\n",
              "      fill: #1967D2;\n",
              "      height: 32px;\n",
              "      padding: 0 0 0 0;\n",
              "      width: 32px;\n",
              "    }\n",
              "\n",
              "    .colab-df-convert:hover {\n",
              "      background-color: #E2EBFA;\n",
              "      box-shadow: 0px 1px 2px rgba(60, 64, 67, 0.3), 0px 1px 3px 1px rgba(60, 64, 67, 0.15);\n",
              "      fill: #174EA6;\n",
              "    }\n",
              "\n",
              "    .colab-df-buttons div {\n",
              "      margin-bottom: 4px;\n",
              "    }\n",
              "\n",
              "    [theme=dark] .colab-df-convert {\n",
              "      background-color: #3B4455;\n",
              "      fill: #D2E3FC;\n",
              "    }\n",
              "\n",
              "    [theme=dark] .colab-df-convert:hover {\n",
              "      background-color: #434B5C;\n",
              "      box-shadow: 0px 1px 3px 1px rgba(0, 0, 0, 0.15);\n",
              "      filter: drop-shadow(0px 1px 2px rgba(0, 0, 0, 0.3));\n",
              "      fill: #FFFFFF;\n",
              "    }\n",
              "  </style>\n",
              "\n",
              "    <script>\n",
              "      const buttonEl =\n",
              "        document.querySelector('#df-1ad9a5de-5e58-4708-a5af-d846d8d683e2 button.colab-df-convert');\n",
              "      buttonEl.style.display =\n",
              "        google.colab.kernel.accessAllowed ? 'block' : 'none';\n",
              "\n",
              "      async function convertToInteractive(key) {\n",
              "        const element = document.querySelector('#df-1ad9a5de-5e58-4708-a5af-d846d8d683e2');\n",
              "        const dataTable =\n",
              "          await google.colab.kernel.invokeFunction('convertToInteractive',\n",
              "                                                    [key], {});\n",
              "        if (!dataTable) return;\n",
              "\n",
              "        const docLinkHtml = 'Like what you see? Visit the ' +\n",
              "          '<a target=\"_blank\" href=https://colab.research.google.com/notebooks/data_table.ipynb>data table notebook</a>'\n",
              "          + ' to learn more about interactive tables.';\n",
              "        element.innerHTML = '';\n",
              "        dataTable['output_type'] = 'display_data';\n",
              "        await google.colab.output.renderOutput(dataTable, element);\n",
              "        const docLink = document.createElement('div');\n",
              "        docLink.innerHTML = docLinkHtml;\n",
              "        element.appendChild(docLink);\n",
              "      }\n",
              "    </script>\n",
              "  </div>\n",
              "\n",
              "\n",
              "<div id=\"df-b5028408-e927-4cc4-90c0-94eabce47aec\">\n",
              "  <button class=\"colab-df-quickchart\" onclick=\"quickchart('df-b5028408-e927-4cc4-90c0-94eabce47aec')\"\n",
              "            title=\"Suggest charts\"\n",
              "            style=\"display:none;\">\n",
              "\n",
              "<svg xmlns=\"http://www.w3.org/2000/svg\" height=\"24px\"viewBox=\"0 0 24 24\"\n",
              "     width=\"24px\">\n",
              "    <g>\n",
              "        <path d=\"M19 3H5c-1.1 0-2 .9-2 2v14c0 1.1.9 2 2 2h14c1.1 0 2-.9 2-2V5c0-1.1-.9-2-2-2zM9 17H7v-7h2v7zm4 0h-2V7h2v10zm4 0h-2v-4h2v4z\"/>\n",
              "    </g>\n",
              "</svg>\n",
              "  </button>\n",
              "\n",
              "<style>\n",
              "  .colab-df-quickchart {\n",
              "      --bg-color: #E8F0FE;\n",
              "      --fill-color: #1967D2;\n",
              "      --hover-bg-color: #E2EBFA;\n",
              "      --hover-fill-color: #174EA6;\n",
              "      --disabled-fill-color: #AAA;\n",
              "      --disabled-bg-color: #DDD;\n",
              "  }\n",
              "\n",
              "  [theme=dark] .colab-df-quickchart {\n",
              "      --bg-color: #3B4455;\n",
              "      --fill-color: #D2E3FC;\n",
              "      --hover-bg-color: #434B5C;\n",
              "      --hover-fill-color: #FFFFFF;\n",
              "      --disabled-bg-color: #3B4455;\n",
              "      --disabled-fill-color: #666;\n",
              "  }\n",
              "\n",
              "  .colab-df-quickchart {\n",
              "    background-color: var(--bg-color);\n",
              "    border: none;\n",
              "    border-radius: 50%;\n",
              "    cursor: pointer;\n",
              "    display: none;\n",
              "    fill: var(--fill-color);\n",
              "    height: 32px;\n",
              "    padding: 0;\n",
              "    width: 32px;\n",
              "  }\n",
              "\n",
              "  .colab-df-quickchart:hover {\n",
              "    background-color: var(--hover-bg-color);\n",
              "    box-shadow: 0 1px 2px rgba(60, 64, 67, 0.3), 0 1px 3px 1px rgba(60, 64, 67, 0.15);\n",
              "    fill: var(--button-hover-fill-color);\n",
              "  }\n",
              "\n",
              "  .colab-df-quickchart-complete:disabled,\n",
              "  .colab-df-quickchart-complete:disabled:hover {\n",
              "    background-color: var(--disabled-bg-color);\n",
              "    fill: var(--disabled-fill-color);\n",
              "    box-shadow: none;\n",
              "  }\n",
              "\n",
              "  .colab-df-spinner {\n",
              "    border: 2px solid var(--fill-color);\n",
              "    border-color: transparent;\n",
              "    border-bottom-color: var(--fill-color);\n",
              "    animation:\n",
              "      spin 1s steps(1) infinite;\n",
              "  }\n",
              "\n",
              "  @keyframes spin {\n",
              "    0% {\n",
              "      border-color: transparent;\n",
              "      border-bottom-color: var(--fill-color);\n",
              "      border-left-color: var(--fill-color);\n",
              "    }\n",
              "    20% {\n",
              "      border-color: transparent;\n",
              "      border-left-color: var(--fill-color);\n",
              "      border-top-color: var(--fill-color);\n",
              "    }\n",
              "    30% {\n",
              "      border-color: transparent;\n",
              "      border-left-color: var(--fill-color);\n",
              "      border-top-color: var(--fill-color);\n",
              "      border-right-color: var(--fill-color);\n",
              "    }\n",
              "    40% {\n",
              "      border-color: transparent;\n",
              "      border-right-color: var(--fill-color);\n",
              "      border-top-color: var(--fill-color);\n",
              "    }\n",
              "    60% {\n",
              "      border-color: transparent;\n",
              "      border-right-color: var(--fill-color);\n",
              "    }\n",
              "    80% {\n",
              "      border-color: transparent;\n",
              "      border-right-color: var(--fill-color);\n",
              "      border-bottom-color: var(--fill-color);\n",
              "    }\n",
              "    90% {\n",
              "      border-color: transparent;\n",
              "      border-bottom-color: var(--fill-color);\n",
              "    }\n",
              "  }\n",
              "</style>\n",
              "\n",
              "  <script>\n",
              "    async function quickchart(key) {\n",
              "      const quickchartButtonEl =\n",
              "        document.querySelector('#' + key + ' button');\n",
              "      quickchartButtonEl.disabled = true;  // To prevent multiple clicks.\n",
              "      quickchartButtonEl.classList.add('colab-df-spinner');\n",
              "      try {\n",
              "        const charts = await google.colab.kernel.invokeFunction(\n",
              "            'suggestCharts', [key], {});\n",
              "      } catch (error) {\n",
              "        console.error('Error during call to suggestCharts:', error);\n",
              "      }\n",
              "      quickchartButtonEl.classList.remove('colab-df-spinner');\n",
              "      quickchartButtonEl.classList.add('colab-df-quickchart-complete');\n",
              "    }\n",
              "    (() => {\n",
              "      let quickchartButtonEl =\n",
              "        document.querySelector('#df-b5028408-e927-4cc4-90c0-94eabce47aec button');\n",
              "      quickchartButtonEl.style.display =\n",
              "        google.colab.kernel.accessAllowed ? 'block' : 'none';\n",
              "    })();\n",
              "  </script>\n",
              "</div>\n",
              "\n",
              "    </div>\n",
              "  </div>\n"
            ],
            "application/vnd.google.colaboratory.intrinsic+json": {
              "type": "dataframe",
              "variable_name": "datetimeevents"
            }
          },
          "metadata": {},
          "execution_count": 26
        }
      ]
    },
    {
      "cell_type": "code",
      "source": [
        "print(datetimeevents.dtypes)"
      ],
      "metadata": {
        "id": "dYqbtQXgVGOs",
        "outputId": "b1b08c1a-0d88-4b90-9af5-d02e7b0e2d4a",
        "colab": {
          "base_uri": "https://localhost:8080/"
        }
      },
      "execution_count": 27,
      "outputs": [
        {
          "output_type": "stream",
          "name": "stdout",
          "text": [
            "subject_id       int64\n",
            "hadm_id          int64\n",
            "stay_id          int64\n",
            "caregiver_id     int64\n",
            "charttime       object\n",
            "storetime       object\n",
            "itemid           int64\n",
            "value           object\n",
            "valueuom        object\n",
            "warning          int64\n",
            "dtype: object\n"
          ]
        }
      ]
    },
    {
      "cell_type": "markdown",
      "source": [
        "#### patient_info"
      ],
      "metadata": {
        "id": "JZ3e5e2WoDlO"
      }
    },
    {
      "cell_type": "code",
      "source": [
        "patient_info.head(5)"
      ],
      "metadata": {
        "id": "puzoTwWioBv1",
        "outputId": "c91874dd-516f-4118-fb4d-b85f490a6921",
        "colab": {
          "base_uri": "https://localhost:8080/",
          "height": 206
        }
      },
      "execution_count": 28,
      "outputs": [
        {
          "output_type": "execute_result",
          "data": {
            "text/plain": [
              "   subject_id gender  anchor_age  anchor_year anchor_year_group         dod\n",
              "0    10000032      F          52         2180       2014 - 2016  2180-09-09\n",
              "1    10000048      F          23         2126       2008 - 2010         NaN\n",
              "2    10000068      F          19         2160       2008 - 2010         NaN\n",
              "3    10000084      M          72         2160       2017 - 2019  2161-02-13\n",
              "4    10000102      F          27         2136       2008 - 2010         NaN"
            ],
            "text/html": [
              "\n",
              "  <div id=\"df-c1c5ef81-5388-4bec-a0c2-1fa80c11e87c\" class=\"colab-df-container\">\n",
              "    <div>\n",
              "<style scoped>\n",
              "    .dataframe tbody tr th:only-of-type {\n",
              "        vertical-align: middle;\n",
              "    }\n",
              "\n",
              "    .dataframe tbody tr th {\n",
              "        vertical-align: top;\n",
              "    }\n",
              "\n",
              "    .dataframe thead th {\n",
              "        text-align: right;\n",
              "    }\n",
              "</style>\n",
              "<table border=\"1\" class=\"dataframe\">\n",
              "  <thead>\n",
              "    <tr style=\"text-align: right;\">\n",
              "      <th></th>\n",
              "      <th>subject_id</th>\n",
              "      <th>gender</th>\n",
              "      <th>anchor_age</th>\n",
              "      <th>anchor_year</th>\n",
              "      <th>anchor_year_group</th>\n",
              "      <th>dod</th>\n",
              "    </tr>\n",
              "  </thead>\n",
              "  <tbody>\n",
              "    <tr>\n",
              "      <th>0</th>\n",
              "      <td>10000032</td>\n",
              "      <td>F</td>\n",
              "      <td>52</td>\n",
              "      <td>2180</td>\n",
              "      <td>2014 - 2016</td>\n",
              "      <td>2180-09-09</td>\n",
              "    </tr>\n",
              "    <tr>\n",
              "      <th>1</th>\n",
              "      <td>10000048</td>\n",
              "      <td>F</td>\n",
              "      <td>23</td>\n",
              "      <td>2126</td>\n",
              "      <td>2008 - 2010</td>\n",
              "      <td>NaN</td>\n",
              "    </tr>\n",
              "    <tr>\n",
              "      <th>2</th>\n",
              "      <td>10000068</td>\n",
              "      <td>F</td>\n",
              "      <td>19</td>\n",
              "      <td>2160</td>\n",
              "      <td>2008 - 2010</td>\n",
              "      <td>NaN</td>\n",
              "    </tr>\n",
              "    <tr>\n",
              "      <th>3</th>\n",
              "      <td>10000084</td>\n",
              "      <td>M</td>\n",
              "      <td>72</td>\n",
              "      <td>2160</td>\n",
              "      <td>2017 - 2019</td>\n",
              "      <td>2161-02-13</td>\n",
              "    </tr>\n",
              "    <tr>\n",
              "      <th>4</th>\n",
              "      <td>10000102</td>\n",
              "      <td>F</td>\n",
              "      <td>27</td>\n",
              "      <td>2136</td>\n",
              "      <td>2008 - 2010</td>\n",
              "      <td>NaN</td>\n",
              "    </tr>\n",
              "  </tbody>\n",
              "</table>\n",
              "</div>\n",
              "    <div class=\"colab-df-buttons\">\n",
              "\n",
              "  <div class=\"colab-df-container\">\n",
              "    <button class=\"colab-df-convert\" onclick=\"convertToInteractive('df-c1c5ef81-5388-4bec-a0c2-1fa80c11e87c')\"\n",
              "            title=\"Convert this dataframe to an interactive table.\"\n",
              "            style=\"display:none;\">\n",
              "\n",
              "  <svg xmlns=\"http://www.w3.org/2000/svg\" height=\"24px\" viewBox=\"0 -960 960 960\">\n",
              "    <path d=\"M120-120v-720h720v720H120Zm60-500h600v-160H180v160Zm220 220h160v-160H400v160Zm0 220h160v-160H400v160ZM180-400h160v-160H180v160Zm440 0h160v-160H620v160ZM180-180h160v-160H180v160Zm440 0h160v-160H620v160Z\"/>\n",
              "  </svg>\n",
              "    </button>\n",
              "\n",
              "  <style>\n",
              "    .colab-df-container {\n",
              "      display:flex;\n",
              "      gap: 12px;\n",
              "    }\n",
              "\n",
              "    .colab-df-convert {\n",
              "      background-color: #E8F0FE;\n",
              "      border: none;\n",
              "      border-radius: 50%;\n",
              "      cursor: pointer;\n",
              "      display: none;\n",
              "      fill: #1967D2;\n",
              "      height: 32px;\n",
              "      padding: 0 0 0 0;\n",
              "      width: 32px;\n",
              "    }\n",
              "\n",
              "    .colab-df-convert:hover {\n",
              "      background-color: #E2EBFA;\n",
              "      box-shadow: 0px 1px 2px rgba(60, 64, 67, 0.3), 0px 1px 3px 1px rgba(60, 64, 67, 0.15);\n",
              "      fill: #174EA6;\n",
              "    }\n",
              "\n",
              "    .colab-df-buttons div {\n",
              "      margin-bottom: 4px;\n",
              "    }\n",
              "\n",
              "    [theme=dark] .colab-df-convert {\n",
              "      background-color: #3B4455;\n",
              "      fill: #D2E3FC;\n",
              "    }\n",
              "\n",
              "    [theme=dark] .colab-df-convert:hover {\n",
              "      background-color: #434B5C;\n",
              "      box-shadow: 0px 1px 3px 1px rgba(0, 0, 0, 0.15);\n",
              "      filter: drop-shadow(0px 1px 2px rgba(0, 0, 0, 0.3));\n",
              "      fill: #FFFFFF;\n",
              "    }\n",
              "  </style>\n",
              "\n",
              "    <script>\n",
              "      const buttonEl =\n",
              "        document.querySelector('#df-c1c5ef81-5388-4bec-a0c2-1fa80c11e87c button.colab-df-convert');\n",
              "      buttonEl.style.display =\n",
              "        google.colab.kernel.accessAllowed ? 'block' : 'none';\n",
              "\n",
              "      async function convertToInteractive(key) {\n",
              "        const element = document.querySelector('#df-c1c5ef81-5388-4bec-a0c2-1fa80c11e87c');\n",
              "        const dataTable =\n",
              "          await google.colab.kernel.invokeFunction('convertToInteractive',\n",
              "                                                    [key], {});\n",
              "        if (!dataTable) return;\n",
              "\n",
              "        const docLinkHtml = 'Like what you see? Visit the ' +\n",
              "          '<a target=\"_blank\" href=https://colab.research.google.com/notebooks/data_table.ipynb>data table notebook</a>'\n",
              "          + ' to learn more about interactive tables.';\n",
              "        element.innerHTML = '';\n",
              "        dataTable['output_type'] = 'display_data';\n",
              "        await google.colab.output.renderOutput(dataTable, element);\n",
              "        const docLink = document.createElement('div');\n",
              "        docLink.innerHTML = docLinkHtml;\n",
              "        element.appendChild(docLink);\n",
              "      }\n",
              "    </script>\n",
              "  </div>\n",
              "\n",
              "\n",
              "<div id=\"df-fb78b0c5-084a-48c3-9027-2ac60a62906e\">\n",
              "  <button class=\"colab-df-quickchart\" onclick=\"quickchart('df-fb78b0c5-084a-48c3-9027-2ac60a62906e')\"\n",
              "            title=\"Suggest charts\"\n",
              "            style=\"display:none;\">\n",
              "\n",
              "<svg xmlns=\"http://www.w3.org/2000/svg\" height=\"24px\"viewBox=\"0 0 24 24\"\n",
              "     width=\"24px\">\n",
              "    <g>\n",
              "        <path d=\"M19 3H5c-1.1 0-2 .9-2 2v14c0 1.1.9 2 2 2h14c1.1 0 2-.9 2-2V5c0-1.1-.9-2-2-2zM9 17H7v-7h2v7zm4 0h-2V7h2v10zm4 0h-2v-4h2v4z\"/>\n",
              "    </g>\n",
              "</svg>\n",
              "  </button>\n",
              "\n",
              "<style>\n",
              "  .colab-df-quickchart {\n",
              "      --bg-color: #E8F0FE;\n",
              "      --fill-color: #1967D2;\n",
              "      --hover-bg-color: #E2EBFA;\n",
              "      --hover-fill-color: #174EA6;\n",
              "      --disabled-fill-color: #AAA;\n",
              "      --disabled-bg-color: #DDD;\n",
              "  }\n",
              "\n",
              "  [theme=dark] .colab-df-quickchart {\n",
              "      --bg-color: #3B4455;\n",
              "      --fill-color: #D2E3FC;\n",
              "      --hover-bg-color: #434B5C;\n",
              "      --hover-fill-color: #FFFFFF;\n",
              "      --disabled-bg-color: #3B4455;\n",
              "      --disabled-fill-color: #666;\n",
              "  }\n",
              "\n",
              "  .colab-df-quickchart {\n",
              "    background-color: var(--bg-color);\n",
              "    border: none;\n",
              "    border-radius: 50%;\n",
              "    cursor: pointer;\n",
              "    display: none;\n",
              "    fill: var(--fill-color);\n",
              "    height: 32px;\n",
              "    padding: 0;\n",
              "    width: 32px;\n",
              "  }\n",
              "\n",
              "  .colab-df-quickchart:hover {\n",
              "    background-color: var(--hover-bg-color);\n",
              "    box-shadow: 0 1px 2px rgba(60, 64, 67, 0.3), 0 1px 3px 1px rgba(60, 64, 67, 0.15);\n",
              "    fill: var(--button-hover-fill-color);\n",
              "  }\n",
              "\n",
              "  .colab-df-quickchart-complete:disabled,\n",
              "  .colab-df-quickchart-complete:disabled:hover {\n",
              "    background-color: var(--disabled-bg-color);\n",
              "    fill: var(--disabled-fill-color);\n",
              "    box-shadow: none;\n",
              "  }\n",
              "\n",
              "  .colab-df-spinner {\n",
              "    border: 2px solid var(--fill-color);\n",
              "    border-color: transparent;\n",
              "    border-bottom-color: var(--fill-color);\n",
              "    animation:\n",
              "      spin 1s steps(1) infinite;\n",
              "  }\n",
              "\n",
              "  @keyframes spin {\n",
              "    0% {\n",
              "      border-color: transparent;\n",
              "      border-bottom-color: var(--fill-color);\n",
              "      border-left-color: var(--fill-color);\n",
              "    }\n",
              "    20% {\n",
              "      border-color: transparent;\n",
              "      border-left-color: var(--fill-color);\n",
              "      border-top-color: var(--fill-color);\n",
              "    }\n",
              "    30% {\n",
              "      border-color: transparent;\n",
              "      border-left-color: var(--fill-color);\n",
              "      border-top-color: var(--fill-color);\n",
              "      border-right-color: var(--fill-color);\n",
              "    }\n",
              "    40% {\n",
              "      border-color: transparent;\n",
              "      border-right-color: var(--fill-color);\n",
              "      border-top-color: var(--fill-color);\n",
              "    }\n",
              "    60% {\n",
              "      border-color: transparent;\n",
              "      border-right-color: var(--fill-color);\n",
              "    }\n",
              "    80% {\n",
              "      border-color: transparent;\n",
              "      border-right-color: var(--fill-color);\n",
              "      border-bottom-color: var(--fill-color);\n",
              "    }\n",
              "    90% {\n",
              "      border-color: transparent;\n",
              "      border-bottom-color: var(--fill-color);\n",
              "    }\n",
              "  }\n",
              "</style>\n",
              "\n",
              "  <script>\n",
              "    async function quickchart(key) {\n",
              "      const quickchartButtonEl =\n",
              "        document.querySelector('#' + key + ' button');\n",
              "      quickchartButtonEl.disabled = true;  // To prevent multiple clicks.\n",
              "      quickchartButtonEl.classList.add('colab-df-spinner');\n",
              "      try {\n",
              "        const charts = await google.colab.kernel.invokeFunction(\n",
              "            'suggestCharts', [key], {});\n",
              "      } catch (error) {\n",
              "        console.error('Error during call to suggestCharts:', error);\n",
              "      }\n",
              "      quickchartButtonEl.classList.remove('colab-df-spinner');\n",
              "      quickchartButtonEl.classList.add('colab-df-quickchart-complete');\n",
              "    }\n",
              "    (() => {\n",
              "      let quickchartButtonEl =\n",
              "        document.querySelector('#df-fb78b0c5-084a-48c3-9027-2ac60a62906e button');\n",
              "      quickchartButtonEl.style.display =\n",
              "        google.colab.kernel.accessAllowed ? 'block' : 'none';\n",
              "    })();\n",
              "  </script>\n",
              "</div>\n",
              "\n",
              "    </div>\n",
              "  </div>\n"
            ],
            "application/vnd.google.colaboratory.intrinsic+json": {
              "type": "dataframe",
              "variable_name": "patient_info"
            }
          },
          "metadata": {},
          "execution_count": 28
        }
      ]
    },
    {
      "cell_type": "code",
      "source": [
        "print(patient_info.dtypes)"
      ],
      "metadata": {
        "id": "feSZ8JJ0oI5m",
        "outputId": "33ef276e-9b13-4ad2-8b4e-9f93040e2ce2",
        "colab": {
          "base_uri": "https://localhost:8080/"
        }
      },
      "execution_count": 29,
      "outputs": [
        {
          "output_type": "stream",
          "name": "stdout",
          "text": [
            "subject_id            int64\n",
            "gender               object\n",
            "anchor_age            int64\n",
            "anchor_year           int64\n",
            "anchor_year_group    object\n",
            "dod                  object\n",
            "dtype: object\n"
          ]
        }
      ]
    },
    {
      "cell_type": "markdown",
      "source": [
        "##### Insights\n",
        "**Observations**\n",
        "\n",
        "\n",
        "**Key Takeaway**\n"
      ],
      "metadata": {
        "id": "s6J6hDuoVXd7"
      }
    },
    {
      "cell_type": "markdown",
      "source": [
        "## Data Labeling\n",
        "\n",
        "Labelling target class based on the given journal:\n",
        "*italicized text*\n",
        "https://www.ahajournals.org/doi/10.1161/01.str.0000174293.17959.a1\n",
        "\n",
        "- explains stroke related icd codes\n",
        "- rule based risk factor\n",
        "- ICD-9 Code 362 & ICD-10 Code G45 is not entirely stroke, will ignore these for now"
      ],
      "metadata": {
        "id": "CfvJNUq1V02z"
      }
    },
    {
      "cell_type": "markdown",
      "source": [
        "| Stroke Type | ICD-9 Code | Definition | ICD-10 Code | Definition |\n",
        "|------------|------------|-----------------------------|------------|------------------------------------------------|\n",
        "| **AIS**    | 362.3      | Retinal vascular occlusion | H34.1      | Central retina artery occlusion |\n",
        "|            | 433.x1     | Occlusion and stenosis of precerebral arteries | I63.x | Cerebral infarction |\n",
        "|            | 434.x1     | Occlusion of cerebral arteries | I64.x | Stroke, not specified as hemorrhage or infarction |\n",
        "|            | 436        | Acute, but ill-defined cerebrovascular disease |  |  |\n",
        "| **ICH**    | 431.x      | Intracerebral hemorrhage | I61.x | Intracerebral hemorrhage |\n",
        "| **SAH**    | 430.x      | Subarachnoid hemorrhage | I60.x | Subarachnoid hemorrhage |\n",
        "| **TIA**    | 435.x      | Transient cerebral ischemia | G45.x | Transient cerebral ischemic attacks and related syndromes |\n"
      ],
      "metadata": {
        "id": "YEldX0h3Y5Hz"
      }
    },
    {
      "cell_type": "markdown",
      "source": [
        "### Stroke Patients: Mapping Stroke Diseases"
      ],
      "metadata": {
        "id": "MIWS5pEuakgs"
      }
    },
    {
      "cell_type": "markdown",
      "source": [
        "#### Labeling Stroke"
      ],
      "metadata": {
        "id": "qiMvOPkVZyt9"
      }
    },
    {
      "cell_type": "code",
      "execution_count": 30,
      "metadata": {
        "id": "fKQtLxauOhyz"
      },
      "outputs": [],
      "source": [
        "import numpy as np\n",
        "import pandas as pd\n",
        "import re\n",
        "\n",
        "def extract_numeric_part(icd_code):\n",
        "    \"\"\"\n",
        "    Extracts the numeric portion of an ICD code by removing non-numeric characters.\n",
        "    - Includes leading zeros.\n",
        "    - Returns np.nan if the conversion fails.\n",
        "    \"\"\"\n",
        "    numeric_part = ''.join(filter(str.isdigit, icd_code))\n",
        "    try:\n",
        "        return numeric_part\n",
        "    except ValueError:\n",
        "        return np.nan\n",
        "\n",
        "# Define icd code numeric ranges\n",
        "icd10_valid_ranges = [str(i) for i in range(60, 65)]\n",
        "icd9_valid_ranges = [str(i) for i in range(430, 437)]\n",
        "\n",
        "diagnosis_df = diagnosis.copy()\n",
        "\n",
        "# extract numeric part of the icd code\n",
        "diagnosis_df['numeric_part'] = diagnosis_df['icd_code'].apply(extract_numeric_part)\n",
        "\n",
        "\n",
        "\n",
        "condition = (\n",
        "    # ICD-10 codes\n",
        "    (diagnosis_df['icd_code'].str.startswith('I')) &\n",
        "    (diagnosis_df['icd_version'] == 10) &\n",
        "    (diagnosis_df['numeric_part'].str[:2].isin(icd10_valid_ranges))\n",
        "\n",
        "    |\n",
        "\n",
        "    # ICD 9 codes\n",
        "    ((diagnosis_df['icd_code'].str.startswith('H')) & (diagnosis_df['numeric_part'].str[:2] == '34')) |\n",
        "    # ((diagnosis_df['icd_code'].str.startswith('G')) & (diagnosis_df['numeric_part'].str[:2] == '45')) |\n",
        "    diagnosis_df['icd_code'].str.isnumeric() &  # Ensure numeric ICD codes\n",
        "    (diagnosis_df['icd_version'] == 9) &  # Check if it's ICD-9\n",
        "    (diagnosis_df['numeric_part'].isin(map(str,icd9_valid_ranges))\n",
        "    # | (diagnosis_df['numeric_part'].str[:3] == '362')\n",
        "    )\n",
        ")\n",
        "\n",
        "# commented out those two codes for now as may not be stroke\n",
        "\n",
        "# Initialize Stroke_Y/N column with 0\n",
        "diagnosis_df['Stroke_Y/N'] = 0\n",
        "diagnosis_df.loc[condition, 'Stroke_Y/N'] = 1\n"
      ]
    },
    {
      "cell_type": "markdown",
      "source": [
        "#### Stroke Master Dataframe"
      ],
      "metadata": {
        "id": "DoUrxIxbnUal"
      }
    },
    {
      "cell_type": "code",
      "source": [
        "stroke_df = diagnosis_df[diagnosis_df['Stroke_Y/N'] == 1]"
      ],
      "metadata": {
        "id": "t7ktoebcaTo9"
      },
      "execution_count": 31,
      "outputs": []
    },
    {
      "cell_type": "code",
      "source": [
        "targets = diagnosis_df['Stroke_Y/N']\n",
        "\n",
        "temp = targets.value_counts()\n",
        "print(temp)\n",
        "\n",
        "# Count unique ICD code occurrences\n",
        "icd_counts = stroke_df['icd_code'].value_counts()\n",
        "\n",
        "# Plot the bar chart\n",
        "plt.figure(figsize=(10, 5))\n",
        "sns.barplot(x=icd_counts.index, y=icd_counts.values, palette='viridis')\n",
        "\n",
        "# Add labels\n",
        "plt.xlabel(\"ICD Code\")\n",
        "plt.ylabel(\"Count\")\n",
        "plt.title(\"ICD Code Distribution for Stroke Cases\")\n",
        "plt.xticks(rotation=45)  # Rotate labels for readability\n",
        "\n",
        "# Show plot\n",
        "plt.show()"
      ],
      "metadata": {
        "colab": {
          "base_uri": "https://localhost:8080/",
          "height": 666
        },
        "id": "0XyG3ZOEY_VM",
        "outputId": "49f0b399-63b8-4f9b-ff8b-1380c18188c9"
      },
      "execution_count": 32,
      "outputs": [
        {
          "output_type": "stream",
          "name": "stdout",
          "text": [
            "Stroke_Y/N\n",
            "0    895622\n",
            "1      3428\n",
            "Name: count, dtype: int64\n"
          ]
        },
        {
          "output_type": "stream",
          "name": "stderr",
          "text": [
            "<ipython-input-32-086fbe79dfbd>:11: FutureWarning: \n",
            "\n",
            "Passing `palette` without assigning `hue` is deprecated and will be removed in v0.14.0. Assign the `x` variable to `hue` and set `legend=False` for the same effect.\n",
            "\n",
            "  sns.barplot(x=icd_counts.index, y=icd_counts.values, palette='viridis')\n"
          ]
        },
        {
          "output_type": "display_data",
          "data": {
            "text/plain": [
              "<Figure size 1000x500 with 1 Axes>"
            ],
            "image/png": "[encoded data removed]"
          },
          "metadata": {}
        }
      ]
    },
    {
      "cell_type": "markdown",
      "source": [
        "#### Patients with at least one occurence of stroke"
      ],
      "metadata": {
        "id": "BNl-QKgwa9fv"
      }
    },
    {
      "cell_type": "code",
      "source": [
        "# Get unique subject IDs with at least one stroke occurrence\n",
        "stroke_subject_ids = diagnosis_df[diagnosis_df['Stroke_Y/N'] == 1]['subject_id'].unique()\n",
        "\n",
        "has_stroke_occurence_df = diagnosis_df[diagnosis_df['subject_id'].isin(stroke_subject_ids)]"
      ],
      "metadata": {
        "id": "quxHLOJ7a6qA"
      },
      "execution_count": 33,
      "outputs": []
    },
    {
      "cell_type": "markdown",
      "source": [
        "### Merging Datasets"
      ],
      "metadata": {
        "id": "vp4iIGJKnckm"
      }
    },
    {
      "cell_type": "code",
      "source": [
        "merged_vs_df = pd.merge(vitalsign, has_stroke_occurence_df, how='right', on=['subject_id','stay_id'])"
      ],
      "metadata": {
        "id": "l2NhC_Llhmka"
      },
      "execution_count": 34,
      "outputs": []
    },
    {
      "cell_type": "code",
      "source": [
        "merged_pi_df = pd.merge(merged_vs_df, patient_info, how='left', on='subject_id')"
      ],
      "metadata": {
        "id": "ZeHQNVJSnRs_"
      },
      "execution_count": 35,
      "outputs": []
    },
    {
      "cell_type": "code",
      "source": [
        "# Assuming 'stay_id' represents the visit order\n",
        "\n",
        "# Sort by subject ID and stay_id\n",
        "merged_pi_df.sort_values(['subject_id', 'stay_id'], inplace=True)\n",
        "\n",
        "# Initialize counters\n",
        "pattern1_count = 0\n",
        "pattern2_count = 0\n",
        "pattern3_count = 0\n",
        "pattern4_count = 0\n",
        "\n",
        "\n",
        "# Group by subject ID\n",
        "for subject_id, group in merged_vs_df.groupby('subject_id'):\n",
        "    stroke_occurrences = group['Stroke_Y/N'].values\n",
        "\n",
        "    # Check for patterns and increment counters\n",
        "    if 0 in stroke_occurrences and 1 in stroke_occurrences:  # Pattern 1 or 2\n",
        "        if stroke_occurrences.tolist().count(1) > 1:  #more than 1 times of stroke\n",
        "            pattern2_count += 1 # Pattern 2\n",
        "        else:\n",
        "            pattern1_count += 1 # Pattern 1\n",
        "\n",
        "    elif all(occurrence == 1 for occurrence in stroke_occurrences) and len(stroke_occurrences) > 1: #all stroke occurences and more than 1 occurence\n",
        "        pattern3_count += 1 # Pattern 3\n",
        "\n",
        "    elif any(stroke_occurrences) and not all(stroke_occurrences): # check if subject has at least 1 stroke\n",
        "      first_stroke_index = stroke_occurrences.tolist().index(1)\n",
        "      if 0 in stroke_occurrences[first_stroke_index + 1:]: # check if there is no stroke after stroke\n",
        "          pattern4_count += 1\n",
        "          # print(f\"subject id {subject_id}: Stroke then no stroke\")\n",
        "\n",
        "\n",
        "# Print the total counts for each pattern\n",
        "print(f\"Pattern 1 (Stroke after initial non-stroke visits): {pattern1_count}\")\n",
        "print(f\"Pattern 2 (Recurrent stroke after initial non-stroke visits): {pattern2_count}\")\n",
        "print(f\"Pattern 3 (Recurrent stroke visits): {pattern3_count}\")\n",
        "print(f\"Pattern 4 (Stroke then no stroke): {pattern4_count}\")\n"
      ],
      "metadata": {
        "colab": {
          "base_uri": "https://localhost:8080/"
        },
        "id": "fI2xKQQbj24d",
        "outputId": "1e36d019-d72f-4edf-c316-5978591fbbc2"
      },
      "execution_count": 36,
      "outputs": [
        {
          "output_type": "stream",
          "name": "stdout",
          "text": [
            "Pattern 1 (Stroke after initial non-stroke visits): 232\n",
            "Pattern 2 (Recurrent stroke after initial non-stroke visits): 1785\n",
            "Pattern 3 (Recurrent stroke visits): 1044\n",
            "Pattern 4 (Stroke then no stroke): 0\n"
          ]
        }
      ]
    },
    {
      "cell_type": "markdown",
      "source": [
        "#### Filter only patient records that are reccurent"
      ],
      "metadata": {
        "id": "zH3zy0wyoK0a"
      }
    },
    {
      "cell_type": "code",
      "source": [
        "# Count unique stay_id per subject_id\n",
        "stay_counts = merged_pi_df.groupby('subject_id')['stay_id'].nunique()\n",
        "\n",
        "# Filter to keep only subject_ids with more than one stay_id\n",
        "valid_subjects = stay_counts[stay_counts > 1].index\n",
        "\n",
        "# Filter the original DataFrame\n",
        "filtered_df = merged_pi_df[merged_pi_df['subject_id'].isin(valid_subjects)]\n"
      ],
      "metadata": {
        "id": "32vIkMXgslFR"
      },
      "execution_count": 37,
      "outputs": []
    },
    {
      "cell_type": "markdown",
      "source": [
        "#### Sorting Dataset by Subject, Stay and charttime"
      ],
      "metadata": {
        "id": "H0-F6jhFnjcB"
      }
    },
    {
      "cell_type": "code",
      "source": [
        "sorted_df = filtered_df.sort_values(by=['subject_id', 'stay_id', 'charttime'])"
      ],
      "metadata": {
        "id": "0O7CQsLQkHc5"
      },
      "execution_count": 38,
      "outputs": []
    },
    {
      "cell_type": "markdown",
      "source": [
        "#### Save Dataset"
      ],
      "metadata": {
        "id": "rtAvyhdZobcz"
      }
    },
    {
      "cell_type": "code",
      "source": [
        "sorted_df.to_csv('/content/drive/MyDrive/Colab Notebooks/FIT3199-FYP/input/00_recurrent_stroke_patient.csv', index = False)"
      ],
      "metadata": {
        "id": "5HaWG4BhhqXw"
      },
      "execution_count": 39,
      "outputs": []
    },
    {
      "cell_type": "markdown",
      "source": [
        "### Aggregating Data"
      ],
      "metadata": {
        "id": "klU1w5egnrH8"
      }
    },
    {
      "cell_type": "code",
      "source": [
        "import pandas as pd\n",
        "\n",
        "# Convert `charttime` to datetime format\n",
        "sorted_df['charttime'] = pd.to_datetime(sorted_df['charttime'])\n",
        "\n",
        "# Create a new column for the date (without time)\n",
        "sorted_df['date'] = sorted_df['charttime'].dt.date\n",
        "\n",
        "# Aggregate per patient and per day\n",
        "aggregated_df = sorted_df.groupby(['stay_id', 'date']).agg({\n",
        "    'temperature': ['mean', 'min', 'max', 'std'],\n",
        "    'heartrate': ['mean', 'min', 'max', 'std'],\n",
        "    'resprate': ['mean', 'min', 'max', 'std'],\n",
        "    'o2sat': ['mean', 'min', 'max', 'std'],\n",
        "    'sbp': ['mean', 'min', 'max', 'std'],\n",
        "    'dbp': ['mean', 'min', 'max', 'std']\n",
        "}).reset_index()\n",
        "\n",
        "# Rename columns\n",
        "aggregated_df.columns = ['_'.join(col).strip() for col in aggregated_df.columns.values]\n"
      ],
      "metadata": {
        "id": "wVuaoIf-MCj_"
      },
      "execution_count": 40,
      "outputs": []
    },
    {
      "cell_type": "markdown",
      "source": [
        "# PLEASE IGNORE THE CODE BELOW FOR NOW"
      ],
      "metadata": {
        "id": "N43Vo88OdUMq"
      }
    },
    {
      "cell_type": "code",
      "source": [
        "ERROR TO STOP THE BELOW FROM RUNNING"
      ],
      "metadata": {
        "id": "cCKC4mHnfu2W",
        "colab": {
          "base_uri": "https://localhost:8080/",
          "height": 110
        },
        "outputId": "a034b04c-d229-4ccb-ccb7-2e5ad22a9c05"
      },
      "execution_count": 41,
      "outputs": [
        {
          "output_type": "error",
          "ename": "SyntaxError",
          "evalue": "invalid syntax (<ipython-input-41-26b0335acc4d>, line 1)",
          "traceback": [
            "\u001b[0;36m  File \u001b[0;32m\"<ipython-input-41-26b0335acc4d>\"\u001b[0;36m, line \u001b[0;32m1\u001b[0m\n\u001b[0;31m    ERROR TO STOP THE BELOW FROM RUNNING\u001b[0m\n\u001b[0m          ^\u001b[0m\n\u001b[0;31mSyntaxError\u001b[0m\u001b[0;31m:\u001b[0m invalid syntax\n"
          ]
        }
      ]
    },
    {
      "cell_type": "code",
      "execution_count": null,
      "metadata": {
        "id": "hIedk09yOhy8"
      },
      "outputs": [],
      "source": [
        "shuffled_df = shuffled_df.drop(columns = ['temperature','rhythm','pain','dod'])"
      ]
    },
    {
      "cell_type": "markdown",
      "source": [],
      "metadata": {
        "id": "Hq65SV7pqWVw"
      }
    },
    {
      "cell_type": "markdown",
      "metadata": {
        "id": "Yt4pmFhQOhy8"
      },
      "source": [
        "Interpolate missing values in vital signs\n"
      ]
    },
    {
      "cell_type": "code",
      "execution_count": null,
      "metadata": {
        "id": "FDgziZU3Ohy8"
      },
      "outputs": [],
      "source": [
        "shuffled_df['heartrate'].interpolate(method='linear', inplace=True)\n",
        "shuffled_df['resprate'].interpolate(method='linear', inplace=True)\n",
        "shuffled_df['o2sat'].interpolate(method='linear', inplace=True)\n",
        "shuffled_df['sbp'].interpolate(method='linear', inplace=True)\n",
        "shuffled_df['dbp'].interpolate(method='linear', inplace=True)\n"
      ]
    },
    {
      "cell_type": "code",
      "execution_count": null,
      "metadata": {
        "id": "Lo3F_OsgOhy8"
      },
      "outputs": [],
      "source": [
        "null_values = shuffled_df.isnull().sum()\n",
        "print(null_values)"
      ]
    },
    {
      "cell_type": "code",
      "execution_count": null,
      "metadata": {
        "id": "FLu3rpn8Ohy8"
      },
      "outputs": [],
      "source": [
        "df_selected = shuffled_df[['heartrate', 'resprate', 'o2sat', 'sbp', 'dbp', 'icd_code','icd_version', 'Stroke_Y/N', 'gender', 'anchor_age']]"
      ]
    },
    {
      "cell_type": "code",
      "execution_count": null,
      "metadata": {
        "id": "p8wMozAVOhy8"
      },
      "outputs": [],
      "source": [
        "\n",
        "le = LabelEncoder()\n",
        "\n",
        "columns_to_encode = ['icd_code']\n",
        "\n",
        "for col in columns_to_encode:\n",
        "    df_selected[col] = le.fit_transform(df_selected[col].astype(str))"
      ]
    },
    {
      "cell_type": "code",
      "execution_count": null,
      "metadata": {
        "id": "ZlBrQVnOOhy8"
      },
      "outputs": [],
      "source": [
        "df_selected['gender'] = df_selected['gender'].replace({'M': 0, 'F': 1})"
      ]
    },
    {
      "cell_type": "code",
      "execution_count": null,
      "metadata": {
        "id": "HieevgbuOhy8"
      },
      "outputs": [],
      "source": [
        "df_selected.columns"
      ]
    },
    {
      "cell_type": "code",
      "execution_count": null,
      "metadata": {
        "id": "6VV80DGxOhy9"
      },
      "outputs": [],
      "source": [
        "\n",
        "\n",
        "columns_to_check = ['heartrate', 'resprate', 'o2sat', 'sbp', 'dbp']\n",
        "\n",
        "plt.figure(figsize=(15, 10))\n",
        "\n",
        "for i, col in enumerate(columns_to_check, 1):\n",
        "    plt.subplot(3, 4, i)  # Adjust rows and columns for the subplots\n",
        "    plt.boxplot(df_selected[col].dropna(), vert=False)  # Drop NaN values and plot horizontally\n",
        "    plt.title(col)\n",
        "\n",
        "plt.tight_layout()  # Adjust the layout for better spacing\n",
        "plt.show()\n"
      ]
    },
    {
      "cell_type": "code",
      "execution_count": null,
      "metadata": {
        "id": "LKCUERQhOhy9"
      },
      "outputs": [],
      "source": [
        "\n",
        "z_scores = np.abs(stats.zscore(df_selected.select_dtypes(include=[np.number])))\n",
        "\n",
        "outlier_threshold = 3\n",
        "outliers = (z_scores > outlier_threshold)\n",
        "\n",
        "outliers_rows = outliers.any(axis=1)\n"
      ]
    },
    {
      "cell_type": "code",
      "execution_count": null,
      "metadata": {
        "id": "1u2UAnBIOhy9"
      },
      "outputs": [],
      "source": [
        "df_cleaned = df_selected[~outliers_rows]\n"
      ]
    },
    {
      "cell_type": "code",
      "execution_count": null,
      "metadata": {
        "id": "7Wx4GqlCOhy9"
      },
      "outputs": [],
      "source": [
        "df_cleaned"
      ]
    },
    {
      "cell_type": "code",
      "execution_count": null,
      "metadata": {
        "id": "mi5pQ2qAOhy9"
      },
      "outputs": [],
      "source": [
        "df_cleaned.to_csv('/content/drive/MyDrive/Colab Notebooks/FIT3199-FYP/input/(0.1_10)_00_sampled_data.csv', index = False)"
      ]
    }
  ],
  "metadata": {
    "kernelspec": {
      "display_name": "fyp_env",
      "language": "python",
      "name": "python3"
    },
    "language_info": {
      "codemirror_mode": {
        "name": "ipython",
        "version": 3
      },
      "file_extension": ".py",
      "mimetype": "text/x-python",
      "name": "python",
      "nbconvert_exporter": "python",
      "pygments_lexer": "ipython3",
      "version": "3.12.9"
    },
    "colab": {
      "provenance": [],
      "toc_visible": true,
      "include_colab_link": true
    }
  },
  "nbformat": 4,
  "nbformat_minor": 0
}