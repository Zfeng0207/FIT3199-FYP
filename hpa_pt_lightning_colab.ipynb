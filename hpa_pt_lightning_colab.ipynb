{
  "cells": [
    {
      "cell_type": "markdown",
      "metadata": {
        "id": "view-in-github",
        "colab_type": "text"
      },
      "source": [
        "<a href=\"https://colab.research.google.com/github/Zfeng0207/FIT3199-FYP/blob/dev%2Fzfeng/hpa_pt_lightning_colab.ipynb\" target=\"_parent\"><img src=\"https://colab.research.google.com/assets/colab-badge.svg\" alt=\"Open In Colab\"/></a>"
      ]
    },
    {
      "cell_type": "code",
      "execution_count": 330,
      "metadata": {
        "colab": {
          "base_uri": "https://localhost:8080/"
        },
        "id": "h0CUDImu9MEW",
        "outputId": "128526cd-5f9b-4d27-9969-dd054995fce2"
      },
      "outputs": [
        {
          "output_type": "stream",
          "name": "stdout",
          "text": [
            "Drive already mounted at /content/drive; to attempt to forcibly remount, call drive.mount(\"/content/drive\", force_remount=True).\n"
          ]
        }
      ],
      "source": [
        "from google.colab import drive\n",
        "drive.mount('/content/drive')"
      ],
      "id": "h0CUDImu9MEW"
    },
    {
      "cell_type": "code",
      "execution_count": 331,
      "metadata": {
        "id": "GfQLwvb-9N2C"
      },
      "outputs": [],
      "source": [
        "import os\n",
        "os.chdir('/content/drive/MyDrive/Colab Notebooks/ECG-MIMIC-main')"
      ],
      "id": "GfQLwvb-9N2C"
    },
    {
      "cell_type": "code",
      "execution_count": 332,
      "metadata": {
        "id": "K_PGqhC8-C_A"
      },
      "outputs": [],
      "source": [
        "# !pip install -qqqq mlflow torchmetrics pytorch_lightning iterative-stratification"
      ],
      "id": "K_PGqhC8-C_A"
    },
    {
      "cell_type": "markdown",
      "source": [
        "# Step 3.5: Multihot encode: Setting up target binary labels"
      ],
      "metadata": {
        "id": "CEFykubaW1Lt"
      },
      "id": "CEFykubaW1Lt"
    },
    {
      "cell_type": "code",
      "source": [
        "import numpy as np\n",
        "\n",
        "def multihot_encode(diagnoses, icd_codes):\n",
        "    \"\"\"\n",
        "    Encodes a list of diagnoses into a multi-hot vector.\n",
        "    Disregards rows where no target ICD codes are set for the sample.\n",
        "\n",
        "    Args:\n",
        "        diagnoses (str or list): A string representing a list of diagnoses or a list of diagnoses.\n",
        "        icd_codes (tuple): A tuple of ICD codes to be encoded.\n",
        "\n",
        "    Returns:\n",
        "        np.ndarray or None: A multi-hot vector representing the diagnoses,\n",
        "                            or None if no target ICD codes are found.\n",
        "    \"\"\"\n",
        "    num_classes = len(icd_codes)\n",
        "    res = np.zeros(num_classes, dtype=np.float32)\n",
        "\n",
        "    # Ensure diagnoses is a list\n",
        "    if isinstance(diagnoses, str):\n",
        "        diagnoses = diagnoses.strip('[]').replace(\"'\", \"\").split(\",\")  # Handle list-like strings\n",
        "        diagnoses = [d.strip() for d in diagnoses]  # Remove any whitespace around code\n",
        "\n",
        "    found_target = False  # Flag to track if any target ICD code is found\n",
        "\n",
        "    for diag in diagnoses:\n",
        "        for i, code in enumerate(icd_codes):\n",
        "            if diag.startswith(code):\n",
        "                res[i] = 1\n",
        "                found_target = True\n",
        "                break  # Break inner loop if target is found\n",
        "        if found_target:\n",
        "            break  # Break outer loop if target is found\n",
        "\n",
        "    if not found_target:\n",
        "        return None  # Return None if no target ICD code is found\n",
        "\n",
        "    return res"
      ],
      "metadata": {
        "id": "4cugp1DhWv2g"
      },
      "execution_count": 333,
      "outputs": [],
      "id": "4cugp1DhWv2g"
    },
    {
      "cell_type": "code",
      "source": [
        "import numpy as np\n",
        "import pandas as pd\n",
        "\n",
        "df_full = pd.read_csv(\"src/data/label_df.csv\")\n",
        "\n",
        "df_labels =  df_full[[\"filename\",\n",
        "            \"study_id\",\n",
        "            \"patient_id\",\n",
        "            \"ecg_time\",\n",
        "            \"label_train\",\n",
        "            \"all_diag_all\",\n",
        "            \"label_stroke\",\n",
        "            \"start\",\n",
        "            \"length\"]]\n",
        "\n",
        "target_icd_codes = (\n",
        "   \"I48\", \"E11\"\n",
        ")\n",
        "\n",
        "df_labels['res'] = df_labels['label_train'].apply(lambda diagnoses: multihot_encode(diagnoses, target_icd_codes))\n",
        "\n",
        "# df_labels['stroke_yn'] = df_labels['res'].apply(lambda x: 1 if 1 in x else 0)\n",
        "\n",
        "df_rm_nan = df_labels[df_labels['all_diag_all'].apply(lambda x: len(x) > 0)]"
      ],
      "metadata": {
        "colab": {
          "base_uri": "https://localhost:8080/"
        },
        "id": "xAZEylGAXUTH",
        "outputId": "1fa3d1ec-b1a4-42e4-aa8f-1fe86a843613"
      },
      "execution_count": 334,
      "outputs": [
        {
          "output_type": "stream",
          "name": "stderr",
          "text": [
            "<ipython-input-334-0f7d0f1a56d8>:20: SettingWithCopyWarning: \n",
            "A value is trying to be set on a copy of a slice from a DataFrame.\n",
            "Try using .loc[row_indexer,col_indexer] = value instead\n",
            "\n",
            "See the caveats in the documentation: https://pandas.pydata.org/pandas-docs/stable/user_guide/indexing.html#returning-a-view-versus-a-copy\n",
            "  df_labels['res'] = df_labels['label_train'].apply(lambda diagnoses: multihot_encode(diagnoses, target_icd_codes))\n"
          ]
        }
      ],
      "id": "xAZEylGAXUTH"
    },
    {
      "cell_type": "markdown",
      "source": [
        "# Number of sparse target class"
      ],
      "metadata": {
        "id": "NLniNpIM-xzq"
      },
      "id": "NLniNpIM-xzq"
    },
    {
      "cell_type": "code",
      "source": [
        "import pandas as pd\n",
        "\n",
        "# df = pd.read_csv(\"src/data/label_df.csv\")\n",
        "df = df_rm_nan.copy()"
      ],
      "metadata": {
        "id": "FEMa8oLZf_SV"
      },
      "id": "FEMa8oLZf_SV",
      "execution_count": 335,
      "outputs": []
    },
    {
      "cell_type": "code",
      "source": [
        "df = df[df['res'].notna()]"
      ],
      "metadata": {
        "id": "edJjuuHlu-XL"
      },
      "id": "edJjuuHlu-XL",
      "execution_count": 336,
      "outputs": []
    },
    {
      "cell_type": "code",
      "source": [
        "df.shape"
      ],
      "metadata": {
        "id": "4jlT3JePvK26",
        "outputId": "a3afc337-2a2b-4d8a-fbdf-4db34d934662",
        "colab": {
          "base_uri": "https://localhost:8080/"
        }
      },
      "id": "4jlT3JePvK26",
      "execution_count": 337,
      "outputs": [
        {
          "output_type": "execute_result",
          "data": {
            "text/plain": [
              "(157501, 10)"
            ]
          },
          "metadata": {},
          "execution_count": 337
        }
      ]
    },
    {
      "cell_type": "code",
      "source": [
        "import numpy as np\n",
        "import pandas as pd\n",
        "\n",
        "def calculate_mean_positive_rate(df, label_col=\"res\"):\n",
        "    \"\"\"\n",
        "    Calculates the mean positive rate per label for a pandas DataFrame.\n",
        "\n",
        "    Args:\n",
        "        df (pd.DataFrame): The DataFrame containing the multi-hot labels.\n",
        "        label_col (str): The column name containing the multi-hot labels.\n",
        "\n",
        "    Returns:\n",
        "        np.ndarray: An array containing the mean positive rate for each label.\n",
        "    \"\"\"\n",
        "\n",
        "    # Extract labels and ensure they are NumPy arrays with consistent shape\n",
        "    labels = df[label_col].apply(lambda x: np.array(x, dtype=np.float32)).values\n",
        "    labels = np.vstack(labels)  # Stack the labels into a 2D array\n",
        "\n",
        "\n",
        "    # Calculate mean positive rate per label\n",
        "    mean_positive_rate = labels.mean(axis=0)\n",
        "\n",
        "    return mean_positive_rate\n",
        "\n",
        "# Assuming 'df' is your DataFrame\n",
        "mean_positive_rates = calculate_mean_positive_rate(df)\n",
        "\n",
        "# Print the results\n",
        "print(\"Mean positive rate per label:\", mean_positive_rates)"
      ],
      "metadata": {
        "id": "PmZetKparbjj",
        "outputId": "eda83488-cade-4aa9-f803-07ead32742c3",
        "colab": {
          "base_uri": "https://localhost:8080/"
        }
      },
      "id": "PmZetKparbjj",
      "execution_count": 338,
      "outputs": [
        {
          "output_type": "stream",
          "name": "stdout",
          "text": [
            "Mean positive rate per label: [0.49932382 0.5006762 ]\n"
          ]
        }
      ]
    },
    {
      "cell_type": "code",
      "source": [
        "def count_empty_labels(df, label_col=\"res\"):\n",
        "    \"\"\"\n",
        "    Counts how many samples in the DataFrame have all-zero labels.\n",
        "\n",
        "    Args:\n",
        "        df (pd.DataFrame): DataFrame containing the dataset\n",
        "        label_col (str): Column name containing the multi-hot labels\n",
        "\n",
        "    Returns:\n",
        "        int: Number of rows with all-zero labels\n",
        "    \"\"\"\n",
        "    empty_count = 0\n",
        "\n",
        "    for label_str in df[label_col]:\n",
        "        if label_str.sum() == 0:\n",
        "            empty_count += 1\n",
        "\n",
        "    return empty_count\n"
      ],
      "metadata": {
        "id": "jXbW93xRpdQ0"
      },
      "id": "jXbW93xRpdQ0",
      "execution_count": 339,
      "outputs": []
    },
    {
      "cell_type": "code",
      "source": [
        "import numpy as np\n",
        "\n",
        "num_empty = count_empty_labels(df, label_col=\"res\")\n",
        "print(f\"There are {num_empty} samples with all-zero labels.\")"
      ],
      "metadata": {
        "colab": {
          "base_uri": "https://localhost:8080/"
        },
        "id": "6jBtnc_hpeaH",
        "outputId": "aab5d228-fbb2-4c1f-d877-d0e4981f0cd1"
      },
      "id": "6jBtnc_hpeaH",
      "execution_count": 340,
      "outputs": [
        {
          "output_type": "stream",
          "name": "stdout",
          "text": [
            "There are 0 samples with all-zero labels.\n"
          ]
        }
      ]
    },
    {
      "cell_type": "markdown",
      "source": [
        "# Configurations"
      ],
      "metadata": {
        "id": "afP60juTq6cc"
      },
      "id": "afP60juTq6cc"
    },
    {
      "cell_type": "code",
      "execution_count": 341,
      "id": "eaccf6f7",
      "metadata": {
        "ExecuteTime": {
          "end_time": "2023-07-10T16:44:05.670902Z",
          "start_time": "2023-07-10T16:44:05.654877Z"
        },
        "id": "eaccf6f7",
        "tags": []
      },
      "outputs": [],
      "source": [
        "from dataclasses import dataclass\n",
        "import os\n",
        "import platform\n",
        "\n",
        "# You can define ROOT_PATH somewhere above\n",
        "ROOT_PATH = \"/content/drive/MyDrive/Colab Notebooks (1)/ECG-MIMIC-main/src\"\n",
        "\n",
        "@dataclass\n",
        "class DatasetConfig:\n",
        "    # ECG-specific\n",
        "    NUM_LEADS:    int = 12  # 12 ECG channels (leads)\n",
        "    NUM_CLASSES:  int = 2  # 12 ICD disease codes\n",
        "    VALID_PCT:  float = 0.1\n",
        "\n",
        "    # Dataset file and folder paths\n",
        "    TRAIN_CSV:   str = os.path.join(ROOT_PATH, \"data/train.csv\")  # Your preprocessed split CSV\n",
        "    TEST_CSV:    str = os.path.join(ROOT_PATH, \"data/test.csv\")\n",
        "    MEMMAP_FILE: str = os.path.join(ROOT_PATH, \"ecg_dataset\", \"data/memmap/memmap.npy\")\n",
        "    MEMMAP_META: str = os.path.join(ROOT_PATH, \"ecg_dataset\", \"data/memmap/memmap_meta.npz\")\n",
        "\n",
        "@dataclass\n",
        "class TrainingConfig:\n",
        "    BATCH_SIZE:      int = 16\n",
        "    NUM_EPOCHS:      int = 30  # Actual training epochs\n",
        "    INIT_LR:       float = 1e-3\n",
        "    NUM_WORKERS:     int = 7\n",
        "    OPTIMIZER_NAME:  str = \"Adam\"\n",
        "    WEIGHT_DECAY:  float = 1e-4\n",
        "    USE_SCHEDULER:  bool = True\n",
        "    SCHEDULER:       str = \"multi_step_lr\"  # or \"cosine_annealing\"\n",
        "    F1_METRIC_THRESH: float = 0.5\n",
        "    FREEZE_BACKBONE: bool = False\n",
        "\n",
        "    # (Optional) model name (if you want to log it somewhere)\n",
        "    MODEL_NAME:      str = \"resnet18\"\n"
      ]
    },
    {
      "cell_type": "code",
      "execution_count": 342,
      "id": "42c43a81",
      "metadata": {
        "ExecuteTime": {
          "end_time": "2023-07-10T16:44:07.044656Z",
          "start_time": "2023-07-10T16:44:07.029033Z"
        },
        "id": "42c43a81",
        "tags": []
      },
      "outputs": [],
      "source": [
        "def encode_label(label: list, num_classes=10):\n",
        "    \"\"\"\n",
        "    This functions converts labels into multi-hot encoding.\n",
        "    Handles both single ICD codes and lists of codes.\n",
        "    \"\"\"\n",
        "    target = torch.zeros(num_classes)\n",
        "\n",
        "    # If label is a single code, make it a list\n",
        "    if isinstance(label, str):\n",
        "        label = [label]\n",
        "\n",
        "    for l in label:\n",
        "        # Check if 'l' contains brackets (indicating list within a string)\n",
        "        if '[' in l or ']' in l:\n",
        "            l = l.strip('[]').replace(\"'\", \"\").split(\",\")  # Handle list-like strings\n",
        "            for code in l:\n",
        "                code = code.strip()  # Remove any whitespace around code\n",
        "                if code in icd_to_index:\n",
        "                    target[icd_to_index[code]] = 1.0\n",
        "        else:\n",
        "            l = l.strip()  # Remove any whitespace around code\n",
        "            if l in icd_to_index:\n",
        "                target[icd_to_index[l]] = 1.0\n",
        "    return target\n",
        "\n",
        "\n",
        "def decode_target(\n",
        "    target: list,\n",
        "    text_labels: bool = False,\n",
        "    threshold: float = 0.4,\n",
        "    cls_labels: dict = None,\n",
        "):\n",
        "    \"\"\"This function converts the labels from\n",
        "    probablities to outputs or string representations\n",
        "    \"\"\"\n",
        "\n",
        "    result = []\n",
        "    for i, x in enumerate(target):\n",
        "        if x >= threshold:\n",
        "            if text_labels:\n",
        "                result.append(cls_labels[i] + \"(\" + str(i) + \")\")\n",
        "            else:\n",
        "                result.append(str(i))\n",
        "    return \" \".join(result)\n",
        "\n",
        "\n",
        "# This function is used for reversing the Normalization step performed\n",
        "# during image preprocessing.\n",
        "# Note the mean and std values must match the ones used.\n",
        "\n",
        "def denormalize(tensors, *, mean, std):\n",
        "    \"\"\"Denormalizes image tensors using mean and std provided\n",
        "    and clip values between 0 and 1\"\"\"\n",
        "\n",
        "    for c in range(DatasetConfig.CHANNELS):\n",
        "        tensors[:, c, :, :].mul_(std[c]).add_(mean[c])\n",
        "\n",
        "    return torch.clamp(tensors, min=0.0, max=1.0)"
      ]
    },
    {
      "cell_type": "code",
      "source": [
        "# Create a dictionary mapping ICD codes to index\n",
        "# icd_to_index = {code: idx for idx, code in enumerate(target_icd_codes)}\n"
      ],
      "metadata": {
        "id": "OmWT4BbUvxAM"
      },
      "id": "OmWT4BbUvxAM",
      "execution_count": 343,
      "outputs": []
    },
    {
      "cell_type": "markdown",
      "source": [
        "# Dataset"
      ],
      "metadata": {
        "id": "aEHP8HuiG06q"
      },
      "id": "aEHP8HuiG06q"
    },
    {
      "cell_type": "code",
      "execution_count": 379,
      "id": "9d77d248",
      "metadata": {
        "ExecuteTime": {
          "end_time": "2023-07-10T16:44:07.060054Z",
          "start_time": "2023-07-10T16:44:07.044656Z"
        },
        "id": "9d77d248",
        "tags": []
      },
      "outputs": [],
      "source": [
        "import torch\n",
        "from torch.utils.data import Dataset\n",
        "import numpy as np\n",
        "\n",
        "class ECGDataset(Dataset):\n",
        "    def __init__(self, dataframe, memmap, window_size, stride, normalize=True):\n",
        "        self.df = dataframe.reset_index(drop=True)\n",
        "        self.memmap = memmap\n",
        "        self.normalize = normalize\n",
        "        self.num_classes = DatasetConfig.NUM_CLASSES\n",
        "        self.window_size = window_size\n",
        "        self.stride = stride\n",
        "\n",
        "    def __len__(self):\n",
        "        return len(self.df)\n",
        "\n",
        "    def __getitem__(self, idx):\n",
        "        row = self.df.loc[idx]\n",
        "        start = int(row['start'])\n",
        "        length = int(row['length'])\n",
        "\n",
        "        signal = self.memmap[start : start + length * 12]\n",
        "        signal = signal.reshape(length, 12)\n",
        "\n",
        "        # Check for NaN or infinity values\n",
        "        if np.isnan(signal).any() or np.isinf(signal).any():\n",
        "            # Skip this sample and return an empty tensor\n",
        "            return torch.empty((12, 0)), torch.zeros(self.num_classes)\n",
        "\n",
        "        if self.normalize:\n",
        "            signal = (signal - np.nanmean(signal, axis=0)) / (np.nanstd(signal, axis=0) + 1e-6)\n",
        "\n",
        "        signal = torch.tensor(signal, dtype=torch.float32).permute(1, 0)  # [12, time]\n",
        "        label = row['res']\n",
        "\n",
        "        segments = []\n",
        "        # Check if the signal is long enough for at least one segment\n",
        "        if len(signal) >= self.window_size:\n",
        "            for i in range(0, len(signal) - self.window_size + 1, self.stride):\n",
        "                segment = signal[i : i + self.window_size]\n",
        "                segments.append(segment)\n",
        "        else:\n",
        "            # Handle cases where signal is too short - return empty or pad\n",
        "            # Example: padding to window_size with zeros\n",
        "            padding_needed = self.window_size - len(signal)\n",
        "            signal = torch.cat([signal, torch.zeros(signal.shape[0], padding_needed)], dim=1)\n",
        "            segments.append(signal)\n",
        "            # or return empty:\n",
        "            # return torch.empty((12, 0)), torch.zeros(self.num_classes)\n",
        "\n",
        "        # Return label as float32 and the signal without padding\n",
        "        return torch.stack(segments), label\n",
        "\n",
        "\n",
        "def collate_fn(batch):\n",
        "    \"\"\"\n",
        "    Custom collate function to handle variable-length ECG signals.\n",
        "    \"\"\"\n",
        "    # Separate signals and labels\n",
        "    signals, labels = zip(*batch)\n",
        "\n",
        "    # Pad signals to the maximum length considering the segment dimension\n",
        "    max_len = max(s.shape[2] for s in signals)  # Get max length from the correct dimension\n",
        "    padded_signals = [\n",
        "        torch.cat([s, torch.zeros(s.shape[0], s.shape[1], max_len - s.shape[2])], dim=2)\n",
        "        for s in signals\n",
        "    ]\n",
        "\n",
        "    # Stack padded signals and labels\n",
        "    signals = torch.stack(padded_signals)  # Stack along the batch dimension\n",
        "\n",
        "    # Convert labels to PyTorch tensors before stacking\n",
        "    labels = [torch.tensor(label, dtype=torch.float32) for label in labels]\n",
        "    labels = torch.stack(labels)\n",
        "\n",
        "    return signals, labels  # Return both signals and labels\n"
      ]
    },
    {
      "cell_type": "markdown",
      "source": [
        "# Data Module"
      ],
      "metadata": {
        "id": "oll9G-J7G3GB"
      },
      "id": "oll9G-J7G3GB"
    },
    {
      "cell_type": "code",
      "execution_count": 380,
      "id": "0d6a7838",
      "metadata": {
        "ExecuteTime": {
          "end_time": "2023-07-10T16:44:07.092291Z",
          "start_time": "2023-07-10T16:44:07.060054Z"
        },
        "id": "0d6a7838",
        "tags": []
      },
      "outputs": [],
      "source": [
        "import pytorch_lightning as pl\n",
        "from torch.utils.data import DataLoader\n",
        "import numpy as np\n",
        "import os\n",
        "import pandas as pd\n",
        "from iterstrat.ml_stratifiers import MultilabelStratifiedKFold, MultilabelStratifiedShuffleSplit\n",
        "\n",
        "class ECGDataModule(pl.LightningDataModule):\n",
        "    def __init__(self, dataframe, memmap, batch_size, num_workers, pin_memory, valid_pct, normalize=True, shuffle_validation=False): # Add shuffle_validation as a parameter\n",
        "        super().__init__()\n",
        "        self.dataframe = dataframe  # Full df\n",
        "        self.memmap = memmap\n",
        "        self.normalize = normalize\n",
        "        self.batch_size = batch_size\n",
        "        self.num_workers = num_workers\n",
        "        self.pin_memory = pin_memory\n",
        "        self.valid_pct = valid_pct\n",
        "        self.shuffle_validation = shuffle_validation\n",
        "\n",
        "    def setup(self, stage=None):\n",
        "        label_cols = 'res'\n",
        "        np.random.seed(42)\n",
        "\n",
        "        # 1. Prepare your multi-hot label matrix\n",
        "        # Y = np.vstack(self.dataframe[label_cols].values)\n",
        "        Y = np.vstack(self.dataframe[label_cols].apply(lambda x: np.array(x, dtype=np.float32)).values)\n",
        "\n",
        "        # 2. First split into train_val and test\n",
        "        splitter = MultilabelStratifiedShuffleSplit(n_splits=1, test_size=0.2, random_state=42)\n",
        "        train_val_idx, test_idx = next(splitter.split(self.dataframe, Y))\n",
        "\n",
        "        df_train_val = self.dataframe.iloc[train_val_idx].reset_index(drop=True)\n",
        "        df_test = self.dataframe.iloc[test_idx].reset_index(drop=True)\n",
        "\n",
        "        # 3. Now split train_val into train and val\n",
        "        splitter_val = MultilabelStratifiedShuffleSplit(n_splits=1, test_size=0.1, random_state=42)\n",
        "        # Y_train_val_wrong = df_train_val[label_cols].values\n",
        "        # Y_train_val = np.vstack([np.fromstring(row[0][1:-1], sep=' ', dtype=np.float64) for row in Y_train_val_wrong])\n",
        "        Y_train_val = np.vstack(df_train_val[label_cols].apply(lambda x: np.array(x, dtype=np.float32)).values)\n",
        "\n",
        "\n",
        "        train_idx, val_idx = next(splitter_val.split(df_train_val, Y_train_val))\n",
        "\n",
        "        df_train = df_train_val.iloc[train_idx].reset_index(drop=True)\n",
        "        df_val = df_train_val.iloc[val_idx].reset_index(drop=True)\n",
        "\n",
        "        self.train_ds = ECGDataset(\n",
        "            dataframe=df_train,\n",
        "            memmap=self.memmap,\n",
        "            normalize=self.normalize,\n",
        "            window_size=500,  # Provide window_size (adjust value as needed)\n",
        "            stride=250,     # Provide stride (adjust value as needed)\n",
        "        )\n",
        "\n",
        "        self.valid_ds = ECGDataset(\n",
        "            dataframe=df_val,\n",
        "            memmap=self.memmap,\n",
        "            normalize=self.normalize,\n",
        "            window_size=500,  # Provide window_size (adjust value as needed)\n",
        "            stride=250,     # Provide stride (adjust value as needed)\n",
        "        )\n",
        "\n",
        "        self.test_ds = ECGDataset(\n",
        "            dataframe=df_test,\n",
        "            memmap=self.memmap,\n",
        "            normalize=self.normalize,\n",
        "            window_size=500,  # Provide window_size (adjust value as needed)\n",
        "            stride=250,     # Provide stride (adjust value as needed)\n",
        "        )\n",
        "    # In your ECGDataModule class:\n",
        "    def train_dataloader(self):\n",
        "        return DataLoader(\n",
        "            self.train_ds,\n",
        "            batch_size=self.batch_size,\n",
        "            shuffle=True,\n",
        "            num_workers=self.num_workers,\n",
        "            pin_memory=self.pin_memory,\n",
        "            collate_fn=collate_fn,  # Add this line to apply the custom collate function\n",
        "        )\n",
        "\n",
        "    def val_dataloader(self):\n",
        "        return DataLoader(\n",
        "            self.valid_ds,\n",
        "            batch_size=self.batch_size,\n",
        "            shuffle=self.shuffle_validation, # Use the instance variable\n",
        "            num_workers=self.num_workers,\n",
        "            pin_memory=self.pin_memory,\n",
        "            collate_fn=collate_fn,  # Add this line\n",
        "        )\n",
        "\n",
        "    def test_dataloader(self):\n",
        "        # Optional: If you set up a test set later\n",
        "        return None"
      ]
    },
    {
      "cell_type": "code",
      "execution_count": 381,
      "id": "91ee71b8",
      "metadata": {
        "ExecuteTime": {
          "start_time": "2023-07-10T16:43:46.064Z"
        },
        "id": "91ee71b8"
      },
      "outputs": [],
      "source": [
        "import torchvision\n",
        "\n",
        "def get_model(model_name: str, num_classes: int, freeze_backbone: bool= True):\n",
        "    \"\"\"A helper function to load and prepare any classification model\n",
        "    available in Torchvision for transfer learning or fine-tuning.\"\"\"\n",
        "\n",
        "    model = getattr(torchvision.models, model_name)(weights=\"DEFAULT\")\n",
        "\n",
        "    if freeze_backbone:\n",
        "        # Set all layer to be non-trainable\n",
        "        for param in model.parameters():\n",
        "            param.requires_grad = False\n",
        "\n",
        "    model_childrens = [name for name, _ in model.named_children()]\n",
        "\n",
        "    try:\n",
        "        final_layer_in_features = getattr(model, f\"{model_childrens[-1]}\")[-1].in_features\n",
        "    except Exception as e:\n",
        "        final_layer_in_features = getattr(model, f\"{model_childrens[-1]}\").in_features\n",
        "\n",
        "    new_output_layer = nn.Linear(\n",
        "        in_features=final_layer_in_features,\n",
        "        out_features=num_classes\n",
        "    )\n",
        "\n",
        "    try:\n",
        "        getattr(model, f\"{model_childrens[-1]}\")[-1] = new_output_layer\n",
        "    except:\n",
        "        setattr(model, model_childrens[-1], new_output_layer)\n",
        "\n",
        "    return model"
      ]
    },
    {
      "cell_type": "markdown",
      "id": "3f953896",
      "metadata": {
        "id": "3f953896"
      },
      "source": [
        "**Function usage example:**"
      ]
    },
    {
      "cell_type": "code",
      "source": [
        "!pip install torchinfo"
      ],
      "metadata": {
        "colab": {
          "base_uri": "https://localhost:8080/"
        },
        "id": "qcT1fLY8wZVc",
        "outputId": "36cf4688-c74f-49ae-ef6d-6f6325bac96d"
      },
      "id": "qcT1fLY8wZVc",
      "execution_count": 382,
      "outputs": [
        {
          "output_type": "stream",
          "name": "stdout",
          "text": [
            "Requirement already satisfied: torchinfo in /usr/local/lib/python3.11/dist-packages (1.8.0)\n"
          ]
        }
      ]
    },
    {
      "cell_type": "code",
      "execution_count": 383,
      "id": "3696a2b6",
      "metadata": {
        "ExecuteTime": {
          "start_time": "2023-07-10T16:43:46.070Z"
        },
        "colab": {
          "base_uri": "https://localhost:8080/"
        },
        "id": "3696a2b6",
        "outputId": "2a3664ec-28b5-4956-bd51-63f39174f4af"
      },
      "outputs": [
        {
          "output_type": "execute_result",
          "data": {
            "text/plain": [
              "===================================================================================================================\n",
              "Layer (type:depth-idx)                   Output Shape              Param #                   Trainable\n",
              "===================================================================================================================\n",
              "ResNet                                   [16, 2]                   --                        True\n",
              "├─Conv2d: 1-1                            [16, 64, 500, 1]          5,376                     True\n",
              "├─BatchNorm2d: 1-2                       [16, 64, 500, 1]          128                       True\n",
              "├─ReLU: 1-3                              [16, 64, 500, 1]          --                        --\n",
              "├─MaxPool2d: 1-4                         [16, 64, 250, 1]          --                        --\n",
              "├─Sequential: 1-5                        [16, 64, 250, 1]          --                        True\n",
              "│    └─BasicBlock: 2-1                   [16, 64, 250, 1]          73,984                    True\n",
              "│    └─BasicBlock: 2-2                   [16, 64, 250, 1]          73,984                    True\n",
              "├─Sequential: 1-6                        [16, 128, 125, 1]         --                        True\n",
              "│    └─BasicBlock: 2-3                   [16, 128, 125, 1]         230,144                   True\n",
              "│    └─BasicBlock: 2-4                   [16, 128, 125, 1]         295,424                   True\n",
              "├─Sequential: 1-7                        [16, 256, 63, 1]          --                        True\n",
              "│    └─BasicBlock: 2-5                   [16, 256, 63, 1]          919,040                   True\n",
              "│    └─BasicBlock: 2-6                   [16, 256, 63, 1]          1,180,672                 True\n",
              "├─Sequential: 1-8                        [16, 512, 32, 1]          --                        True\n",
              "│    └─BasicBlock: 2-7                   [16, 512, 32, 1]          3,673,088                 True\n",
              "│    └─BasicBlock: 2-8                   [16, 512, 32, 1]          4,720,640                 True\n",
              "├─AdaptiveAvgPool2d: 1-9                 [16, 512, 1, 1]           --                        --\n",
              "├─Linear: 1-10                           [16, 2]                   1,026                     True\n",
              "===================================================================================================================\n",
              "Total params: 11,173,506\n",
              "Trainable params: 11,173,506\n",
              "Non-trainable params: 0\n",
              "Total mult-adds (Units.GIGABYTES): 8.09\n",
              "===================================================================================================================\n",
              "Input size (MB): 0.77\n",
              "Forward/backward pass size (MB): 86.67\n",
              "Params size (MB): 44.69\n",
              "Estimated Total Size (MB): 132.13\n",
              "==================================================================================================================="
            ]
          },
          "metadata": {},
          "execution_count": 383
        }
      ],
      "source": [
        "from torchinfo import summary\n",
        "import torch.nn as nn\n",
        "\n",
        "# Suppose your ECG signals are 1000 time steps long\n",
        "TIME_LENGTH = 1000\n",
        "\n",
        "model = get_model(\n",
        "    model_name=TrainingConfig.MODEL_NAME,    # Should be \"resnet50\"\n",
        "    num_classes=DatasetConfig.NUM_CLASSES,\n",
        "    freeze_backbone=False,\n",
        ")\n",
        "\n",
        "# Correctly modify the first convolutional layer to accept 12 channels\n",
        "model.conv1 = nn.Conv2d(in_channels=12, out_channels=64, kernel_size=(7, 1), stride=(2, 1), padding=(3, 0), bias=False) # Reassign the layer\n",
        "\n",
        "# Proper ECG input shape\n",
        "summary(\n",
        "    model,\n",
        "    input_size=(TrainingConfig.BATCH_SIZE, DatasetConfig.NUM_LEADS, TIME_LENGTH, 1),  # (batch, channels=12, time, width=1)\n",
        "    depth=2,\n",
        "    device=\"cpu\",\n",
        "    col_names=[\"output_size\", \"num_params\", \"trainable\"]\n",
        ")"
      ]
    },
    {
      "cell_type": "code",
      "source": [
        "# # Assuming 'df' is your DataFrame and 'res' is the column with labels\n",
        "# class_frequencies = []\n",
        "# for code in target_icd_codes:\n",
        "#     # Count occurrences of the current code in the 'res' column\n",
        "#     freq = df['res'].str.contains(code).sum()\n",
        "#     class_frequencies.append(freq)\n",
        "\n",
        "# # Convert the list to a PyTorch tensor\n",
        "# class_frequencies = torch.tensor(class_frequencies, dtype=torch.float32)"
      ],
      "metadata": {
        "id": "yJudCyPyPuV5"
      },
      "id": "yJudCyPyPuV5",
      "execution_count": 384,
      "outputs": []
    },
    {
      "cell_type": "markdown",
      "source": [
        "# Model"
      ],
      "metadata": {
        "id": "BOn3XvNs8bqV"
      },
      "id": "BOn3XvNs8bqV"
    },
    {
      "cell_type": "code",
      "execution_count": 441,
      "id": "2d03d271",
      "metadata": {
        "ExecuteTime": {
          "start_time": "2023-07-10T16:43:46.077Z"
        },
        "id": "2d03d271"
      },
      "outputs": [],
      "source": [
        "import pytorch_lightning as pl\n",
        "import torch\n",
        "import torch.nn as nn\n",
        "from torchmetrics import MeanMetric\n",
        "from torchmetrics.classification import MultilabelF1Score\n",
        "from torchvision.models import resnet50\n",
        "\n",
        "class ECGModel(pl.LightningModule):\n",
        "    def __init__(\n",
        "        self,\n",
        "        num_classes: int = DatasetConfig.NUM_CLASSES,\n",
        "        init_lr: float = 1e-3,\n",
        "        optimizer_name: str = \"Adam\",\n",
        "        weight_decay: float = 1e-4,\n",
        "        use_scheduler: bool = False,\n",
        "        f1_metric_threshold: float = 0.5,\n",
        "        freeze_backbone: bool = False,\n",
        "    ):\n",
        "        super().__init__()\n",
        "\n",
        "        # Save the arguments as hyperparameters.\n",
        "        self.save_hyperparameters()\n",
        "\n",
        "        # Build model\n",
        "        self.model = self.get_resnet50_for_ecg(num_classes, freeze_backbone)\n",
        "\n",
        "        # class_weights = torch.tensor([1 / freq for freq in class_frequencies])\n",
        "\n",
        "        # Loss function\n",
        "        self.loss_fn = nn.BCEWithLogitsLoss()\n",
        "        self.num_classes = num_classes\n",
        "        # Metrics\n",
        "        self.mean_train_loss = MeanMetric()\n",
        "        self.mean_train_f1 = MultilabelF1Score(num_labels=num_classes, average=\"macro\", threshold=f1_metric_threshold)\n",
        "        self.mean_valid_loss = MeanMetric()\n",
        "        self.mean_valid_f1 = MultilabelF1Score(num_labels=num_classes, average=\"macro\", threshold=f1_metric_threshold)\n",
        "\n",
        "    def get_resnet50_for_ecg(self, num_classes, freeze_backbone):\n",
        "        model = resnet50(pretrained=True)\n",
        "\n",
        "        # Modify the first conv layer to accept 12 leads instead of 3 RGB channels\n",
        "        model.conv1 = nn.Conv2d(\n",
        "            in_channels=12,  # ECG leads\n",
        "            out_channels=64,\n",
        "            kernel_size=7,\n",
        "            stride=2,\n",
        "            padding=3,\n",
        "            bias=False,\n",
        "        )\n",
        "\n",
        "        # Modify the final fully connected layer to output num_classes\n",
        "        model.fc = nn.Linear(model.fc.in_features, num_classes)\n",
        "\n",
        "        if freeze_backbone:\n",
        "            for name, param in model.named_parameters():\n",
        "                if \"fc\" not in name:  # Only leave the fc layer unfrozen\n",
        "                    param.requires_grad = False\n",
        "\n",
        "        return model\n",
        "\n",
        "    def forward(self, x):\n",
        "            # Ensure the input tensor has the correct shape [batch_size, channels, height, width]\n",
        "            # print(\"Input Shape in forward\", x.shape)  # Add this for debugging\n",
        "\n",
        "            # Reshape the input if necessary\n",
        "            x = x.unsqueeze(-1)  # Add a dimension for the single channel at the end\n",
        "\n",
        "            # Pass the input through the model's layers\n",
        "            output = self.model(x)  # This line is added to generate the initial 'output'\n",
        "\n",
        "            # Reshape the output to [batch_size, num_segments, num_classes] (remove this if not necessary)\n",
        "            # output = output.view(x.shape[0] // self.num_classes, -1, DatasetConfig.NUM_CLASSES)\n",
        "\n",
        "            # No need for averaging since we are treating each segment independently\n",
        "            # Also no need for repetition\n",
        "\n",
        "            # You might need to adjust the output shape here to match the target shape, depending on your loss function\n",
        "            # For example, if you are using BCEWithLogitsLoss, the output should have shape [batch_size * num_segments, num_classes]\n",
        "            # output = output.view(-1, DatasetConfig.NUM_CLASSES)\n",
        "\n",
        "            return output  # return the original output from the model\n",
        "\n",
        "    def training_step(self, batch, *args, **kwargs):\n",
        "        data, target = batch\n",
        "        logits = self(data)\n",
        "        loss = self.loss_fn(logits, target)\n",
        "\n",
        "        self.mean_train_loss(loss, weight=data.shape[0])\n",
        "        self.mean_train_f1(logits, target)\n",
        "\n",
        "        self.log(\"train/batch_loss\", self.mean_train_loss, prog_bar=True)\n",
        "        self.log(\"train/batch_f1\", self.mean_train_f1, prog_bar=True)\n",
        "        return loss\n",
        "\n",
        "    def on_train_epoch_end(self):\n",
        "        self.log(\"train/loss\", self.mean_train_loss, prog_bar=True)\n",
        "        self.log(\"train/f1\", self.mean_train_f1, prog_bar=True)\n",
        "        self.log(\"step\", self.current_epoch)\n",
        "\n",
        "    def validation_step(self, batch, *args, **kwargs):\n",
        "        data, target = batch\n",
        "        logits = self(data)\n",
        "        loss = self.loss_fn(logits, target)\n",
        "\n",
        "        self.mean_valid_loss.update(loss, weight=data.shape[0])\n",
        "        self.mean_valid_f1.update(logits, target)\n",
        "\n",
        "    def on_validation_epoch_end(self):\n",
        "        self.log(\"valid/loss\", self.mean_valid_loss, prog_bar=True)\n",
        "        self.log(\"valid/f1\", self.mean_valid_f1, prog_bar=True)\n",
        "        self.log(\"step\", self.current_epoch)\n",
        "\n",
        "    def configure_optimizers(self):\n",
        "        optimizer = getattr(torch.optim, self.hparams.optimizer_name)(\n",
        "            filter(lambda p: p.requires_grad, self.model.parameters()),\n",
        "            lr=self.hparams.init_lr,\n",
        "            weight_decay=self.hparams.weight_decay,\n",
        "        )\n",
        "\n",
        "        if self.hparams.use_scheduler:\n",
        "            lr_scheduler = torch.optim.lr_scheduler.MultiStepLR(\n",
        "                optimizer,\n",
        "                milestones=[self.trainer.max_epochs // 2],\n",
        "                gamma=0.1,\n",
        "            )\n",
        "\n",
        "            return {\"optimizer\": optimizer, \"lr_scheduler\": lr_scheduler}\n",
        "        else:\n",
        "            return optimizer\n"
      ]
    },
    {
      "cell_type": "markdown",
      "source": [
        "# Dataset Initialization"
      ],
      "metadata": {
        "id": "gdZWRSKrG_EA"
      },
      "id": "gdZWRSKrG_EA"
    },
    {
      "cell_type": "code",
      "execution_count": 442,
      "id": "ee9cff32-b77e-4fc6-8cde-c9d67b431263",
      "metadata": {
        "ExecuteTime": {
          "start_time": "2023-07-10T16:43:46.083Z"
        },
        "colab": {
          "base_uri": "https://localhost:8080/"
        },
        "id": "ee9cff32-b77e-4fc6-8cde-c9d67b431263",
        "outputId": "355d4792-d80b-4ab5-cbc6-a46a83568738",
        "tags": []
      },
      "outputs": [
        {
          "output_type": "stream",
          "name": "stderr",
          "text": [
            "INFO:lightning_fabric.utilities.seed:Seed set to 42\n"
          ]
        }
      ],
      "source": [
        "import pytorch_lightning as pl\n",
        "from pytorch_lightning.callbacks import ModelCheckpoint, LearningRateMonitor\n",
        "\n",
        "# 1. Seed everything for reproducibility\n",
        "pl.seed_everything(42, workers=True)\n",
        "\n",
        "memmap_path = \"src/data/memmap/memmap.npy\"\n",
        "\n",
        "memmap_data = np.memmap(memmap_path, dtype=np.float32, mode='r')\n",
        "\n",
        "# Instantiate the ECGDataModule\n",
        "dm = ECGDataModule(\n",
        "    dataframe=df,            # Your loaded DataFrame\n",
        "    memmap=memmap_data,             # Your loaded memmap\n",
        "    # icd_to_index=icd_to_index,      # Your ICD code -> index mapping\n",
        "    batch_size=TrainingConfig.BATCH_SIZE,\n",
        "    num_workers=TrainingConfig.NUM_WORKERS,\n",
        "    pin_memory=torch.cuda.is_available(),\n",
        "    valid_pct=DatasetConfig.VALID_PCT,\n",
        ")\n",
        "\n",
        "# Prepare data (nothing to download for ECG, so will pass)\n",
        "dm.prepare_data()\n",
        "\n",
        "# Split dataset into training and validation sets\n",
        "dm.setup()\n",
        "\n",
        "# 4. Create ModelCheckpoint callback\n",
        "model_checkpoint = ModelCheckpoint(\n",
        "    monitor=\"valid/f1\",        # Monitor validation F1 score\n",
        "    mode=\"max\",                # Maximize F1\n",
        "    filename=\"ecg_epoch{epoch:03d}_vloss{valid/loss:.4f}_vf1{valid/f1:.4f}\",\n",
        "    auto_insert_metric_name=False,\n",
        "    save_top_k=1,              # Save the best model only\n",
        ")\n",
        "\n",
        "# 5. Create Learning Rate Monitor callback\n",
        "lr_monitor = LearningRateMonitor(logging_interval=\"epoch\")\n"
      ]
    },
    {
      "cell_type": "code",
      "execution_count": 443,
      "id": "fed847ae-7330-43f3-90fa-85bbd10f498f",
      "metadata": {
        "ExecuteTime": {
          "start_time": "2023-07-10T16:43:46.088Z"
        },
        "id": "fed847ae-7330-43f3-90fa-85bbd10f498f",
        "tags": []
      },
      "outputs": [],
      "source": [
        "# # To reload tensorBoard\n",
        "# %reload_ext tensorboard\n",
        "\n",
        "# # logs folder path\n",
        "# %tensorboard --logdir=lightning_logs"
      ]
    },
    {
      "cell_type": "markdown",
      "id": "83c7a942",
      "metadata": {
        "id": "83c7a942"
      },
      "source": [
        "**Train**"
      ]
    },
    {
      "cell_type": "code",
      "source": [
        "model = ECGModel(\n",
        "    num_classes=DatasetConfig.NUM_CLASSES,\n",
        "    init_lr=TrainingConfig.INIT_LR,\n",
        "    optimizer_name=TrainingConfig.OPTIMIZER_NAME,\n",
        "    weight_decay=TrainingConfig.WEIGHT_DECAY,\n",
        "    use_scheduler=TrainingConfig.USE_SCHEDULER,\n",
        "    f1_metric_threshold=TrainingConfig.F1_METRIC_THRESH,\n",
        "    freeze_backbone=TrainingConfig.FREEZE_BACKBONE,\n",
        ")"
      ],
      "metadata": {
        "id": "3hjB1kaxzcXW",
        "outputId": "736d2a7c-0b9f-4505-87f4-4ddd1b95eb67",
        "colab": {
          "base_uri": "https://localhost:8080/"
        }
      },
      "id": "3hjB1kaxzcXW",
      "execution_count": 444,
      "outputs": [
        {
          "output_type": "stream",
          "name": "stderr",
          "text": [
            "/usr/local/lib/python3.11/dist-packages/torchvision/models/_utils.py:208: UserWarning: The parameter 'pretrained' is deprecated since 0.13 and may be removed in the future, please use 'weights' instead.\n",
            "  warnings.warn(\n",
            "/usr/local/lib/python3.11/dist-packages/torchvision/models/_utils.py:223: UserWarning: Arguments other than a weight enum or `None` for 'weights' are deprecated since 0.13 and may be removed in the future. The current behavior is equivalent to passing `weights=ResNet50_Weights.IMAGENET1K_V1`. You can also use `weights=ResNet50_Weights.DEFAULT` to get the most up-to-date weights.\n",
            "  warnings.warn(msg)\n"
          ]
        }
      ]
    },
    {
      "cell_type": "markdown",
      "source": [
        "# Training"
      ],
      "metadata": {
        "id": "B_KsibxBZorA"
      },
      "id": "B_KsibxBZorA"
    },
    {
      "cell_type": "code",
      "source": [
        "# Access train_dataloader through the dm instance\n",
        "for batch in dm.train_dataloader():  # Call train_dataloader() on dm\n",
        "    signals, labels = batch\n",
        "    print(\"Sample labels:\", labels[:5])\n",
        "    print(\"Mean positive rate per label:\", labels.mean(dim=0))\n",
        "    break"
      ],
      "metadata": {
        "id": "0zv1qYEQpOUo",
        "outputId": "cb7513eb-1372-4d9b-e057-8be2916446eb",
        "colab": {
          "base_uri": "https://localhost:8080/"
        }
      },
      "id": "0zv1qYEQpOUo",
      "execution_count": 445,
      "outputs": [
        {
          "output_type": "stream",
          "name": "stdout",
          "text": [
            "Sample labels: tensor([[0., 1.],\n",
            "        [1., 0.],\n",
            "        [1., 0.],\n",
            "        [0., 1.],\n",
            "        [1., 0.]])\n",
            "Mean positive rate per label: tensor([0.5000, 0.5000])\n"
          ]
        }
      ]
    },
    {
      "cell_type": "code",
      "source": [
        "# Assuming 'dm' is your ECGDataModule instance\n",
        "train_loader = dm.train_dataloader()\n",
        "\n",
        "# 1. Using len() on the dataloader:\n",
        "num_batches = len(train_loader)\n",
        "print(f\"Number of batches in train_dataloader: {num_batches}\")\n",
        "\n",
        "# 2. Calculating total samples from batch size and num_batches:\n",
        "total_samples = num_batches * train_loader.batch_size\n",
        "print(f\"Estimated total samples in training dataset: {total_samples}\")\n",
        "\n",
        "# 3. Accessing the underlying dataset directly (more accurate):\n",
        "total_samples_accurate = len(train_loader.dataset)\n",
        "print(f\"Actual total samples in training dataset: {total_samples_accurate}\")\n"
      ],
      "metadata": {
        "id": "CRUY44K5yODQ",
        "outputId": "0cfa43e4-5bff-4793-ec00-616c4af19bf5",
        "colab": {
          "base_uri": "https://localhost:8080/"
        }
      },
      "id": "CRUY44K5yODQ",
      "execution_count": 446,
      "outputs": [
        {
          "output_type": "stream",
          "name": "stdout",
          "text": [
            "Number of batches in train_dataloader: 7088\n",
            "Estimated total samples in training dataset: 113408\n",
            "Actual total samples in training dataset: 113400\n"
          ]
        }
      ]
    },
    {
      "cell_type": "code",
      "source": [
        "# model = RNNAttentionModel()"
      ],
      "metadata": {
        "id": "5v4bo0sE4jXl"
      },
      "id": "5v4bo0sE4jXl",
      "execution_count": 447,
      "outputs": []
    },
    {
      "cell_type": "code",
      "execution_count": 448,
      "id": "909e0f0d",
      "metadata": {
        "id": "909e0f0d",
        "outputId": "f2410b2a-a7b6-44e0-b486-01573033c258",
        "colab": {
          "base_uri": "https://localhost:8080/",
          "height": 577,
          "referenced_widgets": [
            "5bbbd93ed2d64e679a298d8e9bd5f3e7",
            "bebc3594231b4d1e82b6cd18f07ea2a4",
            "2fc395b493724398b35c07d425944217",
            "a0e88649291a456dbd623800ab9bc270",
            "6d02286046a7468aa558e99e706acf9d",
            "dd8c7a6bee30450e926006a87f6a6280",
            "ed8f0e122d934d21b47f21e0610779e5",
            "268615fae33144f08203f4d263600c92",
            "6e97133c9241486ab7c6fdd686ef74ce",
            "796f311b06da403aafa2c4a26ac2375c",
            "d3713fb5b45b4e5386dd7f11fe5f5310"
          ]
        }
      },
      "outputs": [
        {
          "output_type": "stream",
          "name": "stderr",
          "text": [
            "/usr/local/lib/python3.11/dist-packages/lightning_fabric/connector.py:571: `precision=16` is supported for historical reasons but its usage is discouraged. Please set your precision to 16-mixed instead!\n",
            "INFO:pytorch_lightning.utilities.rank_zero:Using 16bit Automatic Mixed Precision (AMP)\n",
            "INFO:pytorch_lightning.utilities.rank_zero:GPU available: True (cuda), used: True\n",
            "INFO:pytorch_lightning.utilities.rank_zero:TPU available: False, using: 0 TPU cores\n",
            "INFO:pytorch_lightning.utilities.rank_zero:HPU available: False, using: 0 HPUs\n",
            "INFO:pytorch_lightning.accelerators.cuda:LOCAL_RANK: 0 - CUDA_VISIBLE_DEVICES: [0]\n"
          ]
        },
        {
          "output_type": "display_data",
          "data": {
            "text/plain": [
              "Sanity Checking: |          | 0/? [00:00<?, ?it/s]"
            ],
            "application/vnd.jupyter.widget-view+json": {
              "version_major": 2,
              "version_minor": 0,
              "model_id": "5bbbd93ed2d64e679a298d8e9bd5f3e7"
            }
          },
          "metadata": {}
        },
        {
          "output_type": "error",
          "ename": "RuntimeError",
          "evalue": "Expected 3D (unbatched) or 4D (batched) input to conv2d, but got input of size: [16, 1, 12, 1488, 1]",
          "traceback": [
            "\u001b[0;31m---------------------------------------------------------------------------\u001b[0m",
            "\u001b[0;31mRuntimeError\u001b[0m                              Traceback (most recent call last)",
            "\u001b[0;32m<ipython-input-448-8725c5787278>\u001b[0m in \u001b[0;36m<cell line: 0>\u001b[0;34m()\u001b[0m\n\u001b[1;32m     14\u001b[0m \u001b[0;34m\u001b[0m\u001b[0m\n\u001b[1;32m     15\u001b[0m \u001b[0;31m# Start training\u001b[0m\u001b[0;34m\u001b[0m\u001b[0;34m\u001b[0m\u001b[0m\n\u001b[0;32m---> 16\u001b[0;31m \u001b[0mtrainer\u001b[0m\u001b[0;34m.\u001b[0m\u001b[0mfit\u001b[0m\u001b[0;34m(\u001b[0m\u001b[0mmodel\u001b[0m\u001b[0;34m,\u001b[0m \u001b[0mdm\u001b[0m\u001b[0;34m)\u001b[0m\u001b[0;34m\u001b[0m\u001b[0;34m\u001b[0m\u001b[0m\n\u001b[0m",
            "\u001b[0;32m/usr/local/lib/python3.11/dist-packages/pytorch_lightning/trainer/trainer.py\u001b[0m in \u001b[0;36mfit\u001b[0;34m(self, model, train_dataloaders, val_dataloaders, datamodule, ckpt_path)\u001b[0m\n\u001b[1;32m    559\u001b[0m         \u001b[0mself\u001b[0m\u001b[0;34m.\u001b[0m\u001b[0mtraining\u001b[0m \u001b[0;34m=\u001b[0m \u001b[0;32mTrue\u001b[0m\u001b[0;34m\u001b[0m\u001b[0;34m\u001b[0m\u001b[0m\n\u001b[1;32m    560\u001b[0m         \u001b[0mself\u001b[0m\u001b[0;34m.\u001b[0m\u001b[0mshould_stop\u001b[0m \u001b[0;34m=\u001b[0m \u001b[0;32mFalse\u001b[0m\u001b[0;34m\u001b[0m\u001b[0;34m\u001b[0m\u001b[0m\n\u001b[0;32m--> 561\u001b[0;31m         call._call_and_handle_interrupt(\n\u001b[0m\u001b[1;32m    562\u001b[0m             \u001b[0mself\u001b[0m\u001b[0;34m,\u001b[0m \u001b[0mself\u001b[0m\u001b[0;34m.\u001b[0m\u001b[0m_fit_impl\u001b[0m\u001b[0;34m,\u001b[0m \u001b[0mmodel\u001b[0m\u001b[0;34m,\u001b[0m \u001b[0mtrain_dataloaders\u001b[0m\u001b[0;34m,\u001b[0m \u001b[0mval_dataloaders\u001b[0m\u001b[0;34m,\u001b[0m \u001b[0mdatamodule\u001b[0m\u001b[0;34m,\u001b[0m \u001b[0mckpt_path\u001b[0m\u001b[0;34m\u001b[0m\u001b[0;34m\u001b[0m\u001b[0m\n\u001b[1;32m    563\u001b[0m         )\n",
            "\u001b[0;32m/usr/local/lib/python3.11/dist-packages/pytorch_lightning/trainer/call.py\u001b[0m in \u001b[0;36m_call_and_handle_interrupt\u001b[0;34m(trainer, trainer_fn, *args, **kwargs)\u001b[0m\n\u001b[1;32m     46\u001b[0m         \u001b[0;32mif\u001b[0m \u001b[0mtrainer\u001b[0m\u001b[0;34m.\u001b[0m\u001b[0mstrategy\u001b[0m\u001b[0;34m.\u001b[0m\u001b[0mlauncher\u001b[0m \u001b[0;32mis\u001b[0m \u001b[0;32mnot\u001b[0m \u001b[0;32mNone\u001b[0m\u001b[0;34m:\u001b[0m\u001b[0;34m\u001b[0m\u001b[0;34m\u001b[0m\u001b[0m\n\u001b[1;32m     47\u001b[0m             \u001b[0;32mreturn\u001b[0m \u001b[0mtrainer\u001b[0m\u001b[0;34m.\u001b[0m\u001b[0mstrategy\u001b[0m\u001b[0;34m.\u001b[0m\u001b[0mlauncher\u001b[0m\u001b[0;34m.\u001b[0m\u001b[0mlaunch\u001b[0m\u001b[0;34m(\u001b[0m\u001b[0mtrainer_fn\u001b[0m\u001b[0;34m,\u001b[0m \u001b[0;34m*\u001b[0m\u001b[0margs\u001b[0m\u001b[0;34m,\u001b[0m \u001b[0mtrainer\u001b[0m\u001b[0;34m=\u001b[0m\u001b[0mtrainer\u001b[0m\u001b[0;34m,\u001b[0m \u001b[0;34m**\u001b[0m\u001b[0mkwargs\u001b[0m\u001b[0;34m)\u001b[0m\u001b[0;34m\u001b[0m\u001b[0;34m\u001b[0m\u001b[0m\n\u001b[0;32m---> 48\u001b[0;31m         \u001b[0;32mreturn\u001b[0m \u001b[0mtrainer_fn\u001b[0m\u001b[0;34m(\u001b[0m\u001b[0;34m*\u001b[0m\u001b[0margs\u001b[0m\u001b[0;34m,\u001b[0m \u001b[0;34m**\u001b[0m\u001b[0mkwargs\u001b[0m\u001b[0;34m)\u001b[0m\u001b[0;34m\u001b[0m\u001b[0;34m\u001b[0m\u001b[0m\n\u001b[0m\u001b[1;32m     49\u001b[0m \u001b[0;34m\u001b[0m\u001b[0m\n\u001b[1;32m     50\u001b[0m     \u001b[0;32mexcept\u001b[0m \u001b[0m_TunerExitException\u001b[0m\u001b[0;34m:\u001b[0m\u001b[0;34m\u001b[0m\u001b[0;34m\u001b[0m\u001b[0m\n",
            "\u001b[0;32m/usr/local/lib/python3.11/dist-packages/pytorch_lightning/trainer/trainer.py\u001b[0m in \u001b[0;36m_fit_impl\u001b[0;34m(self, model, train_dataloaders, val_dataloaders, datamodule, ckpt_path)\u001b[0m\n\u001b[1;32m    597\u001b[0m             \u001b[0mmodel_connected\u001b[0m\u001b[0;34m=\u001b[0m\u001b[0mself\u001b[0m\u001b[0;34m.\u001b[0m\u001b[0mlightning_module\u001b[0m \u001b[0;32mis\u001b[0m \u001b[0;32mnot\u001b[0m \u001b[0;32mNone\u001b[0m\u001b[0;34m,\u001b[0m\u001b[0;34m\u001b[0m\u001b[0;34m\u001b[0m\u001b[0m\n\u001b[1;32m    598\u001b[0m         )\n\u001b[0;32m--> 599\u001b[0;31m         \u001b[0mself\u001b[0m\u001b[0;34m.\u001b[0m\u001b[0m_run\u001b[0m\u001b[0;34m(\u001b[0m\u001b[0mmodel\u001b[0m\u001b[0;34m,\u001b[0m \u001b[0mckpt_path\u001b[0m\u001b[0;34m=\u001b[0m\u001b[0mckpt_path\u001b[0m\u001b[0;34m)\u001b[0m\u001b[0;34m\u001b[0m\u001b[0;34m\u001b[0m\u001b[0m\n\u001b[0m\u001b[1;32m    600\u001b[0m \u001b[0;34m\u001b[0m\u001b[0m\n\u001b[1;32m    601\u001b[0m         \u001b[0;32massert\u001b[0m \u001b[0mself\u001b[0m\u001b[0;34m.\u001b[0m\u001b[0mstate\u001b[0m\u001b[0;34m.\u001b[0m\u001b[0mstopped\u001b[0m\u001b[0;34m\u001b[0m\u001b[0;34m\u001b[0m\u001b[0m\n",
            "\u001b[0;32m/usr/local/lib/python3.11/dist-packages/pytorch_lightning/trainer/trainer.py\u001b[0m in \u001b[0;36m_run\u001b[0;34m(self, model, ckpt_path)\u001b[0m\n\u001b[1;32m   1010\u001b[0m         \u001b[0;31m# RUN THE TRAINER\u001b[0m\u001b[0;34m\u001b[0m\u001b[0;34m\u001b[0m\u001b[0m\n\u001b[1;32m   1011\u001b[0m         \u001b[0;31m# ----------------------------\u001b[0m\u001b[0;34m\u001b[0m\u001b[0;34m\u001b[0m\u001b[0m\n\u001b[0;32m-> 1012\u001b[0;31m         \u001b[0mresults\u001b[0m \u001b[0;34m=\u001b[0m \u001b[0mself\u001b[0m\u001b[0;34m.\u001b[0m\u001b[0m_run_stage\u001b[0m\u001b[0;34m(\u001b[0m\u001b[0;34m)\u001b[0m\u001b[0;34m\u001b[0m\u001b[0;34m\u001b[0m\u001b[0m\n\u001b[0m\u001b[1;32m   1013\u001b[0m \u001b[0;34m\u001b[0m\u001b[0m\n\u001b[1;32m   1014\u001b[0m         \u001b[0;31m# ----------------------------\u001b[0m\u001b[0;34m\u001b[0m\u001b[0;34m\u001b[0m\u001b[0m\n",
            "\u001b[0;32m/usr/local/lib/python3.11/dist-packages/pytorch_lightning/trainer/trainer.py\u001b[0m in \u001b[0;36m_run_stage\u001b[0;34m(self)\u001b[0m\n\u001b[1;32m   1052\u001b[0m         \u001b[0;32mif\u001b[0m \u001b[0mself\u001b[0m\u001b[0;34m.\u001b[0m\u001b[0mtraining\u001b[0m\u001b[0;34m:\u001b[0m\u001b[0;34m\u001b[0m\u001b[0;34m\u001b[0m\u001b[0m\n\u001b[1;32m   1053\u001b[0m             \u001b[0;32mwith\u001b[0m \u001b[0misolate_rng\u001b[0m\u001b[0;34m(\u001b[0m\u001b[0;34m)\u001b[0m\u001b[0;34m:\u001b[0m\u001b[0;34m\u001b[0m\u001b[0;34m\u001b[0m\u001b[0m\n\u001b[0;32m-> 1054\u001b[0;31m                 \u001b[0mself\u001b[0m\u001b[0;34m.\u001b[0m\u001b[0m_run_sanity_check\u001b[0m\u001b[0;34m(\u001b[0m\u001b[0;34m)\u001b[0m\u001b[0;34m\u001b[0m\u001b[0;34m\u001b[0m\u001b[0m\n\u001b[0m\u001b[1;32m   1055\u001b[0m             \u001b[0;32mwith\u001b[0m \u001b[0mtorch\u001b[0m\u001b[0;34m.\u001b[0m\u001b[0mautograd\u001b[0m\u001b[0;34m.\u001b[0m\u001b[0mset_detect_anomaly\u001b[0m\u001b[0;34m(\u001b[0m\u001b[0mself\u001b[0m\u001b[0;34m.\u001b[0m\u001b[0m_detect_anomaly\u001b[0m\u001b[0;34m)\u001b[0m\u001b[0;34m:\u001b[0m\u001b[0;34m\u001b[0m\u001b[0;34m\u001b[0m\u001b[0m\n\u001b[1;32m   1056\u001b[0m                 \u001b[0mself\u001b[0m\u001b[0;34m.\u001b[0m\u001b[0mfit_loop\u001b[0m\u001b[0;34m.\u001b[0m\u001b[0mrun\u001b[0m\u001b[0;34m(\u001b[0m\u001b[0;34m)\u001b[0m\u001b[0;34m\u001b[0m\u001b[0;34m\u001b[0m\u001b[0m\n",
            "\u001b[0;32m/usr/local/lib/python3.11/dist-packages/pytorch_lightning/trainer/trainer.py\u001b[0m in \u001b[0;36m_run_sanity_check\u001b[0;34m(self)\u001b[0m\n\u001b[1;32m   1081\u001b[0m \u001b[0;34m\u001b[0m\u001b[0m\n\u001b[1;32m   1082\u001b[0m             \u001b[0;31m# run eval step\u001b[0m\u001b[0;34m\u001b[0m\u001b[0;34m\u001b[0m\u001b[0m\n\u001b[0;32m-> 1083\u001b[0;31m             \u001b[0mval_loop\u001b[0m\u001b[0;34m.\u001b[0m\u001b[0mrun\u001b[0m\u001b[0;34m(\u001b[0m\u001b[0;34m)\u001b[0m\u001b[0;34m\u001b[0m\u001b[0;34m\u001b[0m\u001b[0m\n\u001b[0m\u001b[1;32m   1084\u001b[0m \u001b[0;34m\u001b[0m\u001b[0m\n\u001b[1;32m   1085\u001b[0m             \u001b[0mcall\u001b[0m\u001b[0;34m.\u001b[0m\u001b[0m_call_callback_hooks\u001b[0m\u001b[0;34m(\u001b[0m\u001b[0mself\u001b[0m\u001b[0;34m,\u001b[0m \u001b[0;34m\"on_sanity_check_end\"\u001b[0m\u001b[0;34m)\u001b[0m\u001b[0;34m\u001b[0m\u001b[0;34m\u001b[0m\u001b[0m\n",
            "\u001b[0;32m/usr/local/lib/python3.11/dist-packages/pytorch_lightning/loops/utilities.py\u001b[0m in \u001b[0;36m_decorator\u001b[0;34m(self, *args, **kwargs)\u001b[0m\n\u001b[1;32m    177\u001b[0m             \u001b[0mcontext_manager\u001b[0m \u001b[0;34m=\u001b[0m \u001b[0mtorch\u001b[0m\u001b[0;34m.\u001b[0m\u001b[0mno_grad\u001b[0m\u001b[0;34m\u001b[0m\u001b[0;34m\u001b[0m\u001b[0m\n\u001b[1;32m    178\u001b[0m         \u001b[0;32mwith\u001b[0m \u001b[0mcontext_manager\u001b[0m\u001b[0;34m(\u001b[0m\u001b[0;34m)\u001b[0m\u001b[0;34m:\u001b[0m\u001b[0;34m\u001b[0m\u001b[0;34m\u001b[0m\u001b[0m\n\u001b[0;32m--> 179\u001b[0;31m             \u001b[0;32mreturn\u001b[0m \u001b[0mloop_run\u001b[0m\u001b[0;34m(\u001b[0m\u001b[0mself\u001b[0m\u001b[0;34m,\u001b[0m \u001b[0;34m*\u001b[0m\u001b[0margs\u001b[0m\u001b[0;34m,\u001b[0m \u001b[0;34m**\u001b[0m\u001b[0mkwargs\u001b[0m\u001b[0;34m)\u001b[0m\u001b[0;34m\u001b[0m\u001b[0;34m\u001b[0m\u001b[0m\n\u001b[0m\u001b[1;32m    180\u001b[0m \u001b[0;34m\u001b[0m\u001b[0m\n\u001b[1;32m    181\u001b[0m     \u001b[0;32mreturn\u001b[0m \u001b[0m_decorator\u001b[0m\u001b[0;34m\u001b[0m\u001b[0;34m\u001b[0m\u001b[0m\n",
            "\u001b[0;32m/usr/local/lib/python3.11/dist-packages/pytorch_lightning/loops/evaluation_loop.py\u001b[0m in \u001b[0;36mrun\u001b[0;34m(self)\u001b[0m\n\u001b[1;32m    143\u001b[0m                 \u001b[0mself\u001b[0m\u001b[0;34m.\u001b[0m\u001b[0mbatch_progress\u001b[0m\u001b[0;34m.\u001b[0m\u001b[0mis_last_batch\u001b[0m \u001b[0;34m=\u001b[0m \u001b[0mdata_fetcher\u001b[0m\u001b[0;34m.\u001b[0m\u001b[0mdone\u001b[0m\u001b[0;34m\u001b[0m\u001b[0;34m\u001b[0m\u001b[0m\n\u001b[1;32m    144\u001b[0m                 \u001b[0;31m# run step hooks\u001b[0m\u001b[0;34m\u001b[0m\u001b[0;34m\u001b[0m\u001b[0m\n\u001b[0;32m--> 145\u001b[0;31m                 \u001b[0mself\u001b[0m\u001b[0;34m.\u001b[0m\u001b[0m_evaluation_step\u001b[0m\u001b[0;34m(\u001b[0m\u001b[0mbatch\u001b[0m\u001b[0;34m,\u001b[0m \u001b[0mbatch_idx\u001b[0m\u001b[0;34m,\u001b[0m \u001b[0mdataloader_idx\u001b[0m\u001b[0;34m,\u001b[0m \u001b[0mdataloader_iter\u001b[0m\u001b[0;34m)\u001b[0m\u001b[0;34m\u001b[0m\u001b[0;34m\u001b[0m\u001b[0m\n\u001b[0m\u001b[1;32m    146\u001b[0m             \u001b[0;32mexcept\u001b[0m \u001b[0mStopIteration\u001b[0m\u001b[0;34m:\u001b[0m\u001b[0;34m\u001b[0m\u001b[0;34m\u001b[0m\u001b[0m\n\u001b[1;32m    147\u001b[0m                 \u001b[0;31m# this needs to wrap the `*_step` call too (not just `next`) for `dataloader_iter` support\u001b[0m\u001b[0;34m\u001b[0m\u001b[0;34m\u001b[0m\u001b[0m\n",
            "\u001b[0;32m/usr/local/lib/python3.11/dist-packages/pytorch_lightning/loops/evaluation_loop.py\u001b[0m in \u001b[0;36m_evaluation_step\u001b[0;34m(self, batch, batch_idx, dataloader_idx, dataloader_iter)\u001b[0m\n\u001b[1;32m    435\u001b[0m             \u001b[0;32melse\u001b[0m \u001b[0;34m(\u001b[0m\u001b[0mdataloader_iter\u001b[0m\u001b[0;34m,\u001b[0m\u001b[0;34m)\u001b[0m\u001b[0;34m\u001b[0m\u001b[0;34m\u001b[0m\u001b[0m\n\u001b[1;32m    436\u001b[0m         )\n\u001b[0;32m--> 437\u001b[0;31m         \u001b[0moutput\u001b[0m \u001b[0;34m=\u001b[0m \u001b[0mcall\u001b[0m\u001b[0;34m.\u001b[0m\u001b[0m_call_strategy_hook\u001b[0m\u001b[0;34m(\u001b[0m\u001b[0mtrainer\u001b[0m\u001b[0;34m,\u001b[0m \u001b[0mhook_name\u001b[0m\u001b[0;34m,\u001b[0m \u001b[0;34m*\u001b[0m\u001b[0mstep_args\u001b[0m\u001b[0;34m)\u001b[0m\u001b[0;34m\u001b[0m\u001b[0;34m\u001b[0m\u001b[0m\n\u001b[0m\u001b[1;32m    438\u001b[0m \u001b[0;34m\u001b[0m\u001b[0m\n\u001b[1;32m    439\u001b[0m         \u001b[0mself\u001b[0m\u001b[0;34m.\u001b[0m\u001b[0mbatch_progress\u001b[0m\u001b[0;34m.\u001b[0m\u001b[0mincrement_processed\u001b[0m\u001b[0;34m(\u001b[0m\u001b[0;34m)\u001b[0m\u001b[0;34m\u001b[0m\u001b[0;34m\u001b[0m\u001b[0m\n",
            "\u001b[0;32m/usr/local/lib/python3.11/dist-packages/pytorch_lightning/trainer/call.py\u001b[0m in \u001b[0;36m_call_strategy_hook\u001b[0;34m(trainer, hook_name, *args, **kwargs)\u001b[0m\n\u001b[1;32m    326\u001b[0m \u001b[0;34m\u001b[0m\u001b[0m\n\u001b[1;32m    327\u001b[0m     \u001b[0;32mwith\u001b[0m \u001b[0mtrainer\u001b[0m\u001b[0;34m.\u001b[0m\u001b[0mprofiler\u001b[0m\u001b[0;34m.\u001b[0m\u001b[0mprofile\u001b[0m\u001b[0;34m(\u001b[0m\u001b[0;34mf\"[Strategy]{trainer.strategy.__class__.__name__}.{hook_name}\"\u001b[0m\u001b[0;34m)\u001b[0m\u001b[0;34m:\u001b[0m\u001b[0;34m\u001b[0m\u001b[0;34m\u001b[0m\u001b[0m\n\u001b[0;32m--> 328\u001b[0;31m         \u001b[0moutput\u001b[0m \u001b[0;34m=\u001b[0m \u001b[0mfn\u001b[0m\u001b[0;34m(\u001b[0m\u001b[0;34m*\u001b[0m\u001b[0margs\u001b[0m\u001b[0;34m,\u001b[0m \u001b[0;34m**\u001b[0m\u001b[0mkwargs\u001b[0m\u001b[0;34m)\u001b[0m\u001b[0;34m\u001b[0m\u001b[0;34m\u001b[0m\u001b[0m\n\u001b[0m\u001b[1;32m    329\u001b[0m \u001b[0;34m\u001b[0m\u001b[0m\n\u001b[1;32m    330\u001b[0m     \u001b[0;31m# restore current_fx when nested context\u001b[0m\u001b[0;34m\u001b[0m\u001b[0;34m\u001b[0m\u001b[0m\n",
            "\u001b[0;32m/usr/local/lib/python3.11/dist-packages/pytorch_lightning/strategies/strategy.py\u001b[0m in \u001b[0;36mvalidation_step\u001b[0;34m(self, *args, **kwargs)\u001b[0m\n\u001b[1;32m    410\u001b[0m             \u001b[0;32mif\u001b[0m \u001b[0mself\u001b[0m\u001b[0;34m.\u001b[0m\u001b[0mmodel\u001b[0m \u001b[0;34m!=\u001b[0m \u001b[0mself\u001b[0m\u001b[0;34m.\u001b[0m\u001b[0mlightning_module\u001b[0m\u001b[0;34m:\u001b[0m\u001b[0;34m\u001b[0m\u001b[0;34m\u001b[0m\u001b[0m\n\u001b[1;32m    411\u001b[0m                 \u001b[0;32mreturn\u001b[0m \u001b[0mself\u001b[0m\u001b[0;34m.\u001b[0m\u001b[0m_forward_redirection\u001b[0m\u001b[0;34m(\u001b[0m\u001b[0mself\u001b[0m\u001b[0;34m.\u001b[0m\u001b[0mmodel\u001b[0m\u001b[0;34m,\u001b[0m \u001b[0mself\u001b[0m\u001b[0;34m.\u001b[0m\u001b[0mlightning_module\u001b[0m\u001b[0;34m,\u001b[0m \u001b[0;34m\"validation_step\"\u001b[0m\u001b[0;34m,\u001b[0m \u001b[0;34m*\u001b[0m\u001b[0margs\u001b[0m\u001b[0;34m,\u001b[0m \u001b[0;34m**\u001b[0m\u001b[0mkwargs\u001b[0m\u001b[0;34m)\u001b[0m\u001b[0;34m\u001b[0m\u001b[0;34m\u001b[0m\u001b[0m\n\u001b[0;32m--> 412\u001b[0;31m             \u001b[0;32mreturn\u001b[0m \u001b[0mself\u001b[0m\u001b[0;34m.\u001b[0m\u001b[0mlightning_module\u001b[0m\u001b[0;34m.\u001b[0m\u001b[0mvalidation_step\u001b[0m\u001b[0;34m(\u001b[0m\u001b[0;34m*\u001b[0m\u001b[0margs\u001b[0m\u001b[0;34m,\u001b[0m \u001b[0;34m**\u001b[0m\u001b[0mkwargs\u001b[0m\u001b[0;34m)\u001b[0m\u001b[0;34m\u001b[0m\u001b[0;34m\u001b[0m\u001b[0m\n\u001b[0m\u001b[1;32m    413\u001b[0m \u001b[0;34m\u001b[0m\u001b[0m\n\u001b[1;32m    414\u001b[0m     \u001b[0;32mdef\u001b[0m \u001b[0mtest_step\u001b[0m\u001b[0;34m(\u001b[0m\u001b[0mself\u001b[0m\u001b[0;34m,\u001b[0m \u001b[0;34m*\u001b[0m\u001b[0margs\u001b[0m\u001b[0;34m:\u001b[0m \u001b[0mAny\u001b[0m\u001b[0;34m,\u001b[0m \u001b[0;34m**\u001b[0m\u001b[0mkwargs\u001b[0m\u001b[0;34m:\u001b[0m \u001b[0mAny\u001b[0m\u001b[0;34m)\u001b[0m \u001b[0;34m->\u001b[0m \u001b[0mSTEP_OUTPUT\u001b[0m\u001b[0;34m:\u001b[0m\u001b[0;34m\u001b[0m\u001b[0;34m\u001b[0m\u001b[0m\n",
            "\u001b[0;32m<ipython-input-441-2871d754fa1e>\u001b[0m in \u001b[0;36mvalidation_step\u001b[0;34m(self, batch, *args, **kwargs)\u001b[0m\n\u001b[1;32m    100\u001b[0m     \u001b[0;32mdef\u001b[0m \u001b[0mvalidation_step\u001b[0m\u001b[0;34m(\u001b[0m\u001b[0mself\u001b[0m\u001b[0;34m,\u001b[0m \u001b[0mbatch\u001b[0m\u001b[0;34m,\u001b[0m \u001b[0;34m*\u001b[0m\u001b[0margs\u001b[0m\u001b[0;34m,\u001b[0m \u001b[0;34m**\u001b[0m\u001b[0mkwargs\u001b[0m\u001b[0;34m)\u001b[0m\u001b[0;34m:\u001b[0m\u001b[0;34m\u001b[0m\u001b[0;34m\u001b[0m\u001b[0m\n\u001b[1;32m    101\u001b[0m         \u001b[0mdata\u001b[0m\u001b[0;34m,\u001b[0m \u001b[0mtarget\u001b[0m \u001b[0;34m=\u001b[0m \u001b[0mbatch\u001b[0m\u001b[0;34m\u001b[0m\u001b[0;34m\u001b[0m\u001b[0m\n\u001b[0;32m--> 102\u001b[0;31m         \u001b[0mlogits\u001b[0m \u001b[0;34m=\u001b[0m \u001b[0mself\u001b[0m\u001b[0;34m(\u001b[0m\u001b[0mdata\u001b[0m\u001b[0;34m)\u001b[0m\u001b[0;34m\u001b[0m\u001b[0;34m\u001b[0m\u001b[0m\n\u001b[0m\u001b[1;32m    103\u001b[0m         \u001b[0mloss\u001b[0m \u001b[0;34m=\u001b[0m \u001b[0mself\u001b[0m\u001b[0;34m.\u001b[0m\u001b[0mloss_fn\u001b[0m\u001b[0;34m(\u001b[0m\u001b[0mlogits\u001b[0m\u001b[0;34m,\u001b[0m \u001b[0mtarget\u001b[0m\u001b[0;34m)\u001b[0m\u001b[0;34m\u001b[0m\u001b[0;34m\u001b[0m\u001b[0m\n\u001b[1;32m    104\u001b[0m \u001b[0;34m\u001b[0m\u001b[0m\n",
            "\u001b[0;32m/usr/local/lib/python3.11/dist-packages/torch/nn/modules/module.py\u001b[0m in \u001b[0;36m_wrapped_call_impl\u001b[0;34m(self, *args, **kwargs)\u001b[0m\n\u001b[1;32m   1737\u001b[0m             \u001b[0;32mreturn\u001b[0m \u001b[0mself\u001b[0m\u001b[0;34m.\u001b[0m\u001b[0m_compiled_call_impl\u001b[0m\u001b[0;34m(\u001b[0m\u001b[0;34m*\u001b[0m\u001b[0margs\u001b[0m\u001b[0;34m,\u001b[0m \u001b[0;34m**\u001b[0m\u001b[0mkwargs\u001b[0m\u001b[0;34m)\u001b[0m  \u001b[0;31m# type: ignore[misc]\u001b[0m\u001b[0;34m\u001b[0m\u001b[0;34m\u001b[0m\u001b[0m\n\u001b[1;32m   1738\u001b[0m         \u001b[0;32melse\u001b[0m\u001b[0;34m:\u001b[0m\u001b[0;34m\u001b[0m\u001b[0;34m\u001b[0m\u001b[0m\n\u001b[0;32m-> 1739\u001b[0;31m             \u001b[0;32mreturn\u001b[0m \u001b[0mself\u001b[0m\u001b[0;34m.\u001b[0m\u001b[0m_call_impl\u001b[0m\u001b[0;34m(\u001b[0m\u001b[0;34m*\u001b[0m\u001b[0margs\u001b[0m\u001b[0;34m,\u001b[0m \u001b[0;34m**\u001b[0m\u001b[0mkwargs\u001b[0m\u001b[0;34m)\u001b[0m\u001b[0;34m\u001b[0m\u001b[0;34m\u001b[0m\u001b[0m\n\u001b[0m\u001b[1;32m   1740\u001b[0m \u001b[0;34m\u001b[0m\u001b[0m\n\u001b[1;32m   1741\u001b[0m     \u001b[0;31m# torchrec tests the code consistency with the following code\u001b[0m\u001b[0;34m\u001b[0m\u001b[0;34m\u001b[0m\u001b[0m\n",
            "\u001b[0;32m/usr/local/lib/python3.11/dist-packages/torch/nn/modules/module.py\u001b[0m in \u001b[0;36m_call_impl\u001b[0;34m(self, *args, **kwargs)\u001b[0m\n\u001b[1;32m   1748\u001b[0m                 \u001b[0;32mor\u001b[0m \u001b[0m_global_backward_pre_hooks\u001b[0m \u001b[0;32mor\u001b[0m \u001b[0m_global_backward_hooks\u001b[0m\u001b[0;34m\u001b[0m\u001b[0;34m\u001b[0m\u001b[0m\n\u001b[1;32m   1749\u001b[0m                 or _global_forward_hooks or _global_forward_pre_hooks):\n\u001b[0;32m-> 1750\u001b[0;31m             \u001b[0;32mreturn\u001b[0m \u001b[0mforward_call\u001b[0m\u001b[0;34m(\u001b[0m\u001b[0;34m*\u001b[0m\u001b[0margs\u001b[0m\u001b[0;34m,\u001b[0m \u001b[0;34m**\u001b[0m\u001b[0mkwargs\u001b[0m\u001b[0;34m)\u001b[0m\u001b[0;34m\u001b[0m\u001b[0;34m\u001b[0m\u001b[0m\n\u001b[0m\u001b[1;32m   1751\u001b[0m \u001b[0;34m\u001b[0m\u001b[0m\n\u001b[1;32m   1752\u001b[0m         \u001b[0mresult\u001b[0m \u001b[0;34m=\u001b[0m \u001b[0;32mNone\u001b[0m\u001b[0;34m\u001b[0m\u001b[0;34m\u001b[0m\u001b[0m\n",
            "\u001b[0;32m<ipython-input-441-2871d754fa1e>\u001b[0m in \u001b[0;36mforward\u001b[0;34m(self, x)\u001b[0m\n\u001b[1;32m     67\u001b[0m \u001b[0;34m\u001b[0m\u001b[0m\n\u001b[1;32m     68\u001b[0m             \u001b[0;31m# Pass the input through the model's layers\u001b[0m\u001b[0;34m\u001b[0m\u001b[0;34m\u001b[0m\u001b[0m\n\u001b[0;32m---> 69\u001b[0;31m             \u001b[0moutput\u001b[0m \u001b[0;34m=\u001b[0m \u001b[0mself\u001b[0m\u001b[0;34m.\u001b[0m\u001b[0mmodel\u001b[0m\u001b[0;34m(\u001b[0m\u001b[0mx\u001b[0m\u001b[0;34m)\u001b[0m  \u001b[0;31m# This line is added to generate the initial 'output'\u001b[0m\u001b[0;34m\u001b[0m\u001b[0;34m\u001b[0m\u001b[0m\n\u001b[0m\u001b[1;32m     70\u001b[0m \u001b[0;34m\u001b[0m\u001b[0m\n\u001b[1;32m     71\u001b[0m             \u001b[0;31m# Reshape the output to [batch_size, num_segments, num_classes] (remove this if not necessary)\u001b[0m\u001b[0;34m\u001b[0m\u001b[0;34m\u001b[0m\u001b[0m\n",
            "\u001b[0;32m/usr/local/lib/python3.11/dist-packages/torch/nn/modules/module.py\u001b[0m in \u001b[0;36m_wrapped_call_impl\u001b[0;34m(self, *args, **kwargs)\u001b[0m\n\u001b[1;32m   1737\u001b[0m             \u001b[0;32mreturn\u001b[0m \u001b[0mself\u001b[0m\u001b[0;34m.\u001b[0m\u001b[0m_compiled_call_impl\u001b[0m\u001b[0;34m(\u001b[0m\u001b[0;34m*\u001b[0m\u001b[0margs\u001b[0m\u001b[0;34m,\u001b[0m \u001b[0;34m**\u001b[0m\u001b[0mkwargs\u001b[0m\u001b[0;34m)\u001b[0m  \u001b[0;31m# type: ignore[misc]\u001b[0m\u001b[0;34m\u001b[0m\u001b[0;34m\u001b[0m\u001b[0m\n\u001b[1;32m   1738\u001b[0m         \u001b[0;32melse\u001b[0m\u001b[0;34m:\u001b[0m\u001b[0;34m\u001b[0m\u001b[0;34m\u001b[0m\u001b[0m\n\u001b[0;32m-> 1739\u001b[0;31m             \u001b[0;32mreturn\u001b[0m \u001b[0mself\u001b[0m\u001b[0;34m.\u001b[0m\u001b[0m_call_impl\u001b[0m\u001b[0;34m(\u001b[0m\u001b[0;34m*\u001b[0m\u001b[0margs\u001b[0m\u001b[0;34m,\u001b[0m \u001b[0;34m**\u001b[0m\u001b[0mkwargs\u001b[0m\u001b[0;34m)\u001b[0m\u001b[0;34m\u001b[0m\u001b[0;34m\u001b[0m\u001b[0m\n\u001b[0m\u001b[1;32m   1740\u001b[0m \u001b[0;34m\u001b[0m\u001b[0m\n\u001b[1;32m   1741\u001b[0m     \u001b[0;31m# torchrec tests the code consistency with the following code\u001b[0m\u001b[0;34m\u001b[0m\u001b[0;34m\u001b[0m\u001b[0m\n",
            "\u001b[0;32m/usr/local/lib/python3.11/dist-packages/torch/nn/modules/module.py\u001b[0m in \u001b[0;36m_call_impl\u001b[0;34m(self, *args, **kwargs)\u001b[0m\n\u001b[1;32m   1748\u001b[0m                 \u001b[0;32mor\u001b[0m \u001b[0m_global_backward_pre_hooks\u001b[0m \u001b[0;32mor\u001b[0m \u001b[0m_global_backward_hooks\u001b[0m\u001b[0;34m\u001b[0m\u001b[0;34m\u001b[0m\u001b[0m\n\u001b[1;32m   1749\u001b[0m                 or _global_forward_hooks or _global_forward_pre_hooks):\n\u001b[0;32m-> 1750\u001b[0;31m             \u001b[0;32mreturn\u001b[0m \u001b[0mforward_call\u001b[0m\u001b[0;34m(\u001b[0m\u001b[0;34m*\u001b[0m\u001b[0margs\u001b[0m\u001b[0;34m,\u001b[0m \u001b[0;34m**\u001b[0m\u001b[0mkwargs\u001b[0m\u001b[0;34m)\u001b[0m\u001b[0;34m\u001b[0m\u001b[0;34m\u001b[0m\u001b[0m\n\u001b[0m\u001b[1;32m   1751\u001b[0m \u001b[0;34m\u001b[0m\u001b[0m\n\u001b[1;32m   1752\u001b[0m         \u001b[0mresult\u001b[0m \u001b[0;34m=\u001b[0m \u001b[0;32mNone\u001b[0m\u001b[0;34m\u001b[0m\u001b[0;34m\u001b[0m\u001b[0m\n",
            "\u001b[0;32m/usr/local/lib/python3.11/dist-packages/torchvision/models/resnet.py\u001b[0m in \u001b[0;36mforward\u001b[0;34m(self, x)\u001b[0m\n\u001b[1;32m    283\u001b[0m \u001b[0;34m\u001b[0m\u001b[0m\n\u001b[1;32m    284\u001b[0m     \u001b[0;32mdef\u001b[0m \u001b[0mforward\u001b[0m\u001b[0;34m(\u001b[0m\u001b[0mself\u001b[0m\u001b[0;34m,\u001b[0m \u001b[0mx\u001b[0m\u001b[0;34m:\u001b[0m \u001b[0mTensor\u001b[0m\u001b[0;34m)\u001b[0m \u001b[0;34m->\u001b[0m \u001b[0mTensor\u001b[0m\u001b[0;34m:\u001b[0m\u001b[0;34m\u001b[0m\u001b[0;34m\u001b[0m\u001b[0m\n\u001b[0;32m--> 285\u001b[0;31m         \u001b[0;32mreturn\u001b[0m \u001b[0mself\u001b[0m\u001b[0;34m.\u001b[0m\u001b[0m_forward_impl\u001b[0m\u001b[0;34m(\u001b[0m\u001b[0mx\u001b[0m\u001b[0;34m)\u001b[0m\u001b[0;34m\u001b[0m\u001b[0;34m\u001b[0m\u001b[0m\n\u001b[0m\u001b[1;32m    286\u001b[0m \u001b[0;34m\u001b[0m\u001b[0m\n\u001b[1;32m    287\u001b[0m \u001b[0;34m\u001b[0m\u001b[0m\n",
            "\u001b[0;32m/usr/local/lib/python3.11/dist-packages/torchvision/models/resnet.py\u001b[0m in \u001b[0;36m_forward_impl\u001b[0;34m(self, x)\u001b[0m\n\u001b[1;32m    266\u001b[0m     \u001b[0;32mdef\u001b[0m \u001b[0m_forward_impl\u001b[0m\u001b[0;34m(\u001b[0m\u001b[0mself\u001b[0m\u001b[0;34m,\u001b[0m \u001b[0mx\u001b[0m\u001b[0;34m:\u001b[0m \u001b[0mTensor\u001b[0m\u001b[0;34m)\u001b[0m \u001b[0;34m->\u001b[0m \u001b[0mTensor\u001b[0m\u001b[0;34m:\u001b[0m\u001b[0;34m\u001b[0m\u001b[0;34m\u001b[0m\u001b[0m\n\u001b[1;32m    267\u001b[0m         \u001b[0;31m# See note [TorchScript super()]\u001b[0m\u001b[0;34m\u001b[0m\u001b[0;34m\u001b[0m\u001b[0m\n\u001b[0;32m--> 268\u001b[0;31m         \u001b[0mx\u001b[0m \u001b[0;34m=\u001b[0m \u001b[0mself\u001b[0m\u001b[0;34m.\u001b[0m\u001b[0mconv1\u001b[0m\u001b[0;34m(\u001b[0m\u001b[0mx\u001b[0m\u001b[0;34m)\u001b[0m\u001b[0;34m\u001b[0m\u001b[0;34m\u001b[0m\u001b[0m\n\u001b[0m\u001b[1;32m    269\u001b[0m         \u001b[0mx\u001b[0m \u001b[0;34m=\u001b[0m \u001b[0mself\u001b[0m\u001b[0;34m.\u001b[0m\u001b[0mbn1\u001b[0m\u001b[0;34m(\u001b[0m\u001b[0mx\u001b[0m\u001b[0;34m)\u001b[0m\u001b[0;34m\u001b[0m\u001b[0;34m\u001b[0m\u001b[0m\n\u001b[1;32m    270\u001b[0m         \u001b[0mx\u001b[0m \u001b[0;34m=\u001b[0m \u001b[0mself\u001b[0m\u001b[0;34m.\u001b[0m\u001b[0mrelu\u001b[0m\u001b[0;34m(\u001b[0m\u001b[0mx\u001b[0m\u001b[0;34m)\u001b[0m\u001b[0;34m\u001b[0m\u001b[0;34m\u001b[0m\u001b[0m\n",
            "\u001b[0;32m/usr/local/lib/python3.11/dist-packages/torch/nn/modules/module.py\u001b[0m in \u001b[0;36m_wrapped_call_impl\u001b[0;34m(self, *args, **kwargs)\u001b[0m\n\u001b[1;32m   1737\u001b[0m             \u001b[0;32mreturn\u001b[0m \u001b[0mself\u001b[0m\u001b[0;34m.\u001b[0m\u001b[0m_compiled_call_impl\u001b[0m\u001b[0;34m(\u001b[0m\u001b[0;34m*\u001b[0m\u001b[0margs\u001b[0m\u001b[0;34m,\u001b[0m \u001b[0;34m**\u001b[0m\u001b[0mkwargs\u001b[0m\u001b[0;34m)\u001b[0m  \u001b[0;31m# type: ignore[misc]\u001b[0m\u001b[0;34m\u001b[0m\u001b[0;34m\u001b[0m\u001b[0m\n\u001b[1;32m   1738\u001b[0m         \u001b[0;32melse\u001b[0m\u001b[0;34m:\u001b[0m\u001b[0;34m\u001b[0m\u001b[0;34m\u001b[0m\u001b[0m\n\u001b[0;32m-> 1739\u001b[0;31m             \u001b[0;32mreturn\u001b[0m \u001b[0mself\u001b[0m\u001b[0;34m.\u001b[0m\u001b[0m_call_impl\u001b[0m\u001b[0;34m(\u001b[0m\u001b[0;34m*\u001b[0m\u001b[0margs\u001b[0m\u001b[0;34m,\u001b[0m \u001b[0;34m**\u001b[0m\u001b[0mkwargs\u001b[0m\u001b[0;34m)\u001b[0m\u001b[0;34m\u001b[0m\u001b[0;34m\u001b[0m\u001b[0m\n\u001b[0m\u001b[1;32m   1740\u001b[0m \u001b[0;34m\u001b[0m\u001b[0m\n\u001b[1;32m   1741\u001b[0m     \u001b[0;31m# torchrec tests the code consistency with the following code\u001b[0m\u001b[0;34m\u001b[0m\u001b[0;34m\u001b[0m\u001b[0m\n",
            "\u001b[0;32m/usr/local/lib/python3.11/dist-packages/torch/nn/modules/module.py\u001b[0m in \u001b[0;36m_call_impl\u001b[0;34m(self, *args, **kwargs)\u001b[0m\n\u001b[1;32m   1748\u001b[0m                 \u001b[0;32mor\u001b[0m \u001b[0m_global_backward_pre_hooks\u001b[0m \u001b[0;32mor\u001b[0m \u001b[0m_global_backward_hooks\u001b[0m\u001b[0;34m\u001b[0m\u001b[0;34m\u001b[0m\u001b[0m\n\u001b[1;32m   1749\u001b[0m                 or _global_forward_hooks or _global_forward_pre_hooks):\n\u001b[0;32m-> 1750\u001b[0;31m             \u001b[0;32mreturn\u001b[0m \u001b[0mforward_call\u001b[0m\u001b[0;34m(\u001b[0m\u001b[0;34m*\u001b[0m\u001b[0margs\u001b[0m\u001b[0;34m,\u001b[0m \u001b[0;34m**\u001b[0m\u001b[0mkwargs\u001b[0m\u001b[0;34m)\u001b[0m\u001b[0;34m\u001b[0m\u001b[0;34m\u001b[0m\u001b[0m\n\u001b[0m\u001b[1;32m   1751\u001b[0m \u001b[0;34m\u001b[0m\u001b[0m\n\u001b[1;32m   1752\u001b[0m         \u001b[0mresult\u001b[0m \u001b[0;34m=\u001b[0m \u001b[0;32mNone\u001b[0m\u001b[0;34m\u001b[0m\u001b[0;34m\u001b[0m\u001b[0m\n",
            "\u001b[0;32m/usr/local/lib/python3.11/dist-packages/torch/nn/modules/conv.py\u001b[0m in \u001b[0;36mforward\u001b[0;34m(self, input)\u001b[0m\n\u001b[1;32m    552\u001b[0m \u001b[0;34m\u001b[0m\u001b[0m\n\u001b[1;32m    553\u001b[0m     \u001b[0;32mdef\u001b[0m \u001b[0mforward\u001b[0m\u001b[0;34m(\u001b[0m\u001b[0mself\u001b[0m\u001b[0;34m,\u001b[0m \u001b[0minput\u001b[0m\u001b[0;34m:\u001b[0m \u001b[0mTensor\u001b[0m\u001b[0;34m)\u001b[0m \u001b[0;34m->\u001b[0m \u001b[0mTensor\u001b[0m\u001b[0;34m:\u001b[0m\u001b[0;34m\u001b[0m\u001b[0;34m\u001b[0m\u001b[0m\n\u001b[0;32m--> 554\u001b[0;31m         \u001b[0;32mreturn\u001b[0m \u001b[0mself\u001b[0m\u001b[0;34m.\u001b[0m\u001b[0m_conv_forward\u001b[0m\u001b[0;34m(\u001b[0m\u001b[0minput\u001b[0m\u001b[0;34m,\u001b[0m \u001b[0mself\u001b[0m\u001b[0;34m.\u001b[0m\u001b[0mweight\u001b[0m\u001b[0;34m,\u001b[0m \u001b[0mself\u001b[0m\u001b[0;34m.\u001b[0m\u001b[0mbias\u001b[0m\u001b[0;34m)\u001b[0m\u001b[0;34m\u001b[0m\u001b[0;34m\u001b[0m\u001b[0m\n\u001b[0m\u001b[1;32m    555\u001b[0m \u001b[0;34m\u001b[0m\u001b[0m\n\u001b[1;32m    556\u001b[0m \u001b[0;34m\u001b[0m\u001b[0m\n",
            "\u001b[0;32m/usr/local/lib/python3.11/dist-packages/torch/nn/modules/conv.py\u001b[0m in \u001b[0;36m_conv_forward\u001b[0;34m(self, input, weight, bias)\u001b[0m\n\u001b[1;32m    547\u001b[0m                 \u001b[0mself\u001b[0m\u001b[0;34m.\u001b[0m\u001b[0mgroups\u001b[0m\u001b[0;34m,\u001b[0m\u001b[0;34m\u001b[0m\u001b[0;34m\u001b[0m\u001b[0m\n\u001b[1;32m    548\u001b[0m             )\n\u001b[0;32m--> 549\u001b[0;31m         return F.conv2d(\n\u001b[0m\u001b[1;32m    550\u001b[0m             \u001b[0minput\u001b[0m\u001b[0;34m,\u001b[0m \u001b[0mweight\u001b[0m\u001b[0;34m,\u001b[0m \u001b[0mbias\u001b[0m\u001b[0;34m,\u001b[0m \u001b[0mself\u001b[0m\u001b[0;34m.\u001b[0m\u001b[0mstride\u001b[0m\u001b[0;34m,\u001b[0m \u001b[0mself\u001b[0m\u001b[0;34m.\u001b[0m\u001b[0mpadding\u001b[0m\u001b[0;34m,\u001b[0m \u001b[0mself\u001b[0m\u001b[0;34m.\u001b[0m\u001b[0mdilation\u001b[0m\u001b[0;34m,\u001b[0m \u001b[0mself\u001b[0m\u001b[0;34m.\u001b[0m\u001b[0mgroups\u001b[0m\u001b[0;34m\u001b[0m\u001b[0;34m\u001b[0m\u001b[0m\n\u001b[1;32m    551\u001b[0m         )\n",
            "\u001b[0;31mRuntimeError\u001b[0m: Expected 3D (unbatched) or 4D (batched) input to conv2d, but got input of size: [16, 1, 12, 1488, 1]"
          ]
        }
      ],
      "source": [
        "# Initializing the Trainer class object.\n",
        "# It uses 'Tensorboard' as its default logger.\n",
        "trainer = pl.Trainer(\n",
        "    accelerator=\"auto\", # Auto select the best hardware accelerator available\n",
        "    devices=\"auto\", # Auto select available devices for the accelerator (For eg. mutiple GPUs)\n",
        "    strategy=\"auto\", # Auto select the distributed training strategy.\n",
        "    max_epochs=TrainingConfig.NUM_EPOCHS, # Maximum number of epoch to train for.\n",
        "    deterministic=True, # For deteministic and reproducible training.\n",
        "    enable_model_summary=False, # Disable printing of model summary as we are using torchinfo.\n",
        "    callbacks=[model_checkpoint, lr_monitor],  # Declaring callbacks to use.\n",
        "    precision=\"16\", # Using Mixed Precision training.\n",
        "    logger=True, # Auto generate TensorBoard logs.\n",
        ")\n",
        "\n",
        "# Start training\n",
        "trainer.fit(model, dm)"
      ]
    },
    {
      "cell_type": "markdown",
      "id": "7714dd0f-502c-4297-ad13-a24655ca7c5d",
      "metadata": {
        "id": "7714dd0f-502c-4297-ad13-a24655ca7c5d"
      },
      "source": [
        "## 7 Inference"
      ]
    },
    {
      "cell_type": "markdown",
      "id": "fa9333e2",
      "metadata": {
        "id": "fa9333e2"
      },
      "source": [
        "To perform inference, first, we need to load the best checkpoint saved during training. We can do it simply by executing the following:"
      ]
    },
    {
      "cell_type": "code",
      "execution_count": null,
      "id": "bbe2954d-cb61-4855-a841-e399e3cb15a8",
      "metadata": {
        "id": "bbe2954d-cb61-4855-a841-e399e3cb15a8"
      },
      "outputs": [],
      "source": [
        "model = ProteinModel.load_from_checkpoint(CKPT_PATH)"
      ]
    },
    {
      "cell_type": "code",
      "execution_count": null,
      "id": "a0c9c470-95ff-47a2-9f7b-c19af1ea89c5",
      "metadata": {
        "id": "a0c9c470-95ff-47a2-9f7b-c19af1ea89c5"
      },
      "outputs": [],
      "source": [
        "# Initialize trainer class for inference.\n",
        "trainer = pl.Trainer(\n",
        "    accelerator=\"gpu\",\n",
        "    devices=1,\n",
        "    enable_checkpointing=False,\n",
        "    inference_mode=True,\n",
        ")\n",
        "\n",
        "# Run evaluation.\n",
        "data_module.setup()\n",
        "valid_loader = data_module.val_dataloader()\n",
        "trainer.validate(model=model, dataloaders=valid_loader)"
      ]
    },
    {
      "cell_type": "markdown",
      "id": "44acfc02",
      "metadata": {
        "id": "44acfc02"
      },
      "source": [
        "## 8 Summary"
      ]
    },
    {
      "cell_type": "markdown",
      "id": "41e9dc0e",
      "metadata": {
        "id": "41e9dc0e"
      },
      "source": [
        "Multi-label image classification is a fundamental and necessary task in many real-world scenarios where an image may contain more than one object or feature of interest. Unlike single-label classification, where each image is associated with only one label or class, multi-label classification acknowledges the inherent complexity and variety in real-world images by allowing them to be associated with multiple labels or classes simultaneously. This is particularly relevant in various domains. For example, in medical imaging, a scan may reveal multiple conditions or observations. Similarly, in social media, a photo may contain multiple people, objects, or activities. Additionally, in the field of autonomous vehicles, a single frame of a video feed may contain cars, pedestrians, signs, and more. By recognizing and categorizing multiple elements within a single image, multi-label classification provides a more comprehensive and nuanced understanding of the visual world, enabling us to build more effective and versatile AI systems.\n",
        "\n",
        "To summarise this article📜, we covered a comprehensive list of related topics:\n",
        "\n",
        "1. We explored image classification, highlighting the distinction between multi-class (one label per image) and multi-label (multiple labels per image) types.\n",
        "\n",
        "2. We emphasized the unique post-processing and loss function requirements in multi-label classification, which set it apart from traditional classifications.\n",
        "\n",
        "3. We utilized a subset of Kaggle's \"Human Protein Atlas Image Classification\" challenge to illustrate medical multi-label image classification in PyTorch.\n",
        "\n",
        "4. We streamlined our code and improve readability using the PyTorch-Lightning library, which simplifies PyTorch's complex aspects.\n",
        "\n",
        "5.We leveraged the pre-trained EfficientNetv2-small model from torchvision as our starting point and then fine-tune it for our specific task.\n",
        "\n",
        "6. We designed a user-friendly interface using the Gradio app, making our medical multi-label image classification model accessible to everyone."
      ]
    }
  ],
  "metadata": {
    "accelerator": "GPU",
    "colab": {
      "gpuType": "A100",
      "provenance": [],
      "toc_visible": true,
      "machine_shape": "hm",
      "include_colab_link": true
    },
    "kernelspec": {
      "display_name": "Python 3",
      "name": "python3"
    },
    "language_info": {
      "codemirror_mode": {
        "name": "ipython",
        "version": 3
      },
      "file_extension": ".py",
      "mimetype": "text/x-python",
      "name": "python",
      "nbconvert_exporter": "python",
      "pygments_lexer": "ipython3",
      "version": "3.10.11"
    },
    "toc": {
      "base_numbering": 1,
      "nav_menu": {},
      "number_sections": false,
      "sideBar": true,
      "skip_h1_title": true,
      "title_cell": "Table of Contents",
      "title_sidebar": "Contents",
      "toc_cell": false,
      "toc_position": {
        "height": "calc(100% - 180px)",
        "left": "10px",
        "top": "150px",
        "width": "379.387px"
      },
      "toc_section_display": true,
      "toc_window_display": true
    },
    "varInspector": {
      "cols": {
        "lenName": 16,
        "lenType": 16,
        "lenVar": 40
      },
      "kernels_config": {
        "python": {
          "delete_cmd_postfix": "",
          "delete_cmd_prefix": "del ",
          "library": "var_list.py",
          "varRefreshCmd": "print(var_dic_list())"
        },
        "r": {
          "delete_cmd_postfix": ") ",
          "delete_cmd_prefix": "rm(",
          "library": "var_list.r",
          "varRefreshCmd": "cat(var_dic_list()) "
        }
      },
      "types_to_exclude": [
        "module",
        "function",
        "builtin_function_or_method",
        "instance",
        "_Feature"
      ],
      "window_display": false
    },
    "widgets": {
      "application/vnd.jupyter.widget-state+json": {
        "5bbbd93ed2d64e679a298d8e9bd5f3e7": {
          "model_module": "@jupyter-widgets/controls",
          "model_name": "HBoxModel",
          "model_module_version": "1.5.0",
          "state": {
            "_dom_classes": [],
            "_model_module": "@jupyter-widgets/controls",
            "_model_module_version": "1.5.0",
            "_model_name": "HBoxModel",
            "_view_count": null,
            "_view_module": "@jupyter-widgets/controls",
            "_view_module_version": "1.5.0",
            "_view_name": "HBoxView",
            "box_style": "",
            "children": [
              "IPY_MODEL_bebc3594231b4d1e82b6cd18f07ea2a4",
              "IPY_MODEL_2fc395b493724398b35c07d425944217",
              "IPY_MODEL_a0e88649291a456dbd623800ab9bc270"
            ],
            "layout": "IPY_MODEL_6d02286046a7468aa558e99e706acf9d"
          }
        },
        "bebc3594231b4d1e82b6cd18f07ea2a4": {
          "model_module": "@jupyter-widgets/controls",
          "model_name": "HTMLModel",
          "model_module_version": "1.5.0",
          "state": {
            "_dom_classes": [],
            "_model_module": "@jupyter-widgets/controls",
            "_model_module_version": "1.5.0",
            "_model_name": "HTMLModel",
            "_view_count": null,
            "_view_module": "@jupyter-widgets/controls",
            "_view_module_version": "1.5.0",
            "_view_name": "HTMLView",
            "description": "",
            "description_tooltip": null,
            "layout": "IPY_MODEL_dd8c7a6bee30450e926006a87f6a6280",
            "placeholder": "​",
            "style": "IPY_MODEL_ed8f0e122d934d21b47f21e0610779e5",
            "value": "Sanity Checking DataLoader 0:   0%"
          }
        },
        "2fc395b493724398b35c07d425944217": {
          "model_module": "@jupyter-widgets/controls",
          "model_name": "FloatProgressModel",
          "model_module_version": "1.5.0",
          "state": {
            "_dom_classes": [],
            "_model_module": "@jupyter-widgets/controls",
            "_model_module_version": "1.5.0",
            "_model_name": "FloatProgressModel",
            "_view_count": null,
            "_view_module": "@jupyter-widgets/controls",
            "_view_module_version": "1.5.0",
            "_view_name": "ProgressView",
            "bar_style": "",
            "description": "",
            "description_tooltip": null,
            "layout": "IPY_MODEL_268615fae33144f08203f4d263600c92",
            "max": 2,
            "min": 0,
            "orientation": "horizontal",
            "style": "IPY_MODEL_6e97133c9241486ab7c6fdd686ef74ce",
            "value": 0
          }
        },
        "a0e88649291a456dbd623800ab9bc270": {
          "model_module": "@jupyter-widgets/controls",
          "model_name": "HTMLModel",
          "model_module_version": "1.5.0",
          "state": {
            "_dom_classes": [],
            "_model_module": "@jupyter-widgets/controls",
            "_model_module_version": "1.5.0",
            "_model_name": "HTMLModel",
            "_view_count": null,
            "_view_module": "@jupyter-widgets/controls",
            "_view_module_version": "1.5.0",
            "_view_name": "HTMLView",
            "description": "",
            "description_tooltip": null,
            "layout": "IPY_MODEL_796f311b06da403aafa2c4a26ac2375c",
            "placeholder": "​",
            "style": "IPY_MODEL_d3713fb5b45b4e5386dd7f11fe5f5310",
            "value": " 0/2 [00:00&lt;?, ?it/s]"
          }
        },
        "6d02286046a7468aa558e99e706acf9d": {
          "model_module": "@jupyter-widgets/base",
          "model_name": "LayoutModel",
          "model_module_version": "1.2.0",
          "state": {
            "_model_module": "@jupyter-widgets/base",
            "_model_module_version": "1.2.0",
            "_model_name": "LayoutModel",
            "_view_count": null,
            "_view_module": "@jupyter-widgets/base",
            "_view_module_version": "1.2.0",
            "_view_name": "LayoutView",
            "align_content": null,
            "align_items": null,
            "align_self": null,
            "border": null,
            "bottom": null,
            "display": "inline-flex",
            "flex": null,
            "flex_flow": "row wrap",
            "grid_area": null,
            "grid_auto_columns": null,
            "grid_auto_flow": null,
            "grid_auto_rows": null,
            "grid_column": null,
            "grid_gap": null,
            "grid_row": null,
            "grid_template_areas": null,
            "grid_template_columns": null,
            "grid_template_rows": null,
            "height": null,
            "justify_content": null,
            "justify_items": null,
            "left": null,
            "margin": null,
            "max_height": null,
            "max_width": null,
            "min_height": null,
            "min_width": null,
            "object_fit": null,
            "object_position": null,
            "order": null,
            "overflow": null,
            "overflow_x": null,
            "overflow_y": null,
            "padding": null,
            "right": null,
            "top": null,
            "visibility": null,
            "width": "100%"
          }
        },
        "dd8c7a6bee30450e926006a87f6a6280": {
          "model_module": "@jupyter-widgets/base",
          "model_name": "LayoutModel",
          "model_module_version": "1.2.0",
          "state": {
            "_model_module": "@jupyter-widgets/base",
            "_model_module_version": "1.2.0",
            "_model_name": "LayoutModel",
            "_view_count": null,
            "_view_module": "@jupyter-widgets/base",
            "_view_module_version": "1.2.0",
            "_view_name": "LayoutView",
            "align_content": null,
            "align_items": null,
            "align_self": null,
            "border": null,
            "bottom": null,
            "display": null,
            "flex": null,
            "flex_flow": null,
            "grid_area": null,
            "grid_auto_columns": null,
            "grid_auto_flow": null,
            "grid_auto_rows": null,
            "grid_column": null,
            "grid_gap": null,
            "grid_row": null,
            "grid_template_areas": null,
            "grid_template_columns": null,
            "grid_template_rows": null,
            "height": null,
            "justify_content": null,
            "justify_items": null,
            "left": null,
            "margin": null,
            "max_height": null,
            "max_width": null,
            "min_height": null,
            "min_width": null,
            "object_fit": null,
            "object_position": null,
            "order": null,
            "overflow": null,
            "overflow_x": null,
            "overflow_y": null,
            "padding": null,
            "right": null,
            "top": null,
            "visibility": null,
            "width": null
          }
        },
        "ed8f0e122d934d21b47f21e0610779e5": {
          "model_module": "@jupyter-widgets/controls",
          "model_name": "DescriptionStyleModel",
          "model_module_version": "1.5.0",
          "state": {
            "_model_module": "@jupyter-widgets/controls",
            "_model_module_version": "1.5.0",
            "_model_name": "DescriptionStyleModel",
            "_view_count": null,
            "_view_module": "@jupyter-widgets/base",
            "_view_module_version": "1.2.0",
            "_view_name": "StyleView",
            "description_width": ""
          }
        },
        "268615fae33144f08203f4d263600c92": {
          "model_module": "@jupyter-widgets/base",
          "model_name": "LayoutModel",
          "model_module_version": "1.2.0",
          "state": {
            "_model_module": "@jupyter-widgets/base",
            "_model_module_version": "1.2.0",
            "_model_name": "LayoutModel",
            "_view_count": null,
            "_view_module": "@jupyter-widgets/base",
            "_view_module_version": "1.2.0",
            "_view_name": "LayoutView",
            "align_content": null,
            "align_items": null,
            "align_self": null,
            "border": null,
            "bottom": null,
            "display": null,
            "flex": "2",
            "flex_flow": null,
            "grid_area": null,
            "grid_auto_columns": null,
            "grid_auto_flow": null,
            "grid_auto_rows": null,
            "grid_column": null,
            "grid_gap": null,
            "grid_row": null,
            "grid_template_areas": null,
            "grid_template_columns": null,
            "grid_template_rows": null,
            "height": null,
            "justify_content": null,
            "justify_items": null,
            "left": null,
            "margin": null,
            "max_height": null,
            "max_width": null,
            "min_height": null,
            "min_width": null,
            "object_fit": null,
            "object_position": null,
            "order": null,
            "overflow": null,
            "overflow_x": null,
            "overflow_y": null,
            "padding": null,
            "right": null,
            "top": null,
            "visibility": null,
            "width": null
          }
        },
        "6e97133c9241486ab7c6fdd686ef74ce": {
          "model_module": "@jupyter-widgets/controls",
          "model_name": "ProgressStyleModel",
          "model_module_version": "1.5.0",
          "state": {
            "_model_module": "@jupyter-widgets/controls",
            "_model_module_version": "1.5.0",
            "_model_name": "ProgressStyleModel",
            "_view_count": null,
            "_view_module": "@jupyter-widgets/base",
            "_view_module_version": "1.2.0",
            "_view_name": "StyleView",
            "bar_color": null,
            "description_width": ""
          }
        },
        "796f311b06da403aafa2c4a26ac2375c": {
          "model_module": "@jupyter-widgets/base",
          "model_name": "LayoutModel",
          "model_module_version": "1.2.0",
          "state": {
            "_model_module": "@jupyter-widgets/base",
            "_model_module_version": "1.2.0",
            "_model_name": "LayoutModel",
            "_view_count": null,
            "_view_module": "@jupyter-widgets/base",
            "_view_module_version": "1.2.0",
            "_view_name": "LayoutView",
            "align_content": null,
            "align_items": null,
            "align_self": null,
            "border": null,
            "bottom": null,
            "display": null,
            "flex": null,
            "flex_flow": null,
            "grid_area": null,
            "grid_auto_columns": null,
            "grid_auto_flow": null,
            "grid_auto_rows": null,
            "grid_column": null,
            "grid_gap": null,
            "grid_row": null,
            "grid_template_areas": null,
            "grid_template_columns": null,
            "grid_template_rows": null,
            "height": null,
            "justify_content": null,
            "justify_items": null,
            "left": null,
            "margin": null,
            "max_height": null,
            "max_width": null,
            "min_height": null,
            "min_width": null,
            "object_fit": null,
            "object_position": null,
            "order": null,
            "overflow": null,
            "overflow_x": null,
            "overflow_y": null,
            "padding": null,
            "right": null,
            "top": null,
            "visibility": null,
            "width": null
          }
        },
        "d3713fb5b45b4e5386dd7f11fe5f5310": {
          "model_module": "@jupyter-widgets/controls",
          "model_name": "DescriptionStyleModel",
          "model_module_version": "1.5.0",
          "state": {
            "_model_module": "@jupyter-widgets/controls",
            "_model_module_version": "1.5.0",
            "_model_name": "DescriptionStyleModel",
            "_view_count": null,
            "_view_module": "@jupyter-widgets/base",
            "_view_module_version": "1.2.0",
            "_view_name": "StyleView",
            "description_width": ""
          }
        }
      }
    }
  },
  "nbformat": 4,
  "nbformat_minor": 5
}