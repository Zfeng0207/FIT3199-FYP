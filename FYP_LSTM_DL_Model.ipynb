{
  "nbformat": 4,
  "nbformat_minor": 0,
  "metadata": {
    "colab": {
      "provenance": [],
      "authorship_tag": "ABX9TyOOLSvTjPQPNWEG1c1w0S7l",
      "include_colab_link": true
    },
    "kernelspec": {
      "name": "python3",
      "display_name": "Python 3"
    },
    "language_info": {
      "name": "python"
    }
  },
  "cells": [
    {
      "cell_type": "markdown",
      "metadata": {
        "id": "view-in-github",
        "colab_type": "text"
      },
      "source": [
        "<a href=\"https://colab.research.google.com/github/Zfeng0207/FIT3199-FYP/blob/dev%2Fdarin/FYP_LSTM_DL_Model.ipynb\" target=\"_parent\"><img src=\"https://colab.research.google.com/assets/colab-badge.svg\" alt=\"Open In Colab\"/></a>"
      ]
    },
    {
      "cell_type": "code",
      "execution_count": 29,
      "metadata": {
        "id": "H4DEWiRXibnx"
      },
      "outputs": [],
      "source": [
        "import torch\n",
        "import torch.nn as nn\n",
        "import torch.optim as optim\n",
        "from torch.utils.data import DataLoader, TensorDataset, random_split\n",
        "import pandas as pd\n",
        "import numpy as np\n",
        "import gdown\n",
        "from sklearn.metrics import accuracy_score, roc_auc_score, precision_score, recall_score\n",
        "import torch.nn.functional as F"
      ]
    },
    {
      "cell_type": "markdown",
      "source": [
        "#Import Data from Google Drive"
      ],
      "metadata": {
        "id": "dN6haCkG0rV9"
      }
    },
    {
      "cell_type": "code",
      "source": [
        "file_id = \"1Ic8WjPbYYxqdvDznQdjN8B86yEghwzvV\"\n",
        "url = f\"https://drive.google.com/uc?id={file_id}\"\n",
        "gdown.download(url, \"health_data.csv\", quiet=False)\n",
        "data = pd.read_csv('health_data.csv')"
      ],
      "metadata": {
        "colab": {
          "base_uri": "https://localhost:8080/"
        },
        "id": "mjxIuI630Jgn",
        "outputId": "697854fc-b2c9-46c3-a808-607b4b05195a"
      },
      "execution_count": 30,
      "outputs": [
        {
          "output_type": "stream",
          "name": "stderr",
          "text": [
            "Downloading...\n",
            "From: https://drive.google.com/uc?id=1Ic8WjPbYYxqdvDznQdjN8B86yEghwzvV\n",
            "To: /content/health_data.csv\n",
            "100%|██████████| 9.90M/9.90M [00:00<00:00, 56.6MB/s]\n"
          ]
        }
      ]
    },
    {
      "cell_type": "code",
      "source": [
        "# Convert 'charttime' to datetime and sort by subject_id, charttime\n",
        "data['charttime'] = pd.to_datetime(data['charttime'], errors='coerce')\n",
        "data = data.sort_values(by=['subject_id', 'charttime'])\n",
        "\n",
        "# Drop non-relevant columns\n",
        "columns_to_drop = [\"stay_id_x\", \"stay_id_y\", \"charttime\", \"dod\", \"icd_title\"]\n",
        "data = data.drop(columns=columns_to_drop, errors='ignore')\n",
        "\n",
        "# Handle missing values by filling with column mean for numeric columns only\n",
        "numeric_data = data.select_dtypes(include=np.number)\n",
        "data[numeric_data.columns] = numeric_data.fillna(numeric_data.mean())\n",
        "\n",
        "# Ensure all remaining columns are numeric\n",
        "data = data.apply(pd.to_numeric, errors='coerce')\n",
        "\n",
        "# Our Stroke Target Column\n",
        "target_column = \"Stroke_Y/N\""
      ],
      "metadata": {
        "id": "j0ZLffHo2dsa"
      },
      "execution_count": 31,
      "outputs": []
    },
    {
      "cell_type": "code",
      "source": [
        "# Function to create time-series sequences for each patient\n",
        "def create_sequences(df, n_previous=3):\n",
        "    sequences, labels = [], []\n",
        "\n",
        "    patient_groups = df.groupby(\"subject_id\")  # Group by patient\n",
        "    for _, group in patient_groups:\n",
        "        group = group.drop(columns=[\"subject_id\"])  # Drop ID for training\n",
        "        if len(group) < n_previous:\n",
        "            continue  # Skip patients with too few records\n",
        "\n",
        "        # Ensure only numeric values\n",
        "        group = group.apply(pd.to_numeric, errors='coerce')\n",
        "\n",
        "        X_patient = group.drop(columns=[\"Stroke_Y/N\"]).values\n",
        "        y_patient = group[\"Stroke_Y/N\"].values\n",
        "\n",
        "        # Create sequences of length `n_previous`\n",
        "        for i in range(len(group) - n_previous + 1):\n",
        "            seq_X = X_patient[i:i + n_previous]  # Past admissions\n",
        "            seq_y = y_patient[i + n_previous - 1]  # Predict next admission stroke outcome\n",
        "            sequences.append(seq_X)\n",
        "            labels.append(seq_y)\n",
        "\n",
        "    return np.array(sequences, dtype=np.float32), np.array(labels, dtype=np.float32)\n",
        "\n",
        "# Generate time-series sequences\n",
        "X_seq, y_seq = create_sequences(data, n_previous=3)\n",
        "\n",
        "# Ensure X_seq is 3D (samples, time_steps, features)\n",
        "#if len(X_seq.shape) == 2:\n",
        "#    X_seq = np.expand_dims(X_seq, axis=1)  # Adds time-step dimension"
      ],
      "metadata": {
        "id": "7WbeEgijwTBv"
      },
      "execution_count": 32,
      "outputs": []
    },
    {
      "cell_type": "code",
      "source": [
        "X_seq = np.nan_to_num(X_seq, nan=0.0)\n",
        "y_seq = np.nan_to_num(y_seq, nan=0.0)\n",
        "\n",
        "# Convert to PyTorch tensors\n",
        "X_tensor = torch.tensor(X_seq, dtype=torch.float32)\n",
        "y_tensor = torch.tensor(y_seq, dtype=torch.float32).unsqueeze(1)  # Shape: (N,1)\n",
        "\n",
        "# Debugging Output\n",
        "print(f\"X_tensor shape: {X_tensor.shape}\")  # Should be (samples, time_steps, features)\n",
        "print(f\"y_tensor shape: {y_tensor.shape}\")  # Should be (samples, 1)"
      ],
      "metadata": {
        "colab": {
          "base_uri": "https://localhost:8080/"
        },
        "id": "rtfAsjvW05EW",
        "outputId": "467fb696-7b82-416c-af02-6a079628381a"
      },
      "execution_count": 33,
      "outputs": [
        {
          "output_type": "stream",
          "name": "stdout",
          "text": [
            "X_tensor shape: torch.Size([65263, 3, 17])\n",
            "y_tensor shape: torch.Size([65263, 1])\n"
          ]
        }
      ]
    },
    {
      "cell_type": "code",
      "source": [
        "# Check if GPU is available\n",
        "device = torch.device(\"cuda\" if torch.cuda.is_available() else \"cpu\")\n",
        "print(f\"Using device: {device}\")\n",
        "\n",
        "X_tensor, y_tensor = X_tensor.to(device), y_tensor.to(device)"
      ],
      "metadata": {
        "id": "IuDQLyynhMzc",
        "outputId": "173749a7-7b55-4cf7-fb72-507c6750bcd5",
        "colab": {
          "base_uri": "https://localhost:8080/"
        }
      },
      "execution_count": 34,
      "outputs": [
        {
          "output_type": "stream",
          "name": "stdout",
          "text": [
            "Using device: cpu\n"
          ]
        }
      ]
    },
    {
      "cell_type": "code",
      "source": [
        "# Split into train, validation, and test sets\n",
        "train_size = int(0.7 * len(X_tensor))\n",
        "val_size = int(0.15 * len(X_tensor))\n",
        "test_size = len(X_tensor) - train_size - val_size\n",
        "train_data, val_data, test_data = random_split(TensorDataset(X_tensor, y_tensor), [train_size, val_size, test_size])"
      ],
      "metadata": {
        "id": "XNx3LXNU3Xz7"
      },
      "execution_count": 35,
      "outputs": []
    },
    {
      "cell_type": "code",
      "source": [
        "# Train-test split (70% Train, 15% Val, 15% Test)\n",
        "train_size = int(0.7 * len(X_tensor))\n",
        "val_size = int(0.15 * len(X_tensor))\n",
        "test_size = len(X_tensor) - train_size - val_size\n",
        "\n",
        "train_data, val_data, test_data = random_split(TensorDataset(X_tensor, y_tensor), [train_size, val_size, test_size])\n"
      ],
      "metadata": {
        "id": "gUOv_KCb3igU"
      },
      "execution_count": 36,
      "outputs": []
    },
    {
      "cell_type": "code",
      "source": [
        "train_loader = DataLoader(train_data, batch_size=64, shuffle=True)\n",
        "val_loader = DataLoader(val_data, batch_size=64, shuffle=False)\n",
        "test_loader = DataLoader(test_data, batch_size=64, shuffle=False)"
      ],
      "metadata": {
        "id": "gJRfkXR3wjrr"
      },
      "execution_count": 37,
      "outputs": []
    },
    {
      "cell_type": "markdown",
      "source": [
        "#LSTM Model"
      ],
      "metadata": {
        "id": "RKODAzUM4zgZ"
      }
    },
    {
      "cell_type": "code",
      "source": [
        "class StrokeLSTM(nn.Module):\n",
        "    def __init__(self, input_size, hidden_size=256, num_layers=2, dropout=0.2):\n",
        "        super(StrokeLSTM, self).__init__()\n",
        "        self.lstm = nn.LSTM(input_size, hidden_size, num_layers, batch_first=True, dropout=dropout)\n",
        "        self.fc = nn.Linear(hidden_size, 1)\n",
        "\n",
        "    def forward(self, x):\n",
        "        lstm_out, _ = self.lstm(x)\n",
        "        x = self.fc(lstm_out[:, -1, :])\n",
        "        return torch.sigmoid(x)  # Ensure output is in [0,1] range"
      ],
      "metadata": {
        "id": "V-PUI2lh37cX"
      },
      "execution_count": 38,
      "outputs": []
    },
    {
      "cell_type": "markdown",
      "source": [
        "#Model Parameters"
      ],
      "metadata": {
        "id": "ZGDM8JLIIOP5"
      }
    },
    {
      "cell_type": "code",
      "source": [
        "# Initialize model and move to device\n",
        "input_size = X_tensor.shape[-1]\n",
        "model = StrokeLSTM(input_size).to(device)\n",
        "\n",
        "# Loss function & optimizer\n",
        "criterion = nn.BCELoss()\n",
        "optimizer = optim.AdamW(model.parameters(), lr=0.005)"
      ],
      "metadata": {
        "id": "r046UlHL4tOT"
      },
      "execution_count": 39,
      "outputs": []
    },
    {
      "cell_type": "markdown",
      "source": [
        "#Testing Model"
      ],
      "metadata": {
        "id": "Kb_DXggb4trd"
      }
    },
    {
      "cell_type": "code",
      "source": [
        "def train_model(model, train_loader, val_loader, criterion, optimizer, epochs=30):\n",
        "    for epoch in range(epochs):\n",
        "        model.train()\n",
        "        total_loss = 0\n",
        "        for X_batch, y_batch in train_loader:\n",
        "            optimizer.zero_grad()\n",
        "            y_pred = model(X_batch)\n",
        "            loss = criterion(y_pred, y_batch)\n",
        "            loss.backward()\n",
        "            optimizer.step()\n",
        "            total_loss += loss.item()\n",
        "\n",
        "        # Validation\n",
        "        model.eval()\n",
        "        val_loss = 0\n",
        "        with torch.no_grad():\n",
        "            for X_val, y_val in val_loader:\n",
        "                y_val_pred = model(X_val)\n",
        "                val_loss += criterion(y_val_pred, y_val).item()\n",
        "\n",
        "        print(f\"Epoch {epoch+1}/{epochs}, Train Loss: {total_loss/len(train_loader):.4f}, Val Loss: {val_loss/len(val_loader):.4f}\")"
      ],
      "metadata": {
        "id": "n0ZzlSe-4HJ3"
      },
      "execution_count": 40,
      "outputs": []
    },
    {
      "cell_type": "code",
      "source": [
        "train_model(model, train_loader, val_loader, criterion, optimizer, epochs=30)"
      ],
      "metadata": {
        "colab": {
          "base_uri": "https://localhost:8080/"
        },
        "id": "c7-bTO0o4A8_",
        "outputId": "dcffaf27-9307-4809-9634-086150af2e13"
      },
      "execution_count": 41,
      "outputs": [
        {
          "output_type": "stream",
          "name": "stdout",
          "text": [
            "Epoch 1/30, Train Loss: 0.3885, Val Loss: 0.3826\n",
            "Epoch 2/30, Train Loss: 0.3864, Val Loss: 0.3825\n",
            "Epoch 3/30, Train Loss: 0.3862, Val Loss: 0.3824\n",
            "Epoch 4/30, Train Loss: 0.3860, Val Loss: 0.3824\n",
            "Epoch 5/30, Train Loss: 0.3860, Val Loss: 0.3825\n",
            "Epoch 6/30, Train Loss: 0.3860, Val Loss: 0.3824\n",
            "Epoch 7/30, Train Loss: 0.3861, Val Loss: 0.3832\n",
            "Epoch 8/30, Train Loss: 0.3860, Val Loss: 0.3824\n",
            "Epoch 9/30, Train Loss: 0.3860, Val Loss: 0.3846\n",
            "Epoch 10/30, Train Loss: 0.3860, Val Loss: 0.3827\n",
            "Epoch 11/30, Train Loss: 0.3860, Val Loss: 0.3833\n",
            "Epoch 12/30, Train Loss: 0.3861, Val Loss: 0.3826\n",
            "Epoch 13/30, Train Loss: 0.3860, Val Loss: 0.3824\n",
            "Epoch 14/30, Train Loss: 0.3861, Val Loss: 0.3826\n",
            "Epoch 15/30, Train Loss: 0.3859, Val Loss: 0.3825\n",
            "Epoch 16/30, Train Loss: 0.3860, Val Loss: 0.3824\n",
            "Epoch 17/30, Train Loss: 0.3859, Val Loss: 0.3828\n",
            "Epoch 18/30, Train Loss: 0.3860, Val Loss: 0.3828\n",
            "Epoch 19/30, Train Loss: 0.3861, Val Loss: 0.3827\n",
            "Epoch 20/30, Train Loss: 0.3859, Val Loss: 0.3825\n",
            "Epoch 21/30, Train Loss: 0.3861, Val Loss: 0.3824\n",
            "Epoch 22/30, Train Loss: 0.3859, Val Loss: 0.3856\n",
            "Epoch 23/30, Train Loss: 0.3861, Val Loss: 0.3824\n",
            "Epoch 24/30, Train Loss: 0.3860, Val Loss: 0.3828\n",
            "Epoch 25/30, Train Loss: 0.3861, Val Loss: 0.3824\n",
            "Epoch 26/30, Train Loss: 0.3860, Val Loss: 0.3824\n",
            "Epoch 27/30, Train Loss: 0.3860, Val Loss: 0.3824\n",
            "Epoch 28/30, Train Loss: 0.3860, Val Loss: 0.3824\n",
            "Epoch 29/30, Train Loss: 0.3860, Val Loss: 0.3834\n",
            "Epoch 30/30, Train Loss: 0.3859, Val Loss: 0.3827\n"
          ]
        }
      ]
    },
    {
      "cell_type": "markdown",
      "source": [
        "#Evaluate Model"
      ],
      "metadata": {
        "id": "3j8L1Bpe4pcH"
      }
    },
    {
      "cell_type": "code",
      "source": [
        "def evaluate_model(model, test_loader, criterion):\n",
        "    model.eval()\n",
        "    y_true = []\n",
        "    y_pred_probs = []\n",
        "    y_pred_labels = []\n",
        "    total_loss = 0\n",
        "\n",
        "    with torch.no_grad():\n",
        "        for X_batch, y_batch in test_loader:\n",
        "            X_batch, y_batch = X_batch.to(device), y_batch.to(device)\n",
        "\n",
        "            y_pred = model(X_batch)\n",
        "            loss = criterion(y_pred, y_batch)\n",
        "            total_loss += loss.item()\n",
        "\n",
        "            # Store true labels and predicted probabilities\n",
        "            y_true.extend(y_batch.cpu().numpy().flatten())\n",
        "            y_pred_probs.extend(y_pred.cpu().numpy().flatten())\n",
        "\n",
        "    # Convert to NumPy arrays\n",
        "    y_true = np.array(y_true)\n",
        "    y_pred_probs = np.array(y_pred_probs)\n",
        "\n",
        "    # Convert probabilities to binary predictions using a threshold of 0.5\n",
        "    y_pred_labels = (y_pred_probs >= 0.5).astype(int)\n",
        "\n",
        "    # Calculate Metrics\n",
        "    rmse = np.sqrt(np.mean((y_true - y_pred_probs) ** 2))\n",
        "    accuracy = accuracy_score(y_true, y_pred_labels)\n",
        "    auc = roc_auc_score(y_true, y_pred_probs) if len(np.unique(y_true)) > 1 else float('nan')  # AUC needs at least two classes\n",
        "    precision = precision_score(y_true, y_pred_labels, zero_division=0)\n",
        "    recall = recall_score(y_true, y_pred_labels, zero_division=0)\n",
        "    avg_loss = total_loss / len(test_loader)\n",
        "\n",
        "    # Print results\n",
        "    print(f\"Test Loss: {avg_loss:.4f}\")\n",
        "    print(f\"RMSE: {rmse:.4f}\")\n",
        "    print(f\"Accuracy: {accuracy:.4f}\")\n",
        "    print(f\"AUC: {auc:.4f}\")\n",
        "    print(f\"Precision: {precision:.4f}\")\n",
        "    print(f\"Recall: {recall:.4f}\")\n",
        "\n",
        "    return avg_loss, rmse, accuracy, auc, precision, recall\n",
        "\n",
        "# Run evaluation on test set\n",
        "evaluate_model(model, test_loader, criterion)"
      ],
      "metadata": {
        "colab": {
          "base_uri": "https://localhost:8080/"
        },
        "id": "b5hi6NqN4meQ",
        "outputId": "5cc2f71f-ef8d-4244-e874-6d04a644d461"
      },
      "execution_count": 42,
      "outputs": [
        {
          "output_type": "stream",
          "name": "stdout",
          "text": [
            "Test Loss: 0.3912\n",
            "RMSE: 0.3390\n",
            "Accuracy: 0.8675\n",
            "AUC: 0.5000\n",
            "Precision: 0.0000\n",
            "Recall: 0.0000\n"
          ]
        },
        {
          "output_type": "execute_result",
          "data": {
            "text/plain": [
              "(0.3911986327638813,\n",
              " np.float32(0.33904582),\n",
              " 0.8675178753830439,\n",
              " np.float64(0.5),\n",
              " 0.0,\n",
              " 0.0)"
            ]
          },
          "metadata": {},
          "execution_count": 42
        }
      ]
    }
  ]
}