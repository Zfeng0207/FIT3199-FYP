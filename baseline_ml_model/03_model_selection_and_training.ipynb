{
 "cells": [
  {
   "cell_type": "markdown",
   "metadata": {},
   "source": [
    "## Model Selection and HyperParameter Tuning"
   ]
  },
  {
   "cell_type": "code",
   "execution_count": null,
   "metadata": {},
   "outputs": [],
   "source": [
    "# import libraries\n",
    "import pandas as pd\n",
    "from sklearn.model_selection import train_test_split\n",
    "from sklearn.metrics import classification_report, accuracy_score\n",
    "from sklearn.linear_model import LogisticRegression\n",
    "from sklearn.svm import SVC\n",
    "from sklearn.ensemble import RandomForestClassifier, GradientBoostingClassifier, AdaBoostClassifier\n",
    "from sklearn.neighbors import KNeighborsClassifier\n",
    "from sklearn.naive_bayes import GaussianNB\n",
    "from sklearn.tree import DecisionTreeClassifier\n",
    "from imblearn.over_sampling import SMOTE\n",
    "from imblearn.under_sampling import RandomUnderSampler\n",
    "from imblearn.pipeline import Pipeline\n",
    "from sklearn.tree import DecisionTreeClassifier\n",
    "from sklearn.model_selection import train_test_split\n",
    "import numpy as np\n",
    "import joblib\n"
   ]
  },
  {
   "cell_type": "code",
   "execution_count": 12,
   "metadata": {},
   "outputs": [],
   "source": [
    "preprocessed_data_path = 'preprocessed_data_without_text.csv'\n",
    "preprocessed_data = pd.read_csv(preprocessed_data_path)"
   ]
  },
  {
   "cell_type": "code",
   "execution_count": null,
   "metadata": {},
   "outputs": [],
   "source": [
    "from sklearn.model_selection import train_test_split\n",
    "\n",
    "y = preprocessed_data['category']\n",
    "X = preprocessed_data.drop(columns=['category'])\n",
    "\n",
    "X_train_val, X_test, y_train_val, y_test = train_test_split(\n",
    "    X, y, test_size=0.2, random_state=42, stratify=y\n",
    ")\n",
    "\n",
    "X_train, X_val, y_train, y_val = train_test_split(\n",
    "    X_train_val, y_train_val, test_size=0.2, random_state=42, stratify=y_train_val\n",
    ")"
   ]
  },
  {
   "cell_type": "markdown",
   "metadata": {},
   "source": [
    "## Handling Imbalanced Dataset"
   ]
  },
  {
   "cell_type": "markdown",
   "metadata": {},
   "source": [
    "Attempted to annotate data to deal with high volume of wrongly predicted 'Uncategorized' class. But metrics show no improvement.\n",
    "\n",
    "- Oversample and undersample to strike a balance between classes\n",
    "- Reduce size to mitigate model training runtime"
   ]
  },
  {
   "cell_type": "code",
   "execution_count": null,
   "metadata": {},
   "outputs": [
    {
     "name": "stderr",
     "output_type": "stream",
     "text": [
      "c:\\Users\\V372125\\OneDrive - PPG Industries, Inc\\Documents\\moneylion-assessment\\mls-assessment\\mls_env\\Lib\\site-packages\\joblib\\externals\\loky\\backend\\context.py:136: UserWarning: Could not find the number of physical cores for the following reason:\n",
      "[WinError 2] The system cannot find the file specified\n",
      "Returning the number of logical cores instead. You can silence this warning by setting LOKY_MAX_CPU_COUNT to the number of cores you want to use.\n",
      "  warnings.warn(\n",
      "  File \"c:\\Users\\V372125\\OneDrive - PPG Industries, Inc\\Documents\\moneylion-assessment\\mls-assessment\\mls_env\\Lib\\site-packages\\joblib\\externals\\loky\\backend\\context.py\", line 257, in _count_physical_cores\n",
      "    cpu_info = subprocess.run(\n",
      "               ^^^^^^^^^^^^^^^\n",
      "  File \"C:\\Program Files\\Python311\\Lib\\subprocess.py\", line 548, in run\n",
      "    with Popen(*popenargs, **kwargs) as process:\n",
      "         ^^^^^^^^^^^^^^^^^^^^^^^^^^^\n",
      "  File \"C:\\Program Files\\Python311\\Lib\\subprocess.py\", line 1026, in __init__\n",
      "    self._execute_child(args, executable, preexec_fn, close_fds,\n",
      "  File \"C:\\Program Files\\Python311\\Lib\\subprocess.py\", line 1538, in _execute_child\n",
      "    hp, ht, pid, tid = _winapi.CreateProcess(executable, args,\n",
      "                       ^^^^^^^^^^^^^^^^^^^^^^^^^^^^^^^^^^^^^^^\n"
     ]
    }
   ],
   "source": [
    "# Oversampling and Undersampling Strategy\n",
    "\n",
    "max_samples = 20000  # upper limit for large categories\n",
    "min_samples = 1000   # lower limit for small categories\n",
    "\n",
    "# compute class distribution in training set\n",
    "class_counts = np.bincount(y_train)  # Count occurrences of each class\n",
    "classes = np.unique(y_train)\n",
    "\n",
    "# define sampling strategies dynamically\n",
    "smote_strategy = {}\n",
    "undersample_strategy = {cls: int(count * 0.7) for cls, count in y_train.value_counts().items()}\n",
    "\n",
    "for cls, count in zip(classes, class_counts):\n",
    "    if count < min_samples:\n",
    "        smote_strategy[cls] = min_samples  \n",
    "    elif count > max_samples:\n",
    "        undersample_strategy[cls] = max_samples  \n",
    "\n",
    "k_neighbors = min(3, min(class_counts) - 1) \n",
    "\n",
    "smote = SMOTE(sampling_strategy=smote_strategy, k_neighbors=k_neighbors)\n",
    "undersample = RandomUnderSampler(sampling_strategy=undersample_strategy)\n",
    "\n",
    "resampling_pipeline = Pipeline([\n",
    "    ('smote', smote),\n",
    "    ('undersample', undersample)\n",
    "])\n",
    "\n",
    "X_train_resampled, y_train_resampled = resampling_pipeline.fit_resample(X_train, y_train)\n"
   ]
  },
  {
   "cell_type": "code",
   "execution_count": 7,
   "metadata": {},
   "outputs": [
    {
     "data": {
      "text/plain": [
       "(115917, 35)"
      ]
     },
     "execution_count": 7,
     "metadata": {},
     "output_type": "execute_result"
    }
   ],
   "source": [
    "X_train_resampled.shape"
   ]
  },
  {
   "cell_type": "code",
   "execution_count": null,
   "metadata": {},
   "outputs": [],
   "source": [
    "X_train_resampled, y_train_resampled = resampling_pipeline.fit_resample(X_train, y_train)"
   ]
  },
  {
   "cell_type": "code",
   "execution_count": 8,
   "metadata": {},
   "outputs": [
    {
     "data": {
      "image/png": "[encoded data removed]",
      "text/plain": [
       "<Figure size 1200x600 with 1 Axes>"
      ]
     },
     "metadata": {},
     "output_type": "display_data"
    }
   ],
   "source": [
    "import matplotlib.pyplot as plt\n",
    "import pandas as pd\n",
    "\n",
    "# Convert y_pred to a Pandas Series\n",
    "y_train_resampled = pd.Series(y_train_resampled)\n",
    "\n",
    "# Get category distribution\n",
    "label = y_train_resampled.value_counts().index\n",
    "values = y_train_resampled.value_counts().values\n",
    "\n",
    "# Map encoded labels back to original category names (if needed)\n",
    "if isinstance(label[0], (int, float)):  # Check if labels are numeric\n",
    "    label = [class_mapping[lbl] for lbl in label]  # Convert to original labels\n",
    "\n",
    "# Plot the distribution\n",
    "plt.figure(figsize=(12, 6))\n",
    "plt.barh(label, values, color=\"maroon\")\n",
    "plt.xlabel(\"Count\")\n",
    "plt.ylabel(\"Category\")\n",
    "plt.title(\"Category Distribution\")\n",
    "plt.gca().invert_yaxis()  # Invert y-axis for better readability\n",
    "plt.show()\n"
   ]
  },
  {
   "cell_type": "markdown",
   "metadata": {},
   "source": [
    "## Algorithm Selection "
   ]
  },
  {
   "cell_type": "code",
   "execution_count": 11,
   "metadata": {},
   "outputs": [
    {
     "name": "stderr",
     "output_type": "stream",
     "text": [
      "c:\\Users\\V372125\\OneDrive - PPG Industries, Inc\\Documents\\moneylion-assessment\\mls-assessment\\mls_env\\Lib\\site-packages\\sklearn\\linear_model\\_logistic.py:465: ConvergenceWarning: lbfgs failed to converge (status=1):\n",
      "STOP: TOTAL NO. OF ITERATIONS REACHED LIMIT.\n",
      "\n",
      "Increase the number of iterations (max_iter) or scale the data as shown in:\n",
      "    https://scikit-learn.org/stable/modules/preprocessing.html\n",
      "Please also refer to the documentation for alternative solver options:\n",
      "    https://scikit-learn.org/stable/modules/linear_model.html#logistic-regression\n",
      "  n_iter_i = _check_optimize_result(\n",
      "c:\\Users\\V372125\\OneDrive - PPG Industries, Inc\\Documents\\moneylion-assessment\\mls-assessment\\mls_env\\Lib\\site-packages\\sklearn\\metrics\\_classification.py:1565: UndefinedMetricWarning: Precision is ill-defined and being set to 0.0 in labels with no predicted samples. Use `zero_division` parameter to control this behavior.\n",
      "  _warn_prf(average, modifier, f\"{metric.capitalize()} is\", len(result))\n",
      "c:\\Users\\V372125\\OneDrive - PPG Industries, Inc\\Documents\\moneylion-assessment\\mls-assessment\\mls_env\\Lib\\site-packages\\sklearn\\metrics\\_classification.py:1565: UndefinedMetricWarning: Precision is ill-defined and being set to 0.0 in labels with no predicted samples. Use `zero_division` parameter to control this behavior.\n",
      "  _warn_prf(average, modifier, f\"{metric.capitalize()} is\", len(result))\n"
     ]
    },
    {
     "name": "stdout",
     "output_type": "stream",
     "text": [
      "Model: Logistic Regression\n",
      "Validation Metrics:\n",
      "F1 Score: 0.0943\n",
      "Precision: 0.0660\n",
      "Recall: 0.1690\n",
      "Accuracy: 0.1690\n",
      "\n",
      "Test Metrics:\n",
      "F1 Score: 0.0957\n",
      "Precision: 0.0670\n",
      "Recall: 0.1716\n",
      "Accuracy: 0.1716\n",
      "--------------------------------------------------\n"
     ]
    },
    {
     "name": "stderr",
     "output_type": "stream",
     "text": [
      "c:\\Users\\V372125\\OneDrive - PPG Industries, Inc\\Documents\\moneylion-assessment\\mls-assessment\\mls_env\\Lib\\site-packages\\sklearn\\metrics\\_classification.py:1565: UndefinedMetricWarning: Precision is ill-defined and being set to 0.0 in labels with no predicted samples. Use `zero_division` parameter to control this behavior.\n",
      "  _warn_prf(average, modifier, f\"{metric.capitalize()} is\", len(result))\n",
      "c:\\Users\\V372125\\OneDrive - PPG Industries, Inc\\Documents\\moneylion-assessment\\mls-assessment\\mls_env\\Lib\\site-packages\\sklearn\\metrics\\_classification.py:1565: UndefinedMetricWarning: Precision is ill-defined and being set to 0.0 in labels with no predicted samples. Use `zero_division` parameter to control this behavior.\n",
      "  _warn_prf(average, modifier, f\"{metric.capitalize()} is\", len(result))\n"
     ]
    },
    {
     "name": "stdout",
     "output_type": "stream",
     "text": [
      "Model: Random Forest\n",
      "Validation Metrics:\n",
      "F1 Score: 0.6828\n",
      "Precision: 0.6911\n",
      "Recall: 0.6867\n",
      "Accuracy: 0.6867\n",
      "\n",
      "Test Metrics:\n",
      "F1 Score: 0.6821\n",
      "Precision: 0.6903\n",
      "Recall: 0.6865\n",
      "Accuracy: 0.6865\n",
      "--------------------------------------------------\n"
     ]
    },
    {
     "name": "stderr",
     "output_type": "stream",
     "text": [
      "c:\\Users\\V372125\\OneDrive - PPG Industries, Inc\\Documents\\moneylion-assessment\\mls-assessment\\mls_env\\Lib\\site-packages\\sklearn\\metrics\\_classification.py:1565: UndefinedMetricWarning: Precision is ill-defined and being set to 0.0 in labels with no predicted samples. Use `zero_division` parameter to control this behavior.\n",
      "  _warn_prf(average, modifier, f\"{metric.capitalize()} is\", len(result))\n",
      "c:\\Users\\V372125\\OneDrive - PPG Industries, Inc\\Documents\\moneylion-assessment\\mls-assessment\\mls_env\\Lib\\site-packages\\sklearn\\metrics\\_classification.py:1565: UndefinedMetricWarning: Precision is ill-defined and being set to 0.0 in labels with no predicted samples. Use `zero_division` parameter to control this behavior.\n",
      "  _warn_prf(average, modifier, f\"{metric.capitalize()} is\", len(result))\n"
     ]
    },
    {
     "name": "stdout",
     "output_type": "stream",
     "text": [
      "Model: KNN\n",
      "Validation Metrics:\n",
      "F1 Score: 0.1667\n",
      "Precision: 0.1746\n",
      "Recall: 0.1668\n",
      "Accuracy: 0.1668\n",
      "\n",
      "Test Metrics:\n",
      "F1 Score: 0.1681\n",
      "Precision: 0.1775\n",
      "Recall: 0.1678\n",
      "Accuracy: 0.1678\n",
      "--------------------------------------------------\n"
     ]
    },
    {
     "name": "stderr",
     "output_type": "stream",
     "text": [
      "c:\\Users\\V372125\\OneDrive - PPG Industries, Inc\\Documents\\moneylion-assessment\\mls-assessment\\mls_env\\Lib\\site-packages\\sklearn\\metrics\\_classification.py:1565: UndefinedMetricWarning: Precision is ill-defined and being set to 0.0 in labels with no predicted samples. Use `zero_division` parameter to control this behavior.\n",
      "  _warn_prf(average, modifier, f\"{metric.capitalize()} is\", len(result))\n",
      "c:\\Users\\V372125\\OneDrive - PPG Industries, Inc\\Documents\\moneylion-assessment\\mls-assessment\\mls_env\\Lib\\site-packages\\sklearn\\metrics\\_classification.py:1565: UndefinedMetricWarning: Precision is ill-defined and being set to 0.0 in labels with no predicted samples. Use `zero_division` parameter to control this behavior.\n",
      "  _warn_prf(average, modifier, f\"{metric.capitalize()} is\", len(result))\n"
     ]
    },
    {
     "name": "stdout",
     "output_type": "stream",
     "text": [
      "Model: Naive Bayes\n",
      "Validation Metrics:\n",
      "F1 Score: 0.0162\n",
      "Precision: 0.0534\n",
      "Recall: 0.0901\n",
      "Accuracy: 0.0901\n",
      "\n",
      "Test Metrics:\n",
      "F1 Score: 0.0163\n",
      "Precision: 0.0607\n",
      "Recall: 0.0902\n",
      "Accuracy: 0.0902\n",
      "--------------------------------------------------\n"
     ]
    },
    {
     "name": "stderr",
     "output_type": "stream",
     "text": [
      "c:\\Users\\V372125\\OneDrive - PPG Industries, Inc\\Documents\\moneylion-assessment\\mls-assessment\\mls_env\\Lib\\site-packages\\sklearn\\metrics\\_classification.py:1565: UndefinedMetricWarning: Precision is ill-defined and being set to 0.0 in labels with no predicted samples. Use `zero_division` parameter to control this behavior.\n",
      "  _warn_prf(average, modifier, f\"{metric.capitalize()} is\", len(result))\n"
     ]
    },
    {
     "name": "stdout",
     "output_type": "stream",
     "text": [
      "Model: Gradient Boosting\n",
      "Validation Metrics:\n",
      "F1 Score: 0.5571\n",
      "Precision: 0.5893\n",
      "Recall: 0.5601\n",
      "Accuracy: 0.5601\n",
      "\n",
      "Test Metrics:\n",
      "F1 Score: 0.5579\n",
      "Precision: 0.5890\n",
      "Recall: 0.5617\n",
      "Accuracy: 0.5617\n",
      "--------------------------------------------------\n"
     ]
    },
    {
     "name": "stderr",
     "output_type": "stream",
     "text": [
      "c:\\Users\\V372125\\OneDrive - PPG Industries, Inc\\Documents\\moneylion-assessment\\mls-assessment\\mls_env\\Lib\\site-packages\\sklearn\\metrics\\_classification.py:1565: UndefinedMetricWarning: Precision is ill-defined and being set to 0.0 in labels with no predicted samples. Use `zero_division` parameter to control this behavior.\n",
      "  _warn_prf(average, modifier, f\"{metric.capitalize()} is\", len(result))\n"
     ]
    },
    {
     "name": "stdout",
     "output_type": "stream",
     "text": [
      "Model: Decision Tree\n",
      "Validation Metrics:\n",
      "F1 Score: 0.6260\n",
      "Precision: 0.6263\n",
      "Recall: 0.6259\n",
      "Accuracy: 0.6259\n",
      "\n",
      "Test Metrics:\n",
      "F1 Score: 0.6271\n",
      "Precision: 0.6272\n",
      "Recall: 0.6272\n",
      "Accuracy: 0.6272\n",
      "--------------------------------------------------\n",
      "Model: AdaBoost\n",
      "Validation Metrics:\n",
      "F1 Score: 0.1964\n",
      "Precision: 0.2369\n",
      "Recall: 0.2483\n",
      "Accuracy: 0.2483\n",
      "\n",
      "Test Metrics:\n",
      "F1 Score: 0.1962\n",
      "Precision: 0.2347\n",
      "Recall: 0.2482\n",
      "Accuracy: 0.2482\n",
      "--------------------------------------------------\n",
      "Accuracy comparison across models:\n"
     ]
    },
    {
     "name": "stderr",
     "output_type": "stream",
     "text": [
      "c:\\Users\\V372125\\OneDrive - PPG Industries, Inc\\Documents\\moneylion-assessment\\mls-assessment\\mls_env\\Lib\\site-packages\\sklearn\\metrics\\_classification.py:1565: UndefinedMetricWarning: Precision is ill-defined and being set to 0.0 in labels with no predicted samples. Use `zero_division` parameter to control this behavior.\n",
      "  _warn_prf(average, modifier, f\"{metric.capitalize()} is\", len(result))\n",
      "c:\\Users\\V372125\\OneDrive - PPG Industries, Inc\\Documents\\moneylion-assessment\\mls-assessment\\mls_env\\Lib\\site-packages\\sklearn\\metrics\\_classification.py:1565: UndefinedMetricWarning: Precision is ill-defined and being set to 0.0 in labels with no predicted samples. Use `zero_division` parameter to control this behavior.\n",
      "  _warn_prf(average, modifier, f\"{metric.capitalize()} is\", len(result))\n"
     ]
    }
   ],
   "source": [
    "# Define the models to test\n",
    "models = {\n",
    "    'Logistic Regression': LogisticRegression(),\n",
    "    # 'SVC': SVC(),\n",
    "    'Random Forest': RandomForestClassifier(),\n",
    "    'KNN': KNeighborsClassifier(),\n",
    "    'Naive Bayes': GaussianNB(),\n",
    "    'Gradient Boosting': GradientBoostingClassifier(),\n",
    "    'Decision Tree': DecisionTreeClassifier(),\n",
    "    'AdaBoost': AdaBoostClassifier()\n",
    "}\n",
    "\n",
    "# Loop through models, train and evaluate each\n",
    "results = {}\n",
    "for name, model in models.items():\n",
    "    # Train the model\n",
    "    model.fit(X_train, y_train)\n",
    "    \n",
    "    y_val_pred = model.predict(X_val)\n",
    "    y_test_pred = model.predict(X_test)\n",
    "\n",
    "    # Calculate metrics for validation set\n",
    "    val_f1 = f1_score(y_val, y_val_pred, average='weighted')\n",
    "    val_precision = precision_score(y_val, y_val_pred, average='weighted')\n",
    "    val_recall = recall_score(y_val, y_val_pred, average='weighted')\n",
    "    val_accuracy = accuracy_score(y_val, y_val_pred)\n",
    "\n",
    "    # Calculate metrics for test set\n",
    "    test_f1 = f1_score(y_test, y_test_pred, average='weighted')\n",
    "    test_precision = precision_score(y_test, y_test_pred, average='weighted')\n",
    "    test_recall = recall_score(y_test, y_test_pred, average='weighted')\n",
    "    test_accuracy = accuracy_score(y_test, y_test_pred)\n",
    "\n",
    "    # Print the metrics\n",
    "    print(f\"Model: {name}\")\n",
    "    print(\"Validation Metrics:\")\n",
    "    print(f\"F1 Score: {val_f1:.4f}\")\n",
    "    print(f\"Precision: {val_precision:.4f}\")\n",
    "    print(f\"Recall: {val_recall:.4f}\")\n",
    "    print(f\"Accuracy: {val_accuracy:.4f}\")\n",
    "    print()\n",
    "    print(\"Test Metrics:\")\n",
    "    print(f\"F1 Score: {test_f1:.4f}\")\n",
    "    print(f\"Precision: {test_precision:.4f}\")\n",
    "    print(f\"Recall: {test_recall:.4f}\")\n",
    "    print(f\"Accuracy: {test_accuracy:.4f}\")\n",
    "    print(\"-\" * 50)\n",
    "\n",
    "\n",
    "# If you'd like to compare just accuracy, you can sort models by accuracy\n",
    "accuracy_comparison = sorted(results.items(), key=lambda x: x[1]['accuracy'], reverse=True)\n",
    "\n",
    "print(\"Accuracy comparison across models:\")\n",
    "for name, result in accuracy_comparison:\n",
    "    print(f\"{name}: {result['accuracy']}\")\n"
   ]
  },
  {
   "cell_type": "markdown",
   "metadata": {},
   "source": [
    "### Best Model: Random Forest"
   ]
  },
  {
   "cell_type": "markdown",
   "metadata": {},
   "source": [
    "## Hyperparameter Tuning with Optuna"
   ]
  },
  {
   "cell_type": "code",
   "execution_count": null,
   "metadata": {},
   "outputs": [],
   "source": [
    "import optuna\n",
    "import numpy as np\n",
    "import pandas as pd\n",
    "from sklearn.ensemble import RandomForestClassifier\n",
    "from sklearn.metrics import f1_score\n",
    "from sklearn.model_selection import train_test_split\n",
    "\n",
    "\n",
    "def objective(trial):\n",
    "    \"\"\"Objective function to optimize Random Forest hyperparameters.\"\"\"\n",
    "    \n",
    "    # hyperparameter space\n",
    "    n_estimators = trial.suggest_int(\"n_estimators\", 50, 500) \n",
    "    max_depth = trial.suggest_int(\"max_depth\", 3, 30)  \n",
    "    min_samples_split = trial.suggest_int(\"min_samples_split\", 2, 20)  \n",
    "    min_samples_leaf = trial.suggest_int(\"min_samples_leaf\", 1, 20)  \n",
    "    max_features = trial.suggest_categorical(\"max_features\", [\"sqrt\", \"log2\", None])  \n",
    "    \n",
    "    # define and train the Random Forest model\n",
    "    model = RandomForestClassifier(\n",
    "        n_estimators=n_estimators,\n",
    "        max_depth=max_depth,\n",
    "        min_samples_split=min_samples_split,\n",
    "        min_samples_leaf=min_samples_leaf,\n",
    "        max_features=max_features,\n",
    "        random_state=42,\n",
    "        n_jobs=-1\n",
    "    )\n",
    "    \n",
    "    model.fit(X_train_resampled, y_train_resampled)\n",
    "    y_pred = model.predict(X_val)\n",
    "\n",
    "    # compute weighted F1-score\n",
    "    f1 = f1_score(y_val, y_pred, average=\"weighted\")\n",
    "    \n",
    "    return f1  \n"
   ]
  },
  {
   "cell_type": "code",
   "execution_count": null,
   "metadata": {},
   "outputs": [
    {
     "name": "stderr",
     "output_type": "stream",
     "text": [
      "[I 2025-02-10 19:54:03,411] A new study created in memory with name: no-name-d1baefbb-73ef-476d-ac80-33ce9e322315\n",
      "[I 2025-02-10 19:54:19,350] Trial 0 finished with value: 0.5913757647928425 and parameters: {'n_estimators': 182, 'max_depth': 26, 'min_samples_split': 2, 'min_samples_leaf': 8, 'max_features': 'sqrt'}. Best is trial 0 with value: 0.5913757647928425.\n",
      "[I 2025-02-10 19:54:38,605] Trial 1 finished with value: 0.4688296155401625 and parameters: {'n_estimators': 375, 'max_depth': 9, 'min_samples_split': 6, 'min_samples_leaf': 14, 'max_features': 'sqrt'}. Best is trial 0 with value: 0.5913757647928425.\n",
      "[I 2025-02-10 19:55:45,770] Trial 2 finished with value: 0.31618785373085473 and parameters: {'n_estimators': 478, 'max_depth': 4, 'min_samples_split': 17, 'min_samples_leaf': 11, 'max_features': None}. Best is trial 0 with value: 0.5913757647928425.\n",
      "[I 2025-02-10 19:55:54,594] Trial 3 finished with value: 0.48701052722617866 and parameters: {'n_estimators': 197, 'max_depth': 10, 'min_samples_split': 16, 'min_samples_leaf': 10, 'max_features': 'log2'}. Best is trial 0 with value: 0.5913757647928425.\n",
      "[I 2025-02-10 19:57:16,307] Trial 4 finished with value: 0.5676450392357566 and parameters: {'n_estimators': 237, 'max_depth': 15, 'min_samples_split': 14, 'min_samples_leaf': 12, 'max_features': None}. Best is trial 0 with value: 0.5913757647928425.\n",
      "[I 2025-02-10 19:58:50,130] Trial 5 finished with value: 0.5995255929352571 and parameters: {'n_estimators': 200, 'max_depth': 23, 'min_samples_split': 6, 'min_samples_leaf': 17, 'max_features': None}. Best is trial 5 with value: 0.5995255929352571.\n",
      "[I 2025-02-10 19:59:23,995] Trial 6 finished with value: 0.5859975538362342 and parameters: {'n_estimators': 438, 'max_depth': 25, 'min_samples_split': 8, 'min_samples_leaf': 9, 'max_features': 'log2'}. Best is trial 5 with value: 0.5995255929352571.\n",
      "[I 2025-02-10 19:59:55,914] Trial 7 finished with value: 0.5633099445226527 and parameters: {'n_estimators': 420, 'max_depth': 25, 'min_samples_split': 11, 'min_samples_leaf': 17, 'max_features': 'log2'}. Best is trial 5 with value: 0.5995255929352571.\n",
      "[I 2025-02-10 20:00:06,739] Trial 8 finished with value: 0.5630143105757274 and parameters: {'n_estimators': 146, 'max_depth': 30, 'min_samples_split': 19, 'min_samples_leaf': 18, 'max_features': 'log2'}. Best is trial 5 with value: 0.5995255929352571.\n",
      "[I 2025-02-10 20:00:55,901] Trial 9 finished with value: 0.4012435456351641 and parameters: {'n_estimators': 333, 'max_depth': 6, 'min_samples_split': 5, 'min_samples_leaf': 14, 'max_features': None}. Best is trial 5 with value: 0.5995255929352571.\n",
      "[I 2025-02-10 20:01:21,096] Trial 10 finished with value: 0.6190582839936373 and parameters: {'n_estimators': 60, 'max_depth': 19, 'min_samples_split': 10, 'min_samples_leaf': 1, 'max_features': None}. Best is trial 10 with value: 0.6190582839936373.\n",
      "[I 2025-02-10 20:01:48,230] Trial 11 finished with value: 0.6177029843350396 and parameters: {'n_estimators': 50, 'max_depth': 19, 'min_samples_split': 10, 'min_samples_leaf': 2, 'max_features': None}. Best is trial 10 with value: 0.6190582839936373.\n",
      "[I 2025-02-10 20:02:18,389] Trial 12 finished with value: 0.6098877182664407 and parameters: {'n_estimators': 69, 'max_depth': 18, 'min_samples_split': 11, 'min_samples_leaf': 1, 'max_features': None}. Best is trial 10 with value: 0.6190582839936373.\n",
      "[I 2025-02-10 20:02:46,574] Trial 13 finished with value: 0.5970831796107869 and parameters: {'n_estimators': 74, 'max_depth': 17, 'min_samples_split': 13, 'min_samples_leaf': 3, 'max_features': None}. Best is trial 10 with value: 0.6190582839936373.\n",
      "[I 2025-02-10 20:03:44,642] Trial 14 finished with value: 0.6254440616462892 and parameters: {'n_estimators': 130, 'max_depth': 21, 'min_samples_split': 9, 'min_samples_leaf': 5, 'max_features': None}. Best is trial 14 with value: 0.6254440616462892.\n",
      "[I 2025-02-10 20:04:22,221] Trial 15 finished with value: 0.564634817262526 and parameters: {'n_estimators': 123, 'max_depth': 14, 'min_samples_split': 8, 'min_samples_leaf': 5, 'max_features': None}. Best is trial 14 with value: 0.6254440616462892.\n",
      "[I 2025-02-10 20:04:42,580] Trial 16 finished with value: 0.5905204702402926 and parameters: {'n_estimators': 267, 'max_depth': 22, 'min_samples_split': 3, 'min_samples_leaf': 6, 'max_features': 'sqrt'}. Best is trial 14 with value: 0.6254440616462892.\n",
      "[I 2025-02-10 20:05:34,952] Trial 17 finished with value: 0.6252654669178496 and parameters: {'n_estimators': 120, 'max_depth': 21, 'min_samples_split': 9, 'min_samples_leaf': 5, 'max_features': None}. Best is trial 14 with value: 0.6254440616462892.\n",
      "[I 2025-02-10 20:06:23,659] Trial 18 finished with value: 0.642340814437297 and parameters: {'n_estimators': 117, 'max_depth': 28, 'min_samples_split': 8, 'min_samples_leaf': 5, 'max_features': None}. Best is trial 18 with value: 0.642340814437297.\n",
      "[I 2025-02-10 20:06:46,668] Trial 19 finished with value: 0.5993902339886953 and parameters: {'n_estimators': 309, 'max_depth': 30, 'min_samples_split': 13, 'min_samples_leaf': 7, 'max_features': 'sqrt'}. Best is trial 18 with value: 0.642340814437297.\n",
      "[I 2025-02-10 20:07:53,200] Trial 20 finished with value: 0.6505570061140229 and parameters: {'n_estimators': 153, 'max_depth': 29, 'min_samples_split': 4, 'min_samples_leaf': 4, 'max_features': None}. Best is trial 20 with value: 0.6505570061140229.\n",
      "[I 2025-02-10 20:08:58,113] Trial 21 finished with value: 0.6540867594354163 and parameters: {'n_estimators': 145, 'max_depth': 28, 'min_samples_split': 4, 'min_samples_leaf': 3, 'max_features': None}. Best is trial 21 with value: 0.6540867594354163.\n",
      "[I 2025-02-10 20:10:39,486] Trial 22 finished with value: 0.6532361375541471 and parameters: {'n_estimators': 173, 'max_depth': 27, 'min_samples_split': 4, 'min_samples_leaf': 3, 'max_features': None}. Best is trial 21 with value: 0.6540867594354163.\n",
      "[I 2025-02-10 20:13:50,263] Trial 23 finished with value: 0.653440545516046 and parameters: {'n_estimators': 230, 'max_depth': 27, 'min_samples_split': 4, 'min_samples_leaf': 3, 'max_features': None}. Best is trial 21 with value: 0.6540867594354163.\n",
      "[I 2025-02-10 20:16:06,898] Trial 24 finished with value: 0.6535977224345749 and parameters: {'n_estimators': 241, 'max_depth': 27, 'min_samples_split': 2, 'min_samples_leaf': 3, 'max_features': None}. Best is trial 21 with value: 0.6540867594354163.\n",
      "[I 2025-02-10 20:18:22,306] Trial 25 finished with value: 0.6493952460676296 and parameters: {'n_estimators': 238, 'max_depth': 25, 'min_samples_split': 2, 'min_samples_leaf': 3, 'max_features': None}. Best is trial 21 with value: 0.6540867594354163.\n",
      "[I 2025-02-10 20:20:55,390] Trial 26 finished with value: 0.6263291150423581 and parameters: {'n_estimators': 246, 'max_depth': 23, 'min_samples_split': 6, 'min_samples_leaf': 7, 'max_features': None}. Best is trial 21 with value: 0.6540867594354163.\n",
      "[I 2025-02-10 20:23:39,954] Trial 27 finished with value: 0.5977554622362736 and parameters: {'n_estimators': 297, 'max_depth': 28, 'min_samples_split': 4, 'min_samples_leaf': 20, 'max_features': None}. Best is trial 21 with value: 0.6540867594354163.\n",
      "[I 2025-02-10 20:24:07,226] Trial 28 finished with value: 0.6319173505271187 and parameters: {'n_estimators': 215, 'max_depth': 27, 'min_samples_split': 2, 'min_samples_leaf': 2, 'max_features': 'sqrt'}. Best is trial 21 with value: 0.6540867594354163.\n",
      "[I 2025-02-10 20:24:47,370] Trial 29 finished with value: 0.5919965331600056 and parameters: {'n_estimators': 361, 'max_depth': 26, 'min_samples_split': 2, 'min_samples_leaf': 8, 'max_features': 'log2'}. Best is trial 21 with value: 0.6540867594354163.\n",
      "[I 2025-02-10 20:25:25,930] Trial 30 finished with value: 0.6288249461792597 and parameters: {'n_estimators': 281, 'max_depth': 23, 'min_samples_split': 5, 'min_samples_leaf': 1, 'max_features': 'sqrt'}. Best is trial 21 with value: 0.6540867594354163.\n",
      "[I 2025-02-10 20:27:48,400] Trial 31 finished with value: 0.6535784923814338 and parameters: {'n_estimators': 184, 'max_depth': 27, 'min_samples_split': 4, 'min_samples_leaf': 3, 'max_features': None}. Best is trial 21 with value: 0.6540867594354163.\n",
      "[I 2025-02-10 20:30:04,848] Trial 32 finished with value: 0.6508700864496768 and parameters: {'n_estimators': 179, 'max_depth': 30, 'min_samples_split': 6, 'min_samples_leaf': 4, 'max_features': None}. Best is trial 21 with value: 0.6540867594354163.\n",
      "[I 2025-02-10 20:32:17,245] Trial 33 finished with value: 0.6307670872920702 and parameters: {'n_estimators': 217, 'max_depth': 25, 'min_samples_split': 3, 'min_samples_leaf': 7, 'max_features': None}. Best is trial 21 with value: 0.6540867594354163.\n",
      "[I 2025-02-10 20:33:36,971] Trial 34 finished with value: 0.653447437416421 and parameters: {'n_estimators': 99, 'max_depth': 28, 'min_samples_split': 3, 'min_samples_leaf': 3, 'max_features': None}. Best is trial 21 with value: 0.6540867594354163.\n",
      "[I 2025-02-10 20:34:47,105] Trial 35 finished with value: 0.5562273015768222 and parameters: {'n_estimators': 161, 'max_depth': 13, 'min_samples_split': 3, 'min_samples_leaf': 2, 'max_features': None}. Best is trial 21 with value: 0.6540867594354163.\n",
      "[I 2025-02-10 20:35:39,929] Trial 36 finished with value: 0.6136252140541039 and parameters: {'n_estimators': 81, 'max_depth': 28, 'min_samples_split': 7, 'min_samples_leaf': 13, 'max_features': None}. Best is trial 21 with value: 0.6540867594354163.\n",
      "[I 2025-02-10 20:35:46,154] Trial 37 finished with value: 0.4984925076069249 and parameters: {'n_estimators': 102, 'max_depth': 11, 'min_samples_split': 5, 'min_samples_leaf': 10, 'max_features': 'sqrt'}. Best is trial 21 with value: 0.6540867594354163.\n",
      "[I 2025-02-10 20:36:09,288] Trial 38 finished with value: 0.6073376262367469 and parameters: {'n_estimators': 200, 'max_depth': 24, 'min_samples_split': 2, 'min_samples_leaf': 4, 'max_features': 'log2'}. Best is trial 21 with value: 0.6540867594354163.\n",
      "[I 2025-02-10 20:38:23,216] Trial 39 finished with value: 0.6251884493318501 and parameters: {'n_estimators': 186, 'max_depth': 26, 'min_samples_split': 3, 'min_samples_leaf': 9, 'max_features': None}. Best is trial 21 with value: 0.6540867594354163.\n",
      "[I 2025-02-10 20:44:34,542] Trial 40 finished with value: 0.6404955293800683 and parameters: {'n_estimators': 496, 'max_depth': 29, 'min_samples_split': 7, 'min_samples_leaf': 6, 'max_features': None}. Best is trial 21 with value: 0.6540867594354163.\n",
      "[I 2025-02-10 20:47:55,396] Trial 41 finished with value: 0.6542367765718023 and parameters: {'n_estimators': 267, 'max_depth': 27, 'min_samples_split': 4, 'min_samples_leaf': 3, 'max_features': None}. Best is trial 41 with value: 0.6542367765718023.\n",
      "[I 2025-02-10 20:48:24,097] Trial 42 finished with value: 0.245972671265173 and parameters: {'n_estimators': 263, 'max_depth': 3, 'min_samples_split': 5, 'min_samples_leaf': 2, 'max_features': None}. Best is trial 41 with value: 0.6542367765718023.\n",
      "[I 2025-02-10 20:49:25,659] Trial 43 finished with value: 0.6291227059524053 and parameters: {'n_estimators': 103, 'max_depth': 24, 'min_samples_split': 20, 'min_samples_leaf': 4, 'max_features': None}. Best is trial 41 with value: 0.6542367765718023.\n",
      "[I 2025-02-10 20:49:37,744] Trial 44 finished with value: 0.4147028875337238 and parameters: {'n_estimators': 328, 'max_depth': 7, 'min_samples_split': 16, 'min_samples_leaf': 1, 'max_features': 'log2'}. Best is trial 41 with value: 0.6542367765718023.\n",
      "[I 2025-02-10 20:50:51,412] Trial 45 finished with value: 0.6395976696829963 and parameters: {'n_estimators': 144, 'max_depth': 29, 'min_samples_split': 6, 'min_samples_leaf': 6, 'max_features': None}. Best is trial 41 with value: 0.6542367765718023.\n",
      "[I 2025-02-10 20:51:38,993] Trial 46 finished with value: 0.6500287657037247 and parameters: {'n_estimators': 89, 'max_depth': 26, 'min_samples_split': 3, 'min_samples_leaf': 3, 'max_features': None}. Best is trial 41 with value: 0.6542367765718023.\n",
      "[I 2025-02-10 20:53:44,348] Trial 47 finished with value: 0.6371605962139271 and parameters: {'n_estimators': 254, 'max_depth': 21, 'min_samples_split': 4, 'min_samples_leaf': 2, 'max_features': None}. Best is trial 41 with value: 0.6542367765718023.\n",
      "[I 2025-02-10 20:56:02,368] Trial 48 finished with value: 0.6186305193462153 and parameters: {'n_estimators': 285, 'max_depth': 30, 'min_samples_split': 7, 'min_samples_leaf': 12, 'max_features': None}. Best is trial 41 with value: 0.6542367765718023.\n",
      "[I 2025-02-10 20:56:22,774] Trial 49 finished with value: 0.6073661456857237 and parameters: {'n_estimators': 213, 'max_depth': 24, 'min_samples_split': 2, 'min_samples_leaf': 4, 'max_features': 'log2'}. Best is trial 41 with value: 0.6542367765718023.\n"
     ]
    },
    {
     "name": "stdout",
     "output_type": "stream",
     "text": [
      "Best Hyperparameters: {'n_estimators': 267, 'max_depth': 27, 'min_samples_split': 4, 'min_samples_leaf': 3, 'max_features': None}\n",
      "Best F1 Score: 0.6542367765718023\n"
     ]
    }
   ],
   "source": [
    "study = optuna.create_study(direction=\"maximize\")  # Maximize F1-score\n",
    "study.optimize(objective, n_trials=50)  # Run 50 trials\n",
    "\n",
    "# Best parameters\n",
    "print(\"Best Hyperparameters:\", study.best_params)\n",
    "print(\"Best F1 Score:\", study.best_value)\n"
   ]
  },
  {
   "cell_type": "code",
   "execution_count": null,
   "metadata": {},
   "outputs": [],
   "source": [
    "best_params = study.best_params\n",
    "\n",
    "best_model = RandomForestClassifier(**best_params, random_state=42, n_jobs=-1)\n",
    "best_model.fit(X_train, y_train)\n",
    "\n",
    "# save the model param to a pickle file\n",
    "joblib.dump(best_model, \"best_random_forest.pkl\")\n"
   ]
  }
 ],
 "metadata": {
  "kernelspec": {
   "display_name": "mls_env",
   "language": "python",
   "name": "python3"
  },
  "language_info": {
   "codemirror_mode": {
    "name": "ipython",
    "version": 3
   },
   "file_extension": ".py",
   "mimetype": "text/x-python",
   "name": "python",
   "nbconvert_exporter": "python",
   "pygments_lexer": "ipython3",
   "version": "3.11.5"
  }
 },
 "nbformat": 4,
 "nbformat_minor": 2
}
