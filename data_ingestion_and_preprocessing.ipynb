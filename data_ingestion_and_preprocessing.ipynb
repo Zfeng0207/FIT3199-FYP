{
  "nbformat": 4,
  "nbformat_minor": 0,
  "metadata": {
    "colab": {
      "provenance": [],
      "machine_shape": "hm",
      "gpuType": "T4",
      "authorship_tag": "ABX9TyP3Ym8G1mlax66intuDIoc5",
      "include_colab_link": true
    },
    "kernelspec": {
      "name": "python3",
      "display_name": "Python 3"
    },
    "language_info": {
      "name": "python"
    },
    "accelerator": "GPU"
  },
  "cells": [
    {
      "cell_type": "markdown",
      "metadata": {
        "id": "view-in-github",
        "colab_type": "text"
      },
      "source": [
        "<a href=\"https://colab.research.google.com/github/Zfeng0207/FIT3199-FYP/blob/dev%2Fzfeng/data_ingestion_and_preprocessing.ipynb\" target=\"_parent\"><img src=\"https://colab.research.google.com/assets/colab-badge.svg\" alt=\"Open In Colab\"/></a>"
      ]
    },
    {
      "cell_type": "code",
      "source": [
        "from google.colab import drive\n",
        "# drive.mount('/content/drive')\n",
        "drive.mount('/content/drive',force_remount=True)"
      ],
      "metadata": {
        "colab": {
          "base_uri": "https://localhost:8080/"
        },
        "id": "wbenQKINWOcR",
        "outputId": "f373e917-f3c6-422f-d098-9290d86510c3"
      },
      "execution_count": 39,
      "outputs": [
        {
          "output_type": "stream",
          "name": "stdout",
          "text": [
            "Mounted at /content/drive\n"
          ]
        }
      ]
    },
    {
      "cell_type": "code",
      "source": [
        "import os"
      ],
      "metadata": {
        "id": "Q-oUNQEgWP1y"
      },
      "execution_count": 18,
      "outputs": []
    },
    {
      "cell_type": "code",
      "source": [
        "!pip install -qqq wfdb resampy icd-mappings"
      ],
      "metadata": {
        "id": "dUla4ol8Wm11"
      },
      "execution_count": 19,
      "outputs": []
    },
    {
      "cell_type": "code",
      "execution_count": 20,
      "metadata": {
        "id": "7YVnMU0Z8kyr"
      },
      "outputs": [],
      "source": [
        "import sys\n",
        "sys.path.append('/content/drive/MyDrive/Colab Notebooks/ECG-MIMIC-main/src')\n",
        "\n",
        "from icdmappings import Mapper\n",
        "import argparse\n",
        "import pandas as pd\n",
        "import numpy as np\n",
        "from pathlib import Path\n",
        "import wfdb\n",
        "from tqdm.auto import tqdm\n",
        "from extract_headers import extract_and_open_files_in_zip"
      ]
    },
    {
      "cell_type": "code",
      "execution_count": 21,
      "metadata": {
        "id": "w6NYtxbm-VbY"
      },
      "outputs": [],
      "source": [
        "sys.path.append('/content/drive/MyDrive/Colab Notebooks/ECG-MIMIC-main/src')\n",
        "\n",
        "# from icdmappings import Mapper\n",
        "from ecg_utils import prepare_mimicecg\n",
        "from mimic_ecg_preprocessing import prepare_mimic_ecg"
      ]
    },
    {
      "cell_type": "code",
      "execution_count": 22,
      "metadata": {
        "id": "XXz__-DJ_WzO"
      },
      "outputs": [],
      "source": [
        "sys.path.append('/content/drive/MyDrive/Colab Notebooks/ECG-MIMIC-main/src/utils')\n",
        "\n",
        "from timeseries_utils import reformat_as_memmap\n",
        "from stratify import stratified_subsets"
      ]
    },
    {
      "cell_type": "code",
      "source": [
        "project_path = \"/content/drive/MyDrive/Colab Notebooks/ECG-MIMIC-main/\""
      ],
      "metadata": {
        "id": "N2WKKiSX24bh"
      },
      "execution_count": 23,
      "outputs": []
    },
    {
      "cell_type": "markdown",
      "source": [],
      "metadata": {
        "id": "xIMkSMfvZIfi"
      }
    },
    {
      "cell_type": "code",
      "source": [
        "mimic_path = Path(project_path + \"mimic-iv-2.2\")\n",
        "zip_file_path = Path(project_path + \"MIMIC-IV-ECG zip file/mimic-iv-ecg.zip\")\n",
        "target_path = Path(project_path + \"src/preprocessed_data\",)\n",
        "\n",
        "print(\"MIMIC Path:\", mimic_path)\n",
        "print(\"Zip Path:\", zip_file_path)\n",
        "print(\"Target Path:\", target_path)"
      ],
      "metadata": {
        "colab": {
          "base_uri": "https://localhost:8080/"
        },
        "id": "1YAPVCHwbGJ0",
        "outputId": "4b76976a-bed0-4156-e6d6-40ac222e89be"
      },
      "execution_count": 24,
      "outputs": [
        {
          "output_type": "stream",
          "name": "stdout",
          "text": [
            "MIMIC Path: /content/drive/MyDrive/Colab Notebooks/ECG-MIMIC-main/mimic-iv-2.2\n",
            "Zip Path: /content/drive/MyDrive/Colab Notebooks/ECG-MIMIC-main/MIMIC-IV-ECG zip file/mimic-iv-ecg.zip\n",
            "Target Path: /content/drive/MyDrive/Colab Notebooks/ECG-MIMIC-main/src/preprocessed_data\n"
          ]
        }
      ]
    },
    {
      "cell_type": "markdown",
      "source": [
        "## Step 1: Extract available records from mimic-ecg-zip-path to create records.pkl"
      ],
      "metadata": {
        "id": "7HDmHa_CZLoB"
      }
    },
    {
      "cell_type": "code",
      "source": [
        "if(Path(project_path+\"records.pkl\").exists()):\n",
        "    print(\"Skipping: using existing records.pkl\")\n",
        "    df = pd.read_pickle(project_path+\"records.pkl\")\n",
        "else:\n",
        "    print(\"Creating records.pkl\")\n",
        "    df=extract_and_open_files_in_zip(zip_file_path, \".hea\")\n",
        "    df.to_pickle(project_path / \"records.pkl\")"
      ],
      "metadata": {
        "id": "fqTcMF6XZJ1m",
        "outputId": "eddc5881-19c3-4555-ed61-8d4ba333098a",
        "colab": {
          "base_uri": "https://localhost:8080/"
        }
      },
      "execution_count": 25,
      "outputs": [
        {
          "output_type": "stream",
          "name": "stdout",
          "text": [
            "Skipping: using existing records.pkl\n"
          ]
        }
      ]
    },
    {
      "cell_type": "code",
      "source": [
        "print(\"Contents of records.pkl file\")\n",
        "df.head()"
      ],
      "metadata": {
        "id": "PLU7XAkr4Mkv",
        "colab": {
          "base_uri": "https://localhost:8080/",
          "height": 224
        },
        "outputId": "56b7b41c-2303-4500-bd97-7c1316c595a5"
      },
      "execution_count": 26,
      "outputs": [
        {
          "output_type": "stream",
          "name": "stdout",
          "text": [
            "Contents of records.pkl file\n"
          ]
        },
        {
          "output_type": "execute_result",
          "data": {
            "text/plain": [
              "                                            filename  study_id  patient_id  \\\n",
              "0  mimic-iv-ecg/files/p1188/p11887165/s43591201/4...  43591201    11887165   \n",
              "1  mimic-iv-ecg/files/p1188/p11887165/s49748010/4...  49748010    11887165   \n",
              "2  mimic-iv-ecg/files/p1188/p11887165/s49403776/4...  49403776    11887165   \n",
              "3  mimic-iv-ecg/files/p1188/p11887165/s43634761/4...  43634761    11887165   \n",
              "4  mimic-iv-ecg/files/p1188/p11887165/s45332981/4...  45332981    11887165   \n",
              "\n",
              "             ecg_time  \n",
              "0 2189-05-18 07:56:00  \n",
              "1 2189-06-01 11:05:00  \n",
              "2 2189-05-20 16:40:00  \n",
              "3 2189-05-31 10:42:00  \n",
              "4 2189-06-02 10:32:00  "
            ],
            "text/html": [
              "\n",
              "  <div id=\"df-cee97978-9860-4fdc-9bdb-cd038c0a6af1\" class=\"colab-df-container\">\n",
              "    <div>\n",
              "<style scoped>\n",
              "    .dataframe tbody tr th:only-of-type {\n",
              "        vertical-align: middle;\n",
              "    }\n",
              "\n",
              "    .dataframe tbody tr th {\n",
              "        vertical-align: top;\n",
              "    }\n",
              "\n",
              "    .dataframe thead th {\n",
              "        text-align: right;\n",
              "    }\n",
              "</style>\n",
              "<table border=\"1\" class=\"dataframe\">\n",
              "  <thead>\n",
              "    <tr style=\"text-align: right;\">\n",
              "      <th></th>\n",
              "      <th>filename</th>\n",
              "      <th>study_id</th>\n",
              "      <th>patient_id</th>\n",
              "      <th>ecg_time</th>\n",
              "    </tr>\n",
              "  </thead>\n",
              "  <tbody>\n",
              "    <tr>\n",
              "      <th>0</th>\n",
              "      <td>mimic-iv-ecg/files/p1188/p11887165/s43591201/4...</td>\n",
              "      <td>43591201</td>\n",
              "      <td>11887165</td>\n",
              "      <td>2189-05-18 07:56:00</td>\n",
              "    </tr>\n",
              "    <tr>\n",
              "      <th>1</th>\n",
              "      <td>mimic-iv-ecg/files/p1188/p11887165/s49748010/4...</td>\n",
              "      <td>49748010</td>\n",
              "      <td>11887165</td>\n",
              "      <td>2189-06-01 11:05:00</td>\n",
              "    </tr>\n",
              "    <tr>\n",
              "      <th>2</th>\n",
              "      <td>mimic-iv-ecg/files/p1188/p11887165/s49403776/4...</td>\n",
              "      <td>49403776</td>\n",
              "      <td>11887165</td>\n",
              "      <td>2189-05-20 16:40:00</td>\n",
              "    </tr>\n",
              "    <tr>\n",
              "      <th>3</th>\n",
              "      <td>mimic-iv-ecg/files/p1188/p11887165/s43634761/4...</td>\n",
              "      <td>43634761</td>\n",
              "      <td>11887165</td>\n",
              "      <td>2189-05-31 10:42:00</td>\n",
              "    </tr>\n",
              "    <tr>\n",
              "      <th>4</th>\n",
              "      <td>mimic-iv-ecg/files/p1188/p11887165/s45332981/4...</td>\n",
              "      <td>45332981</td>\n",
              "      <td>11887165</td>\n",
              "      <td>2189-06-02 10:32:00</td>\n",
              "    </tr>\n",
              "  </tbody>\n",
              "</table>\n",
              "</div>\n",
              "    <div class=\"colab-df-buttons\">\n",
              "\n",
              "  <div class=\"colab-df-container\">\n",
              "    <button class=\"colab-df-convert\" onclick=\"convertToInteractive('df-cee97978-9860-4fdc-9bdb-cd038c0a6af1')\"\n",
              "            title=\"Convert this dataframe to an interactive table.\"\n",
              "            style=\"display:none;\">\n",
              "\n",
              "  <svg xmlns=\"http://www.w3.org/2000/svg\" height=\"24px\" viewBox=\"0 -960 960 960\">\n",
              "    <path d=\"M120-120v-720h720v720H120Zm60-500h600v-160H180v160Zm220 220h160v-160H400v160Zm0 220h160v-160H400v160ZM180-400h160v-160H180v160Zm440 0h160v-160H620v160ZM180-180h160v-160H180v160Zm440 0h160v-160H620v160Z\"/>\n",
              "  </svg>\n",
              "    </button>\n",
              "\n",
              "  <style>\n",
              "    .colab-df-container {\n",
              "      display:flex;\n",
              "      gap: 12px;\n",
              "    }\n",
              "\n",
              "    .colab-df-convert {\n",
              "      background-color: #E8F0FE;\n",
              "      border: none;\n",
              "      border-radius: 50%;\n",
              "      cursor: pointer;\n",
              "      display: none;\n",
              "      fill: #1967D2;\n",
              "      height: 32px;\n",
              "      padding: 0 0 0 0;\n",
              "      width: 32px;\n",
              "    }\n",
              "\n",
              "    .colab-df-convert:hover {\n",
              "      background-color: #E2EBFA;\n",
              "      box-shadow: 0px 1px 2px rgba(60, 64, 67, 0.3), 0px 1px 3px 1px rgba(60, 64, 67, 0.15);\n",
              "      fill: #174EA6;\n",
              "    }\n",
              "\n",
              "    .colab-df-buttons div {\n",
              "      margin-bottom: 4px;\n",
              "    }\n",
              "\n",
              "    [theme=dark] .colab-df-convert {\n",
              "      background-color: #3B4455;\n",
              "      fill: #D2E3FC;\n",
              "    }\n",
              "\n",
              "    [theme=dark] .colab-df-convert:hover {\n",
              "      background-color: #434B5C;\n",
              "      box-shadow: 0px 1px 3px 1px rgba(0, 0, 0, 0.15);\n",
              "      filter: drop-shadow(0px 1px 2px rgba(0, 0, 0, 0.3));\n",
              "      fill: #FFFFFF;\n",
              "    }\n",
              "  </style>\n",
              "\n",
              "    <script>\n",
              "      const buttonEl =\n",
              "        document.querySelector('#df-cee97978-9860-4fdc-9bdb-cd038c0a6af1 button.colab-df-convert');\n",
              "      buttonEl.style.display =\n",
              "        google.colab.kernel.accessAllowed ? 'block' : 'none';\n",
              "\n",
              "      async function convertToInteractive(key) {\n",
              "        const element = document.querySelector('#df-cee97978-9860-4fdc-9bdb-cd038c0a6af1');\n",
              "        const dataTable =\n",
              "          await google.colab.kernel.invokeFunction('convertToInteractive',\n",
              "                                                    [key], {});\n",
              "        if (!dataTable) return;\n",
              "\n",
              "        const docLinkHtml = 'Like what you see? Visit the ' +\n",
              "          '<a target=\"_blank\" href=https://colab.research.google.com/notebooks/data_table.ipynb>data table notebook</a>'\n",
              "          + ' to learn more about interactive tables.';\n",
              "        element.innerHTML = '';\n",
              "        dataTable['output_type'] = 'display_data';\n",
              "        await google.colab.output.renderOutput(dataTable, element);\n",
              "        const docLink = document.createElement('div');\n",
              "        docLink.innerHTML = docLinkHtml;\n",
              "        element.appendChild(docLink);\n",
              "      }\n",
              "    </script>\n",
              "  </div>\n",
              "\n",
              "\n",
              "<div id=\"df-fd80d887-5401-4959-842d-3cbae7d63ab4\">\n",
              "  <button class=\"colab-df-quickchart\" onclick=\"quickchart('df-fd80d887-5401-4959-842d-3cbae7d63ab4')\"\n",
              "            title=\"Suggest charts\"\n",
              "            style=\"display:none;\">\n",
              "\n",
              "<svg xmlns=\"http://www.w3.org/2000/svg\" height=\"24px\"viewBox=\"0 0 24 24\"\n",
              "     width=\"24px\">\n",
              "    <g>\n",
              "        <path d=\"M19 3H5c-1.1 0-2 .9-2 2v14c0 1.1.9 2 2 2h14c1.1 0 2-.9 2-2V5c0-1.1-.9-2-2-2zM9 17H7v-7h2v7zm4 0h-2V7h2v10zm4 0h-2v-4h2v4z\"/>\n",
              "    </g>\n",
              "</svg>\n",
              "  </button>\n",
              "\n",
              "<style>\n",
              "  .colab-df-quickchart {\n",
              "      --bg-color: #E8F0FE;\n",
              "      --fill-color: #1967D2;\n",
              "      --hover-bg-color: #E2EBFA;\n",
              "      --hover-fill-color: #174EA6;\n",
              "      --disabled-fill-color: #AAA;\n",
              "      --disabled-bg-color: #DDD;\n",
              "  }\n",
              "\n",
              "  [theme=dark] .colab-df-quickchart {\n",
              "      --bg-color: #3B4455;\n",
              "      --fill-color: #D2E3FC;\n",
              "      --hover-bg-color: #434B5C;\n",
              "      --hover-fill-color: #FFFFFF;\n",
              "      --disabled-bg-color: #3B4455;\n",
              "      --disabled-fill-color: #666;\n",
              "  }\n",
              "\n",
              "  .colab-df-quickchart {\n",
              "    background-color: var(--bg-color);\n",
              "    border: none;\n",
              "    border-radius: 50%;\n",
              "    cursor: pointer;\n",
              "    display: none;\n",
              "    fill: var(--fill-color);\n",
              "    height: 32px;\n",
              "    padding: 0;\n",
              "    width: 32px;\n",
              "  }\n",
              "\n",
              "  .colab-df-quickchart:hover {\n",
              "    background-color: var(--hover-bg-color);\n",
              "    box-shadow: 0 1px 2px rgba(60, 64, 67, 0.3), 0 1px 3px 1px rgba(60, 64, 67, 0.15);\n",
              "    fill: var(--button-hover-fill-color);\n",
              "  }\n",
              "\n",
              "  .colab-df-quickchart-complete:disabled,\n",
              "  .colab-df-quickchart-complete:disabled:hover {\n",
              "    background-color: var(--disabled-bg-color);\n",
              "    fill: var(--disabled-fill-color);\n",
              "    box-shadow: none;\n",
              "  }\n",
              "\n",
              "  .colab-df-spinner {\n",
              "    border: 2px solid var(--fill-color);\n",
              "    border-color: transparent;\n",
              "    border-bottom-color: var(--fill-color);\n",
              "    animation:\n",
              "      spin 1s steps(1) infinite;\n",
              "  }\n",
              "\n",
              "  @keyframes spin {\n",
              "    0% {\n",
              "      border-color: transparent;\n",
              "      border-bottom-color: var(--fill-color);\n",
              "      border-left-color: var(--fill-color);\n",
              "    }\n",
              "    20% {\n",
              "      border-color: transparent;\n",
              "      border-left-color: var(--fill-color);\n",
              "      border-top-color: var(--fill-color);\n",
              "    }\n",
              "    30% {\n",
              "      border-color: transparent;\n",
              "      border-left-color: var(--fill-color);\n",
              "      border-top-color: var(--fill-color);\n",
              "      border-right-color: var(--fill-color);\n",
              "    }\n",
              "    40% {\n",
              "      border-color: transparent;\n",
              "      border-right-color: var(--fill-color);\n",
              "      border-top-color: var(--fill-color);\n",
              "    }\n",
              "    60% {\n",
              "      border-color: transparent;\n",
              "      border-right-color: var(--fill-color);\n",
              "    }\n",
              "    80% {\n",
              "      border-color: transparent;\n",
              "      border-right-color: var(--fill-color);\n",
              "      border-bottom-color: var(--fill-color);\n",
              "    }\n",
              "    90% {\n",
              "      border-color: transparent;\n",
              "      border-bottom-color: var(--fill-color);\n",
              "    }\n",
              "  }\n",
              "</style>\n",
              "\n",
              "  <script>\n",
              "    async function quickchart(key) {\n",
              "      const quickchartButtonEl =\n",
              "        document.querySelector('#' + key + ' button');\n",
              "      quickchartButtonEl.disabled = true;  // To prevent multiple clicks.\n",
              "      quickchartButtonEl.classList.add('colab-df-spinner');\n",
              "      try {\n",
              "        const charts = await google.colab.kernel.invokeFunction(\n",
              "            'suggestCharts', [key], {});\n",
              "      } catch (error) {\n",
              "        console.error('Error during call to suggestCharts:', error);\n",
              "      }\n",
              "      quickchartButtonEl.classList.remove('colab-df-spinner');\n",
              "      quickchartButtonEl.classList.add('colab-df-quickchart-complete');\n",
              "    }\n",
              "    (() => {\n",
              "      let quickchartButtonEl =\n",
              "        document.querySelector('#df-fd80d887-5401-4959-842d-3cbae7d63ab4 button');\n",
              "      quickchartButtonEl.style.display =\n",
              "        google.colab.kernel.accessAllowed ? 'block' : 'none';\n",
              "    })();\n",
              "  </script>\n",
              "</div>\n",
              "\n",
              "    </div>\n",
              "  </div>\n"
            ],
            "application/vnd.google.colaboratory.intrinsic+json": {
              "type": "dataframe",
              "variable_name": "df"
            }
          },
          "metadata": {},
          "execution_count": 26
        }
      ]
    },
    {
      "cell_type": "markdown",
      "source": [
        "## Step 2: Extract diagnoses for records in raw format to create records_w_diag.pkl"
      ],
      "metadata": {
        "id": "7xSRWNBOdpRG"
      }
    },
    {
      "cell_type": "markdown",
      "source": [
        "### [Preview] Diagnoses with ICD codes and description"
      ],
      "metadata": {
        "id": "5Gp1E_52_GHb"
      }
    },
    {
      "cell_type": "code",
      "source": [
        "mapper = Mapper()\n",
        "\n",
        "df_hosp_icd_description = pd.read_csv(mimic_path/\"hosp/d_icd_diagnoses.csv.gz\")\n",
        "print(\"df_hosp_icd_description\",df_hosp_icd_description.shape)\n",
        "\n",
        "#creating mapping of icd9 to icd10\n",
        "df_hosp_icd_description[\"icd10_code\"]=df_hosp_icd_description.apply(lambda row:row[\"icd_code\"] if row[\"icd_version\"]==10 else mapper.map(row[\"icd_code\"], source=\"icd9\", target=\"icd10\"),axis=1)#mapper=\"icd9toicd10\"\n",
        "#creates a key value pair mapping from icd9 to icd10\n",
        "icd_mapping = {ic:ic10 for ic,ic10 in zip(df_hosp_icd_description[\"icd_code\"],df_hosp_icd_description[\"icd10_code\"])}\n",
        "\n",
        "print(\"\\nContents of d_icd_diagnoses.csv.gz:\\n\")\n",
        "print(df_hosp_icd_description.head())\n"
      ],
      "metadata": {
        "id": "Yzf0uKPRyC6Z",
        "colab": {
          "base_uri": "https://localhost:8080/"
        },
        "outputId": "046d55d8-636c-4c2e-bcdf-4065054e6aa1"
      },
      "execution_count": 27,
      "outputs": [
        {
          "output_type": "stream",
          "name": "stdout",
          "text": [
            "df_hosp_icd_description (109775, 3)\n",
            "\n",
            "Contents of d_icd_diagnoses.csv.gz:\n",
            "\n",
            "  icd_code  icd_version                             long_title icd10_code\n",
            "0     0010            9         Cholera due to vibrio cholerae       A000\n",
            "1     0011            9  Cholera due to vibrio cholerae el tor       A001\n",
            "2     0019            9                   Cholera, unspecified       A009\n",
            "3     0020            9                          Typhoid fever      A0100\n",
            "4     0021            9                    Paratyphoid fever A       A011\n"
          ]
        }
      ]
    },
    {
      "cell_type": "markdown",
      "source": [
        "### Getting the admission records for hosp and ed stays that falls within the ecg time\n"
      ],
      "metadata": {
        "id": "-vbDlWJ458vb"
      }
    },
    {
      "cell_type": "markdown",
      "source": [
        "get_diagnosis_hosp outputs:\n",
        "- A list of ICD codes representing the diagnoses associated with the patient's hospital admission during the ECG time.\n",
        "\n",
        "- The hadm_id (hospital admission ID). If no matching admission was found, it returns an empty list and np.nan."
      ],
      "metadata": {
        "id": "ijcHI8s283I1"
      }
    },
    {
      "cell_type": "code",
      "source": [
        "def get_diagnosis_hosp(patient_id, ecg_time):\n",
        "    # Get the hospital admission record for the patient_id within the ECG time\n",
        "    df_ecg_during_hosp = df_hosp_admissions[(df_hosp_admissions.subject_id==patient_id) & (df_hosp_admissions.admittime<ecg_time) & ((df_hosp_admissions.dischtime>ecg_time)|(df_hosp_admissions.deathtime>ecg_time))]\n",
        "    if(len(df_ecg_during_hosp)==0):\n",
        "        return [],np.nan\n",
        "    else:\n",
        "        if(len(df_ecg_during_hosp)>1):\n",
        "            print(\"Error in get_diagnosis_hosp: multiple entries for\",patient_id,ecg_time,\". Considering only the first one.\")\n",
        "        hadm_id=df_ecg_during_hosp.hadm_id.iloc[0]\n",
        "        return list(df_hosp_icd_diagnoses[(df_hosp_icd_diagnoses.subject_id==patient_id)&(df_hosp_icd_diagnoses.hadm_id==hadm_id)].sort_values(by=['seq_num']).icd_code), hadm_id #diags_hosp, hadm_id"
      ],
      "metadata": {
        "id": "0nDQZxEpyNYp"
      },
      "execution_count": 28,
      "outputs": []
    },
    {
      "cell_type": "markdown",
      "source": [
        "get_diagnosis_ed outputs:\n",
        "\n",
        "**Aims to return ED diagnoses (res) and the ED stay ID (stay_id).**\n",
        "\n",
        "- If also_hosp_diag is True, it additionally provides hospital admission diagnoses (res2) and the admission ID (hadm_id) if available.\n",
        "\n",
        "- If no matching ED stay is found, it returns empty lists and np.nan for IDs, indicating no relevant data."
      ],
      "metadata": {
        "id": "3e84zZZ_-Pbu"
      }
    },
    {
      "cell_type": "code",
      "source": [
        "def get_diagnosis_ed(patient_id, ecg_time,also_hosp_diag=True):\n",
        "    df_ecg_during_ed = df_ed_stays[(df_ed_stays.subject_id==patient_id) & (df_ed_stays.intime<ecg_time) & (df_ed_stays.outtime>ecg_time)]\n",
        "    if(len(df_ecg_during_ed)==0):\n",
        "        return ([],[],np.nan,np.nan) if also_hosp_diag else ([],np.nan)\n",
        "    else:\n",
        "        if(len(df_ecg_during_ed)>1):\n",
        "            print(\"Error in get_diagnosis_ed: multiple entries for\",patient_id,ecg_time,\". Considering only the first one.\")\n",
        "        stay_id=df_ecg_during_ed.stay_id.iloc[0]\n",
        "        hadm_id=df_ecg_during_ed.hadm_id.iloc[0]#potentially none\n",
        "        res=list(df_ed_diagnosis[(df_ed_diagnosis.subject_id==patient_id)&(df_ed_diagnosis.hadm_id==stay_id)].sort_values(by=['seq_num']).icd_code)\n",
        "        if(also_hosp_diag):\n",
        "            res2=list(df_hosp_icd_diagnoses[(df_hosp_icd_diagnoses.subject_id==patient_id)&(df_hosp_icd_diagnoses.hadm_id==hadm_id)].sort_values(by=['seq_num']).icd_code)\n",
        "            return res, res2, stay_id, (np.nan if hadm_id is None else hadm_id) #diags_ed, diags_hosp, stay_id, hadm_id\n",
        "        else:\n",
        "            return res, stay_id #diags_ed, stay_id"
      ],
      "metadata": {
        "id": "mDLm4nQYyQSG"
      },
      "execution_count": 29,
      "outputs": []
    },
    {
      "cell_type": "code",
      "source": [
        "df_hosp_icd_diagnoses = pd.read_csv(mimic_path/\"hosp/diagnoses_icd.csv.gz\")\n",
        "print(\"df_hosp_icd_diagnoses\",df_hosp_icd_diagnoses.shape)"
      ],
      "metadata": {
        "id": "cgJAlcg-_Tft",
        "colab": {
          "base_uri": "https://localhost:8080/"
        },
        "outputId": "e1187c9c-75ee-4f99-a99e-fb6f0c696cf4"
      },
      "execution_count": 30,
      "outputs": [
        {
          "output_type": "stream",
          "name": "stdout",
          "text": [
            "df_hosp_icd_diagnoses (4756326, 5)\n"
          ]
        }
      ]
    },
    {
      "cell_type": "code",
      "source": [
        "df_hosp_admissions = pd.read_csv(mimic_path/\"hosp/admissions.csv.gz\")\n",
        "print(\"df_hosp_admissions\",df_hosp_admissions.shape)"
      ],
      "metadata": {
        "id": "Bz13IqcI_cR7",
        "colab": {
          "base_uri": "https://localhost:8080/"
        },
        "outputId": "4cf6483c-6c90-4e4d-f7f5-0aefd982c6c8"
      },
      "execution_count": 31,
      "outputs": [
        {
          "output_type": "stream",
          "name": "stdout",
          "text": [
            "df_hosp_admissions (431231, 16)\n"
          ]
        }
      ]
    },
    {
      "cell_type": "code",
      "source": [
        "df_ed_stays = pd.read_csv(mimic_path/\"icu/icustays.csv.gz\")\n",
        "print(\"df_ed_stays\",df_ed_stays.shape)"
      ],
      "metadata": {
        "id": "xWNdSmj-_jEz",
        "colab": {
          "base_uri": "https://localhost:8080/"
        },
        "outputId": "28c22ae2-8f7b-45dd-82f0-89b25bd717b9"
      },
      "execution_count": 32,
      "outputs": [
        {
          "output_type": "stream",
          "name": "stdout",
          "text": [
            "df_ed_stays (73181, 8)\n"
          ]
        }
      ]
    },
    {
      "cell_type": "code",
      "source": [
        "if((target_path/\"records_w_diag.pkl\").exists()):\n",
        "    print(\"Skipping: using existing records_w_diag.pkl\")\n",
        "    df_full = pd.read_pickle(target_path/\"records_w_diag.pkl\")\n",
        "else:\n",
        "    print(\"Creating records_w_diag.pkl\")\n",
        "    df_hosp_admissions[\"admittime\"]=pd.to_datetime(df_hosp_admissions[\"admittime\"])\n",
        "    df_hosp_admissions[\"dischtime\"]=pd.to_datetime(df_hosp_admissions[\"dischtime\"]) #discharge time\n",
        "    df_hosp_admissions[\"deathtime\"]=pd.to_datetime(df_hosp_admissions[\"deathtime\"])\n",
        "\n",
        "\n",
        "    df_ed_stays[\"intime\"]=pd.to_datetime(df_ed_stays[\"intime\"])\n",
        "    df_ed_stays[\"outtime\"]=pd.to_datetime(df_ed_stays[\"outtime\"])\n",
        "    df_ed_diagnosis = pd.read_csv(mimic_path/\"hosp/diagnoses_icd.csv.gz\")\n",
        "\n",
        "    result=[]\n",
        "    for id,row in tqdm(df.iterrows(),total=len(df)):\n",
        "        tmp={}\n",
        "        tmp[\"filename\"]=row[\"filename\"]\n",
        "        tmp[\"study_id\"]=row[\"study_id\"]\n",
        "        tmp[\"patient_id\"]=row[\"patient_id\"]\n",
        "        tmp[\"ecg_time\"]=row[\"ecg_time\"]\n",
        "        hosp_diag_hosp, hosp_hadm_id =get_diagnosis_hosp(row[\"patient_id\"], row[\"ecg_time\"])\n",
        "        tmp[\"hosp_diag_hosp\"] = hosp_diag_hosp\n",
        "        tmp[\"hosp_hadm_id\"] =hosp_hadm_id\n",
        "        ed_diag_ed,ed_diag_hosp,ed_stay_id,ed_hadm_id = get_diagnosis_ed(row[\"patient_id\"], row[\"ecg_time\"])\n",
        "        tmp[\"ed_diag_ed\"]=ed_diag_ed\n",
        "        tmp[\"ed_diag_hosp\"]=ed_diag_hosp\n",
        "        tmp[\"ed_stay_id\"]=ed_stay_id\n",
        "        tmp[\"ed_hadm_id\"]=ed_hadm_id\n",
        "        result.append(tmp)\n",
        "\n",
        "    df_full = pd.DataFrame(result)\n",
        "    df_full[\"hosp_diag_hosp\"]=df_full[\"hosp_diag_hosp\"].apply(lambda x: [] if x is None else x)\n",
        "    df_full.to_pickle(target_path/\"records_w_diag.pkl\")"
      ],
      "metadata": {
        "id": "HIW8Oew2dydw",
        "colab": {
          "base_uri": "https://localhost:8080/"
        },
        "outputId": "62d965d1-fc54-49cd-aa6f-88764bc4c8eb"
      },
      "execution_count": 33,
      "outputs": [
        {
          "output_type": "stream",
          "name": "stdout",
          "text": [
            "Skipping: using existing records_w_diag.pkl\n"
          ]
        }
      ]
    },
    {
      "cell_type": "code",
      "source": [
        "# df_full = pd.read_pickle(target_path/\"records_w_diag.pkl\")\n",
        "df_full.head()"
      ],
      "metadata": {
        "id": "rFirjOvUa54_",
        "colab": {
          "base_uri": "https://localhost:8080/",
          "height": 293
        },
        "outputId": "d1c5453c-7e3a-45ad-ebe6-83334cb2bf6d"
      },
      "execution_count": 34,
      "outputs": [
        {
          "output_type": "execute_result",
          "data": {
            "text/plain": [
              "                                            filename  study_id  patient_id  \\\n",
              "0  mimic-iv-ecg/files/p1188/p11887165/s43591201/4...  43591201    11887165   \n",
              "1  mimic-iv-ecg/files/p1188/p11887165/s49748010/4...  49748010    11887165   \n",
              "2  mimic-iv-ecg/files/p1188/p11887165/s49403776/4...  49403776    11887165   \n",
              "3  mimic-iv-ecg/files/p1188/p11887165/s43634761/4...  43634761    11887165   \n",
              "4  mimic-iv-ecg/files/p1188/p11887165/s45332981/4...  45332981    11887165   \n",
              "\n",
              "             ecg_time                                     hosp_diag_hosp  \\\n",
              "0 2189-05-18 07:56:00  [S066X9A, J156, J9601, E873, J811, R1310, F05,...   \n",
              "1 2189-06-01 11:05:00  [S066X9A, J156, J9601, E873, J811, R1310, F05,...   \n",
              "2 2189-05-20 16:40:00  [S066X9A, J156, J9601, E873, J811, R1310, F05,...   \n",
              "3 2189-05-31 10:42:00  [S066X9A, J156, J9601, E873, J811, R1310, F05,...   \n",
              "4 2189-06-02 10:32:00  [S066X9A, J156, J9601, E873, J811, R1310, F05,...   \n",
              "\n",
              "   hosp_hadm_id ed_diag_ed                                       ed_diag_hosp  \\\n",
              "0    23708811.0         []  [S066X9A, J156, J9601, E873, J811, R1310, F05,...   \n",
              "1    23708811.0         []                                                 []   \n",
              "2    23708811.0         []  [S066X9A, J156, J9601, E873, J811, R1310, F05,...   \n",
              "3    23708811.0         []                                                 []   \n",
              "4    23708811.0         []                                                 []   \n",
              "\n",
              "   ed_stay_id  ed_hadm_id  \n",
              "0  38768187.0  23708811.0  \n",
              "1         NaN         NaN  \n",
              "2  38768187.0  23708811.0  \n",
              "3         NaN         NaN  \n",
              "4         NaN         NaN  "
            ],
            "text/html": [
              "\n",
              "  <div id=\"df-f0c569db-a972-4021-9632-71ebe21936a0\" class=\"colab-df-container\">\n",
              "    <div>\n",
              "<style scoped>\n",
              "    .dataframe tbody tr th:only-of-type {\n",
              "        vertical-align: middle;\n",
              "    }\n",
              "\n",
              "    .dataframe tbody tr th {\n",
              "        vertical-align: top;\n",
              "    }\n",
              "\n",
              "    .dataframe thead th {\n",
              "        text-align: right;\n",
              "    }\n",
              "</style>\n",
              "<table border=\"1\" class=\"dataframe\">\n",
              "  <thead>\n",
              "    <tr style=\"text-align: right;\">\n",
              "      <th></th>\n",
              "      <th>filename</th>\n",
              "      <th>study_id</th>\n",
              "      <th>patient_id</th>\n",
              "      <th>ecg_time</th>\n",
              "      <th>hosp_diag_hosp</th>\n",
              "      <th>hosp_hadm_id</th>\n",
              "      <th>ed_diag_ed</th>\n",
              "      <th>ed_diag_hosp</th>\n",
              "      <th>ed_stay_id</th>\n",
              "      <th>ed_hadm_id</th>\n",
              "    </tr>\n",
              "  </thead>\n",
              "  <tbody>\n",
              "    <tr>\n",
              "      <th>0</th>\n",
              "      <td>mimic-iv-ecg/files/p1188/p11887165/s43591201/4...</td>\n",
              "      <td>43591201</td>\n",
              "      <td>11887165</td>\n",
              "      <td>2189-05-18 07:56:00</td>\n",
              "      <td>[S066X9A, J156, J9601, E873, J811, R1310, F05,...</td>\n",
              "      <td>23708811.0</td>\n",
              "      <td>[]</td>\n",
              "      <td>[S066X9A, J156, J9601, E873, J811, R1310, F05,...</td>\n",
              "      <td>38768187.0</td>\n",
              "      <td>23708811.0</td>\n",
              "    </tr>\n",
              "    <tr>\n",
              "      <th>1</th>\n",
              "      <td>mimic-iv-ecg/files/p1188/p11887165/s49748010/4...</td>\n",
              "      <td>49748010</td>\n",
              "      <td>11887165</td>\n",
              "      <td>2189-06-01 11:05:00</td>\n",
              "      <td>[S066X9A, J156, J9601, E873, J811, R1310, F05,...</td>\n",
              "      <td>23708811.0</td>\n",
              "      <td>[]</td>\n",
              "      <td>[]</td>\n",
              "      <td>NaN</td>\n",
              "      <td>NaN</td>\n",
              "    </tr>\n",
              "    <tr>\n",
              "      <th>2</th>\n",
              "      <td>mimic-iv-ecg/files/p1188/p11887165/s49403776/4...</td>\n",
              "      <td>49403776</td>\n",
              "      <td>11887165</td>\n",
              "      <td>2189-05-20 16:40:00</td>\n",
              "      <td>[S066X9A, J156, J9601, E873, J811, R1310, F05,...</td>\n",
              "      <td>23708811.0</td>\n",
              "      <td>[]</td>\n",
              "      <td>[S066X9A, J156, J9601, E873, J811, R1310, F05,...</td>\n",
              "      <td>38768187.0</td>\n",
              "      <td>23708811.0</td>\n",
              "    </tr>\n",
              "    <tr>\n",
              "      <th>3</th>\n",
              "      <td>mimic-iv-ecg/files/p1188/p11887165/s43634761/4...</td>\n",
              "      <td>43634761</td>\n",
              "      <td>11887165</td>\n",
              "      <td>2189-05-31 10:42:00</td>\n",
              "      <td>[S066X9A, J156, J9601, E873, J811, R1310, F05,...</td>\n",
              "      <td>23708811.0</td>\n",
              "      <td>[]</td>\n",
              "      <td>[]</td>\n",
              "      <td>NaN</td>\n",
              "      <td>NaN</td>\n",
              "    </tr>\n",
              "    <tr>\n",
              "      <th>4</th>\n",
              "      <td>mimic-iv-ecg/files/p1188/p11887165/s45332981/4...</td>\n",
              "      <td>45332981</td>\n",
              "      <td>11887165</td>\n",
              "      <td>2189-06-02 10:32:00</td>\n",
              "      <td>[S066X9A, J156, J9601, E873, J811, R1310, F05,...</td>\n",
              "      <td>23708811.0</td>\n",
              "      <td>[]</td>\n",
              "      <td>[]</td>\n",
              "      <td>NaN</td>\n",
              "      <td>NaN</td>\n",
              "    </tr>\n",
              "  </tbody>\n",
              "</table>\n",
              "</div>\n",
              "    <div class=\"colab-df-buttons\">\n",
              "\n",
              "  <div class=\"colab-df-container\">\n",
              "    <button class=\"colab-df-convert\" onclick=\"convertToInteractive('df-f0c569db-a972-4021-9632-71ebe21936a0')\"\n",
              "            title=\"Convert this dataframe to an interactive table.\"\n",
              "            style=\"display:none;\">\n",
              "\n",
              "  <svg xmlns=\"http://www.w3.org/2000/svg\" height=\"24px\" viewBox=\"0 -960 960 960\">\n",
              "    <path d=\"M120-120v-720h720v720H120Zm60-500h600v-160H180v160Zm220 220h160v-160H400v160Zm0 220h160v-160H400v160ZM180-400h160v-160H180v160Zm440 0h160v-160H620v160ZM180-180h160v-160H180v160Zm440 0h160v-160H620v160Z\"/>\n",
              "  </svg>\n",
              "    </button>\n",
              "\n",
              "  <style>\n",
              "    .colab-df-container {\n",
              "      display:flex;\n",
              "      gap: 12px;\n",
              "    }\n",
              "\n",
              "    .colab-df-convert {\n",
              "      background-color: #E8F0FE;\n",
              "      border: none;\n",
              "      border-radius: 50%;\n",
              "      cursor: pointer;\n",
              "      display: none;\n",
              "      fill: #1967D2;\n",
              "      height: 32px;\n",
              "      padding: 0 0 0 0;\n",
              "      width: 32px;\n",
              "    }\n",
              "\n",
              "    .colab-df-convert:hover {\n",
              "      background-color: #E2EBFA;\n",
              "      box-shadow: 0px 1px 2px rgba(60, 64, 67, 0.3), 0px 1px 3px 1px rgba(60, 64, 67, 0.15);\n",
              "      fill: #174EA6;\n",
              "    }\n",
              "\n",
              "    .colab-df-buttons div {\n",
              "      margin-bottom: 4px;\n",
              "    }\n",
              "\n",
              "    [theme=dark] .colab-df-convert {\n",
              "      background-color: #3B4455;\n",
              "      fill: #D2E3FC;\n",
              "    }\n",
              "\n",
              "    [theme=dark] .colab-df-convert:hover {\n",
              "      background-color: #434B5C;\n",
              "      box-shadow: 0px 1px 3px 1px rgba(0, 0, 0, 0.15);\n",
              "      filter: drop-shadow(0px 1px 2px rgba(0, 0, 0, 0.3));\n",
              "      fill: #FFFFFF;\n",
              "    }\n",
              "  </style>\n",
              "\n",
              "    <script>\n",
              "      const buttonEl =\n",
              "        document.querySelector('#df-f0c569db-a972-4021-9632-71ebe21936a0 button.colab-df-convert');\n",
              "      buttonEl.style.display =\n",
              "        google.colab.kernel.accessAllowed ? 'block' : 'none';\n",
              "\n",
              "      async function convertToInteractive(key) {\n",
              "        const element = document.querySelector('#df-f0c569db-a972-4021-9632-71ebe21936a0');\n",
              "        const dataTable =\n",
              "          await google.colab.kernel.invokeFunction('convertToInteractive',\n",
              "                                                    [key], {});\n",
              "        if (!dataTable) return;\n",
              "\n",
              "        const docLinkHtml = 'Like what you see? Visit the ' +\n",
              "          '<a target=\"_blank\" href=https://colab.research.google.com/notebooks/data_table.ipynb>data table notebook</a>'\n",
              "          + ' to learn more about interactive tables.';\n",
              "        element.innerHTML = '';\n",
              "        dataTable['output_type'] = 'display_data';\n",
              "        await google.colab.output.renderOutput(dataTable, element);\n",
              "        const docLink = document.createElement('div');\n",
              "        docLink.innerHTML = docLinkHtml;\n",
              "        element.appendChild(docLink);\n",
              "      }\n",
              "    </script>\n",
              "  </div>\n",
              "\n",
              "\n",
              "<div id=\"df-b61a9c74-a49e-4fde-be45-9b4d88bd47ef\">\n",
              "  <button class=\"colab-df-quickchart\" onclick=\"quickchart('df-b61a9c74-a49e-4fde-be45-9b4d88bd47ef')\"\n",
              "            title=\"Suggest charts\"\n",
              "            style=\"display:none;\">\n",
              "\n",
              "<svg xmlns=\"http://www.w3.org/2000/svg\" height=\"24px\"viewBox=\"0 0 24 24\"\n",
              "     width=\"24px\">\n",
              "    <g>\n",
              "        <path d=\"M19 3H5c-1.1 0-2 .9-2 2v14c0 1.1.9 2 2 2h14c1.1 0 2-.9 2-2V5c0-1.1-.9-2-2-2zM9 17H7v-7h2v7zm4 0h-2V7h2v10zm4 0h-2v-4h2v4z\"/>\n",
              "    </g>\n",
              "</svg>\n",
              "  </button>\n",
              "\n",
              "<style>\n",
              "  .colab-df-quickchart {\n",
              "      --bg-color: #E8F0FE;\n",
              "      --fill-color: #1967D2;\n",
              "      --hover-bg-color: #E2EBFA;\n",
              "      --hover-fill-color: #174EA6;\n",
              "      --disabled-fill-color: #AAA;\n",
              "      --disabled-bg-color: #DDD;\n",
              "  }\n",
              "\n",
              "  [theme=dark] .colab-df-quickchart {\n",
              "      --bg-color: #3B4455;\n",
              "      --fill-color: #D2E3FC;\n",
              "      --hover-bg-color: #434B5C;\n",
              "      --hover-fill-color: #FFFFFF;\n",
              "      --disabled-bg-color: #3B4455;\n",
              "      --disabled-fill-color: #666;\n",
              "  }\n",
              "\n",
              "  .colab-df-quickchart {\n",
              "    background-color: var(--bg-color);\n",
              "    border: none;\n",
              "    border-radius: 50%;\n",
              "    cursor: pointer;\n",
              "    display: none;\n",
              "    fill: var(--fill-color);\n",
              "    height: 32px;\n",
              "    padding: 0;\n",
              "    width: 32px;\n",
              "  }\n",
              "\n",
              "  .colab-df-quickchart:hover {\n",
              "    background-color: var(--hover-bg-color);\n",
              "    box-shadow: 0 1px 2px rgba(60, 64, 67, 0.3), 0 1px 3px 1px rgba(60, 64, 67, 0.15);\n",
              "    fill: var(--button-hover-fill-color);\n",
              "  }\n",
              "\n",
              "  .colab-df-quickchart-complete:disabled,\n",
              "  .colab-df-quickchart-complete:disabled:hover {\n",
              "    background-color: var(--disabled-bg-color);\n",
              "    fill: var(--disabled-fill-color);\n",
              "    box-shadow: none;\n",
              "  }\n",
              "\n",
              "  .colab-df-spinner {\n",
              "    border: 2px solid var(--fill-color);\n",
              "    border-color: transparent;\n",
              "    border-bottom-color: var(--fill-color);\n",
              "    animation:\n",
              "      spin 1s steps(1) infinite;\n",
              "  }\n",
              "\n",
              "  @keyframes spin {\n",
              "    0% {\n",
              "      border-color: transparent;\n",
              "      border-bottom-color: var(--fill-color);\n",
              "      border-left-color: var(--fill-color);\n",
              "    }\n",
              "    20% {\n",
              "      border-color: transparent;\n",
              "      border-left-color: var(--fill-color);\n",
              "      border-top-color: var(--fill-color);\n",
              "    }\n",
              "    30% {\n",
              "      border-color: transparent;\n",
              "      border-left-color: var(--fill-color);\n",
              "      border-top-color: var(--fill-color);\n",
              "      border-right-color: var(--fill-color);\n",
              "    }\n",
              "    40% {\n",
              "      border-color: transparent;\n",
              "      border-right-color: var(--fill-color);\n",
              "      border-top-color: var(--fill-color);\n",
              "    }\n",
              "    60% {\n",
              "      border-color: transparent;\n",
              "      border-right-color: var(--fill-color);\n",
              "    }\n",
              "    80% {\n",
              "      border-color: transparent;\n",
              "      border-right-color: var(--fill-color);\n",
              "      border-bottom-color: var(--fill-color);\n",
              "    }\n",
              "    90% {\n",
              "      border-color: transparent;\n",
              "      border-bottom-color: var(--fill-color);\n",
              "    }\n",
              "  }\n",
              "</style>\n",
              "\n",
              "  <script>\n",
              "    async function quickchart(key) {\n",
              "      const quickchartButtonEl =\n",
              "        document.querySelector('#' + key + ' button');\n",
              "      quickchartButtonEl.disabled = true;  // To prevent multiple clicks.\n",
              "      quickchartButtonEl.classList.add('colab-df-spinner');\n",
              "      try {\n",
              "        const charts = await google.colab.kernel.invokeFunction(\n",
              "            'suggestCharts', [key], {});\n",
              "      } catch (error) {\n",
              "        console.error('Error during call to suggestCharts:', error);\n",
              "      }\n",
              "      quickchartButtonEl.classList.remove('colab-df-spinner');\n",
              "      quickchartButtonEl.classList.add('colab-df-quickchart-complete');\n",
              "    }\n",
              "    (() => {\n",
              "      let quickchartButtonEl =\n",
              "        document.querySelector('#df-b61a9c74-a49e-4fde-be45-9b4d88bd47ef button');\n",
              "      quickchartButtonEl.style.display =\n",
              "        google.colab.kernel.accessAllowed ? 'block' : 'none';\n",
              "    })();\n",
              "  </script>\n",
              "</div>\n",
              "\n",
              "    </div>\n",
              "  </div>\n"
            ],
            "application/vnd.google.colaboratory.intrinsic+json": {
              "type": "dataframe",
              "variable_name": "df_full"
            }
          },
          "metadata": {},
          "execution_count": 34
        }
      ]
    },
    {
      "cell_type": "markdown",
      "source": [
        "## Step 3: Map everything to ICD10 and enrich with more metadata to create output records_w_diag_icd10.pkl\n"
      ],
      "metadata": {
        "id": "iylbgKXgejon"
      }
    },
    {
      "cell_type": "code",
      "source": [
        "def prepare_mimic_ecg(digits, target_folder, df_mapped=None, df_diags=None):\n",
        "\n",
        "    print(\"preparing MIMIC ECG dataset for finetuning\")\n",
        "\n",
        "    # load label dataframe\n",
        "    if df_diags is not None:\n",
        "        df_diags = df_diags\n",
        "    else:\n",
        "        if((target_folder/\"records_w_diag_icd10.pkl\").exists()):\n",
        "            df_diags = pd.read_pickle(target_folder/\"records_w_diag_icd10.pkl\")\n",
        "        else:\n",
        "            df_diags = pd.read_csv(target_folder/\"records_w_diag_icd10.csv\")\n",
        "            # df_diags.drop('Unnamed: 0',axis=1, inplace=True)\n",
        "            df_diags['ecg_time']=pd.to_datetime(df_diags[\"ecg_time\"])\n",
        "            df_diags['dod']=pd.to_datetime(df_diags[\"dod\"])\n",
        "            for c in ['ed_diag_ed', 'ed_diag_hosp', 'hosp_diag_hosp', 'all_diag_hosp', 'all_diag_all']:\n",
        "                df_diags[c]=df_diags[c].apply(lambda x: eval(x))\n",
        "\n",
        "    df_diags[\"label_train\"]=df_diags[\"all_diag_all\"]\n",
        "    df_diags[\"has_statements_train\"]=df_diags[\"label_train\"].apply(lambda x: len(x)>0)#keep track if there were any ICD statements for this sample\n",
        "\n",
        "\n",
        "    #first truncate to desired number of digits\n",
        "    if(digits is not None):\n",
        "        df_diags[\"label_train\"]=df_diags[\"label_train\"].apply(lambda x: list(set([y.strip()[:digits] for y in x])))\n",
        "\n",
        "    #remove trailing placeholder Xs\n",
        "    df_diags[\"label_train\"]=df_diags[\"label_train\"].apply(lambda x: list(set([y.rstrip(\"X\") for y in x])))\n",
        "\n",
        "    print(\"filter stroke\")\n",
        "    #no selection = apply, specific icd codes that are linked to stroke\n",
        "    df_diags[\"label_stroke\"] = df_diags[\"label_train\"].apply(\n",
        "        lambda x: int(any(c.startswith(('I60', 'I61', 'I62', 'I63', 'I64', 'I65')) for c in x)))\n",
        "\n",
        "    return df_diags"
      ],
      "metadata": {
        "id": "5nmXkwlrVxWR"
      },
      "execution_count": 35,
      "outputs": []
    },
    {
      "cell_type": "code",
      "source": [
        "if((target_path/\"records_w_diag_icd10.pkl\").exists()):\n",
        "    print(\"Skipping: using existing records_w_diag_icd10.pkl\")\n",
        "    df_full = pd.read_pickle(target_path/\"records_w_diag_icd10.pkl\")\n",
        "else:\n",
        "    #applying icd mapping, skip none and NoDx\n",
        "    df_full[\"hosp_diag_hosp\"]=df_full[\"hosp_diag_hosp\"].apply(lambda x: [icd_mapping[y] for y in x])\n",
        "    df_full[\"hosp_diag_hosp\"]=df_full[\"hosp_diag_hosp\"].apply(lambda x: list(set([y for y in x if (y!=\"NoDx\" and y!=None)])))\n",
        "    df_full[\"ed_diag_hosp\"]=df_full[\"ed_diag_hosp\"].apply(lambda x: [icd_mapping[y] for y in x])\n",
        "    df_full[\"ed_diag_hosp\"]=df_full[\"ed_diag_hosp\"].apply(lambda x: list(set([y for y in x if (y!=\"NoDx\" and y!=None)])))\n",
        "    df_full[\"ed_diag_ed\"]=df_full[\"ed_diag_ed\"].apply(lambda x: [icd_mapping[y] for y in x if y!=\"NoDx\"])\n",
        "    df_full[\"ed_diag_ed\"]=df_full[\"ed_diag_ed\"].apply(lambda x: list(set([y for y in x if (y!=\"NoDx\" and y!=None)])))\n",
        "\n",
        "    # create a column of all the icd codes for hosp and ed stays respectively\n",
        "    #ed or hosp ecgs with discharge diagnosis\n",
        "    df_full[\"all_diag_hosp\"]=df_full.apply(lambda row: list(set(row[\"hosp_diag_hosp\"]+row[\"ed_diag_hosp\"])),axis=1)\n",
        "\n",
        "    # 'all_diag_all': 'all_diag_hosp' if available otherwise 'ed_diag_ed'\n",
        "    df_full['all_diag_all'] = df_full.apply(lambda row: row['all_diag_hosp'] if row['all_diag_hosp'] else row['ed_diag_ed'],axis=1)\n",
        "\n",
        "\n",
        "    #add demographics\n",
        "    df_hosp_patients = pd.read_csv(mimic_path/\"hosp/patients.csv.gz\")\n",
        "    df_full=df_full.join(df_hosp_patients.set_index(\"subject_id\"),on=\"patient_id\")\n",
        "\n",
        "    #add ecg number within stay\n",
        "    df_full[\"ecg_no_within_stay\"]=-1\n",
        "    df_full=df_full.sort_values([\"patient_id\",\"ecg_time\"],ascending=True)\n",
        "\n",
        "    #groups all the ecg within the same stay and count the number of ecg record taken for each stay\n",
        "    df_full.loc[~df_full.ed_stay_id.isna(),\"ecg_no_within_stay\"]=df_full[~df_full.ed_stay_id.isna()].groupby(\"ed_stay_id\",as_index=False).cumcount()\n",
        "    df_full.loc[~df_full.hosp_hadm_id.isna(),\"ecg_no_within_stay\"]=df_full[~df_full.hosp_hadm_id.isna()].groupby(\"hosp_hadm_id\",as_index=False).cumcount()\n",
        "\n",
        "\n",
        "    df_full[\"ecg_taken_in_ed\"]=df_full[\"ed_stay_id\"].notnull()\n",
        "    df_full[\"ecg_taken_in_hosp\"]=df_full[\"hosp_hadm_id\"].notnull()\n",
        "    df_full[\"ecg_taken_in_ed_or_hosp\"]=(df_full[\"ecg_taken_in_ed\"]|df_full[\"ecg_taken_in_hosp\"])\n",
        "\n",
        "\n",
        "    df_full = prepare_mimic_ecg(3, target_path,df_mapped=None,df_diags=df_full)\n",
        "\n",
        "    # res = stratified_subsets(df_full,\n",
        "    #                 col_label,\n",
        "    #                 [0.05]*20,\n",
        "    #                 col_group=col_group,\n",
        "    #                 label_multi_hot=False,\n",
        "    #                 random_seed=42)\n",
        "\n",
        "    # df_full['strat_fold'] = res\n",
        "\n",
        "    df_full.to_csv(target_path/\"records_w_stroke_labels.csv\", index=False)\n"
      ],
      "metadata": {
        "id": "wsjhZ4vhep1C",
        "colab": {
          "base_uri": "https://localhost:8080/"
        },
        "outputId": "f64d3047-9f91-458a-fcee-88b1a0160344"
      },
      "execution_count": 36,
      "outputs": [
        {
          "output_type": "stream",
          "name": "stdout",
          "text": [
            "preparing MIMIC ECG dataset for finetuning\n",
            "filter stroke\n"
          ]
        }
      ]
    },
    {
      "cell_type": "code",
      "source": [
        "df_labels =  df_full[[\"filename\",\n",
        "            \"study_id\",\n",
        "            \"patient_id\",\n",
        "            \"ecg_time\",\n",
        "            \"label_stroke\"]]"
      ],
      "metadata": {
        "id": "oLTRizNdbWFU"
      },
      "execution_count": 37,
      "outputs": []
    },
    {
      "cell_type": "markdown",
      "source": [
        "### Step 4: Convert signals into numpy in  target-path/processed"
      ],
      "metadata": {
        "id": "BBXBYcmVfhmA"
      }
    },
    {
      "cell_type": "code",
      "source": [
        "(target_path/\"processed\").mkdir(parents=True, exist_ok=True)\n",
        "df,_,_,_=prepare_mimicecg(zip_file_path, target_folder=target_path/\"processed\")"
      ],
      "metadata": {
        "id": "G0QtqLAUfhRU",
        "colab": {
          "base_uri": "https://localhost:8080/",
          "height": 321
        },
        "outputId": "3dc6aaa9-aa98-4185-d7b5-c83e183ce192"
      },
      "execution_count": 38,
      "outputs": [
        {
          "output_type": "error",
          "ename": "NotADirectoryError",
          "evalue": "[Errno 20] Not a directory: '/content/drive/MyDrive/Colab Notebooks/ECG-MIMIC-main/MIMIC-IV-ECG zip file/mimic-iv-ecg.zip/mimic-iv-ecg-diagnostic-electrocardiogram-matched-subset-1.0.zip'",
          "traceback": [
            "\u001b[0;31m---------------------------------------------------------------------------\u001b[0m",
            "\u001b[0;31mNotADirectoryError\u001b[0m                        Traceback (most recent call last)",
            "\u001b[0;32m<ipython-input-38-865e111af21d>\u001b[0m in \u001b[0;36m<cell line: 0>\u001b[0;34m()\u001b[0m\n\u001b[1;32m      1\u001b[0m \u001b[0;34m(\u001b[0m\u001b[0mtarget_path\u001b[0m\u001b[0;34m/\u001b[0m\u001b[0;34m\"processed\"\u001b[0m\u001b[0;34m)\u001b[0m\u001b[0;34m.\u001b[0m\u001b[0mmkdir\u001b[0m\u001b[0;34m(\u001b[0m\u001b[0mparents\u001b[0m\u001b[0;34m=\u001b[0m\u001b[0;32mTrue\u001b[0m\u001b[0;34m,\u001b[0m \u001b[0mexist_ok\u001b[0m\u001b[0;34m=\u001b[0m\u001b[0;32mTrue\u001b[0m\u001b[0;34m)\u001b[0m\u001b[0;34m\u001b[0m\u001b[0;34m\u001b[0m\u001b[0m\n\u001b[0;32m----> 2\u001b[0;31m \u001b[0mdf\u001b[0m\u001b[0;34m,\u001b[0m\u001b[0m_\u001b[0m\u001b[0;34m,\u001b[0m\u001b[0m_\u001b[0m\u001b[0;34m,\u001b[0m\u001b[0m_\u001b[0m\u001b[0;34m=\u001b[0m\u001b[0mprepare_mimicecg\u001b[0m\u001b[0;34m(\u001b[0m\u001b[0mzip_file_path\u001b[0m\u001b[0;34m,\u001b[0m \u001b[0mtarget_folder\u001b[0m\u001b[0;34m=\u001b[0m\u001b[0mtarget_path\u001b[0m\u001b[0;34m/\u001b[0m\u001b[0;34m\"processed\"\u001b[0m\u001b[0;34m)\u001b[0m\u001b[0;34m\u001b[0m\u001b[0;34m\u001b[0m\u001b[0m\n\u001b[0m",
            "\u001b[0;32m/content/drive/MyDrive/Colab Notebooks/ECG-MIMIC-main/src/ecg_utils.py\u001b[0m in \u001b[0;36mprepare_mimicecg\u001b[0;34m(data_path, clip_amp, target_fs, channels, strat_folds, channel_stoi, target_folder, recreate_data)\u001b[0m\n\u001b[1;32m     50\u001b[0m         \u001b[0mtarget_folder\u001b[0m\u001b[0;34m.\u001b[0m\u001b[0mmkdir\u001b[0m\u001b[0;34m(\u001b[0m\u001b[0mparents\u001b[0m\u001b[0;34m=\u001b[0m\u001b[0;32mTrue\u001b[0m\u001b[0;34m,\u001b[0m \u001b[0mexist_ok\u001b[0m\u001b[0;34m=\u001b[0m\u001b[0;32mTrue\u001b[0m\u001b[0;34m)\u001b[0m\u001b[0;34m\u001b[0m\u001b[0;34m\u001b[0m\u001b[0m\n\u001b[1;32m     51\u001b[0m \u001b[0;34m\u001b[0m\u001b[0m\n\u001b[0;32m---> 52\u001b[0;31m         \u001b[0;32mwith\u001b[0m \u001b[0mzipfile\u001b[0m\u001b[0;34m.\u001b[0m\u001b[0mZipFile\u001b[0m\u001b[0;34m(\u001b[0m\u001b[0mPath\u001b[0m\u001b[0;34m(\u001b[0m\u001b[0mdata_path\u001b[0m\u001b[0;34m)\u001b[0m\u001b[0;34m/\u001b[0m\u001b[0;34m\"mimic-iv-ecg-diagnostic-electrocardiogram-matched-subset-1.0.zip\"\u001b[0m\u001b[0;34m,\u001b[0m \u001b[0;34m'r'\u001b[0m\u001b[0;34m)\u001b[0m \u001b[0;32mas\u001b[0m \u001b[0marchive\u001b[0m\u001b[0;34m:\u001b[0m\u001b[0;34m\u001b[0m\u001b[0;34m\u001b[0m\u001b[0m\n\u001b[0m\u001b[1;32m     53\u001b[0m             \u001b[0mlst\u001b[0m \u001b[0;34m=\u001b[0m \u001b[0marchive\u001b[0m\u001b[0;34m.\u001b[0m\u001b[0mnamelist\u001b[0m\u001b[0;34m(\u001b[0m\u001b[0;34m)\u001b[0m\u001b[0;34m\u001b[0m\u001b[0;34m\u001b[0m\u001b[0m\n\u001b[1;32m     54\u001b[0m             \u001b[0mlst\u001b[0m \u001b[0;34m=\u001b[0m \u001b[0;34m[\u001b[0m\u001b[0mx\u001b[0m \u001b[0;32mfor\u001b[0m \u001b[0mx\u001b[0m \u001b[0;32min\u001b[0m \u001b[0mlst\u001b[0m \u001b[0;32mif\u001b[0m \u001b[0mx\u001b[0m\u001b[0;34m.\u001b[0m\u001b[0mendswith\u001b[0m\u001b[0;34m(\u001b[0m\u001b[0;34m\".hea\"\u001b[0m\u001b[0;34m)\u001b[0m\u001b[0;34m]\u001b[0m\u001b[0;34m\u001b[0m\u001b[0;34m\u001b[0m\u001b[0m\n",
            "\u001b[0;32m/usr/lib/python3.11/zipfile.py\u001b[0m in \u001b[0;36m__init__\u001b[0;34m(self, file, mode, compression, allowZip64, compresslevel, strict_timestamps, metadata_encoding)\u001b[0m\n\u001b[1;32m   1293\u001b[0m             \u001b[0;32mwhile\u001b[0m \u001b[0;32mTrue\u001b[0m\u001b[0;34m:\u001b[0m\u001b[0;34m\u001b[0m\u001b[0;34m\u001b[0m\u001b[0m\n\u001b[1;32m   1294\u001b[0m                 \u001b[0;32mtry\u001b[0m\u001b[0;34m:\u001b[0m\u001b[0;34m\u001b[0m\u001b[0;34m\u001b[0m\u001b[0m\n\u001b[0;32m-> 1295\u001b[0;31m                     \u001b[0mself\u001b[0m\u001b[0;34m.\u001b[0m\u001b[0mfp\u001b[0m \u001b[0;34m=\u001b[0m \u001b[0mio\u001b[0m\u001b[0;34m.\u001b[0m\u001b[0mopen\u001b[0m\u001b[0;34m(\u001b[0m\u001b[0mfile\u001b[0m\u001b[0;34m,\u001b[0m \u001b[0mfilemode\u001b[0m\u001b[0;34m)\u001b[0m\u001b[0;34m\u001b[0m\u001b[0;34m\u001b[0m\u001b[0m\n\u001b[0m\u001b[1;32m   1296\u001b[0m                 \u001b[0;32mexcept\u001b[0m \u001b[0mOSError\u001b[0m\u001b[0;34m:\u001b[0m\u001b[0;34m\u001b[0m\u001b[0;34m\u001b[0m\u001b[0m\n\u001b[1;32m   1297\u001b[0m                     \u001b[0;32mif\u001b[0m \u001b[0mfilemode\u001b[0m \u001b[0;32min\u001b[0m \u001b[0mmodeDict\u001b[0m\u001b[0;34m:\u001b[0m\u001b[0;34m\u001b[0m\u001b[0;34m\u001b[0m\u001b[0m\n",
            "\u001b[0;31mNotADirectoryError\u001b[0m: [Errno 20] Not a directory: '/content/drive/MyDrive/Colab Notebooks/ECG-MIMIC-main/MIMIC-IV-ECG zip file/mimic-iv-ecg.zip/mimic-iv-ecg-diagnostic-electrocardiogram-matched-subset-1.0.zip'"
          ]
        }
      ]
    },
    {
      "cell_type": "markdown",
      "source": [
        "## Step 5: Reformat as memmap for fast access\n"
      ],
      "metadata": {
        "id": "wjcK5C4Bfxnd"
      }
    },
    {
      "cell_type": "code",
      "source": [
        "(target_path/\"memmap\").mkdir(parents=True, exist_ok=True)\n",
        "reformat_as_memmap(df, target_path/\"memmap/memmap.npy\", data_folder=target_path/\"processed\", annotation=True, max_len=0, delete_npys=True,col_data=\"data\",col_lbl=None, batch_length=0, skip_export_signals=False)"
      ],
      "metadata": {
        "id": "JYctXonFfwSC"
      },
      "execution_count": null,
      "outputs": []
    }
  ]
}