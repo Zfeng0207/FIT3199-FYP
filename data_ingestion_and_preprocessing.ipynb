{
  "nbformat": 4,
  "nbformat_minor": 0,
  "metadata": {
    "colab": {
      "provenance": [],
      "machine_shape": "hm",
      "gpuType": "L4",
      "authorship_tag": "ABX9TyNpwav5KcH/MZdWLA0iJ+wl",
      "include_colab_link": true
    },
    "kernelspec": {
      "name": "python3",
      "display_name": "Python 3"
    },
    "language_info": {
      "name": "python"
    },
    "accelerator": "GPU",
    "widgets": {
      "application/vnd.jupyter.widget-state+json": {
        "5a25d286874644e5bf4d9d99f4b08d8a": {
          "model_module": "@jupyter-widgets/controls",
          "model_name": "VBoxModel",
          "model_module_version": "1.5.0",
          "state": {
            "_dom_classes": [],
            "_model_module": "@jupyter-widgets/controls",
            "_model_module_version": "1.5.0",
            "_model_name": "VBoxModel",
            "_view_count": null,
            "_view_module": "@jupyter-widgets/controls",
            "_view_module_version": "1.5.0",
            "_view_name": "VBoxView",
            "box_style": "",
            "children": [
              "IPY_MODEL_6bc1a1a5b1b04ec48172c1137754121c",
              "IPY_MODEL_6c3968406b414507ab85e616f95e10ea",
              "IPY_MODEL_0e1cfc95f938420385cbd1d2fdc477f0",
              "IPY_MODEL_e47147123db240a79adfc97c744b5842"
            ],
            "layout": "IPY_MODEL_e993779a2b66404c9a2dbaeb95854b14"
          }
        },
        "6bc1a1a5b1b04ec48172c1137754121c": {
          "model_module": "@jupyter-widgets/controls",
          "model_name": "TextModel",
          "model_module_version": "1.5.0",
          "state": {
            "_dom_classes": [],
            "_model_module": "@jupyter-widgets/controls",
            "_model_module_version": "1.5.0",
            "_model_name": "TextModel",
            "_view_count": null,
            "_view_module": "@jupyter-widgets/controls",
            "_view_module_version": "1.5.0",
            "_view_name": "TextView",
            "continuous_update": true,
            "description": "MIMIC Path:",
            "description_tooltip": null,
            "disabled": false,
            "layout": "IPY_MODEL_d8a1eec15c754ba0b9e4c48fff5cd9ec",
            "placeholder": "​",
            "style": "IPY_MODEL_37ba0ca8fa8243f6a71562aac653035e",
            "value": "/content/drive/MyDrive/Colab Notebooks/ECG-MIMIC-main/mimic-iv-2.2"
          }
        },
        "6c3968406b414507ab85e616f95e10ea": {
          "model_module": "@jupyter-widgets/controls",
          "model_name": "TextModel",
          "model_module_version": "1.5.0",
          "state": {
            "_dom_classes": [],
            "_model_module": "@jupyter-widgets/controls",
            "_model_module_version": "1.5.0",
            "_model_name": "TextModel",
            "_view_count": null,
            "_view_module": "@jupyter-widgets/controls",
            "_view_module_version": "1.5.0",
            "_view_name": "TextView",
            "continuous_update": true,
            "description": "Zip Path:",
            "description_tooltip": null,
            "disabled": false,
            "layout": "IPY_MODEL_3e5825f506ed42b5b4a6aa694a302e68",
            "placeholder": "​",
            "style": "IPY_MODEL_15d4086eea8845078df52478dd091d33",
            "value": "/content/drive/MyDrive/Colab Notebooks/ECG-MIMIC-main/MIMIC-IV-ECG zip file/mimic-iv-ecg.zip"
          }
        },
        "0e1cfc95f938420385cbd1d2fdc477f0": {
          "model_module": "@jupyter-widgets/controls",
          "model_name": "TextModel",
          "model_module_version": "1.5.0",
          "state": {
            "_dom_classes": [],
            "_model_module": "@jupyter-widgets/controls",
            "_model_module_version": "1.5.0",
            "_model_name": "TextModel",
            "_view_count": null,
            "_view_module": "@jupyter-widgets/controls",
            "_view_module_version": "1.5.0",
            "_view_name": "TextView",
            "continuous_update": true,
            "description": "Target Path:",
            "description_tooltip": null,
            "disabled": false,
            "layout": "IPY_MODEL_ce0b65dfd761481893a45f2711707cb6",
            "placeholder": "​",
            "style": "IPY_MODEL_c90bda4f6c6246058f65fe0fc1328aff",
            "value": "/content/drive/MyDrive/Colab Notebooks/ECG-MIMIC-main/src/preprocessed_data"
          }
        },
        "e47147123db240a79adfc97c744b5842": {
          "model_module": "@jupyter-widgets/controls",
          "model_name": "CheckboxModel",
          "model_module_version": "1.5.0",
          "state": {
            "_dom_classes": [],
            "_model_module": "@jupyter-widgets/controls",
            "_model_module_version": "1.5.0",
            "_model_name": "CheckboxModel",
            "_view_count": null,
            "_view_module": "@jupyter-widgets/controls",
            "_view_module_version": "1.5.0",
            "_view_name": "CheckboxView",
            "description": "Numpy Memmap:",
            "description_tooltip": null,
            "disabled": false,
            "indent": false,
            "layout": "IPY_MODEL_a485f3a1900a4c74b1ac8813d3368089",
            "style": "IPY_MODEL_c8840c523de74de682e828f120df3bfe",
            "value": true
          }
        },
        "e993779a2b66404c9a2dbaeb95854b14": {
          "model_module": "@jupyter-widgets/base",
          "model_name": "LayoutModel",
          "model_module_version": "1.2.0",
          "state": {
            "_model_module": "@jupyter-widgets/base",
            "_model_module_version": "1.2.0",
            "_model_name": "LayoutModel",
            "_view_count": null,
            "_view_module": "@jupyter-widgets/base",
            "_view_module_version": "1.2.0",
            "_view_name": "LayoutView",
            "align_content": null,
            "align_items": null,
            "align_self": null,
            "border": null,
            "bottom": null,
            "display": null,
            "flex": null,
            "flex_flow": null,
            "grid_area": null,
            "grid_auto_columns": null,
            "grid_auto_flow": null,
            "grid_auto_rows": null,
            "grid_column": null,
            "grid_gap": null,
            "grid_row": null,
            "grid_template_areas": null,
            "grid_template_columns": null,
            "grid_template_rows": null,
            "height": null,
            "justify_content": null,
            "justify_items": null,
            "left": null,
            "margin": null,
            "max_height": null,
            "max_width": null,
            "min_height": null,
            "min_width": null,
            "object_fit": null,
            "object_position": null,
            "order": null,
            "overflow": null,
            "overflow_x": null,
            "overflow_y": null,
            "padding": null,
            "right": null,
            "top": null,
            "visibility": null,
            "width": null
          }
        },
        "d8a1eec15c754ba0b9e4c48fff5cd9ec": {
          "model_module": "@jupyter-widgets/base",
          "model_name": "LayoutModel",
          "model_module_version": "1.2.0",
          "state": {
            "_model_module": "@jupyter-widgets/base",
            "_model_module_version": "1.2.0",
            "_model_name": "LayoutModel",
            "_view_count": null,
            "_view_module": "@jupyter-widgets/base",
            "_view_module_version": "1.2.0",
            "_view_name": "LayoutView",
            "align_content": null,
            "align_items": null,
            "align_self": null,
            "border": null,
            "bottom": null,
            "display": null,
            "flex": null,
            "flex_flow": null,
            "grid_area": null,
            "grid_auto_columns": null,
            "grid_auto_flow": null,
            "grid_auto_rows": null,
            "grid_column": null,
            "grid_gap": null,
            "grid_row": null,
            "grid_template_areas": null,
            "grid_template_columns": null,
            "grid_template_rows": null,
            "height": null,
            "justify_content": null,
            "justify_items": null,
            "left": null,
            "margin": null,
            "max_height": null,
            "max_width": null,
            "min_height": null,
            "min_width": null,
            "object_fit": null,
            "object_position": null,
            "order": null,
            "overflow": null,
            "overflow_x": null,
            "overflow_y": null,
            "padding": null,
            "right": null,
            "top": null,
            "visibility": null,
            "width": null
          }
        },
        "37ba0ca8fa8243f6a71562aac653035e": {
          "model_module": "@jupyter-widgets/controls",
          "model_name": "DescriptionStyleModel",
          "model_module_version": "1.5.0",
          "state": {
            "_model_module": "@jupyter-widgets/controls",
            "_model_module_version": "1.5.0",
            "_model_name": "DescriptionStyleModel",
            "_view_count": null,
            "_view_module": "@jupyter-widgets/base",
            "_view_module_version": "1.2.0",
            "_view_name": "StyleView",
            "description_width": ""
          }
        },
        "3e5825f506ed42b5b4a6aa694a302e68": {
          "model_module": "@jupyter-widgets/base",
          "model_name": "LayoutModel",
          "model_module_version": "1.2.0",
          "state": {
            "_model_module": "@jupyter-widgets/base",
            "_model_module_version": "1.2.0",
            "_model_name": "LayoutModel",
            "_view_count": null,
            "_view_module": "@jupyter-widgets/base",
            "_view_module_version": "1.2.0",
            "_view_name": "LayoutView",
            "align_content": null,
            "align_items": null,
            "align_self": null,
            "border": null,
            "bottom": null,
            "display": null,
            "flex": null,
            "flex_flow": null,
            "grid_area": null,
            "grid_auto_columns": null,
            "grid_auto_flow": null,
            "grid_auto_rows": null,
            "grid_column": null,
            "grid_gap": null,
            "grid_row": null,
            "grid_template_areas": null,
            "grid_template_columns": null,
            "grid_template_rows": null,
            "height": null,
            "justify_content": null,
            "justify_items": null,
            "left": null,
            "margin": null,
            "max_height": null,
            "max_width": null,
            "min_height": null,
            "min_width": null,
            "object_fit": null,
            "object_position": null,
            "order": null,
            "overflow": null,
            "overflow_x": null,
            "overflow_y": null,
            "padding": null,
            "right": null,
            "top": null,
            "visibility": null,
            "width": null
          }
        },
        "15d4086eea8845078df52478dd091d33": {
          "model_module": "@jupyter-widgets/controls",
          "model_name": "DescriptionStyleModel",
          "model_module_version": "1.5.0",
          "state": {
            "_model_module": "@jupyter-widgets/controls",
            "_model_module_version": "1.5.0",
            "_model_name": "DescriptionStyleModel",
            "_view_count": null,
            "_view_module": "@jupyter-widgets/base",
            "_view_module_version": "1.2.0",
            "_view_name": "StyleView",
            "description_width": ""
          }
        },
        "ce0b65dfd761481893a45f2711707cb6": {
          "model_module": "@jupyter-widgets/base",
          "model_name": "LayoutModel",
          "model_module_version": "1.2.0",
          "state": {
            "_model_module": "@jupyter-widgets/base",
            "_model_module_version": "1.2.0",
            "_model_name": "LayoutModel",
            "_view_count": null,
            "_view_module": "@jupyter-widgets/base",
            "_view_module_version": "1.2.0",
            "_view_name": "LayoutView",
            "align_content": null,
            "align_items": null,
            "align_self": null,
            "border": null,
            "bottom": null,
            "display": null,
            "flex": null,
            "flex_flow": null,
            "grid_area": null,
            "grid_auto_columns": null,
            "grid_auto_flow": null,
            "grid_auto_rows": null,
            "grid_column": null,
            "grid_gap": null,
            "grid_row": null,
            "grid_template_areas": null,
            "grid_template_columns": null,
            "grid_template_rows": null,
            "height": null,
            "justify_content": null,
            "justify_items": null,
            "left": null,
            "margin": null,
            "max_height": null,
            "max_width": null,
            "min_height": null,
            "min_width": null,
            "object_fit": null,
            "object_position": null,
            "order": null,
            "overflow": null,
            "overflow_x": null,
            "overflow_y": null,
            "padding": null,
            "right": null,
            "top": null,
            "visibility": null,
            "width": null
          }
        },
        "c90bda4f6c6246058f65fe0fc1328aff": {
          "model_module": "@jupyter-widgets/controls",
          "model_name": "DescriptionStyleModel",
          "model_module_version": "1.5.0",
          "state": {
            "_model_module": "@jupyter-widgets/controls",
            "_model_module_version": "1.5.0",
            "_model_name": "DescriptionStyleModel",
            "_view_count": null,
            "_view_module": "@jupyter-widgets/base",
            "_view_module_version": "1.2.0",
            "_view_name": "StyleView",
            "description_width": ""
          }
        },
        "a485f3a1900a4c74b1ac8813d3368089": {
          "model_module": "@jupyter-widgets/base",
          "model_name": "LayoutModel",
          "model_module_version": "1.2.0",
          "state": {
            "_model_module": "@jupyter-widgets/base",
            "_model_module_version": "1.2.0",
            "_model_name": "LayoutModel",
            "_view_count": null,
            "_view_module": "@jupyter-widgets/base",
            "_view_module_version": "1.2.0",
            "_view_name": "LayoutView",
            "align_content": null,
            "align_items": null,
            "align_self": null,
            "border": null,
            "bottom": null,
            "display": null,
            "flex": null,
            "flex_flow": null,
            "grid_area": null,
            "grid_auto_columns": null,
            "grid_auto_flow": null,
            "grid_auto_rows": null,
            "grid_column": null,
            "grid_gap": null,
            "grid_row": null,
            "grid_template_areas": null,
            "grid_template_columns": null,
            "grid_template_rows": null,
            "height": null,
            "justify_content": null,
            "justify_items": null,
            "left": null,
            "margin": null,
            "max_height": null,
            "max_width": null,
            "min_height": null,
            "min_width": null,
            "object_fit": null,
            "object_position": null,
            "order": null,
            "overflow": null,
            "overflow_x": null,
            "overflow_y": null,
            "padding": null,
            "right": null,
            "top": null,
            "visibility": null,
            "width": null
          }
        },
        "c8840c523de74de682e828f120df3bfe": {
          "model_module": "@jupyter-widgets/controls",
          "model_name": "DescriptionStyleModel",
          "model_module_version": "1.5.0",
          "state": {
            "_model_module": "@jupyter-widgets/controls",
            "_model_module_version": "1.5.0",
            "_model_name": "DescriptionStyleModel",
            "_view_count": null,
            "_view_module": "@jupyter-widgets/base",
            "_view_module_version": "1.2.0",
            "_view_name": "StyleView",
            "description_width": ""
          }
        }
      }
    }
  },
  "cells": [
    {
      "cell_type": "markdown",
      "metadata": {
        "id": "view-in-github",
        "colab_type": "text"
      },
      "source": [
        "<a href=\"https://colab.research.google.com/github/Zfeng0207/FIT3199-FYP/blob/dev%2Fzfeng/data_ingestion_and_preprocessing.ipynb\" target=\"_parent\"><img src=\"https://colab.research.google.com/assets/colab-badge.svg\" alt=\"Open In Colab\"/></a>"
      ]
    },
    {
      "cell_type": "code",
      "source": [
        "from google.colab import drive\n",
        "drive.mount('/content/drive')"
      ],
      "metadata": {
        "colab": {
          "base_uri": "https://localhost:8080/"
        },
        "id": "wbenQKINWOcR",
        "outputId": "f24dacba-6f36-41ad-ad78-a82f07dc48a3"
      },
      "execution_count": 1,
      "outputs": [
        {
          "output_type": "stream",
          "name": "stdout",
          "text": [
            "Drive already mounted at /content/drive; to attempt to forcibly remount, call drive.mount(\"/content/drive\", force_remount=True).\n"
          ]
        }
      ]
    },
    {
      "cell_type": "code",
      "source": [
        "import os"
      ],
      "metadata": {
        "id": "Q-oUNQEgWP1y"
      },
      "execution_count": 2,
      "outputs": []
    },
    {
      "cell_type": "code",
      "source": [
        "!pip install -qqq wfdb resampy icd-mappings"
      ],
      "metadata": {
        "id": "dUla4ol8Wm11"
      },
      "execution_count": 3,
      "outputs": []
    },
    {
      "cell_type": "code",
      "execution_count": 4,
      "metadata": {
        "id": "7YVnMU0Z8kyr"
      },
      "outputs": [],
      "source": [
        "import sys\n",
        "sys.path.append('/content/drive/MyDrive/Colab Notebooks/ECG-MIMIC-main/src')\n",
        "\n",
        "from icdmappings import Mapper\n",
        "import argparse\n",
        "import pandas as pd\n",
        "import numpy as np\n",
        "from pathlib import Path\n",
        "import wfdb\n",
        "from tqdm.auto import tqdm\n",
        "from extract_headers import extract_and_open_files_in_zip"
      ]
    },
    {
      "cell_type": "code",
      "execution_count": 5,
      "metadata": {
        "id": "w6NYtxbm-VbY"
      },
      "outputs": [],
      "source": [
        "sys.path.append('/content/drive/MyDrive/Colab Notebooks/ECG-MIMIC-main/src')\n",
        "\n",
        "# from icdmappings import Mapper\n",
        "from ecg_utils import prepare_mimicecg\n",
        "from mimic_ecg_preprocessing import prepare_mimic_ecg"
      ]
    },
    {
      "cell_type": "code",
      "execution_count": 6,
      "metadata": {
        "id": "XXz__-DJ_WzO"
      },
      "outputs": [],
      "source": [
        "sys.path.append('/content/drive/MyDrive/Colab Notebooks/ECG-MIMIC-main/src/utils')\n",
        "\n",
        "from timeseries_utils import reformat_as_memmap\n",
        "from stratify import stratified_subsets"
      ]
    },
    {
      "cell_type": "code",
      "source": [
        "project_path = \"/content/drive/MyDrive/Colab Notebooks/ECG-MIMIC-main/\""
      ],
      "metadata": {
        "id": "N2WKKiSX24bh"
      },
      "execution_count": 7,
      "outputs": []
    },
    {
      "cell_type": "code",
      "source": [
        "import ipywidgets as widgets\n",
        "from IPython.display import display\n",
        "import argparse\n",
        "from pathlib import Path\n",
        "\n",
        "# Create widgets for each argument\n",
        "\n",
        "mimic_path_widget = widgets.Text(\n",
        "    value= project_path + \"mimic-iv-2.2\",\n",
        "    description=\"MIMIC Path:\",\n",
        "    disabled=False\n",
        ")\n",
        "\n",
        "zip_path_widget = widgets.Text(\n",
        "    value= project_path + \"MIMIC-IV-ECG zip file/mimic-iv-ecg.zip\",\n",
        "    description=\"Zip Path:\",\n",
        "    disabled=False\n",
        ")\n",
        "\n",
        "target_path_widget = widgets.Text(\n",
        "    value= project_path + \"src/preprocessed_data\",\n",
        "    description=\"Target Path:\",\n",
        "    disabled=False\n",
        ")\n",
        "\n",
        "numpy_memmap_widget = widgets.Checkbox(\n",
        "    value=True,\n",
        "    description=\"Numpy Memmap:\",\n",
        "    disabled=False,\n",
        "    indent=False\n",
        ")\n",
        "\n",
        "# Display the widgets\n",
        "ui = widgets.VBox([\n",
        "    mimic_path_widget,\n",
        "    zip_path_widget,\n",
        "    target_path_widget,\n",
        "    numpy_memmap_widget,\n",
        "])\n",
        "\n",
        "display(ui)"
      ],
      "metadata": {
        "id": "lYeQJ3F_Xfn3",
        "outputId": "9e1d37f7-ed1c-4002-b14f-7b5e2a1a64c9",
        "colab": {
          "base_uri": "https://localhost:8080/",
          "height": 145,
          "referenced_widgets": [
            "5a25d286874644e5bf4d9d99f4b08d8a",
            "6bc1a1a5b1b04ec48172c1137754121c",
            "6c3968406b414507ab85e616f95e10ea",
            "0e1cfc95f938420385cbd1d2fdc477f0",
            "e47147123db240a79adfc97c744b5842",
            "e993779a2b66404c9a2dbaeb95854b14",
            "d8a1eec15c754ba0b9e4c48fff5cd9ec",
            "37ba0ca8fa8243f6a71562aac653035e",
            "3e5825f506ed42b5b4a6aa694a302e68",
            "15d4086eea8845078df52478dd091d33",
            "ce0b65dfd761481893a45f2711707cb6",
            "c90bda4f6c6246058f65fe0fc1328aff",
            "a485f3a1900a4c74b1ac8813d3368089",
            "c8840c523de74de682e828f120df3bfe"
          ]
        }
      },
      "execution_count": 8,
      "outputs": [
        {
          "output_type": "display_data",
          "data": {
            "text/plain": [
              "VBox(children=(Text(value='/content/drive/MyDrive/Colab Notebooks/ECG-MIMIC-main/mimic-iv-2.2', description='M…"
            ],
            "application/vnd.jupyter.widget-view+json": {
              "version_major": 2,
              "version_minor": 0,
              "model_id": "5a25d286874644e5bf4d9d99f4b08d8a"
            }
          },
          "metadata": {}
        }
      ]
    },
    {
      "cell_type": "markdown",
      "source": [],
      "metadata": {
        "id": "xIMkSMfvZIfi"
      }
    },
    {
      "cell_type": "code",
      "source": [
        "mimic_path = Path(mimic_path_widget.value)\n",
        "zip_file_path = Path(zip_path_widget.value)\n",
        "target_path = Path(target_path_widget.value)\n",
        "\n",
        "print(\"MIMIC Path:\", mimic_path)\n",
        "print(\"Zip Path:\", zip_file_path)\n",
        "print(\"Target Path:\", target_path)"
      ],
      "metadata": {
        "colab": {
          "base_uri": "https://localhost:8080/"
        },
        "id": "1YAPVCHwbGJ0",
        "outputId": "64d9df73-e043-4bc7-f9f6-74302a722219"
      },
      "execution_count": 9,
      "outputs": [
        {
          "output_type": "stream",
          "name": "stdout",
          "text": [
            "MIMIC Path: /content/drive/MyDrive/Colab Notebooks/ECG-MIMIC-main/mimic-iv-2.2\n",
            "Zip Path: /content/drive/MyDrive/Colab Notebooks/ECG-MIMIC-main/MIMIC-IV-ECG zip file/mimic-iv-ecg.zip\n",
            "Target Path: /content/drive/MyDrive/Colab Notebooks/ECG-MIMIC-main/src/preprocessed_data\n"
          ]
        }
      ]
    },
    {
      "cell_type": "markdown",
      "source": [
        "## Step 1: Extract available records from mimic-ecg-zip-path to create records.pkl"
      ],
      "metadata": {
        "id": "7HDmHa_CZLoB"
      }
    },
    {
      "cell_type": "code",
      "source": [
        "if((target_path/\"records.pkl\").exists()):\n",
        "    print(\"Skipping: using existing records.pkl\")\n",
        "    df = pd.read_pickle(target_path/\"records.pkl\")\n",
        "else:\n",
        "    print(\"Creating records.pkl\")\n",
        "    df=extract_and_open_files_in_zip(zip_file_path, \".hea\")\n",
        "    df.to_pickle(project_path / \"records.pkl\")"
      ],
      "metadata": {
        "id": "fqTcMF6XZJ1m",
        "outputId": "f64ea781-3cd4-4d74-bc43-e3a3529d7003",
        "colab": {
          "base_uri": "https://localhost:8080/"
        }
      },
      "execution_count": null,
      "outputs": [
        {
          "output_type": "stream",
          "name": "stdout",
          "text": [
            "Creating records.pkl\n"
          ]
        }
      ]
    },
    {
      "cell_type": "code",
      "source": [
        "print(\"Contents of records.pkl file\")\n",
        "df.head()"
      ],
      "metadata": {
        "id": "PLU7XAkr4Mkv"
      },
      "execution_count": null,
      "outputs": []
    },
    {
      "cell_type": "markdown",
      "source": [
        "## Step 2: Extract diagnoses for records in raw format to create records_w_diag.pkl"
      ],
      "metadata": {
        "id": "7xSRWNBOdpRG"
      }
    },
    {
      "cell_type": "markdown",
      "source": [
        "### [Preview] Diagnoses with ICD codes and description"
      ],
      "metadata": {
        "id": "5Gp1E_52_GHb"
      }
    },
    {
      "cell_type": "code",
      "source": [
        "mapper = Mapper()\n",
        "\n",
        "df_hosp_icd_description = pd.read_csv(mimic_path/\"hosp/d_icd_diagnoses.csv.gz\")\n",
        "print(\"df_hosp_icd_description\",df_hosp_icd_description.shape)\n",
        "\n",
        "#creating mapping of icd9 to icd10\n",
        "df_hosp_icd_description[\"icd10_code\"]=df_hosp_icd_description.apply(lambda row:row[\"icd_code\"] if row[\"icd_version\"]==10 else mapper.map(row[\"icd_code\"], source=\"icd9\", target=\"icd10\"),axis=1)#mapper=\"icd9toicd10\"\n",
        "#creates a key value pair mapping from icd9 to icd10\n",
        "icd_mapping = {ic:ic10 for ic,ic10 in zip(df_hosp_icd_description[\"icd_code\"],df_hosp_icd_description[\"icd10_code\"])}\n",
        "\n",
        "print(\"\\nContents of d_icd_diagnoses.csv.gz:\\n\")\n",
        "print(df_hosp_icd_description.head())\n"
      ],
      "metadata": {
        "id": "Yzf0uKPRyC6Z"
      },
      "execution_count": null,
      "outputs": []
    },
    {
      "cell_type": "markdown",
      "source": [
        "### Getting the admission records for hosp and ed stays that falls within the ecg time\n"
      ],
      "metadata": {
        "id": "-vbDlWJ458vb"
      }
    },
    {
      "cell_type": "markdown",
      "source": [
        "get_diagnosis_hosp outputs:\n",
        "- A list of ICD codes representing the diagnoses associated with the patient's hospital admission during the ECG time.\n",
        "\n",
        "- The hadm_id (hospital admission ID). If no matching admission was found, it returns an empty list and np.nan."
      ],
      "metadata": {
        "id": "ijcHI8s283I1"
      }
    },
    {
      "cell_type": "code",
      "source": [
        "def get_diagnosis_hosp(patient_id, ecg_time):\n",
        "    # Get the hospital admission record for the patient_id within the ECG time\n",
        "    df_ecg_during_hosp = df_hosp_admissions[(df_hosp_admissions.subject_id==patient_id) & (df_hosp_admissions.admittime<ecg_time) & ((df_hosp_admissions.dischtime>ecg_time)|(df_hosp_admissions.deathtime>ecg_time))]\n",
        "    if(len(df_ecg_during_hosp)==0):\n",
        "        return [],np.nan\n",
        "    else:\n",
        "        if(len(df_ecg_during_hosp)>1):\n",
        "            print(\"Error in get_diagnosis_hosp: multiple entries for\",patient_id,ecg_time,\". Considering only the first one.\")\n",
        "        hadm_id=df_ecg_during_hosp.hadm_id.iloc[0]\n",
        "        return list(df_hosp_icd_diagnoses[(df_hosp_icd_diagnoses.subject_id==patient_id)&(df_hosp_icd_diagnoses.hadm_id==hadm_id)].sort_values(by=['seq_num']).icd_code), hadm_id #diags_hosp, hadm_id"
      ],
      "metadata": {
        "id": "0nDQZxEpyNYp"
      },
      "execution_count": null,
      "outputs": []
    },
    {
      "cell_type": "markdown",
      "source": [
        "get_diagnosis_ed outputs:\n",
        "\n",
        "**Aims to return ED diagnoses (res) and the ED stay ID (stay_id).**\n",
        "\n",
        "- If also_hosp_diag is True, it additionally provides hospital admission diagnoses (res2) and the admission ID (hadm_id) if available.\n",
        "\n",
        "- If no matching ED stay is found, it returns empty lists and np.nan for IDs, indicating no relevant data."
      ],
      "metadata": {
        "id": "3e84zZZ_-Pbu"
      }
    },
    {
      "cell_type": "code",
      "source": [
        "def get_diagnosis_ed(patient_id, ecg_time,also_hosp_diag=True):\n",
        "    df_ecg_during_ed = df_ed_stays[(df_ed_stays.subject_id==patient_id) & (df_ed_stays.intime<ecg_time) & (df_ed_stays.outtime>ecg_time)]\n",
        "    if(len(df_ecg_during_ed)==0):\n",
        "        return ([],[],np.nan,np.nan) if also_hosp_diag else ([],np.nan)\n",
        "    else:\n",
        "        if(len(df_ecg_during_ed)>1):\n",
        "            print(\"Error in get_diagnosis_ed: multiple entries for\",patient_id,ecg_time,\". Considering only the first one.\")\n",
        "        stay_id=df_ecg_during_ed.stay_id.iloc[0]\n",
        "        hadm_id=df_ecg_during_ed.hadm_id.iloc[0]#potentially none\n",
        "        res=list(df_ed_diagnosis[(df_ed_diagnosis.subject_id==patient_id)&(df_ed_diagnosis.hadm_id==stay_id)].sort_values(by=['seq_num']).icd_code)\n",
        "        if(also_hosp_diag):\n",
        "            res2=list(df_hosp_icd_diagnoses[(df_hosp_icd_diagnoses.subject_id==patient_id)&(df_hosp_icd_diagnoses.hadm_id==hadm_id)].sort_values(by=['seq_num']).icd_code)\n",
        "            return res, res2, stay_id, (np.nan if hadm_id is None else hadm_id) #diags_ed, diags_hosp, stay_id, hadm_id\n",
        "        else:\n",
        "            return res, stay_id #diags_ed, stay_id"
      ],
      "metadata": {
        "id": "mDLm4nQYyQSG"
      },
      "execution_count": null,
      "outputs": []
    },
    {
      "cell_type": "code",
      "source": [
        "df_hosp_icd_diagnoses = pd.read_csv(mimic_path/\"hosp/diagnoses_icd.csv.gz\")\n",
        "print(\"df_hosp_icd_diagnoses\",df_hosp_icd_diagnoses.shape)"
      ],
      "metadata": {
        "id": "cgJAlcg-_Tft"
      },
      "execution_count": null,
      "outputs": []
    },
    {
      "cell_type": "code",
      "source": [
        "df_hosp_admissions = pd.read_csv(mimic_path/\"hosp/admissions.csv.gz\")\n",
        "print(\"df_hosp_admissions\",df_hosp_admissions.shape)"
      ],
      "metadata": {
        "id": "Bz13IqcI_cR7"
      },
      "execution_count": null,
      "outputs": []
    },
    {
      "cell_type": "code",
      "source": [
        "df_ed_stays = pd.read_csv(mimic_path/\"icu/icustays.csv.gz\")\n",
        "print(\"df_ed_stays\",df_ed_stays.shape)"
      ],
      "metadata": {
        "id": "xWNdSmj-_jEz"
      },
      "execution_count": null,
      "outputs": []
    },
    {
      "cell_type": "code",
      "source": [
        "if((target_path/\"records_w_diag.pkl\").exists()):\n",
        "    print(\"Skipping: using existing records_w_diag.pkl\")\n",
        "    df_full = pd.read_pickle(target_path/\"records_w_diag.pkl\")\n",
        "else:\n",
        "    print(\"Creating records_w_diag.pkl\")\n",
        "    df_hosp_admissions[\"admittime\"]=pd.to_datetime(df_hosp_admissions[\"admittime\"])\n",
        "    df_hosp_admissions[\"dischtime\"]=pd.to_datetime(df_hosp_admissions[\"dischtime\"]) #discharge time\n",
        "    df_hosp_admissions[\"deathtime\"]=pd.to_datetime(df_hosp_admissions[\"deathtime\"])\n",
        "\n",
        "\n",
        "    df_ed_stays[\"intime\"]=pd.to_datetime(df_ed_stays[\"intime\"])\n",
        "    df_ed_stays[\"outtime\"]=pd.to_datetime(df_ed_stays[\"outtime\"])\n",
        "    df_ed_diagnosis = pd.read_csv(mimic_path/\"hosp/diagnoses_icd.csv.gz\")\n",
        "\n",
        "    result=[]\n",
        "    for id,row in tqdm(df.iterrows(),total=len(df)):\n",
        "        tmp={}\n",
        "        tmp[\"filename\"]=row[\"filename\"]\n",
        "        tmp[\"study_id\"]=row[\"study_id\"]\n",
        "        tmp[\"patient_id\"]=row[\"patient_id\"]\n",
        "        tmp[\"ecg_time\"]=row[\"ecg_time\"]\n",
        "        hosp_diag_hosp, hosp_hadm_id =get_diagnosis_hosp(row[\"patient_id\"], row[\"ecg_time\"])\n",
        "        tmp[\"hosp_diag_hosp\"] = hosp_diag_hosp\n",
        "        tmp[\"hosp_hadm_id\"] =hosp_hadm_id\n",
        "        ed_diag_ed,ed_diag_hosp,ed_stay_id,ed_hadm_id = get_diagnosis_ed(row[\"patient_id\"], row[\"ecg_time\"])\n",
        "        tmp[\"ed_diag_ed\"]=ed_diag_ed\n",
        "        tmp[\"ed_diag_hosp\"]=ed_diag_hosp\n",
        "        tmp[\"ed_stay_id\"]=ed_stay_id\n",
        "        tmp[\"ed_hadm_id\"]=ed_hadm_id\n",
        "        result.append(tmp)\n",
        "\n",
        "    df_full = pd.DataFrame(result)\n",
        "    df_full[\"hosp_diag_hosp\"]=df_full[\"hosp_diag_hosp\"].apply(lambda x: [] if x is None else x)\n",
        "    df_full.to_pickle(target_path/\"records_w_diag.pkl\")"
      ],
      "metadata": {
        "id": "HIW8Oew2dydw"
      },
      "execution_count": null,
      "outputs": []
    },
    {
      "cell_type": "code",
      "source": [
        "# df_full = pd.read_pickle(target_path/\"records_w_diag.pkl\")\n",
        "df_full.head()"
      ],
      "metadata": {
        "id": "rFirjOvUa54_"
      },
      "execution_count": null,
      "outputs": []
    },
    {
      "cell_type": "markdown",
      "source": [
        "## Step 3: Map everything to ICD10 and enrich with more metadata to create output records_w_diag_icd10.pkl\n"
      ],
      "metadata": {
        "id": "iylbgKXgejon"
      }
    },
    {
      "cell_type": "code",
      "source": [
        "if((target_path/\"records_w_diag_icd10.pkl\").exists()):\n",
        "    print(\"Skipping: using existing records_w_diag_icd10.pkl\")\n",
        "    df_full = pd.read_pickle(target_path/\"records_w_diag_icd10.pkl\")\n",
        "else:\n",
        "    #applying icd mapping, skip none and NoDx\n",
        "    df_full[\"hosp_diag_hosp\"]=df_full[\"hosp_diag_hosp\"].apply(lambda x: [icd_mapping[y] for y in x])\n",
        "    df_full[\"hosp_diag_hosp\"]=df_full[\"hosp_diag_hosp\"].apply(lambda x: list(set([y for y in x if (y!=\"NoDx\" and y!=None)])))\n",
        "    df_full[\"ed_diag_hosp\"]=df_full[\"ed_diag_hosp\"].apply(lambda x: [icd_mapping[y] for y in x])\n",
        "    df_full[\"ed_diag_hosp\"]=df_full[\"ed_diag_hosp\"].apply(lambda x: list(set([y for y in x if (y!=\"NoDx\" and y!=None)])))\n",
        "    df_full[\"ed_diag_ed\"]=df_full[\"ed_diag_ed\"].apply(lambda x: [icd_mapping[y] for y in x if y!=\"NoDx\"])\n",
        "    df_full[\"ed_diag_ed\"]=df_full[\"ed_diag_ed\"].apply(lambda x: list(set([y for y in x if (y!=\"NoDx\" and y!=None)])))\n",
        "\n",
        "    # create a column of all the icd codes for hosp and ed stays respectively\n",
        "    #ed or hosp ecgs with discharge diagnosis\n",
        "    df_full[\"all_diag_hosp\"]=df_full.apply(lambda row: list(set(row[\"hosp_diag_hosp\"]+row[\"ed_diag_hosp\"])),axis=1)\n",
        "\n",
        "    # 'all_diag_all': 'all_diag_hosp' if available otherwise 'ed_diag_ed'\n",
        "    df_full['all_diag_all'] = df_full.apply(lambda row: row['all_diag_hosp'] if row['all_diag_hosp'] else row['ed_diag_ed'],axis=1)\n",
        "\n",
        "\n",
        "    #add demographics\n",
        "    df_hosp_patients = pd.read_csv(mimic_path/\"hosp/patients.csv.gz\")\n",
        "    df_full=df_full.join(df_hosp_patients.set_index(\"subject_id\"),on=\"patient_id\")\n",
        "    df_full[\"age\"]=df_full.ecg_time.apply(lambda x: x.year)-df_full.anchor_year+df_full.anchor_age\n",
        "\n",
        "    #add ecg number within stay\n",
        "    df_full[\"ecg_no_within_stay\"]=-1\n",
        "    df_full=df_full.sort_values([\"patient_id\",\"ecg_time\"],ascending=True)\n",
        "\n",
        "    #groups all the ecg within the same stay and count the number of ecg record taken for each stay\n",
        "    df_full.loc[~df_full.ed_stay_id.isna(),\"ecg_no_within_stay\"]=df_full[~df_full.ed_stay_id.isna()].groupby(\"ed_stay_id\",as_index=False).cumcount()\n",
        "    df_full.loc[~df_full.hosp_hadm_id.isna(),\"ecg_no_within_stay\"]=df_full[~df_full.hosp_hadm_id.isna()].groupby(\"hosp_hadm_id\",as_index=False).cumcount()\n",
        "\n",
        "\n",
        "    df_full[\"ecg_taken_in_ed\"]=df_full[\"ed_stay_id\"].notnull()\n",
        "    df_full[\"ecg_taken_in_hosp\"]=df_full[\"hosp_hadm_id\"].notnull()\n",
        "    df_full[\"ecg_taken_in_ed_or_hosp\"]=(df_full[\"ecg_taken_in_ed\"]|df_full[\"ecg_taken_in_hosp\"])\n",
        "\n",
        "\n",
        "    # Fols used in the manuscript experiments, use them for reproducibility.\n",
        "    df_full[\"fold\"] = np.load('src/utils/folds.npy')\n",
        "    # STRATIFIED FOLDS based on'all_diag'. folds not used in experiments, but provided for convenience\n",
        "    df_full, _ = prepare_mimic_ecg('mimic_all_allstroke_all_all_1_3',target_path,df_mapped=None,df_diags=df_full)\n",
        "    df_full['label_train'] = df_full['label_train'].apply(lambda x: x if x else ['outpatient'])\n",
        "    df_full.rename(columns={'label_train':'label_strat_all2all'}, inplace=True)\n",
        "    age_bins = pd.qcut(df_full['age'], q=4)\n",
        "    unique_intervals = age_bins.cat.categories\n",
        "    bin_labels = {interval: f'{interval.left}-{interval.right}' for interval in unique_intervals}\n",
        "    df_full['age_bin'] = age_bins.map(bin_labels)\n",
        "    df_full['age_bin'] = df_full['age_bin'].cat.add_categories(['missing_age']).fillna('missing_age')\n",
        "    df_full['gender'] = df_full['gender'].fillna('missing_gender')\n",
        "\n",
        "    df_full['merged_strat'] = df_full.apply(lambda row: row['label_strat_all2all'] + [row['age_bin'], row['gender']], axis=1)\n",
        "\n",
        "    col_label = 'merged_strat'\n",
        "    col_group = 'patient_id'\n",
        "\n",
        "    res = stratified_subsets(df_full,\n",
        "                    col_label,\n",
        "                    [0.05]*20,\n",
        "                    col_group=col_group,\n",
        "                    label_multi_hot=False,\n",
        "                    random_seed=42)\n",
        "\n",
        "    df_full['strat_fold'] = res\n",
        "\n",
        "    df_full=df_full[[\"filename\",\n",
        "            \"study_id\",\n",
        "            \"patient_id\",\n",
        "            \"ecg_time\",\n",
        "            \"ed_stay_id\",\n",
        "            \"ed_hadm_id\",\n",
        "            \"hosp_hadm_id\",\n",
        "            \"ed_diag_ed\",\n",
        "            \"ed_diag_hosp\",\n",
        "            \"hosp_diag_hosp\",\n",
        "            \"all_diag_hosp\",\n",
        "            \"all_diag_all\",\n",
        "            \"gender\",\"age\",\n",
        "            \"anchor_year\",\n",
        "            \"anchor_age\",\n",
        "            \"dod\",\n",
        "            \"ecg_no_within_stay\",\n",
        "            \"ecg_taken_in_ed\",\n",
        "            \"ecg_taken_in_hosp\",\n",
        "            \"ecg_taken_in_ed_or_hosp\",\n",
        "            \"fold\",\n",
        "            \"strat_fold\"]]\n",
        "\n",
        "    df_full.to_csv(target_path/\"records_w_stroke_labels.csv\", index=False)\n"
      ],
      "metadata": {
        "id": "wsjhZ4vhep1C"
      },
      "execution_count": null,
      "outputs": []
    },
    {
      "cell_type": "markdown",
      "source": [
        "### Step 4: Convert signals into numpy in  target-path/processed"
      ],
      "metadata": {
        "id": "BBXBYcmVfhmA"
      }
    },
    {
      "cell_type": "code",
      "source": [
        "(target_path/\"processed\").mkdir(parents=True, exist_ok=True)\n",
        "df,_,_,_=prepare_mimicecg(zip_file_path, target_folder=target_path/\"processed\")\n",
        "\n"
      ],
      "metadata": {
        "id": "G0QtqLAUfhRU"
      },
      "execution_count": null,
      "outputs": []
    },
    {
      "cell_type": "markdown",
      "source": [
        "## Step 5: Reformat as memmap for fast access\n"
      ],
      "metadata": {
        "id": "wjcK5C4Bfxnd"
      }
    },
    {
      "cell_type": "code",
      "source": [
        "(target_path/\"memmap\").mkdir(parents=True, exist_ok=True)\n",
        "reformat_as_memmap(df, target_path/\"memmap/memmap.npy\", data_folder=target_path/\"processed\", annotation=True, max_len=0, delete_npys=True,col_data=\"data\",col_lbl=None, batch_length=0, skip_export_signals=False)"
      ],
      "metadata": {
        "id": "JYctXonFfwSC"
      },
      "execution_count": null,
      "outputs": []
    }
  ]
}