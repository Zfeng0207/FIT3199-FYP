{
  "nbformat": 4,
  "nbformat_minor": 0,
  "metadata": {
    "colab": {
      "provenance": [],
      "machine_shape": "hm",
      "gpuType": "A100",
      "toc_visible": true,
      "include_colab_link": true
    },
    "kernelspec": {
      "name": "python3",
      "display_name": "Python 3"
    },
    "language_info": {
      "name": "python"
    },
    "accelerator": "GPU"
  },
  "cells": [
    {
      "cell_type": "markdown",
      "metadata": {
        "id": "view-in-github",
        "colab_type": "text"
      },
      "source": [
        "<a href=\"https://colab.research.google.com/github/Zfeng0207/FIT3199-FYP/blob/dev%2Fzfeng/data_ingestion_and_preprocessing.ipynb\" target=\"_parent\"><img src=\"https://colab.research.google.com/assets/colab-badge.svg\" alt=\"Open In Colab\"/></a>"
      ]
    },
    {
      "cell_type": "code",
      "source": [
        "from google.colab import drive\n",
        "# drive.mount('/content/drive')\n",
        "drive.mount('/content/drive',force_remount=True)"
      ],
      "metadata": {
        "colab": {
          "base_uri": "https://localhost:8080/"
        },
        "id": "wbenQKINWOcR",
        "outputId": "795d24b0-cb05-4358-845a-294c64a2a3e7"
      },
      "execution_count": null,
      "outputs": [
        {
          "output_type": "stream",
          "name": "stdout",
          "text": [
            "Mounted at /content/drive\n"
          ]
        }
      ]
    },
    {
      "cell_type": "code",
      "source": [
        "import os"
      ],
      "metadata": {
        "id": "Q-oUNQEgWP1y"
      },
      "execution_count": null,
      "outputs": []
    },
    {
      "cell_type": "code",
      "source": [
        "!pip install -qqq wfdb resampy icd-mappings"
      ],
      "metadata": {
        "id": "dUla4ol8Wm11",
        "colab": {
          "base_uri": "https://localhost:8080/"
        },
        "outputId": "967c192a-b9ea-4297-b6c0-c9092417460d"
      },
      "execution_count": null,
      "outputs": [
        {
          "output_type": "stream",
          "name": "stdout",
          "text": [
            "\u001b[2K     \u001b[90m━━━━━━━━━━━━━━━━━━━━━━━━━━━━━━━━━━━━━━━━\u001b[0m \u001b[32m89.9/89.9 kB\u001b[0m \u001b[31m2.5 MB/s\u001b[0m eta \u001b[36m0:00:00\u001b[0m\n",
            "\u001b[2K   \u001b[90m━━━━━━━━━━━━━━━━━━━━━━━━━━━━━━━━━━━━━━━━\u001b[0m \u001b[32m163.8/163.8 kB\u001b[0m \u001b[31m6.8 MB/s\u001b[0m eta \u001b[36m0:00:00\u001b[0m\n",
            "\u001b[2K   \u001b[90m━━━━━━━━━━━━━━━━━━━━━━━━━━━━━━━━━━━━━━━━\u001b[0m \u001b[32m3.1/3.1 MB\u001b[0m \u001b[31m53.8 MB/s\u001b[0m eta \u001b[36m0:00:00\u001b[0m\n",
            "\u001b[2K   \u001b[90m━━━━━━━━━━━━━━━━━━━━━━━━━━━━━━━━━━━━━━━━\u001b[0m \u001b[32m3.0/3.0 MB\u001b[0m \u001b[31m104.9 MB/s\u001b[0m eta \u001b[36m0:00:00\u001b[0m\n",
            "\u001b[2K   \u001b[90m━━━━━━━━━━━━━━━━━━━━━━━━━━━━━━━━━━━━━━━━\u001b[0m \u001b[32m13.1/13.1 MB\u001b[0m \u001b[31m117.7 MB/s\u001b[0m eta \u001b[36m0:00:00\u001b[0m\n",
            "\u001b[?25h\u001b[31mERROR: pip's dependency resolver does not currently take into account all the packages that are installed. This behaviour is the source of the following dependency conflicts.\n",
            "google-colab 1.0.0 requires pandas==2.2.2, but you have pandas 2.2.3 which is incompatible.\u001b[0m\u001b[31m\n",
            "\u001b[0m"
          ]
        }
      ]
    },
    {
      "cell_type": "code",
      "execution_count": null,
      "metadata": {
        "id": "7YVnMU0Z8kyr"
      },
      "outputs": [],
      "source": [
        "import sys\n",
        "sys.path.append('/content/drive/MyDrive/Colab Notebooks/ECG-MIMIC-main/src')\n",
        "\n",
        "from icdmappings import Mapper\n",
        "import argparse\n",
        "import pandas as pd\n",
        "import numpy as np\n",
        "from pathlib import Path\n",
        "import wfdb\n",
        "from tqdm.auto import tqdm\n",
        "from extract_headers import extract_and_open_files_in_zip"
      ]
    },
    {
      "cell_type": "code",
      "execution_count": null,
      "metadata": {
        "id": "w6NYtxbm-VbY"
      },
      "outputs": [],
      "source": [
        "sys.path.append('/content/drive/MyDrive/Colab Notebooks/ECG-MIMIC-main/src')\n",
        "\n",
        "# from icdmappings import Mapper\n",
        "from ecg_utils import prepare_mimicecg\n",
        "from mimic_ecg_preprocessing import prepare_mimic_ecg"
      ]
    },
    {
      "cell_type": "code",
      "execution_count": null,
      "metadata": {
        "id": "XXz__-DJ_WzO"
      },
      "outputs": [],
      "source": [
        "sys.path.append('/content/drive/MyDrive/Colab Notebooks/ECG-MIMIC-main/src/utils')\n",
        "\n",
        "from timeseries_utils import reformat_as_memmap\n",
        "from stratify import stratified_subsets"
      ]
    },
    {
      "cell_type": "code",
      "source": [
        "project_path = \"/content/drive/MyDrive/Colab Notebooks/ECG-MIMIC-main/\""
      ],
      "metadata": {
        "id": "N2WKKiSX24bh"
      },
      "execution_count": null,
      "outputs": []
    },
    {
      "cell_type": "markdown",
      "source": [],
      "metadata": {
        "id": "xIMkSMfvZIfi"
      }
    },
    {
      "cell_type": "code",
      "source": [
        "mimic_path = Path(project_path + \"mimic-iv-2.2\")\n",
        "zip_file_path = Path(project_path + \"MIMIC-IV-ECG zip file/mimic-iv-ecg.zip\")\n",
        "target_path = Path(project_path + \"src/preprocessed_data\",)\n",
        "\n",
        "print(\"MIMIC Path:\", mimic_path)\n",
        "print(\"Zip Path:\", zip_file_path)\n",
        "print(\"Target Path:\", target_path)"
      ],
      "metadata": {
        "colab": {
          "base_uri": "https://localhost:8080/"
        },
        "id": "1YAPVCHwbGJ0",
        "outputId": "11e90db3-4226-4ce5-d180-3f3d3371df3c"
      },
      "execution_count": null,
      "outputs": [
        {
          "output_type": "stream",
          "name": "stdout",
          "text": [
            "MIMIC Path: /content/drive/MyDrive/Colab Notebooks/ECG-MIMIC-main/mimic-iv-2.2\n",
            "Zip Path: /content/drive/MyDrive/Colab Notebooks/ECG-MIMIC-main/MIMIC-IV-ECG zip file/mimic-iv-ecg.zip\n",
            "Target Path: /content/drive/MyDrive/Colab Notebooks/ECG-MIMIC-main/src/preprocessed_data\n"
          ]
        }
      ]
    },
    {
      "cell_type": "markdown",
      "source": [
        "## Step 1: Extract available records from mimic-ecg-zip-path to create records.pkl"
      ],
      "metadata": {
        "id": "7HDmHa_CZLoB"
      }
    },
    {
      "cell_type": "code",
      "source": [
        "if(Path(project_path+\"records.pkl\").exists()):\n",
        "    print(\"Skipping: using existing records.pkl\")\n",
        "    df = pd.read_pickle(project_path+\"records.pkl\")\n",
        "else:\n",
        "    print(\"Creating records.pkl\")\n",
        "    df=extract_and_open_files_in_zip(zip_file_path, \".hea\")\n",
        "    df.to_pickle(project_path / \"records.pkl\")"
      ],
      "metadata": {
        "id": "fqTcMF6XZJ1m",
        "outputId": "e376817d-2a26-488f-82c8-252a80872a76",
        "colab": {
          "base_uri": "https://localhost:8080/"
        }
      },
      "execution_count": null,
      "outputs": [
        {
          "output_type": "stream",
          "name": "stdout",
          "text": [
            "Skipping: using existing records.pkl\n"
          ]
        }
      ]
    },
    {
      "cell_type": "code",
      "source": [
        "print(\"Contents of records.pkl file\")\n",
        "df.head()"
      ],
      "metadata": {
        "id": "PLU7XAkr4Mkv",
        "colab": {
          "base_uri": "https://localhost:8080/",
          "height": 224
        },
        "outputId": "3d02f815-d3dc-47f0-8f29-f3194a143033"
      },
      "execution_count": null,
      "outputs": [
        {
          "output_type": "stream",
          "name": "stdout",
          "text": [
            "Contents of records.pkl file\n"
          ]
        },
        {
          "output_type": "execute_result",
          "data": {
            "text/plain": [
              "                                            filename  study_id  patient_id  \\\n",
              "0  mimic-iv-ecg/files/p1188/p11887165/s43591201/4...  43591201    11887165   \n",
              "1  mimic-iv-ecg/files/p1188/p11887165/s49748010/4...  49748010    11887165   \n",
              "2  mimic-iv-ecg/files/p1188/p11887165/s49403776/4...  49403776    11887165   \n",
              "3  mimic-iv-ecg/files/p1188/p11887165/s43634761/4...  43634761    11887165   \n",
              "4  mimic-iv-ecg/files/p1188/p11887165/s45332981/4...  45332981    11887165   \n",
              "\n",
              "             ecg_time  \n",
              "0 2189-05-18 07:56:00  \n",
              "1 2189-06-01 11:05:00  \n",
              "2 2189-05-20 16:40:00  \n",
              "3 2189-05-31 10:42:00  \n",
              "4 2189-06-02 10:32:00  "
            ],
            "text/html": [
              "\n",
              "  <div id=\"df-d624c9bc-ef9d-4700-b620-7af297713c01\" class=\"colab-df-container\">\n",
              "    <div>\n",
              "<style scoped>\n",
              "    .dataframe tbody tr th:only-of-type {\n",
              "        vertical-align: middle;\n",
              "    }\n",
              "\n",
              "    .dataframe tbody tr th {\n",
              "        vertical-align: top;\n",
              "    }\n",
              "\n",
              "    .dataframe thead th {\n",
              "        text-align: right;\n",
              "    }\n",
              "</style>\n",
              "<table border=\"1\" class=\"dataframe\">\n",
              "  <thead>\n",
              "    <tr style=\"text-align: right;\">\n",
              "      <th></th>\n",
              "      <th>filename</th>\n",
              "      <th>study_id</th>\n",
              "      <th>patient_id</th>\n",
              "      <th>ecg_time</th>\n",
              "    </tr>\n",
              "  </thead>\n",
              "  <tbody>\n",
              "    <tr>\n",
              "      <th>0</th>\n",
              "      <td>mimic-iv-ecg/files/p1188/p11887165/s43591201/4...</td>\n",
              "      <td>43591201</td>\n",
              "      <td>11887165</td>\n",
              "      <td>2189-05-18 07:56:00</td>\n",
              "    </tr>\n",
              "    <tr>\n",
              "      <th>1</th>\n",
              "      <td>mimic-iv-ecg/files/p1188/p11887165/s49748010/4...</td>\n",
              "      <td>49748010</td>\n",
              "      <td>11887165</td>\n",
              "      <td>2189-06-01 11:05:00</td>\n",
              "    </tr>\n",
              "    <tr>\n",
              "      <th>2</th>\n",
              "      <td>mimic-iv-ecg/files/p1188/p11887165/s49403776/4...</td>\n",
              "      <td>49403776</td>\n",
              "      <td>11887165</td>\n",
              "      <td>2189-05-20 16:40:00</td>\n",
              "    </tr>\n",
              "    <tr>\n",
              "      <th>3</th>\n",
              "      <td>mimic-iv-ecg/files/p1188/p11887165/s43634761/4...</td>\n",
              "      <td>43634761</td>\n",
              "      <td>11887165</td>\n",
              "      <td>2189-05-31 10:42:00</td>\n",
              "    </tr>\n",
              "    <tr>\n",
              "      <th>4</th>\n",
              "      <td>mimic-iv-ecg/files/p1188/p11887165/s45332981/4...</td>\n",
              "      <td>45332981</td>\n",
              "      <td>11887165</td>\n",
              "      <td>2189-06-02 10:32:00</td>\n",
              "    </tr>\n",
              "  </tbody>\n",
              "</table>\n",
              "</div>\n",
              "    <div class=\"colab-df-buttons\">\n",
              "\n",
              "  <div class=\"colab-df-container\">\n",
              "    <button class=\"colab-df-convert\" onclick=\"convertToInteractive('df-d624c9bc-ef9d-4700-b620-7af297713c01')\"\n",
              "            title=\"Convert this dataframe to an interactive table.\"\n",
              "            style=\"display:none;\">\n",
              "\n",
              "  <svg xmlns=\"http://www.w3.org/2000/svg\" height=\"24px\" viewBox=\"0 -960 960 960\">\n",
              "    <path d=\"M120-120v-720h720v720H120Zm60-500h600v-160H180v160Zm220 220h160v-160H400v160Zm0 220h160v-160H400v160ZM180-400h160v-160H180v160Zm440 0h160v-160H620v160ZM180-180h160v-160H180v160Zm440 0h160v-160H620v160Z\"/>\n",
              "  </svg>\n",
              "    </button>\n",
              "\n",
              "  <style>\n",
              "    .colab-df-container {\n",
              "      display:flex;\n",
              "      gap: 12px;\n",
              "    }\n",
              "\n",
              "    .colab-df-convert {\n",
              "      background-color: #E8F0FE;\n",
              "      border: none;\n",
              "      border-radius: 50%;\n",
              "      cursor: pointer;\n",
              "      display: none;\n",
              "      fill: #1967D2;\n",
              "      height: 32px;\n",
              "      padding: 0 0 0 0;\n",
              "      width: 32px;\n",
              "    }\n",
              "\n",
              "    .colab-df-convert:hover {\n",
              "      background-color: #E2EBFA;\n",
              "      box-shadow: 0px 1px 2px rgba(60, 64, 67, 0.3), 0px 1px 3px 1px rgba(60, 64, 67, 0.15);\n",
              "      fill: #174EA6;\n",
              "    }\n",
              "\n",
              "    .colab-df-buttons div {\n",
              "      margin-bottom: 4px;\n",
              "    }\n",
              "\n",
              "    [theme=dark] .colab-df-convert {\n",
              "      background-color: #3B4455;\n",
              "      fill: #D2E3FC;\n",
              "    }\n",
              "\n",
              "    [theme=dark] .colab-df-convert:hover {\n",
              "      background-color: #434B5C;\n",
              "      box-shadow: 0px 1px 3px 1px rgba(0, 0, 0, 0.15);\n",
              "      filter: drop-shadow(0px 1px 2px rgba(0, 0, 0, 0.3));\n",
              "      fill: #FFFFFF;\n",
              "    }\n",
              "  </style>\n",
              "\n",
              "    <script>\n",
              "      const buttonEl =\n",
              "        document.querySelector('#df-d624c9bc-ef9d-4700-b620-7af297713c01 button.colab-df-convert');\n",
              "      buttonEl.style.display =\n",
              "        google.colab.kernel.accessAllowed ? 'block' : 'none';\n",
              "\n",
              "      async function convertToInteractive(key) {\n",
              "        const element = document.querySelector('#df-d624c9bc-ef9d-4700-b620-7af297713c01');\n",
              "        const dataTable =\n",
              "          await google.colab.kernel.invokeFunction('convertToInteractive',\n",
              "                                                    [key], {});\n",
              "        if (!dataTable) return;\n",
              "\n",
              "        const docLinkHtml = 'Like what you see? Visit the ' +\n",
              "          '<a target=\"_blank\" href=https://colab.research.google.com/notebooks/data_table.ipynb>data table notebook</a>'\n",
              "          + ' to learn more about interactive tables.';\n",
              "        element.innerHTML = '';\n",
              "        dataTable['output_type'] = 'display_data';\n",
              "        await google.colab.output.renderOutput(dataTable, element);\n",
              "        const docLink = document.createElement('div');\n",
              "        docLink.innerHTML = docLinkHtml;\n",
              "        element.appendChild(docLink);\n",
              "      }\n",
              "    </script>\n",
              "  </div>\n",
              "\n",
              "\n",
              "<div id=\"df-49073afb-7359-42da-8db9-992329aa9667\">\n",
              "  <button class=\"colab-df-quickchart\" onclick=\"quickchart('df-49073afb-7359-42da-8db9-992329aa9667')\"\n",
              "            title=\"Suggest charts\"\n",
              "            style=\"display:none;\">\n",
              "\n",
              "<svg xmlns=\"http://www.w3.org/2000/svg\" height=\"24px\"viewBox=\"0 0 24 24\"\n",
              "     width=\"24px\">\n",
              "    <g>\n",
              "        <path d=\"M19 3H5c-1.1 0-2 .9-2 2v14c0 1.1.9 2 2 2h14c1.1 0 2-.9 2-2V5c0-1.1-.9-2-2-2zM9 17H7v-7h2v7zm4 0h-2V7h2v10zm4 0h-2v-4h2v4z\"/>\n",
              "    </g>\n",
              "</svg>\n",
              "  </button>\n",
              "\n",
              "<style>\n",
              "  .colab-df-quickchart {\n",
              "      --bg-color: #E8F0FE;\n",
              "      --fill-color: #1967D2;\n",
              "      --hover-bg-color: #E2EBFA;\n",
              "      --hover-fill-color: #174EA6;\n",
              "      --disabled-fill-color: #AAA;\n",
              "      --disabled-bg-color: #DDD;\n",
              "  }\n",
              "\n",
              "  [theme=dark] .colab-df-quickchart {\n",
              "      --bg-color: #3B4455;\n",
              "      --fill-color: #D2E3FC;\n",
              "      --hover-bg-color: #434B5C;\n",
              "      --hover-fill-color: #FFFFFF;\n",
              "      --disabled-bg-color: #3B4455;\n",
              "      --disabled-fill-color: #666;\n",
              "  }\n",
              "\n",
              "  .colab-df-quickchart {\n",
              "    background-color: var(--bg-color);\n",
              "    border: none;\n",
              "    border-radius: 50%;\n",
              "    cursor: pointer;\n",
              "    display: none;\n",
              "    fill: var(--fill-color);\n",
              "    height: 32px;\n",
              "    padding: 0;\n",
              "    width: 32px;\n",
              "  }\n",
              "\n",
              "  .colab-df-quickchart:hover {\n",
              "    background-color: var(--hover-bg-color);\n",
              "    box-shadow: 0 1px 2px rgba(60, 64, 67, 0.3), 0 1px 3px 1px rgba(60, 64, 67, 0.15);\n",
              "    fill: var(--button-hover-fill-color);\n",
              "  }\n",
              "\n",
              "  .colab-df-quickchart-complete:disabled,\n",
              "  .colab-df-quickchart-complete:disabled:hover {\n",
              "    background-color: var(--disabled-bg-color);\n",
              "    fill: var(--disabled-fill-color);\n",
              "    box-shadow: none;\n",
              "  }\n",
              "\n",
              "  .colab-df-spinner {\n",
              "    border: 2px solid var(--fill-color);\n",
              "    border-color: transparent;\n",
              "    border-bottom-color: var(--fill-color);\n",
              "    animation:\n",
              "      spin 1s steps(1) infinite;\n",
              "  }\n",
              "\n",
              "  @keyframes spin {\n",
              "    0% {\n",
              "      border-color: transparent;\n",
              "      border-bottom-color: var(--fill-color);\n",
              "      border-left-color: var(--fill-color);\n",
              "    }\n",
              "    20% {\n",
              "      border-color: transparent;\n",
              "      border-left-color: var(--fill-color);\n",
              "      border-top-color: var(--fill-color);\n",
              "    }\n",
              "    30% {\n",
              "      border-color: transparent;\n",
              "      border-left-color: var(--fill-color);\n",
              "      border-top-color: var(--fill-color);\n",
              "      border-right-color: var(--fill-color);\n",
              "    }\n",
              "    40% {\n",
              "      border-color: transparent;\n",
              "      border-right-color: var(--fill-color);\n",
              "      border-top-color: var(--fill-color);\n",
              "    }\n",
              "    60% {\n",
              "      border-color: transparent;\n",
              "      border-right-color: var(--fill-color);\n",
              "    }\n",
              "    80% {\n",
              "      border-color: transparent;\n",
              "      border-right-color: var(--fill-color);\n",
              "      border-bottom-color: var(--fill-color);\n",
              "    }\n",
              "    90% {\n",
              "      border-color: transparent;\n",
              "      border-bottom-color: var(--fill-color);\n",
              "    }\n",
              "  }\n",
              "</style>\n",
              "\n",
              "  <script>\n",
              "    async function quickchart(key) {\n",
              "      const quickchartButtonEl =\n",
              "        document.querySelector('#' + key + ' button');\n",
              "      quickchartButtonEl.disabled = true;  // To prevent multiple clicks.\n",
              "      quickchartButtonEl.classList.add('colab-df-spinner');\n",
              "      try {\n",
              "        const charts = await google.colab.kernel.invokeFunction(\n",
              "            'suggestCharts', [key], {});\n",
              "      } catch (error) {\n",
              "        console.error('Error during call to suggestCharts:', error);\n",
              "      }\n",
              "      quickchartButtonEl.classList.remove('colab-df-spinner');\n",
              "      quickchartButtonEl.classList.add('colab-df-quickchart-complete');\n",
              "    }\n",
              "    (() => {\n",
              "      let quickchartButtonEl =\n",
              "        document.querySelector('#df-49073afb-7359-42da-8db9-992329aa9667 button');\n",
              "      quickchartButtonEl.style.display =\n",
              "        google.colab.kernel.accessAllowed ? 'block' : 'none';\n",
              "    })();\n",
              "  </script>\n",
              "</div>\n",
              "\n",
              "    </div>\n",
              "  </div>\n"
            ],
            "application/vnd.google.colaboratory.intrinsic+json": {
              "type": "dataframe",
              "variable_name": "df"
            }
          },
          "metadata": {},
          "execution_count": 10
        }
      ]
    },
    {
      "cell_type": "markdown",
      "source": [
        "## Step 2: Extract diagnoses for records in raw format to create records_w_diag.pkl"
      ],
      "metadata": {
        "id": "7xSRWNBOdpRG"
      }
    },
    {
      "cell_type": "markdown",
      "source": [
        "### [Preview] Diagnoses with ICD codes and description"
      ],
      "metadata": {
        "id": "5Gp1E_52_GHb"
      }
    },
    {
      "cell_type": "code",
      "source": [
        "mapper = Mapper()\n",
        "\n",
        "df_hosp_icd_description = pd.read_csv(mimic_path/\"hosp/d_icd_diagnoses.csv.gz\")\n",
        "print(\"df_hosp_icd_description\",df_hosp_icd_description.shape)\n",
        "\n",
        "#creating mapping of icd9 to icd10\n",
        "df_hosp_icd_description[\"icd10_code\"]=df_hosp_icd_description.apply(lambda row:row[\"icd_code\"] if row[\"icd_version\"]==10 else mapper.map(row[\"icd_code\"], source=\"icd9\", target=\"icd10\"),axis=1)#mapper=\"icd9toicd10\"\n",
        "#creates a key value pair mapping from icd9 to icd10\n",
        "icd_mapping = {ic:ic10 for ic,ic10 in zip(df_hosp_icd_description[\"icd_code\"],df_hosp_icd_description[\"icd10_code\"])}\n",
        "\n",
        "print(\"\\nContents of d_icd_diagnoses.csv.gz:\\n\")\n",
        "print(df_hosp_icd_description.head())\n"
      ],
      "metadata": {
        "id": "Yzf0uKPRyC6Z",
        "colab": {
          "base_uri": "https://localhost:8080/"
        },
        "outputId": "17244c65-e810-42c3-c6cf-c7a329629576"
      },
      "execution_count": null,
      "outputs": [
        {
          "output_type": "stream",
          "name": "stdout",
          "text": [
            "df_hosp_icd_description (109775, 3)\n",
            "\n",
            "Contents of d_icd_diagnoses.csv.gz:\n",
            "\n",
            "  icd_code  icd_version                             long_title icd10_code\n",
            "0     0010            9         Cholera due to vibrio cholerae       A000\n",
            "1     0011            9  Cholera due to vibrio cholerae el tor       A001\n",
            "2     0019            9                   Cholera, unspecified       A009\n",
            "3     0020            9                          Typhoid fever      A0100\n",
            "4     0021            9                    Paratyphoid fever A       A011\n"
          ]
        }
      ]
    },
    {
      "cell_type": "markdown",
      "source": [
        "### Getting the admission records for hosp and ed stays that falls within the ecg time\n"
      ],
      "metadata": {
        "id": "-vbDlWJ458vb"
      }
    },
    {
      "cell_type": "markdown",
      "source": [
        "get_diagnosis_hosp outputs:\n",
        "- A list of ICD codes representing the diagnoses associated with the patient's hospital admission during the ECG time.\n",
        "\n",
        "- The hadm_id (hospital admission ID). If no matching admission was found, it returns an empty list and np.nan."
      ],
      "metadata": {
        "id": "ijcHI8s283I1"
      }
    },
    {
      "cell_type": "code",
      "source": [
        "def get_diagnosis_hosp(patient_id, ecg_time):\n",
        "    # Get the hospital admission record for the patient_id within the ECG time\n",
        "    df_ecg_during_hosp = df_hosp_admissions[(df_hosp_admissions.subject_id==patient_id) & (df_hosp_admissions.admittime<ecg_time) & ((df_hosp_admissions.dischtime>ecg_time)|(df_hosp_admissions.deathtime>ecg_time))]\n",
        "    if(len(df_ecg_during_hosp)==0):\n",
        "        return [],np.nan\n",
        "    else:\n",
        "        if(len(df_ecg_during_hosp)>1):\n",
        "            print(\"Error in get_diagnosis_hosp: multiple entries for\",patient_id,ecg_time,\". Considering only the first one.\")\n",
        "        hadm_id=df_ecg_during_hosp.hadm_id.iloc[0]\n",
        "        return list(df_hosp_icd_diagnoses[(df_hosp_icd_diagnoses.subject_id==patient_id)&(df_hosp_icd_diagnoses.hadm_id==hadm_id)].sort_values(by=['seq_num']).icd_code), hadm_id #diags_hosp, hadm_id"
      ],
      "metadata": {
        "id": "0nDQZxEpyNYp"
      },
      "execution_count": null,
      "outputs": []
    },
    {
      "cell_type": "markdown",
      "source": [
        "get_diagnosis_ed outputs:\n",
        "\n",
        "**Aims to return ED diagnoses (res) and the ED stay ID (stay_id).**\n",
        "\n",
        "- If also_hosp_diag is True, it additionally provides hospital admission diagnoses (res2) and the admission ID (hadm_id) if available.\n",
        "\n",
        "- If no matching ED stay is found, it returns empty lists and np.nan for IDs, indicating no relevant data."
      ],
      "metadata": {
        "id": "3e84zZZ_-Pbu"
      }
    },
    {
      "cell_type": "code",
      "source": [
        "def get_diagnosis_ed(patient_id, ecg_time,also_hosp_diag=True):\n",
        "    df_ecg_during_ed = df_ed_stays[(df_ed_stays.subject_id==patient_id) & (df_ed_stays.intime<ecg_time) & (df_ed_stays.outtime>ecg_time)]\n",
        "    if(len(df_ecg_during_ed)==0):\n",
        "        return ([],[],np.nan,np.nan) if also_hosp_diag else ([],np.nan)\n",
        "    else:\n",
        "        if(len(df_ecg_during_ed)>1):\n",
        "            print(\"Error in get_diagnosis_ed: multiple entries for\",patient_id,ecg_time,\". Considering only the first one.\")\n",
        "        stay_id=df_ecg_during_ed.stay_id.iloc[0]\n",
        "        hadm_id=df_ecg_during_ed.hadm_id.iloc[0]#potentially none\n",
        "        res=list(df_ed_diagnosis[(df_ed_diagnosis.subject_id==patient_id)&(df_ed_diagnosis.hadm_id==stay_id)].sort_values(by=['seq_num']).icd_code)\n",
        "        if(also_hosp_diag):\n",
        "            res2=list(df_hosp_icd_diagnoses[(df_hosp_icd_diagnoses.subject_id==patient_id)&(df_hosp_icd_diagnoses.hadm_id==hadm_id)].sort_values(by=['seq_num']).icd_code)\n",
        "            return res, res2, stay_id, (np.nan if hadm_id is None else hadm_id) #diags_ed, diags_hosp, stay_id, hadm_id\n",
        "        else:\n",
        "            return res, stay_id #diags_ed, stay_id"
      ],
      "metadata": {
        "id": "mDLm4nQYyQSG"
      },
      "execution_count": null,
      "outputs": []
    },
    {
      "cell_type": "code",
      "source": [
        "df_hosp_icd_diagnoses = pd.read_csv(mimic_path/\"hosp/diagnoses_icd.csv.gz\")\n",
        "print(\"df_hosp_icd_diagnoses\",df_hosp_icd_diagnoses.shape)"
      ],
      "metadata": {
        "id": "cgJAlcg-_Tft",
        "colab": {
          "base_uri": "https://localhost:8080/"
        },
        "outputId": "18387612-6b7e-49f9-be85-bd4b0528fd21"
      },
      "execution_count": null,
      "outputs": [
        {
          "output_type": "stream",
          "name": "stdout",
          "text": [
            "df_hosp_icd_diagnoses (4756326, 5)\n"
          ]
        }
      ]
    },
    {
      "cell_type": "code",
      "source": [
        "df_hosp_admissions = pd.read_csv(mimic_path/\"hosp/admissions.csv.gz\")\n",
        "print(\"df_hosp_admissions\",df_hosp_admissions.shape)"
      ],
      "metadata": {
        "id": "Bz13IqcI_cR7",
        "colab": {
          "base_uri": "https://localhost:8080/"
        },
        "outputId": "39454114-c27b-41e7-c691-466d638f06f7"
      },
      "execution_count": null,
      "outputs": [
        {
          "output_type": "stream",
          "name": "stdout",
          "text": [
            "df_hosp_admissions (431231, 16)\n"
          ]
        }
      ]
    },
    {
      "cell_type": "code",
      "source": [
        "df_ed_stays = pd.read_csv(mimic_path/\"icu/icustays.csv.gz\")\n",
        "print(\"df_ed_stays\",df_ed_stays.shape)"
      ],
      "metadata": {
        "id": "xWNdSmj-_jEz",
        "colab": {
          "base_uri": "https://localhost:8080/"
        },
        "outputId": "eb236cda-6eb1-4666-d5e7-177eec90c9de"
      },
      "execution_count": null,
      "outputs": [
        {
          "output_type": "stream",
          "name": "stdout",
          "text": [
            "df_ed_stays (73181, 8)\n"
          ]
        }
      ]
    },
    {
      "cell_type": "code",
      "source": [
        "if((target_path/\"records_w_diag.pkl\").exists()):\n",
        "    print(\"Skipping: using existing records_w_diag.pkl\")\n",
        "    df_full = pd.read_pickle(target_path/\"records_w_diag.pkl\")\n",
        "else:\n",
        "    print(\"Creating records_w_diag.pkl\")\n",
        "    df_hosp_admissions[\"admittime\"]=pd.to_datetime(df_hosp_admissions[\"admittime\"])\n",
        "    df_hosp_admissions[\"dischtime\"]=pd.to_datetime(df_hosp_admissions[\"dischtime\"]) #discharge time\n",
        "    df_hosp_admissions[\"deathtime\"]=pd.to_datetime(df_hosp_admissions[\"deathtime\"])\n",
        "\n",
        "\n",
        "    df_ed_stays[\"intime\"]=pd.to_datetime(df_ed_stays[\"intime\"])\n",
        "    df_ed_stays[\"outtime\"]=pd.to_datetime(df_ed_stays[\"outtime\"])\n",
        "    df_ed_diagnosis = pd.read_csv(mimic_path/\"hosp/diagnoses_icd.csv.gz\")\n",
        "\n",
        "    result=[]\n",
        "    for id,row in tqdm(df.iterrows(),total=len(df)):\n",
        "        tmp={}\n",
        "        tmp[\"filename\"]=row[\"filename\"]\n",
        "        tmp[\"study_id\"]=row[\"study_id\"]\n",
        "        tmp[\"patient_id\"]=row[\"patient_id\"]\n",
        "        tmp[\"ecg_time\"]=row[\"ecg_time\"]\n",
        "        hosp_diag_hosp, hosp_hadm_id =get_diagnosis_hosp(row[\"patient_id\"], row[\"ecg_time\"])\n",
        "        tmp[\"hosp_diag_hosp\"] = hosp_diag_hosp\n",
        "        tmp[\"hosp_hadm_id\"] =hosp_hadm_id\n",
        "        ed_diag_ed,ed_diag_hosp,ed_stay_id,ed_hadm_id = get_diagnosis_ed(row[\"patient_id\"], row[\"ecg_time\"])\n",
        "        tmp[\"ed_diag_ed\"]=ed_diag_ed\n",
        "        tmp[\"ed_diag_hosp\"]=ed_diag_hosp\n",
        "        tmp[\"ed_stay_id\"]=ed_stay_id\n",
        "        tmp[\"ed_hadm_id\"]=ed_hadm_id\n",
        "        result.append(tmp)\n",
        "\n",
        "    df_full = pd.DataFrame(result)\n",
        "    df_full[\"hosp_diag_hosp\"]=df_full[\"hosp_diag_hosp\"].apply(lambda x: [] if x is None else x)\n",
        "    df_full.to_pickle(target_path/\"records_w_diag.pkl\")"
      ],
      "metadata": {
        "id": "HIW8Oew2dydw",
        "colab": {
          "base_uri": "https://localhost:8080/"
        },
        "outputId": "c436301e-4055-4fb2-ac16-720f128fdb37"
      },
      "execution_count": null,
      "outputs": [
        {
          "output_type": "stream",
          "name": "stdout",
          "text": [
            "Skipping: using existing records_w_diag.pkl\n"
          ]
        }
      ]
    },
    {
      "cell_type": "code",
      "source": [
        "# df_full = pd.read_pickle(target_path/\"records_w_diag.pkl\")\n",
        "df_full.head()"
      ],
      "metadata": {
        "id": "rFirjOvUa54_",
        "colab": {
          "base_uri": "https://localhost:8080/",
          "height": 487
        },
        "outputId": "7ed962a2-2b9a-4d5d-fb2b-a69b14f15aa7"
      },
      "execution_count": null,
      "outputs": [
        {
          "output_type": "execute_result",
          "data": {
            "text/plain": [
              "                                            filename  study_id  patient_id  \\\n",
              "0  mimic-iv-ecg/files/p1188/p11887165/s43591201/4...  43591201    11887165   \n",
              "1  mimic-iv-ecg/files/p1188/p11887165/s49748010/4...  49748010    11887165   \n",
              "2  mimic-iv-ecg/files/p1188/p11887165/s49403776/4...  49403776    11887165   \n",
              "3  mimic-iv-ecg/files/p1188/p11887165/s43634761/4...  43634761    11887165   \n",
              "4  mimic-iv-ecg/files/p1188/p11887165/s45332981/4...  45332981    11887165   \n",
              "\n",
              "             ecg_time                                     hosp_diag_hosp  \\\n",
              "0 2189-05-18 07:56:00  [S066X9A, J156, J9601, E873, J811, R1310, F05,...   \n",
              "1 2189-06-01 11:05:00  [S066X9A, J156, J9601, E873, J811, R1310, F05,...   \n",
              "2 2189-05-20 16:40:00  [S066X9A, J156, J9601, E873, J811, R1310, F05,...   \n",
              "3 2189-05-31 10:42:00  [S066X9A, J156, J9601, E873, J811, R1310, F05,...   \n",
              "4 2189-06-02 10:32:00  [S066X9A, J156, J9601, E873, J811, R1310, F05,...   \n",
              "\n",
              "   hosp_hadm_id ed_diag_ed                                       ed_diag_hosp  \\\n",
              "0    23708811.0         []  [S066X9A, J156, J9601, E873, J811, R1310, F05,...   \n",
              "1    23708811.0         []                                                 []   \n",
              "2    23708811.0         []  [S066X9A, J156, J9601, E873, J811, R1310, F05,...   \n",
              "3    23708811.0         []                                                 []   \n",
              "4    23708811.0         []                                                 []   \n",
              "\n",
              "   ed_stay_id  ed_hadm_id  \n",
              "0  38768187.0  23708811.0  \n",
              "1         NaN         NaN  \n",
              "2  38768187.0  23708811.0  \n",
              "3         NaN         NaN  \n",
              "4         NaN         NaN  "
            ],
            "text/html": [
              "\n",
              "  <div id=\"df-8b2e4c96-b26d-4e0a-9436-6272800b6fce\" class=\"colab-df-container\">\n",
              "    <div>\n",
              "<style scoped>\n",
              "    .dataframe tbody tr th:only-of-type {\n",
              "        vertical-align: middle;\n",
              "    }\n",
              "\n",
              "    .dataframe tbody tr th {\n",
              "        vertical-align: top;\n",
              "    }\n",
              "\n",
              "    .dataframe thead th {\n",
              "        text-align: right;\n",
              "    }\n",
              "</style>\n",
              "<table border=\"1\" class=\"dataframe\">\n",
              "  <thead>\n",
              "    <tr style=\"text-align: right;\">\n",
              "      <th></th>\n",
              "      <th>filename</th>\n",
              "      <th>study_id</th>\n",
              "      <th>patient_id</th>\n",
              "      <th>ecg_time</th>\n",
              "      <th>hosp_diag_hosp</th>\n",
              "      <th>hosp_hadm_id</th>\n",
              "      <th>ed_diag_ed</th>\n",
              "      <th>ed_diag_hosp</th>\n",
              "      <th>ed_stay_id</th>\n",
              "      <th>ed_hadm_id</th>\n",
              "    </tr>\n",
              "  </thead>\n",
              "  <tbody>\n",
              "    <tr>\n",
              "      <th>0</th>\n",
              "      <td>mimic-iv-ecg/files/p1188/p11887165/s43591201/4...</td>\n",
              "      <td>43591201</td>\n",
              "      <td>11887165</td>\n",
              "      <td>2189-05-18 07:56:00</td>\n",
              "      <td>[S066X9A, J156, J9601, E873, J811, R1310, F05,...</td>\n",
              "      <td>23708811.0</td>\n",
              "      <td>[]</td>\n",
              "      <td>[S066X9A, J156, J9601, E873, J811, R1310, F05,...</td>\n",
              "      <td>38768187.0</td>\n",
              "      <td>23708811.0</td>\n",
              "    </tr>\n",
              "    <tr>\n",
              "      <th>1</th>\n",
              "      <td>mimic-iv-ecg/files/p1188/p11887165/s49748010/4...</td>\n",
              "      <td>49748010</td>\n",
              "      <td>11887165</td>\n",
              "      <td>2189-06-01 11:05:00</td>\n",
              "      <td>[S066X9A, J156, J9601, E873, J811, R1310, F05,...</td>\n",
              "      <td>23708811.0</td>\n",
              "      <td>[]</td>\n",
              "      <td>[]</td>\n",
              "      <td>NaN</td>\n",
              "      <td>NaN</td>\n",
              "    </tr>\n",
              "    <tr>\n",
              "      <th>2</th>\n",
              "      <td>mimic-iv-ecg/files/p1188/p11887165/s49403776/4...</td>\n",
              "      <td>49403776</td>\n",
              "      <td>11887165</td>\n",
              "      <td>2189-05-20 16:40:00</td>\n",
              "      <td>[S066X9A, J156, J9601, E873, J811, R1310, F05,...</td>\n",
              "      <td>23708811.0</td>\n",
              "      <td>[]</td>\n",
              "      <td>[S066X9A, J156, J9601, E873, J811, R1310, F05,...</td>\n",
              "      <td>38768187.0</td>\n",
              "      <td>23708811.0</td>\n",
              "    </tr>\n",
              "    <tr>\n",
              "      <th>3</th>\n",
              "      <td>mimic-iv-ecg/files/p1188/p11887165/s43634761/4...</td>\n",
              "      <td>43634761</td>\n",
              "      <td>11887165</td>\n",
              "      <td>2189-05-31 10:42:00</td>\n",
              "      <td>[S066X9A, J156, J9601, E873, J811, R1310, F05,...</td>\n",
              "      <td>23708811.0</td>\n",
              "      <td>[]</td>\n",
              "      <td>[]</td>\n",
              "      <td>NaN</td>\n",
              "      <td>NaN</td>\n",
              "    </tr>\n",
              "    <tr>\n",
              "      <th>4</th>\n",
              "      <td>mimic-iv-ecg/files/p1188/p11887165/s45332981/4...</td>\n",
              "      <td>45332981</td>\n",
              "      <td>11887165</td>\n",
              "      <td>2189-06-02 10:32:00</td>\n",
              "      <td>[S066X9A, J156, J9601, E873, J811, R1310, F05,...</td>\n",
              "      <td>23708811.0</td>\n",
              "      <td>[]</td>\n",
              "      <td>[]</td>\n",
              "      <td>NaN</td>\n",
              "      <td>NaN</td>\n",
              "    </tr>\n",
              "  </tbody>\n",
              "</table>\n",
              "</div>\n",
              "    <div class=\"colab-df-buttons\">\n",
              "\n",
              "  <div class=\"colab-df-container\">\n",
              "    <button class=\"colab-df-convert\" onclick=\"convertToInteractive('df-8b2e4c96-b26d-4e0a-9436-6272800b6fce')\"\n",
              "            title=\"Convert this dataframe to an interactive table.\"\n",
              "            style=\"display:none;\">\n",
              "\n",
              "  <svg xmlns=\"http://www.w3.org/2000/svg\" height=\"24px\" viewBox=\"0 -960 960 960\">\n",
              "    <path d=\"M120-120v-720h720v720H120Zm60-500h600v-160H180v160Zm220 220h160v-160H400v160Zm0 220h160v-160H400v160ZM180-400h160v-160H180v160Zm440 0h160v-160H620v160ZM180-180h160v-160H180v160Zm440 0h160v-160H620v160Z\"/>\n",
              "  </svg>\n",
              "    </button>\n",
              "\n",
              "  <style>\n",
              "    .colab-df-container {\n",
              "      display:flex;\n",
              "      gap: 12px;\n",
              "    }\n",
              "\n",
              "    .colab-df-convert {\n",
              "      background-color: #E8F0FE;\n",
              "      border: none;\n",
              "      border-radius: 50%;\n",
              "      cursor: pointer;\n",
              "      display: none;\n",
              "      fill: #1967D2;\n",
              "      height: 32px;\n",
              "      padding: 0 0 0 0;\n",
              "      width: 32px;\n",
              "    }\n",
              "\n",
              "    .colab-df-convert:hover {\n",
              "      background-color: #E2EBFA;\n",
              "      box-shadow: 0px 1px 2px rgba(60, 64, 67, 0.3), 0px 1px 3px 1px rgba(60, 64, 67, 0.15);\n",
              "      fill: #174EA6;\n",
              "    }\n",
              "\n",
              "    .colab-df-buttons div {\n",
              "      margin-bottom: 4px;\n",
              "    }\n",
              "\n",
              "    [theme=dark] .colab-df-convert {\n",
              "      background-color: #3B4455;\n",
              "      fill: #D2E3FC;\n",
              "    }\n",
              "\n",
              "    [theme=dark] .colab-df-convert:hover {\n",
              "      background-color: #434B5C;\n",
              "      box-shadow: 0px 1px 3px 1px rgba(0, 0, 0, 0.15);\n",
              "      filter: drop-shadow(0px 1px 2px rgba(0, 0, 0, 0.3));\n",
              "      fill: #FFFFFF;\n",
              "    }\n",
              "  </style>\n",
              "\n",
              "    <script>\n",
              "      const buttonEl =\n",
              "        document.querySelector('#df-8b2e4c96-b26d-4e0a-9436-6272800b6fce button.colab-df-convert');\n",
              "      buttonEl.style.display =\n",
              "        google.colab.kernel.accessAllowed ? 'block' : 'none';\n",
              "\n",
              "      async function convertToInteractive(key) {\n",
              "        const element = document.querySelector('#df-8b2e4c96-b26d-4e0a-9436-6272800b6fce');\n",
              "        const dataTable =\n",
              "          await google.colab.kernel.invokeFunction('convertToInteractive',\n",
              "                                                    [key], {});\n",
              "        if (!dataTable) return;\n",
              "\n",
              "        const docLinkHtml = 'Like what you see? Visit the ' +\n",
              "          '<a target=\"_blank\" href=https://colab.research.google.com/notebooks/data_table.ipynb>data table notebook</a>'\n",
              "          + ' to learn more about interactive tables.';\n",
              "        element.innerHTML = '';\n",
              "        dataTable['output_type'] = 'display_data';\n",
              "        await google.colab.output.renderOutput(dataTable, element);\n",
              "        const docLink = document.createElement('div');\n",
              "        docLink.innerHTML = docLinkHtml;\n",
              "        element.appendChild(docLink);\n",
              "      }\n",
              "    </script>\n",
              "  </div>\n",
              "\n",
              "\n",
              "<div id=\"df-568ef55c-53e6-4878-88c7-1406714f8981\">\n",
              "  <button class=\"colab-df-quickchart\" onclick=\"quickchart('df-568ef55c-53e6-4878-88c7-1406714f8981')\"\n",
              "            title=\"Suggest charts\"\n",
              "            style=\"display:none;\">\n",
              "\n",
              "<svg xmlns=\"http://www.w3.org/2000/svg\" height=\"24px\"viewBox=\"0 0 24 24\"\n",
              "     width=\"24px\">\n",
              "    <g>\n",
              "        <path d=\"M19 3H5c-1.1 0-2 .9-2 2v14c0 1.1.9 2 2 2h14c1.1 0 2-.9 2-2V5c0-1.1-.9-2-2-2zM9 17H7v-7h2v7zm4 0h-2V7h2v10zm4 0h-2v-4h2v4z\"/>\n",
              "    </g>\n",
              "</svg>\n",
              "  </button>\n",
              "\n",
              "<style>\n",
              "  .colab-df-quickchart {\n",
              "      --bg-color: #E8F0FE;\n",
              "      --fill-color: #1967D2;\n",
              "      --hover-bg-color: #E2EBFA;\n",
              "      --hover-fill-color: #174EA6;\n",
              "      --disabled-fill-color: #AAA;\n",
              "      --disabled-bg-color: #DDD;\n",
              "  }\n",
              "\n",
              "  [theme=dark] .colab-df-quickchart {\n",
              "      --bg-color: #3B4455;\n",
              "      --fill-color: #D2E3FC;\n",
              "      --hover-bg-color: #434B5C;\n",
              "      --hover-fill-color: #FFFFFF;\n",
              "      --disabled-bg-color: #3B4455;\n",
              "      --disabled-fill-color: #666;\n",
              "  }\n",
              "\n",
              "  .colab-df-quickchart {\n",
              "    background-color: var(--bg-color);\n",
              "    border: none;\n",
              "    border-radius: 50%;\n",
              "    cursor: pointer;\n",
              "    display: none;\n",
              "    fill: var(--fill-color);\n",
              "    height: 32px;\n",
              "    padding: 0;\n",
              "    width: 32px;\n",
              "  }\n",
              "\n",
              "  .colab-df-quickchart:hover {\n",
              "    background-color: var(--hover-bg-color);\n",
              "    box-shadow: 0 1px 2px rgba(60, 64, 67, 0.3), 0 1px 3px 1px rgba(60, 64, 67, 0.15);\n",
              "    fill: var(--button-hover-fill-color);\n",
              "  }\n",
              "\n",
              "  .colab-df-quickchart-complete:disabled,\n",
              "  .colab-df-quickchart-complete:disabled:hover {\n",
              "    background-color: var(--disabled-bg-color);\n",
              "    fill: var(--disabled-fill-color);\n",
              "    box-shadow: none;\n",
              "  }\n",
              "\n",
              "  .colab-df-spinner {\n",
              "    border: 2px solid var(--fill-color);\n",
              "    border-color: transparent;\n",
              "    border-bottom-color: var(--fill-color);\n",
              "    animation:\n",
              "      spin 1s steps(1) infinite;\n",
              "  }\n",
              "\n",
              "  @keyframes spin {\n",
              "    0% {\n",
              "      border-color: transparent;\n",
              "      border-bottom-color: var(--fill-color);\n",
              "      border-left-color: var(--fill-color);\n",
              "    }\n",
              "    20% {\n",
              "      border-color: transparent;\n",
              "      border-left-color: var(--fill-color);\n",
              "      border-top-color: var(--fill-color);\n",
              "    }\n",
              "    30% {\n",
              "      border-color: transparent;\n",
              "      border-left-color: var(--fill-color);\n",
              "      border-top-color: var(--fill-color);\n",
              "      border-right-color: var(--fill-color);\n",
              "    }\n",
              "    40% {\n",
              "      border-color: transparent;\n",
              "      border-right-color: var(--fill-color);\n",
              "      border-top-color: var(--fill-color);\n",
              "    }\n",
              "    60% {\n",
              "      border-color: transparent;\n",
              "      border-right-color: var(--fill-color);\n",
              "    }\n",
              "    80% {\n",
              "      border-color: transparent;\n",
              "      border-right-color: var(--fill-color);\n",
              "      border-bottom-color: var(--fill-color);\n",
              "    }\n",
              "    90% {\n",
              "      border-color: transparent;\n",
              "      border-bottom-color: var(--fill-color);\n",
              "    }\n",
              "  }\n",
              "</style>\n",
              "\n",
              "  <script>\n",
              "    async function quickchart(key) {\n",
              "      const quickchartButtonEl =\n",
              "        document.querySelector('#' + key + ' button');\n",
              "      quickchartButtonEl.disabled = true;  // To prevent multiple clicks.\n",
              "      quickchartButtonEl.classList.add('colab-df-spinner');\n",
              "      try {\n",
              "        const charts = await google.colab.kernel.invokeFunction(\n",
              "            'suggestCharts', [key], {});\n",
              "      } catch (error) {\n",
              "        console.error('Error during call to suggestCharts:', error);\n",
              "      }\n",
              "      quickchartButtonEl.classList.remove('colab-df-spinner');\n",
              "      quickchartButtonEl.classList.add('colab-df-quickchart-complete');\n",
              "    }\n",
              "    (() => {\n",
              "      let quickchartButtonEl =\n",
              "        document.querySelector('#df-568ef55c-53e6-4878-88c7-1406714f8981 button');\n",
              "      quickchartButtonEl.style.display =\n",
              "        google.colab.kernel.accessAllowed ? 'block' : 'none';\n",
              "    })();\n",
              "  </script>\n",
              "</div>\n",
              "\n",
              "    </div>\n",
              "  </div>\n"
            ],
            "application/vnd.google.colaboratory.intrinsic+json": {
              "type": "dataframe",
              "variable_name": "df_full"
            }
          },
          "metadata": {},
          "execution_count": 18
        }
      ]
    },
    {
      "cell_type": "markdown",
      "source": [
        "## Step 3: Map everything to ICD10 and enrich with more metadata to create output records_w_diag_icd10.pkl\n"
      ],
      "metadata": {
        "id": "iylbgKXgejon"
      }
    },
    {
      "cell_type": "code",
      "source": [
        "def prepare_mimic_ecg(digits, target_folder, df_mapped=None, df_diags=None):\n",
        "\n",
        "    print(\"preparing MIMIC ECG dataset for finetuning\")\n",
        "\n",
        "    # load label dataframe\n",
        "    if df_diags is not None:\n",
        "        df_diags = df_diags\n",
        "    else:\n",
        "        if((target_folder/\"records_w_diag_icd10.pkl\").exists()):\n",
        "            df_diags = pd.read_pickle(target_folder/\"records_w_diag_icd10.pkl\")\n",
        "        else:\n",
        "            df_diags = pd.read_csv(target_folder/\"records_w_diag_icd10.csv\")\n",
        "            # df_diags.drop('Unnamed: 0',axis=1, inplace=True)\n",
        "            df_diags['ecg_time']=pd.to_datetime(df_diags[\"ecg_time\"])\n",
        "            df_diags['dod']=pd.to_datetime(df_diags[\"dod\"])\n",
        "            for c in ['ed_diag_ed', 'ed_diag_hosp', 'hosp_diag_hosp', 'all_diag_hosp', 'all_diag_all']:\n",
        "                df_diags[c]=df_diags[c].apply(lambda x: eval(x))\n",
        "\n",
        "    df_diags[\"label_train\"]=df_diags[\"all_diag_all\"]\n",
        "    df_diags[\"has_statements_train\"]=df_diags[\"label_train\"].apply(lambda x: len(x)>0)#keep track if there were any ICD statements for this sample\n",
        "\n",
        "\n",
        "    #first truncate to desired number of digits\n",
        "    if(digits is not None):\n",
        "        df_diags[\"label_train\"]=df_diags[\"label_train\"].apply(lambda x: list(set([y.strip()[:digits] for y in x])))\n",
        "\n",
        "    #remove trailing placeholder Xs\n",
        "    df_diags[\"label_train\"]=df_diags[\"label_train\"].apply(lambda x: list(set([y.rstrip(\"X\") for y in x])))\n",
        "\n",
        "    print(\"filter stroke\")\n",
        "    #no selection = apply, specific icd codes that are linked to stroke\n",
        "    target_icd_codes = (\"I481\", \"R000\", \"R001\", \"I210\", \"I200\", \"I20\", \"I21\", \"I24\", \"I25\", \"I42\", \"E87\", \"I48\", \"I44\", \"I45\", \"E1129\", \"E11\", \"J44\", \"J45\")\n",
        "    df_diags[\"label_stroke\"] = df_diags[\"label_train\"].apply(lambda x: [c for c in x if any(c.startswith(p) for p in target_icd_codes)]) # Keep codes that start with any prefix\n",
        "\n",
        "    return df_diags"
      ],
      "metadata": {
        "id": "5nmXkwlrVxWR"
      },
      "execution_count": null,
      "outputs": []
    },
    {
      "cell_type": "code",
      "source": [
        "if((target_path/\"records_w_diag_icd10.pkl\").exists()):\n",
        "    print(\"Skipping: using existing records_w_diag_icd10.pkl\")\n",
        "    df_full = pd.read_pickle(target_path/\"records_w_stroke_labels.csv\")\n",
        "else:\n",
        "    #applying icd mapping, skip none and NoDx\n",
        "    df_full[\"hosp_diag_hosp\"]=df_full[\"hosp_diag_hosp\"].apply(lambda x: [icd_mapping[y] for y in x])\n",
        "    df_full[\"hosp_diag_hosp\"]=df_full[\"hosp_diag_hosp\"].apply(lambda x: list(set([y for y in x if (y!=\"NoDx\" and y!=None)])))\n",
        "    df_full[\"ed_diag_hosp\"]=df_full[\"ed_diag_hosp\"].apply(lambda x: [icd_mapping[y] for y in x])\n",
        "    df_full[\"ed_diag_hosp\"]=df_full[\"ed_diag_hosp\"].apply(lambda x: list(set([y for y in x if (y!=\"NoDx\" and y!=None)])))\n",
        "    df_full[\"ed_diag_ed\"]=df_full[\"ed_diag_ed\"].apply(lambda x: [icd_mapping[y] for y in x if y!=\"NoDx\"])\n",
        "    df_full[\"ed_diag_ed\"]=df_full[\"ed_diag_ed\"].apply(lambda x: list(set([y for y in x if (y!=\"NoDx\" and y!=None)])))\n",
        "\n",
        "    # create a column of all the icd codes for hosp and ed stays respectively\n",
        "    #ed or hosp ecgs with discharge diagnosis\n",
        "    df_full[\"all_diag_hosp\"]=df_full.apply(lambda row: list(set(row[\"hosp_diag_hosp\"]+row[\"ed_diag_hosp\"])),axis=1)\n",
        "\n",
        "    # 'all_diag_all': 'all_diag_hosp' if available otherwise 'ed_diag_ed'\n",
        "    df_full['all_diag_all'] = df_full.apply(lambda row: row['all_diag_hosp'] if row['all_diag_hosp'] else row['ed_diag_ed'],axis=1)\n",
        "\n",
        "\n",
        "    #add demographics\n",
        "    df_hosp_patients = pd.read_csv(mimic_path/\"hosp/patients.csv.gz\")\n",
        "    df_full=df_full.join(df_hosp_patients.set_index(\"subject_id\"),on=\"patient_id\")\n",
        "\n",
        "    #add ecg number within stay\n",
        "    df_full[\"ecg_no_within_stay\"]=-1\n",
        "    df_full=df_full.sort_values([\"patient_id\",\"ecg_time\"],ascending=True)\n",
        "\n",
        "    #groups all the ecg within the same stay and count the number of ecg record taken for each stay\n",
        "    df_full.loc[~df_full.ed_stay_id.isna(),\"ecg_no_within_stay\"]=df_full[~df_full.ed_stay_id.isna()].groupby(\"ed_stay_id\",as_index=False).cumcount()\n",
        "    df_full.loc[~df_full.hosp_hadm_id.isna(),\"ecg_no_within_stay\"]=df_full[~df_full.hosp_hadm_id.isna()].groupby(\"hosp_hadm_id\",as_index=False).cumcount()\n",
        "\n",
        "\n",
        "    df_full[\"ecg_taken_in_ed\"]=df_full[\"ed_stay_id\"].notnull()\n",
        "    df_full[\"ecg_taken_in_hosp\"]=df_full[\"hosp_hadm_id\"].notnull()\n",
        "    df_full[\"ecg_taken_in_ed_or_hosp\"]=(df_full[\"ecg_taken_in_ed\"]|df_full[\"ecg_taken_in_hosp\"])\n",
        "\n",
        "\n",
        "    df_full = prepare_mimic_ecg(3, target_path,df_mapped=None,df_diags=df_full)\n",
        "\n",
        "    # res = stratified_subsets(df_full,\n",
        "    #                 col_label,\n",
        "    #                 [0.05]*20,\n",
        "    #                 col_group=col_group,\n",
        "    #                 label_multi_hot=False,\n",
        "    #                 random_seed=42)\n",
        "\n",
        "    # df_full['strat_fold'] = res\n",
        "\n",
        "    df_full.to_csv(target_path/\"records_w_stroke_labels.csv\", index=False)\n"
      ],
      "metadata": {
        "id": "wsjhZ4vhep1C",
        "colab": {
          "base_uri": "https://localhost:8080/"
        },
        "outputId": "3134d165-554d-4f1a-e1b1-c1e1d31f36b2"
      },
      "execution_count": null,
      "outputs": [
        {
          "output_type": "stream",
          "name": "stdout",
          "text": [
            "preparing MIMIC ECG dataset for finetuning\n",
            "filter stroke\n"
          ]
        }
      ]
    },
    {
      "cell_type": "markdown",
      "source": [
        "# Step 3.5: Multihot encode: Setting up target binary labels"
      ],
      "metadata": {
        "id": "CEFykubaW1Lt"
      }
    },
    {
      "cell_type": "code",
      "source": [
        "def multihot_encode(diagnoses, icd_codes):\n",
        "    num_classes = len(icd_codes)\n",
        "    res = np.zeros(num_classes, dtype=np.float32)\n",
        "    for diag in diagnoses:\n",
        "        if diag in icd_codes:\n",
        "            res[icd_codes.index(diag)] = 1\n",
        "    return res"
      ],
      "metadata": {
        "id": "4cugp1DhWv2g"
      },
      "execution_count": null,
      "outputs": []
    },
    {
      "cell_type": "code",
      "source": [
        "memmap_meta_path = \"/content/drive/MyDrive/Colab Notebooks/ECG-MIMIC-main/src/data/memmap/memmap_meta.npz\"\n",
        "memmap_meta = np.load(memmap_meta_path, allow_pickle=True)\n",
        "\n",
        "df_full[\"start\"] = memmap_meta[\"start\"]\n",
        "df_full[\"length\"] = memmap_meta[\"length\"]\n",
        "\n",
        "df_labels =  df_full[[\"filename\",\n",
        "            \"study_id\",\n",
        "            \"patient_id\",\n",
        "            \"ecg_time\",\n",
        "            \"label_train\",\n",
        "            \"all_diag_all\",\n",
        "            \"label_stroke\",\n",
        "            \"start\",\n",
        "            \"length\"]]\n",
        "\n",
        "target_icd_codes = (\"I481\", \"R000\", \"R001\", \"I210\", \"I200\", \"I20\", \"I21\", \"I24\", \"I25\", \"I42\", \"E87\", \"I48\", \"I44\", \"I45\", \"E1129\", \"E11\", \"J44\", \"J45\")\n",
        "\n",
        "df_labels['res'] = df_labels['label_train'].apply(lambda diagnoses: multihot_encode(diagnoses, target_icd_codes))\n",
        "\n",
        "df_labels['stroke_yn'] = df_labels['res'].apply(lambda x: 1 if 1 in x else 0)\n",
        "\n",
        "df_rm_nan = df_labels[df_labels['all_diag_all'].apply(lambda x: len(x) > 0)]"
      ],
      "metadata": {
        "colab": {
          "base_uri": "https://localhost:8080/"
        },
        "id": "xAZEylGAXUTH",
        "outputId": "d49e46f6-b1a1-46b6-efe0-c9cc93f85397"
      },
      "execution_count": null,
      "outputs": [
        {
          "output_type": "stream",
          "name": "stderr",
          "text": [
            "<ipython-input-72-b24894b49194>:6: SettingWithCopyWarning: \n",
            "A value is trying to be set on a copy of a slice from a DataFrame.\n",
            "Try using .loc[row_indexer,col_indexer] = value instead\n",
            "\n",
            "See the caveats in the documentation: https://pandas.pydata.org/pandas-docs/stable/user_guide/indexing.html#returning-a-view-versus-a-copy\n",
            "  df_labels['res'] = df_labels['label_train'].apply(lambda diagnoses: multihot_encode(diagnoses, target_icd_codes))\n"
          ]
        }
      ]
    },
    {
      "cell_type": "code",
      "source": [
        "import matplotlib.pyplot as plt\n",
        "from collections import Counter\n",
        "import pandas as pd\n",
        "\n",
        "# Your list of ICD codes of interest\n",
        "target_icd_codes = (\n",
        "    \"I481\", \"R000\", \"R001\", \"I210\", \"I200\", \"I20\", \"I21\", \"I24\", \"I25\",\n",
        "    \"I42\", \"E87\", \"I48\", \"I44\", \"I45\", \"E1129\", \"E11\", \"J44\", \"J45\"\n",
        ")\n",
        "\n",
        "# Example multilabel training set\n",
        "y_train = df_rm_nan['label_train']\n",
        "\n",
        "# Flatten and count only target ICDs\n",
        "flat_icd_list = [code for sublist in y_train for code in sublist if code in target_icd_codes]\n",
        "icd_counts = Counter(flat_icd_list)\n",
        "\n",
        "# Create DataFrame (sorted by count)\n",
        "df_icd = pd.DataFrame(icd_counts.items(), columns=[\"ICD Code\", \"Count\"]).sort_values(by=\"Count\", ascending=False)\n",
        "\n",
        "# Assign different colors automatically\n",
        "colors = plt.cm.tab20.colors  # You can also try 'Set3' or 'Pastel1' from matplotlib colormaps\n",
        "bar_colors = [colors[i % len(colors)] for i in range(len(df_icd))]\n",
        "\n",
        "# Plot\n",
        "plt.figure(figsize=(12, 6))\n",
        "plt.bar(df_icd[\"ICD Code\"], df_icd[\"Count\"], color=bar_colors)\n",
        "plt.xlabel(\"ICD Code\")\n",
        "plt.ylabel(\"Frequency\")\n",
        "plt.title(\"Target ICD Code Frequency\")\n",
        "plt.xticks(rotation=45)\n",
        "plt.gca().yaxis.set_major_formatter(plt.FuncFormatter(lambda x, _: f'{int(x)}'))  # Force whole number y-axis\n",
        "plt.tight_layout()\n",
        "plt.show()\n"
      ],
      "metadata": {
        "colab": {
          "base_uri": "https://localhost:8080/",
          "height": 512
        },
        "id": "9CripTk9bDlf",
        "outputId": "0fc86285-2e47-4a18-c3b9-4fc61a4bd899"
      },
      "execution_count": null,
      "outputs": [
        {
          "output_type": "display_data",
          "data": {
            "text/plain": [
              "<Figure size 1200x600 with 1 Axes>"
            ],
            "image/png": "[encoded data removed]"
          },
          "metadata": {}
        }
      ]
    },
    {
      "cell_type": "code",
      "source": [
        "import pandas as pd\n",
        "import matplotlib.pyplot as plt\n",
        "\n",
        "# Assuming your DataFrame is called 'df_rm_nan'\n",
        "stroke_counts = df_rm_nan['stroke_yn'].value_counts()\n",
        "\n",
        "# Create the pie chart\n",
        "plt.figure(figsize=(6, 6))  # Adjust figure size as needed\n",
        "plt.pie(stroke_counts, labels=['Stroke Related ICD-Codes', 'Others'], autopct='%1.1f%%', startangle=90)\n",
        "plt.title('Proportion of Stroke Related ICD-Codes vs. Others')\n",
        "plt.show()"
      ],
      "metadata": {
        "colab": {
          "base_uri": "https://localhost:8080/",
          "height": 521
        },
        "id": "uT0Jf15CcXtb",
        "outputId": "29136576-e29f-4d2f-ba15-ed7db2b8dd47"
      },
      "execution_count": null,
      "outputs": [
        {
          "output_type": "display_data",
          "data": {
            "text/plain": [
              "<Figure size 600x600 with 1 Axes>"
            ],
            "image/png": "[encoded data removed]"
          },
          "metadata": {}
        }
      ]
    },
    {
      "cell_type": "markdown",
      "source": [
        "### Step 4: Convert signals into numpy in  target-path/processed"
      ],
      "metadata": {
        "id": "BBXBYcmVfhmA"
      }
    },
    {
      "cell_type": "code",
      "source": [
        "# (target_path/\"processed\").mkdir(parents=True, exist_ok=True)\n",
        "# df,_,_,_=prepare_mimicecg(zip_file_path, target_folder=target_path/\"processed\")"
      ],
      "metadata": {
        "id": "G0QtqLAUfhRU"
      },
      "execution_count": null,
      "outputs": []
    },
    {
      "cell_type": "markdown",
      "source": [
        "## Step 5: Reformat as memmap for fast access\n"
      ],
      "metadata": {
        "id": "wjcK5C4Bfxnd"
      }
    },
    {
      "cell_type": "code",
      "source": [
        "# (target_path/\"memmap\").mkdir(parents=True, exist_ok=True)\n",
        "# reformat_as_memmap(df, target_path/\"memmap/memmap.npy\", data_folder=target_path/\"processed\", annotation=True, max_len=0, delete_npys=True,col_data=\"data\",col_lbl=None, batch_length=0, skip_export_signals=False)"
      ],
      "metadata": {
        "id": "JYctXonFfwSC"
      },
      "execution_count": null,
      "outputs": []
    }
  ]
}